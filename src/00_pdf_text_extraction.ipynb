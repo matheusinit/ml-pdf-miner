{
 "cells": [
  {
   "cell_type": "markdown",
   "metadata": {
    "id": "ajxqeWPm-QWE"
   },
   "source": [
    "# Install necessary dependencies"
   ]
  },
  {
   "cell_type": "code",
   "execution_count": 2,
   "metadata": {
    "id": "mKWsHLsz-O_k"
   },
   "outputs": [],
   "source": [
    "import pdfplumber\n",
    "import pandas as pd\n",
    "import os\n",
    "\n",
    "pdf_folder = '../data'\n",
    "\n",
    "pdf_files_path = []\n",
    "for root, dirs, files in os.walk(pdf_folder):\n",
    "  for file in files:\n",
    "    if file.endswith('.pdf'):\n",
    "      pdf_files_path.append(os.path.join(root, file))\n",
    "\n",
    "raw_texts = []\n",
    "\n",
    "for pdf_file_path in pdf_files_path:\n",
    "  whole_text = ''\n",
    "\n",
    "  with pdfplumber.open(pdf_file_path) as pdf:\n",
    "    for index, page in enumerate(pdf.pages):\n",
    "      text = page.extract_text()\n",
    "      if index > 0:\n",
    "        whole_text += f\"page: {index} {text}\\n\"\n",
    "      else:\n",
    "        whole_text += f\"{text}\\n\"\n",
    "\n",
    "  raw_texts.append(whole_text)"
   ]
  },
  {
   "cell_type": "markdown",
   "metadata": {},
   "source": [
    "## Extract unstructured text from the PDF"
   ]
  },
  {
   "cell_type": "code",
   "execution_count": null,
   "metadata": {
    "id": "lYhpBB4oDlA_"
   },
   "outputs": [],
   "source": [
    "dataframe = pd.DataFrame(data={'raw': raw_texts})\n",
    "\n",
    "row_count = dataframe.count()\n",
    "columns = dataframe.columns\n",
    "print(f\"Row count: {row_count}\")\n",
    "print(f\"Columns: {columns}\")\n",
    "print(dataframe.head())"
   ]
  },
  {
   "cell_type": "markdown",
   "metadata": {},
   "source": [
    "## Functions"
   ]
  },
  {
   "cell_type": "code",
   "execution_count": 4,
   "metadata": {},
   "outputs": [],
   "source": [
    "def extract_text_based_on_appearance_in_text(text_to_extract: str, text: str, type: str = 'after'):\n",
    "  \"\"\"\n",
    "  Extracts the text after the appearance of a specific text in a given string.\n",
    "\n",
    "  Parameters:\n",
    "    text_to_extract (str): The text to extract.\n",
    "    text (str): The input string.\n",
    "    type (str): The type of extraction. It can be either \"before\" or \"after\".\n",
    "\n",
    "  Returns:\n",
    "    str: The extracted text.\n",
    "\n",
    "  Raises:\n",
    "    ValueError: If the type is neither \"before\" nor \"after\".\n",
    "  \"\"\"\n",
    "\n",
    "  import re\n",
    "\n",
    "  if type == 'before':\n",
    "    search = re.search(rf'.*(?<={text_to_extract})', text, re.DOTALL)\n",
    "  elif type == 'after':\n",
    "    search = re.search(rf'(?<={text_to_extract}).*', text)\n",
    "  else:\n",
    "    raise ValueError('type must be either \"before\" or \"after\"')\n",
    "\n",
    "  extracted_text = search.group().strip() if search else None\n",
    "\n",
    "  return extracted_text\n"
   ]
  },
  {
   "cell_type": "markdown",
   "metadata": {},
   "source": [
    "## Extract all essential data from raw data"
   ]
  },
  {
   "cell_type": "code",
   "execution_count": 5,
   "metadata": {},
   "outputs": [],
   "source": [
    "import re\n",
    "import datetime\n",
    "\n",
    "def extract_needed_information_from_pdf_text(text: str):\n",
    "  \"\"\"\n",
    "  Extracts the needed information from a given PDF text.\n",
    "\n",
    "  Parameters:\n",
    "    text (str): The input text.\n",
    "\n",
    "  Returns:\n",
    "    dict: The extracted information.\n",
    "  \"\"\"\n",
    "\n",
    "  # Remove redundant texts that are not useful for the analysis\n",
    "  text = re.sub(r'\\bTribunal Regional Eleitoral do Rio Grande do Norte\\n\\b', '', text, count=1)\n",
    "  text = re.sub(r'\\bPJe - Processo Judicial Eletrônico\\n\\b', '', text, count=1)\n",
    "  text = re.sub(r'\\bN úmero: \\b', '', text, count=1)\n",
    "  # Extracting the date of process\n",
    "  date_pattern = r'\\d{2}/\\d{2}/\\d{4}'\n",
    "  date_match = re.search(date_pattern, text)\n",
    "  date = date_match.group() if date_match else None \n",
    "  print(date)\n",
    "\n",
    "  text = re.sub(date_pattern, '\\n', text, count=1)\n",
    "\n",
    "  # Extracting the legal action number\n",
    "  legal_action_number_pattern = r'\\b\\d{7}-\\d{2}.\\d{4}.\\d{1}.\\d{2}.\\d{4}\\b' \n",
    "  legal_action_number_match = re.search(legal_action_number_pattern, text)\n",
    "  legal_action_number = legal_action_number_match.group() if legal_action_number_match else None\n",
    "  text = re.sub(legal_action_number_pattern, '\\n', text, count=1)\n",
    "  print(legal_action_number)\n",
    "\n",
    "\n",
    "  # Extracting the data of raw text\n",
    "  search = 'Classe:'\n",
    "  legal_class = extract_text_based_on_appearance_in_text(search, text)\n",
    "  print(legal_class)\n",
    "\n",
    "  text = re.sub(rf'\\b{search} {legal_class}\\n\\b', '', text, count=1)\n",
    "\n",
    "  search = 'Órgão julgador:'\n",
    "  tribunal = extract_text_based_on_appearance_in_text(search, text)\n",
    "  print(tribunal)\n",
    "\n",
    "  text = re.sub(rf'\\b{search} {tribunal}\\n\\b', '', text, count=1)\n",
    "\n",
    "  search = 'Última distribuição :'\n",
    "  last_distribution = extract_text_based_on_appearance_in_text('Última distribuição :', text)\n",
    "  print(last_distribution)\n",
    "\n",
    "  text = re.sub(rf'\\b{search} {last_distribution}\\n\\b', '', text, count=1)\n",
    "\n",
    "  search = 'Valor da causa:'\n",
    "  cause_cost = extract_text_based_on_appearance_in_text('Valor da causa:', text)\n",
    "  print(f'cause cost: {cause_cost}')\n",
    "\n",
    "  text = re.sub(rf'\\b{search} {cause_cost}\\n\\b', '', text, count=1)\n",
    "  text = re.sub(r'R\\$', '', text, count=1)\n",
    "\n",
    "  search = 'Processo referência:'\n",
    "  reference_legal_action = extract_text_based_on_appearance_in_text('Processo referência:', text)\n",
    "  print(reference_legal_action)\n",
    "\n",
    "  text = re.sub(rf'\\b{search} {reference_legal_action}\\n\\b', '', text, count=1)\n",
    "\n",
    "  search = 'Assuntos:'\n",
    "  matters = extract_text_based_on_appearance_in_text('Assuntos:', text)\n",
    "  print(matters)\n",
    "\n",
    "  text = re.sub(rf'\\b{search} {matters}\\n\\b', '', text, count=1)\n",
    "\n",
    "  search = 'Cargo -'\n",
    "  position = extract_text_based_on_appearance_in_text('Cargo -', text)\n",
    "  print(position)\n",
    "\n",
    "  text = re.sub(rf'\\b{search} {position}\\n\\b', '', text, count=1)\n",
    "\n",
    "  legal_action_goal_string = 'Objeto do processo: '\n",
    "  judicial_secrecy = 'Segredo de Justiça?'\n",
    "  extracted_text = re.search(f'{legal_action_goal_string}(.*?){judicial_secrecy}', text, re.DOTALL)\n",
    "  legal_action_goal = extracted_text.group(1).strip() if extracted_text else None\n",
    "  print(legal_action_goal)\n",
    "\n",
    "  text = re.sub(rf'\\b{legal_action_goal_string}\\b', '', text.strip(), count=1)\n",
    "  legal_action_goal = legal_action_goal.replace('\\n', ' ').strip()\n",
    "\n",
    "  legal_action_goal_splitted = legal_action_goal.split(' ')\n",
    "\n",
    "  for word in legal_action_goal_splitted:\n",
    "    word = word.replace('(', r'\\(').replace(')', r'\\)')\n",
    "    text = re.sub(rf'{word}\\n?', '', text, count=1)\n",
    "\n",
    "  text = text.strip()\n",
    "\n",
    "  search = 'Segredo de Justiça\\?'\n",
    "  judicial_secrecy = extract_text_based_on_appearance_in_text('Segredo de Justiça\\?', text)\n",
    "  print(judicial_secrecy)\n",
    "\n",
    "  text = re.sub(rf'\\b{search} {judicial_secrecy}\\b', '', text, count=1)\n",
    "\n",
    "  search = 'Justiça gratuita\\?'\n",
    "  free_judicial = extract_text_based_on_appearance_in_text('Justiça gratuita\\?', text)\n",
    "  print(free_judicial)\n",
    "\n",
    "  text = re.sub(rf'\\b{search} {free_judicial}\\b', '', text, count=1)\n",
    "\n",
    "  search = 'Pedido de liminar ou antecipação de tutela\\?'\n",
    "  formal_request = extract_text_based_on_appearance_in_text('Pedido de liminar ou antecipação de tutela\\?', text)\n",
    "  print(formal_request)\n",
    "\n",
    "  text = re.sub(rf'\\b{search} {formal_request}\\b', '', text, count=1)\n",
    "\n",
    "  text = re.sub(r'\\bPartes Advogados\\n\\b', '', text, count=1)\n",
    "\n",
    "  search = r'\\(REQUERENTE\\)'\n",
    "  match = re.search(rf'(.+?)\\s+{search}', text.replace('\\n', ' '))\n",
    "  requerente = match.group(1).strip() if match else None\n",
    "  print(requerente)\n",
    "\n",
    "  text = re.sub(r'\\b(REQUERENTE)\\b', '', text, count=1)\n",
    "  requerente_splitted = requerente.split(' ') if requerente != None else []\n",
    "  for word in requerente_splitted:\n",
    "    word = word.replace('(', r'\\(').replace(')', r'\\)')\n",
    "    text = re.sub(rf'{word}\\n?', '', text, count=1)\n",
    "  text = re.sub(r'\\(\\)', '', text, count=1)\n",
    "\n",
    "  search = r'\\(IMPUGNANTE\\)'\n",
    "  match = re.search(rf'(.+?)\\s+{search}', text.replace('\\n', ' ').strip())\n",
    "  impugnante = match.group(1).strip() if match else None\n",
    "  print(f'impugnante: {impugnante}')\n",
    "\n",
    "  text = re.sub(r'\\b(IMPUGNANTE)\\b', '', text, count=1)\n",
    "  text = text.strip()\n",
    "  impugnante_splitted = impugnante.split(' ') if impugnante != None else []\n",
    "  for word in impugnante_splitted:\n",
    "    word = word.replace('(', r'\\(').replace(')', r'\\)')\n",
    "    text = re.sub(rf'{word}\\n?', '', text, count=1)\n",
    "  text = re.sub(r'\\(\\)', '', text, count=1)\n",
    "\n",
    "  search = r'\\(IMPUGNANTE\\)'\n",
    "  match = re.search(rf'(.+?)\\s+{search}', text.replace('\\n', ' ').strip())\n",
    "  impugnante_2 = match.group(1).strip() if match else None\n",
    "  print(f'impugnante: {impugnante_2}')\n",
    "\n",
    "  text = re.sub(r'\\b(IMPUGNANTE)\\b', '', text, count=1)\n",
    "  text = text.strip()\n",
    "  impugnante_splitted_2 = impugnante_2.split(' ') if impugnante_2 != None else []\n",
    "  for word in impugnante_splitted_2:\n",
    "    word = word.replace('(', r'\\(').replace(')', r'\\)')\n",
    "    text = re.sub(rf'{word}\\n?', '', text, count=1)\n",
    "  # print(text)\n",
    "  text = re.sub(r'\\(\\)', '', text, count=1)\n",
    "\n",
    "  search = r'\\(IMPUGNADO\\)'\n",
    "  match = re.search(rf'(.+?)\\s+{search}', text.replace('\\n', ' ').strip())\n",
    "  impugnado = match.group(1).strip() if match else None\n",
    "  print(f\"impugnado: {impugnado}\")\n",
    "\n",
    "  text = re.sub(r'\\b(IMPUGNADO)\\b', '', text, count=1)\n",
    "  text = re.sub(rf'\\b{impugnado}\\b', '', text, count=1)\n",
    "  text = re.sub(r'\\(\\)', '', text, count=1)\n",
    "\n",
    "  search = r'\\(ADVOGADO\\)'\n",
    "  match = re.search(rf'(.+?)\\s+{search}', text.replace('\\n', ' '))\n",
    "  advogado = match.group(1).strip() if match else None\n",
    "  print(advogado)\n",
    "\n",
    "  advogado_splitted = advogado.split(' ') if advogado != None else []\n",
    "  for word in advogado_splitted:\n",
    "    word = word.replace('(', r'\\(').replace(')', r'\\)')\n",
    "    text = re.sub(rf'{word}\\n?', '', text, count=1)\n",
    "  text = re.sub(r'\\b(ADVOGADO)\\b', '', text, count=1)\n",
    "  text = re.sub(rf'\\b{advogado}\\b', '', text, count=1)\n",
    "  text = re.sub(r'\\(\\)', '', text, count=1)\n",
    "\n",
    "  search = r'\\(IMPUGNADO\\)'\n",
    "  match = re.search(rf'(.+?)\\s+{search}', text.replace('\\n', ' ').strip())\n",
    "  impugnado_2 = match.group(1).strip() if match else None\n",
    "  print(f\"impugnado 2: {impugnado_2}\")\n",
    "\n",
    "  text = re.sub(r'\\b(IMPUGNADO)\\b', '', text, count=1)\n",
    "  text = text.strip()\n",
    "  impugnado_splitted_2 = impugnado_2.split(' ') if impugnado_2 != None else []\n",
    "  for word in impugnado_splitted_2:\n",
    "    word = word.replace('(', r'\\(').replace(')', r'\\)')\n",
    "    text = re.sub(rf'{word}\\n?', '', text, count=1)\n",
    "  text = re.sub(r'\\(\\)', '', text, count=1)\n",
    "\n",
    "  search = r'\\(REQUERENTE\\)'\n",
    "  match = re.search(rf'(.+?)\\s+{search}', text.replace('\\n', ' ').strip())\n",
    "  requerente_2 = match.group(1).strip() if match else None\n",
    "  print(requerente_2)\n",
    "  \n",
    "  requerente2_splitted = requerente_2.split(' ') if requerente_2 != None else []\n",
    "  for word in requerente2_splitted:\n",
    "    word = word.replace('(', r'\\(').replace(')', r'\\)')\n",
    "    text = re.sub(rf'{word}\\n?', '', text, count=1)\n",
    "  text = re.sub(r'\\b(REQUERENTE)\\b', '', text, count=1)\n",
    "  text = re.sub(rf'\\b{requerente_2}\\b', '', text, count=1)\n",
    "  text = re.sub(r'\\(\\)', '', text, count=1)\n",
    "\n",
    "  search = r'\\(ADVOGADO\\)'\n",
    "  match = re.search(rf'(.+?)\\s+{search}', text.replace('\\n', ' '))\n",
    "  advogado_2 = match.group(1).strip() if match else None\n",
    "  print(f\"advogado 2: {advogado_2}\")\n",
    "\n",
    "  text = re.sub(r'\\b(ADVOGADO)\\b', '', text, count=1)\n",
    "  text = re.sub(rf'\\b{advogado_2}\\b', '', text, count=1)\n",
    "  text = re.sub(r'\\(\\)', '', text, count=1)\n",
    "\n",
    "  search = r'\\(REQUERENTE\\)'\n",
    "  match = re.search(rf'(.+?)\\s+{search}', text.replace('\\n', ' ').strip())\n",
    "  requerente_3 = match.group(1).strip() if match else None\n",
    "  print(requerente_3)\n",
    "\n",
    "  requerente3_splitted = requerente_3.split(' ') if requerente_3 != None else []\n",
    "  for word in requerente3_splitted:\n",
    "    word = word.replace('(', r'\\(').replace(')', r'\\)')\n",
    "    text = re.sub(rf'{word}\\n?', '', text, count=1)\n",
    "  text = re.sub(r'\\b(REQUERENTE)\\b', '', text, count=1)\n",
    "  text = re.sub(rf'\\b{requerente_3}\\b', '', text, count=1)\n",
    "  text = re.sub(r'\\(\\)', '', text, count=1)\n",
    "\n",
    "  search = r'\\(REQUERENTE\\)'\n",
    "  match = re.search(rf'(.+?)\\s+{search}', text.replace('\\n', ' ').strip())\n",
    "  requerente_4 = match.group(1).strip() if match else None\n",
    "  print(requerente_4)\n",
    "\n",
    "  requerente4_splitted = requerente_4.split(' ') if requerente_4 != None else []\n",
    "  for word in requerente4_splitted:\n",
    "    word = word.replace('(', r'\\(').replace(')', r'\\)')\n",
    "    text = re.sub(rf'{word}\\n?', '', text, count=1)\n",
    "  text = re.sub(r'\\b(REQUERENTE)\\b', '', text, count=1)\n",
    "  text = re.sub(rf'\\b{requerente_4}\\b', '', text, count=1)\n",
    "  text = re.sub(r'\\(\\)', '', text, count=1)\n",
    "\n",
    "  search = r'\\(REQUERENTE\\)'\n",
    "  match = re.search(rf'(.+?)\\s+{search}', text.replace('\\n', ' ').strip())\n",
    "  requerente_5 = match.group(1).strip() if match else None\n",
    "  print(requerente_5)\n",
    "\n",
    "  requerente5_splitted = requerente_5.split(' ') if requerente_5 != None else []\n",
    "  for word in requerente5_splitted:\n",
    "    word = word.replace('(', r'\\(').replace(')', r'\\)')\n",
    "    text = re.sub(rf'{word}\\n?', '', text, count=1)\n",
    "  text = re.sub(r'\\b(REQUERENTE)\\b', '', text, count=1)\n",
    "  text = re.sub(rf'\\b{requerente_5}\\b', '', text, count=1)\n",
    "  text = re.sub(r'\\(\\)', '', text, count=1)\n",
    "\n",
    "  search = r'\\(REQUERENTE\\)'\n",
    "  match = re.search(rf'(.+?)\\s+{search}', text.replace('\\n', ' ').strip())\n",
    "  requerente_6 = match.group(1).strip() if match else None\n",
    "  print(requerente_6)\n",
    "\n",
    "  requerente6_splitted = requerente_6.split(' ') if requerente_6 != None else []\n",
    "  for word in requerente6_splitted:\n",
    "    word = word.replace('(', r'\\(').replace(')', r'\\)')\n",
    "    text = re.sub(rf'{word}\\n?', '', text, count=1)\n",
    "  text = re.sub(r'\\b(REQUERENTE)\\b', '', text, count=1)\n",
    "  text = re.sub(rf'\\b{requerente_6}\\b', '', text, count=1)\n",
    "  text = re.sub(r'\\(\\)', '', text, count=1)\n",
    "\n",
    "  search = r'\\(REQUERENTE\\)'\n",
    "  match = re.search(rf'(.+?)\\s+{search}', text.replace('\\n', ' ').strip())\n",
    "  requerente_7 = match.group(1).strip() if match else None\n",
    "  print(requerente_7)\n",
    "\n",
    "  requerente7_splitted = requerente_7.split(' ') if requerente_7 != None else []\n",
    "  for word in requerente7_splitted:\n",
    "    word = word.replace('(', r'\\(').replace(')', r'\\)')\n",
    "    text = re.sub(rf'{word}\\n?', '', text, count=1)\n",
    "  text = re.sub(r'\\b(REQUERENTE)\\b', '', text, count=1)\n",
    "  text = re.sub(rf'\\b{requerente_7}\\b', '', text, count=1)\n",
    "  text = re.sub(r'\\(\\)', '', text, count=1)\n",
    "\n",
    "  search = r'\\(REQUERENTE\\)'\n",
    "  match = re.search(rf'(.+?)\\s+{search}', text.replace('\\n', ' ').strip())\n",
    "  requerente_8 = match.group(1).strip() if match else None\n",
    "  print(requerente_8)\n",
    "\n",
    "  requerente8_splitted = requerente_8.split(' ') if requerente_8 != None else []\n",
    "  for word in requerente8_splitted:\n",
    "    word = word.replace('(', r'\\(').replace(')', r'\\)')\n",
    "    text = re.sub(rf'{word}\\n?', '', text, count=1)\n",
    "  text = re.sub(r'\\b(REQUERENTE)\\b', '', text, count=1)\n",
    "  text = re.sub(rf'\\b{requerente_8}\\b', '', text, count=1)\n",
    "  text = re.sub(r'\\(\\)', '', text, count=1)\n",
    "\n",
    "  outros_participantes_search = 'Outros participantes'\n",
    "  fiscal_de_lei_search = r'\\(FISCAL DA LEI\\)'\n",
    "  extracted_text = re.search(f'{outros_participantes_search}(.*?){fiscal_de_lei_search}', text, re.DOTALL)\n",
    "  fiscal_de_lei_nome = extracted_text.group(1).strip().replace('\\n', ' ') if extracted_text else None\n",
    "  print(fiscal_de_lei_nome)\n",
    "\n",
    "  text = re.sub(rf'\\b{outros_participantes_search}\\n\\b', '', text, count=1)\n",
    "  text = re.sub(rf'\\bFISCAL DA LEI\\b', '', text, count=1)\n",
    "  text = re.sub(r'\\(\\)', '', text, count=1)\n",
    "  text = re.sub(r'\\bPROMOTOR ELEITORAL DO ESTADO DO RIO GRANDE DO\\nNORTE\\b', '', text, count=1)\n",
    "\n",
    "  text = re.sub(r'\\bDocumentos\\b', '', text, count=1)\n",
    "\n",
    "  text_treated_for_index = text.strip().replace('\\n', ' ').split(' ')\n",
    "\n",
    "  print(text_treated_for_index)\n",
    "\n",
    "  text_treated_for_index.remove('Id.')\n",
    "  text_treated_for_index.remove('Data')\n",
    "  text_treated_for_index.remove('da')\n",
    "  text_treated_for_index.remove('Documento')\n",
    "  text_treated_for_index.remove('Tipo')\n",
    "  text_treated_for_index.remove('Assinatura')\n",
    "\n",
    "  print(text_treated_for_index)\n",
    "\n",
    "  id = text_treated_for_index[0]\n",
    "  print(f\"id: {id}\")\n",
    "  \n",
    "  text_treated_for_index.pop(0)\n",
    "\n",
    "  data_da_assinatura = text_treated_for_index[0]\n",
    "  print(f\"data: {data_da_assinatura}\")\n",
    "  text_treated_for_index.pop(0)\n",
    "\n",
    "  initial_index = 0\n",
    "\n",
    "  for index, word in enumerate(text_treated_for_index, start=initial_index):\n",
    "    pattern = r'\\d{2}:\\d{2}'\n",
    "    match = re.match(pattern, word)\n",
    "\n",
    "    if match:\n",
    "      hora_da_assinatura = word\n",
    "      break\n",
    "\n",
    "  text_treated_for_index.remove(hora_da_assinatura)\n",
    "  \n",
    "\n",
    "  data_hora_da_assinatura = f'{data_da_assinatura} {hora_da_assinatura}'\n",
    "  data_hora_da_assinatura_timestamp = datetime.datetime.strptime(data_hora_da_assinatura, '%d/%m/%Y %H:%M').isoformat()\n",
    "  print(data_hora_da_assinatura_timestamp)\n",
    "\n",
    "  tipo = ''\n",
    "\n",
    "  for index, word in enumerate(text_treated_for_index):\n",
    "    if word == 'Sentença' or word == 'Petição':\n",
    "      tipo = word\n",
    "      break\n",
    "    elif word == 'Outros' and text_treated_for_index[index + 1] == 'documentos':\n",
    "      tipo = f'{word} {text_treated_for_index[index + 1]}'\n",
    "      break\n",
    "    elif word == 'Parecer' and text_treated_for_index[index + 1] == 'da' and text_treated_for_index[index + 1] == 'Procuradoria':\n",
    "      tipo = f'{word} {text_treated_for_index[index + 1]} {text_treated_for_index[index + 2]}'\n",
    "      break\n",
    "    elif word == 'Cota' and text_treated_for_index[index + 1] == 'ministerial':\n",
    "      tipo = f'{word} {text_treated_for_index[index + 1]}'\n",
    "      break\n",
    "\n",
    "  print(tipo)\n",
    "  if tipo == 'Sentença' or tipo == 'Petição':\n",
    "    text_treated_for_index.remove(tipo)\n",
    "  elif tipo == 'Outros documentos':\n",
    "    text_treated_for_index.remove('Outros')\n",
    "    text_treated_for_index.remove('documentos')\n",
    "  elif tipo == 'Parecer da Procuradoria':\n",
    "    text_treated_for_index.remove('Parecer')\n",
    "    text_treated_for_index.remove('da')\n",
    "    text_treated_for_index.remove('Procuradoria')\n",
    "  elif tipo == 'Cota ministerial':\n",
    "    text_treated_for_index.remove('Cota')\n",
    "    text_treated_for_index.remove('ministerial')\n",
    "\n",
    "  index = text_treated_for_index.index('page:')\n",
    "  \n",
    "  documento = ' '.join(text_treated_for_index[:index])\n",
    "  print(documento)\n",
    "\n",
    "  resultado = 'NÃO DEFINIDO'\n",
    "\n",
    "  detalhamento = ' '.join(text_treated_for_index[index+2:])\n",
    "  print(detalhamento)\n",
    "  \n",
    "  indeferimento_word_appearance = detalhamento.lower().find('indefiro')\n",
    "\n",
    "  if detalhamento.lower().find('defiro') != -1:\n",
    "    resultado = 'DEFERIDO'\n",
    "  elif detalhamento.lower().find('deferimento') != -1:\n",
    "    resultado = 'DEFERIDO'\n",
    "  elif detalhamento.lower().find('manifesta-se pelo deferimento') != -1:\n",
    "    resultado = 'DEFERIDO'\n",
    "  elif detalhamento.lower().find('homologo') != -1:\n",
    "    resultado = 'DEFERIDO'\n",
    "\n",
    "\n",
    "  if indeferimento_word_appearance != -1:\n",
    "    resultado = 'INDEFERIDO'\n",
    "  elif detalhamento.lower().find('indeferindo-se') != -1:\n",
    "    resultado = 'INDEFERIDO'\n",
    "  elif detalhamento.lower().find('indeferimento') != -1:\n",
    "    resultado = 'INDEFERIDO'\n",
    "  elif detalhamento.lower().find('litispendência') != -1:\n",
    "    resultado = 'INDEFERIDO'\n",
    "  elif detalhamento.lower().find('não foram preenchidas') != -1:\n",
    "    resultado = 'INDEFERIDO'\n",
    "  elif detalhamento.lower().find('extinguo') != -1:\n",
    "    resultado = 'INDEFERIDO'\n",
    "  elif detalhamento.lower().find('ausência de documentos exigidos') != -1:\n",
    "    resultado = 'INDEFERIDO'\n",
    "\n",
    "  \n",
    "  print(resultado)\n",
    "\n",
    "  data = {\n",
    "    'advogado': advogado,\n",
    "    'advogado_2': advogado_2,\n",
    "    'data_hora_da_assinatura_timestamp': data_hora_da_assinatura_timestamp,\n",
    "    'documento': documento,\n",
    "    'detalhamento': detalhamento,\n",
    "    'fiscal_de_lei_nome': fiscal_de_lei_nome,\n",
    "    'formal_request': formal_request,\n",
    "    'free_judicial': free_judicial,\n",
    "    'id': id,\n",
    "    'judicial_secrecy': judicial_secrecy,\n",
    "    'last_distribution': last_distribution,\n",
    "    'legal_action_goal': legal_action_goal,\n",
    "    'legal_action_number': legal_action_number,\n",
    "    'legal_class': legal_class,\n",
    "    'matters': matters,\n",
    "    'position': position,\n",
    "    'reference_legal_action': reference_legal_action,\n",
    "    'requerente': requerente,\n",
    "    'requerente_2': requerente_2,\n",
    "    'requerente_3': requerente_3,\n",
    "    'requerente_4': requerente_4,\n",
    "    'requerente_5': requerente_5,\n",
    "    'requerente_6': requerente_6,\n",
    "    'requerente_7': requerente_7,\n",
    "    'requerente_8': requerente_8,\n",
    "    'impugnante': impugnante,\n",
    "    'impugnante_2': impugnante_2,\n",
    "    'impugnado': impugnado,\n",
    "    'impugnado_2': impugnado_2,\n",
    "    'resultado': resultado,\n",
    "  }\n",
    "\n",
    "  return data\n",
    "\n"
   ]
  },
  {
   "cell_type": "code",
   "execution_count": null,
   "metadata": {},
   "outputs": [],
   "source": [
    "import pandas as pd\n",
    "\n",
    "df = pd.DataFrame()\n",
    "\n",
    "pdf_files_path_with_error = []\n",
    "\n",
    "for index, raw_text in enumerate(dataframe['raw']):\n",
    "  try:\n",
    "    data = extract_needed_information_from_pdf_text(raw_text)\n",
    "    data['pdf_file_path'] = pdf_files_path[index]\n",
    "    new_row = pd.DataFrame([data])\n",
    "    df = pd.concat([df, new_row], ignore_index=True)\n",
    "  except ValueError:\n",
    "    pdf_files_path_with_error.append(pdf_files_path[index])\n",
    "    continue\n",
    "\n"
   ]
  },
  {
   "cell_type": "code",
   "execution_count": null,
   "metadata": {},
   "outputs": [],
   "source": [
    "df.head(3)"
   ]
  },
  {
   "cell_type": "code",
   "execution_count": null,
   "metadata": {},
   "outputs": [],
   "source": [
    "df.count()"
   ]
  },
  {
   "cell_type": "code",
   "execution_count": null,
   "metadata": {},
   "outputs": [],
   "source": [
    "print(pdf_files_path_with_error)"
   ]
  },
  {
   "cell_type": "code",
   "execution_count": null,
   "metadata": {},
   "outputs": [],
   "source": [
    "not_defined = df[df.resultado == 'NÃO DEFINIDO']\n",
    "not_defined"
   ]
  },
  {
   "cell_type": "markdown",
   "metadata": {},
   "source": [
    "### Vetorizar documento"
   ]
  },
  {
   "cell_type": "code",
   "execution_count": 11,
   "metadata": {},
   "outputs": [],
   "source": [
    "import nltk\n",
    "from nltk.corpus import stopwords \n",
    "from nltk.stem import PorterStemmer\n",
    "from nltk.tokenize import word_tokenize"
   ]
  },
  {
   "cell_type": "code",
   "execution_count": null,
   "metadata": {},
   "outputs": [],
   "source": [
    "# Download necessário para a NLTK\n",
    "nltk.download('stopwords')  # Baixa a lista de stop words (palavras comuns) para uso no processamento de texto\n",
    "nltk.download('punkt')  # Baixa o tokenizer Punkt, necessário para a tokenização de frases\n",
    "\n",
    "# Carregar o modelo de português para o spaCy\n",
    "!python -m spacy download pt_core_news_sm"
   ]
  },
  {
   "cell_type": "code",
   "execution_count": 13,
   "metadata": {},
   "outputs": [],
   "source": [
    "def remove_noise(text):\n",
    "\n",
    "    text = re.sub(r'http\\S+', '', text)\n",
    "\n",
    "    # Converte para minúsculas\n",
    "    text = text.lower()\n",
    "\n",
    "    # Remove pontuação\n",
    "    # []: colchetes são usados para definir uma classe de caracteres.\n",
    "    # ^: quando usado no início de uma classe de caracteres, o ^ nega a classe, ou seja, seleciona tudo que não está na classe.\n",
    "    # \\w: corresponde a qualquer caractere alfanumérico (letras e números, incluindo o caractere de sublinhado _)\n",
    "    # \\s: corresponde a qualquer espaço em branco (espaços, tabulações, quebras de linha).\n",
    "    text = re.sub(r'[^\\w\\s]', '', text)\n",
    "\n",
    "    # Remove underlines\n",
    "    text = re.sub(r'_+', '', text)\n",
    "\n",
    "    # Remove números\n",
    "    # \\d: corresponde a qualquer dígito (de 0 a 9).\n",
    "    # +: significa “um ou mais” do elemento precedente. Portanto, \\d+ corresponde a uma sequência de um ou mais dígitos consecutivos.\n",
    "    text = re.sub(r'\\d+', '', text)\n",
    "\n",
    "    return text"
   ]
  },
  {
   "cell_type": "code",
   "execution_count": 14,
   "metadata": {},
   "outputs": [],
   "source": [
    "def remove_stopwords(text):\n",
    "  # Obtém a lista de stopwords em português usando o NLTK e as converte para um conjunto para melhorar a eficiência da busca\n",
    "  stop_words = set(stopwords.words('portuguese'))\n",
    "\n",
    "  # Divide o texto em palavras, remove as stopwords e então junta as palavras restantes de volta em uma string\n",
    "  text = ' '.join([word for word in text.split() if word not in stop_words])\n",
    "\n",
    "  return text"
   ]
  },
  {
   "cell_type": "code",
   "execution_count": null,
   "metadata": {},
   "outputs": [],
   "source": [
    "data = df[df.resultado != 'NÃO DEFINIDO']\n",
    "data"
   ]
  },
  {
   "cell_type": "code",
   "execution_count": null,
   "metadata": {},
   "outputs": [],
   "source": [
    "data['detalhamento'] = data['detalhamento'].apply(remove_noise)\n",
    "data.head()"
   ]
  },
  {
   "cell_type": "code",
   "execution_count": null,
   "metadata": {},
   "outputs": [],
   "source": [
    "data.iloc[1]['detalhamento']"
   ]
  },
  {
   "cell_type": "code",
   "execution_count": null,
   "metadata": {},
   "outputs": [],
   "source": [
    "data['detalhamento'] = data['detalhamento'].apply(remove_stopwords)\n",
    "data.head()"
   ]
  },
  {
   "cell_type": "code",
   "execution_count": null,
   "metadata": {},
   "outputs": [],
   "source": [
    "text = data['detalhamento'][267]\n",
    "text"
   ]
  },
  {
   "cell_type": "markdown",
   "metadata": {},
   "source": [
    "Why Logistic Regression?\n",
    "\n",
    "Simplicity and Interpretability: Logistic Regression is a straightforward and interpretable model. It provides probabilities that can be easily understood and translated into decision-making. The coefficients of the model indicate the influence of each feature on the outcome, making it easier to interpret and understand the relationship between the variables.\n",
    "\n",
    "Linear Decision Boundary: Logistic Regression assumes a linear relationship between the features and the outcome. This can be beneficial when the true relationship is approximately linear, allowing for efficient and effective modeling. It provides a clear decision boundary that separates classes based on a linear combination of the input features.\n"
   ]
  },
  {
   "cell_type": "code",
   "execution_count": 20,
   "metadata": {},
   "outputs": [],
   "source": [
    "# Usando o modelo em português do spaCy para tokenização\n",
    "import spacy\n",
    "nlp = spacy.load('pt_core_news_sm')\n",
    "\n",
    "# # Passa o texto para o pipeline de processamento do spaCy. O resultado é um objeto doc, que contém as palavras e sentenças tokenizadas, além de outras informações linguísticas.\n",
    "# doc = nlp(text)\n",
    "\n",
    "# # Extrair sentenças como tokens\n",
    "# sentence_tokens = [sent.text for sent in doc.sents]\n",
    "\n",
    "# print(\"Tokens:\", sentence_tokens)"
   ]
  },
  {
   "cell_type": "code",
   "execution_count": 21,
   "metadata": {},
   "outputs": [],
   "source": [
    "# tokens = [token.text for token in doc]\n",
    "# print('Tokens:', tokens)"
   ]
  },
  {
   "cell_type": "code",
   "execution_count": null,
   "metadata": {},
   "outputs": [],
   "source": [
    "def tokenize_text(text):\n",
    "    doc = nlp(text)\n",
    "    tokens = [token.text for token in doc]\n",
    "    return tokens\n",
    "\n",
    "data['tokens'] = data['detalhamento'].apply(tokenize_text)"
   ]
  },
  {
   "cell_type": "code",
   "execution_count": null,
   "metadata": {},
   "outputs": [],
   "source": [
    "data['tokens'][267]"
   ]
  },
  {
   "cell_type": "markdown",
   "metadata": {},
   "source": [
    "## Stemming e Lemmatização"
   ]
  },
  {
   "cell_type": "code",
   "execution_count": null,
   "metadata": {},
   "outputs": [],
   "source": [
    "nltk.download('punkt')\n",
    "nltk.download('punkt_tab')"
   ]
  },
  {
   "cell_type": "code",
   "execution_count": 25,
   "metadata": {},
   "outputs": [],
   "source": [
    "from nltk.stem import PorterStemmer"
   ]
  },
  {
   "cell_type": "code",
   "execution_count": 26,
   "metadata": {},
   "outputs": [],
   "source": [
    "def apply_stemming(tokens):\n",
    "    stemmer = PorterStemmer()\n",
    "    stemmed_tokens = [stemmer.stem(token) for token in tokens]\n",
    "    return stemmed_tokens"
   ]
  },
  {
   "cell_type": "code",
   "execution_count": null,
   "metadata": {},
   "outputs": [],
   "source": [
    "data['stemming'] = data['tokens'].apply(apply_stemming)\n",
    "data['stemming'][267]"
   ]
  },
  {
   "cell_type": "code",
   "execution_count": null,
   "metadata": {},
   "outputs": [],
   "source": [
    "stemmer = PorterStemmer()\n",
    "\n",
    "# Tokeniza a frase em palavras\n",
    "palavras = word_tokenize(data['detalhamento'][267])\n",
    "\n",
    "# Aplica o stemming a cada palavra\n",
    "stemmed_words = [stemmer.stem(word) for word in palavras]\n",
    "\n",
    "print(\"Frase original:\", data['detalhamento'][267])\n",
    "print(\"Palavras após Stemming:\", stemmed_words)\n",
    "print()"
   ]
  },
  {
   "cell_type": "code",
   "execution_count": 29,
   "metadata": {},
   "outputs": [],
   "source": [
    "def apply_lemming(doc):\n",
    "  doc = ' '.join(doc)\n",
    "\n",
    "  nlp = spacy.load(\"pt_core_news_sm\")\n",
    "\n",
    "  doc = nlp(doc)\n",
    "\n",
    "  lemmatized_words = [token.lemma_ for token in doc]\n",
    "  \n",
    "  return lemmatized_words"
   ]
  },
  {
   "cell_type": "code",
   "execution_count": null,
   "metadata": {},
   "outputs": [],
   "source": [
    "data['lemming'] = data['tokens'].apply(apply_lemming)"
   ]
  },
  {
   "cell_type": "code",
   "execution_count": null,
   "metadata": {},
   "outputs": [],
   "source": [
    "data['detalhamento'][267]"
   ]
  },
  {
   "cell_type": "code",
   "execution_count": null,
   "metadata": {},
   "outputs": [],
   "source": [
    "data['pdf_file_path'][267]"
   ]
  },
  {
   "cell_type": "code",
   "execution_count": null,
   "metadata": {},
   "outputs": [],
   "source": [
    "data['lemming'][267]"
   ]
  },
  {
   "cell_type": "code",
   "execution_count": null,
   "metadata": {},
   "outputs": [],
   "source": [
    "data['lemming'][2]\n"
   ]
  },
  {
   "cell_type": "code",
   "execution_count": null,
   "metadata": {},
   "outputs": [],
   "source": [
    "data.iloc[2]"
   ]
  },
  {
   "cell_type": "code",
   "execution_count": null,
   "metadata": {},
   "outputs": [],
   "source": [
    "data"
   ]
  },
  {
   "cell_type": "code",
   "execution_count": null,
   "metadata": {},
   "outputs": [],
   "source": [
    "%pip install scikit-learn"
   ]
  },
  {
   "cell_type": "code",
   "execution_count": null,
   "metadata": {},
   "outputs": [],
   "source": [
    "from sklearn.feature_extraction.text import CountVectorizer, TfidfVectorizer\n",
    "\n",
    "vectorizer_tfidf = TfidfVectorizer()\n",
    "# Ajustar e transformar os documentos em uma matriz TF-IDF\n",
    "X_tfidf = vectorizer_tfidf.fit_transform(data['lemming'].apply(lambda x: ' '.join(x)))\n",
    "vocab = vectorizer_tfidf.get_feature_names_out()\n",
    "print(\"Representação TF-IDF:\\n\", X_tfidf.toarray())\n",
    "print(\"Vocabulário TF-IDF:\\n\", vocab)\n",
    "\n",
    "print(\"Vocabulário TF-IDF:\", vocab)\n",
    "# Imprime a matriz TF-IDF com rótulos de linha e coluna\n",
    "print(\"Matriz TF-IDF:\")\n",
    "print(\"Documento \", end=\"\")\n",
    "for i, doc in enumerate(X_tfidf.toarray()):\n",
    "    print(f\"Documento {i+1}:\", end=\"   \")\n",
    "    for word, tfidf in zip(vocab, X_tfidf[i].toarray()[0]):\n",
    "        if tfidf == 0:\n",
    "            continue\n",
    "        print(f\"{word}: {tfidf:.4f}\")\n",
    "    print()"
   ]
  },
  {
   "cell_type": "code",
   "execution_count": null,
   "metadata": {},
   "outputs": [],
   "source": [
    "data.count()"
   ]
  },
  {
   "cell_type": "markdown",
   "metadata": {},
   "source": [
    "## Vetorizar dataframe using TFiDF"
   ]
  },
  {
   "cell_type": "code",
   "execution_count": null,
   "metadata": {},
   "outputs": [],
   "source": [
    "data.fillna('', inplace=True)"
   ]
  },
  {
   "cell_type": "code",
   "execution_count": null,
   "metadata": {},
   "outputs": [],
   "source": [
    "data['detalhamento'] = data['lemming'].apply(lambda x: ' '.join(x))"
   ]
  },
  {
   "cell_type": "code",
   "execution_count": null,
   "metadata": {},
   "outputs": [],
   "source": [
    "data_tfidf = data.drop(columns=['requerente_8', 'lemming', 'stemming', 'tokens', 'pdf_file_path', 'resultado'])\n",
    "columns = data_tfidf.columns\n",
    "\n",
    "for column in columns:\n",
    "  print(f'== {column} ==')\n",
    "  if data_tfidf[column].str.strip().any():\n",
    "    tfidf_matrix = vectorizer_tfidf.fit_transform(data_tfidf[column])\n",
    "\n",
    "    data_tfidf[column] = tfidf_matrix.toarray().mean(axis=1)\n",
    "  else:\n",
    "    data_tfidf[column] = df[column].replace('', 0)\n",
    "\n",
    "data_tfidf"
   ]
  },
  {
   "cell_type": "code",
   "execution_count": null,
   "metadata": {},
   "outputs": [],
   "source": [
    "data_tfidf[100:110]"
   ]
  },
  {
   "cell_type": "markdown",
   "metadata": {},
   "source": [
    "## Dividir treinamento e teste"
   ]
  },
  {
   "cell_type": "code",
   "execution_count": 44,
   "metadata": {},
   "outputs": [],
   "source": [
    "from sklearn.model_selection import train_test_split\n",
    "\n",
    "labels = data['resultado']"
   ]
  },
  {
   "cell_type": "code",
   "execution_count": null,
   "metadata": {},
   "outputs": [],
   "source": [
    "labels = labels.replace('DEFERIDO', 1)\n",
    "labels = labels.replace('INDEFERIDO', 0)"
   ]
  },
  {
   "cell_type": "code",
   "execution_count": 46,
   "metadata": {},
   "outputs": [],
   "source": [
    "# X_train, X_test, y_train, y_test = train_test_split(data_tfidf, labels, test_size=0.4, random_state=42)"
   ]
  },
  {
   "cell_type": "code",
   "execution_count": 47,
   "metadata": {},
   "outputs": [],
   "source": [
    "# X_train.shape"
   ]
  },
  {
   "cell_type": "markdown",
   "metadata": {},
   "source": [
    "## Supervied Machine Learning Model"
   ]
  },
  {
   "cell_type": "markdown",
   "metadata": {},
   "source": [
    "This project aims to develop and evaluate machine learning models to assess performance and conduct a comparative analysis of the results. We have selected Logistic Regression and Random Forest as the primary models for this study, allowing us to draw informed conclusions based on their performance."
   ]
  },
  {
   "cell_type": "markdown",
   "metadata": {},
   "source": [
    "#### Logistic Regression"
   ]
  },
  {
   "cell_type": "markdown",
   "metadata": {},
   "source": [
    "Why Logistic Regression?\n",
    "\n",
    "Simplicity and Interpretability: Logistic Regression is a straightforward and interpretable model. It provides probabilities that can be easily understood and translated into decision-making. The coefficients of the model indicate the influence of each feature on the outcome, making it easier to interpret and understand the relationship between the variables.\n",
    "\n",
    "Linear Decision Boundary: Logistic Regression assumes a linear relationship between the features and the outcome. This can be beneficial when the true relationship is approximately linear, allowing for efficient and effective modeling. It provides a clear decision boundary that separates classes based on a linear combination of the input features.\n"
   ]
  },
  {
   "cell_type": "code",
   "execution_count": 48,
   "metadata": {},
   "outputs": [],
   "source": [
    "import pandas as pd\n",
    "from sklearn.model_selection import train_test_split\n",
    "from sklearn.linear_model import LogisticRegression\n",
    "from sklearn.metrics import accuracy_score, classification_report, confusion_matrix"
   ]
  },
  {
   "cell_type": "code",
   "execution_count": 49,
   "metadata": {},
   "outputs": [],
   "source": [
    "# Transforming categorical variables into dummies\n",
    "X = pd.get_dummies(df.drop(columns=['resultado']), drop_first=True)\n",
    "y = df['resultado']"
   ]
  },
  {
   "cell_type": "code",
   "execution_count": 50,
   "metadata": {},
   "outputs": [],
   "source": [
    "# Transforming the target variable into numerical values\n",
    "y = df['resultado'].map({'DEFERIDO': 1, 'INDEFERIDO': 0, 'NÃO DEFINIDO': 2})"
   ]
  },
  {
   "cell_type": "markdown",
   "metadata": {},
   "source": [
    "### Splitting the dataset, training and making previsions "
   ]
  },
  {
   "cell_type": "code",
   "execution_count": null,
   "metadata": {},
   "outputs": [],
   "source": [
    "# Splitting the dataset into training and testing sets\n",
    "X_train, X_test, y_train, y_test = train_test_split(X, y, test_size=0.3, random_state=42)\n",
    "\n",
    "# Training the Logistic Regression model for multiclass classification\n",
    "model = LogisticRegression(multi_class='ovr')\n",
    "model.fit(X_train, y_train)\n",
    "\n",
    "# Making predictions\n",
    "y_pred_logistic = model.predict(X_test)"
   ]
  },
  {
   "cell_type": "markdown",
   "metadata": {},
   "source": [
    "### Evaluating the model"
   ]
  },
  {
   "cell_type": "code",
   "execution_count": null,
   "metadata": {},
   "outputs": [],
   "source": [
    "# Evaluating\n",
    "accuracy = accuracy_score(y_test, y_pred_logistic)\n",
    "print(f'Acuracy: {accuracy:.2f}')\n",
    "conf_matrix = confusion_matrix(y_test, y_pred_logistic)\n",
    "print('Confusion Matrix:')\n",
    "print(conf_matrix)\n",
    "class_report = classification_report(y_test, y_pred_logistic)\n",
    "print('Classification Report:')\n",
    "print(class_report)"
   ]
  },
  {
   "cell_type": "markdown",
   "metadata": {},
   "source": [
    "#### Random Forest"
   ]
  },
  {
   "cell_type": "markdown",
   "metadata": {},
   "source": [
    "Why Random Forest?\n",
    "\n",
    "Non-Linearity: Unlike Logistic Regression, which assumes a linear relationship between the variables and the outcome, Random Forest can capture more complex interactions.\n",
    "\n",
    "Immune to Overfitting: Since it is an ensemble of multiple trees, it tends to be more resistant to overfitting.\n",
    "\n",
    "Interpretability: You can obtain the feature importance, which helps to understand which features have the most impact on the outcome."
   ]
  },
  {
   "cell_type": "code",
   "execution_count": 53,
   "metadata": {},
   "outputs": [],
   "source": [
    "from sklearn.ensemble import RandomForestClassifier\n",
    "from sklearn.model_selection import train_test_split\n",
    "from sklearn.metrics import accuracy_score, classification_report, confusion_matrix"
   ]
  },
  {
   "cell_type": "code",
   "execution_count": 54,
   "metadata": {},
   "outputs": [],
   "source": [
    "# Assuming that the categorical variables have already been transformed\n",
    "X = pd.get_dummies(df.drop(columns=['resultado']), drop_first=True)\n",
    "y = df['resultado'].map({'DEFERIDO': 1, 'INDEFERIDO': 0, 'NÃO DEFINIDO': 2})"
   ]
  },
  {
   "cell_type": "code",
   "execution_count": 55,
   "metadata": {},
   "outputs": [],
   "source": [
    "# Splitting the dataset into training and testing sets\n",
    "X_train, X_test, y_train, y_test = train_test_split(X, y, test_size=0.3, random_state=42)\n",
    "\n",
    "# Creating and training the Random Forest model\n",
    "rf_model = RandomForestClassifier(n_estimators=100, random_state=42)\n",
    "rf_model.fit(X_train, y_train)\n",
    "\n",
    "# Making predictions\n",
    "y_pred_rf = rf_model.predict(X_test)"
   ]
  },
  {
   "cell_type": "code",
   "execution_count": null,
   "metadata": {},
   "outputs": [],
   "source": [
    "# Evaluating\n",
    "accuracy = accuracy_score(y_test, y_pred_rf)\n",
    "print(f'Acuracy: {accuracy:.2f}')\n",
    "conf_matrix = confusion_matrix(y_test, y_pred_rf)\n",
    "print('Confusion Matrix:')\n",
    "print(conf_matrix)\n",
    "class_report = classification_report(y_test, y_pred_rf)\n",
    "print('Classification Report:')\n",
    "print(class_report)"
   ]
  },
  {
   "cell_type": "markdown",
   "metadata": {},
   "source": [
    "### Data analysis and comparisons"
   ]
  },
  {
   "cell_type": "code",
   "execution_count": 57,
   "metadata": {},
   "outputs": [],
   "source": [
    "from sklearn.metrics import accuracy_score, classification_report, confusion_matrix, roc_curve, auc\n",
    "import matplotlib.pyplot as plt\n",
    "import seaborn as sns"
   ]
  },
  {
   "cell_type": "code",
   "execution_count": null,
   "metadata": {},
   "outputs": [],
   "source": [
    "# Calculating the predicted probabilities\n",
    "y_prob_lr = model.predict_proba(X_test)\n",
    "y_prob_rf = rf_model.predict_proba(X_test)\n",
    "\n",
    "# ROC Curves\n",
    "fpr_lr, tpr_lr, _ = roc_curve(y_test, y_prob_lr[:, 1], pos_label=1)\n",
    "fpr_rf, tpr_rf, _ = roc_curve(y_test, y_prob_rf[:, 1], pos_label=1)\n",
    "\n",
    "# AUC (Area Under the Curve)\n",
    "roc_auc_lr = auc(fpr_lr, tpr_lr)\n",
    "roc_auc_rf = auc(fpr_rf, tpr_rf)\n",
    "\n",
    "# Plotting the ROC Curves\n",
    "plt.figure(figsize=(10, 8))\n",
    "plt.plot(fpr_lr, tpr_lr, color='blue', label=f'Logistic Regression (AUC = {roc_auc_lr:.2f})')\n",
    "plt.plot(fpr_rf, tpr_rf, color='green', label=f'Random Forest (AUC = {roc_auc_rf:.2f})')\n",
    "plt.plot([0, 1], [0, 1], color='red', linestyle='--')\n",
    "plt.xlim([0.0, 1.0])\n",
    "plt.ylim([0.0, 1.05])\n",
    "plt.xlabel('False Positive Rate')\n",
    "plt.ylabel('True Positive Rate')\n",
    "plt.title('Receiver Operating Characteristic (ROC) Curve')\n",
    "plt.legend(loc='lower right')\n",
    "plt.show()\n"
   ]
  },
  {
   "cell_type": "code",
   "execution_count": null,
   "metadata": {},
   "outputs": [],
   "source": [
    "import matplotlib.pyplot as plt\n",
    "import seaborn as sns\n",
    "from sklearn.metrics import confusion_matrix\n",
    "\n",
    "# Supondo que você já tenha os valores reais e as previsões dos modelos\n",
    "# y_true = valores reais\n",
    "# y_pred_logistic = previsões do modelo de Regressão Logística\n",
    "# y_pred_rf = previsões do modelo de Random Forest\n",
    "\n",
    "def plot_confusion_matrix(y_true, y_pred, model_name):\n",
    "    cm = confusion_matrix(y_true, y_pred)\n",
    "    plt.figure(figsize=(6,4))\n",
    "    sns.heatmap(cm, annot=True, fmt='d', cmap='Blues', cbar=False,\n",
    "                xticklabels=['INDEFERIDO', 'DEFERIDO', 'NÃO DEFINIDO'],\n",
    "                yticklabels=['INDEFERIDO', 'DEFERIDO', 'NÃO DEFINIDO'])\n",
    "    #plt.title(f'Matriz de Confusão - {model_name}', fontsize=14)\n",
    "    plt.ylabel('Valores Reais', fontsize=12)\n",
    "    plt.xlabel('Valores Previstos', fontsize=12)\n",
    "    plt.show()\n",
    "\n",
    "# Exemplo de uso com Regressão Logística\n",
    "plot_confusion_matrix(y_test, y_pred_logistic, \"Regressão Logística\")\n",
    "\n",
    "# Exemplo de uso com Random Forest\n",
    "plot_confusion_matrix(y_test, y_pred_rf, \"Random Forest\")\n",
    "\n"
   ]
  },
  {
   "cell_type": "markdown",
   "metadata": {},
   "source": [
    "### Aprendizado não supervisionado"
   ]
  },
  {
   "cell_type": "markdown",
   "metadata": {},
   "source": [
    "#### Funções"
   ]
  },
  {
   "cell_type": "markdown",
   "metadata": {},
   "source": [
    "##### De Pré-Processamento"
   ]
  },
  {
   "cell_type": "code",
   "execution_count": 183,
   "metadata": {},
   "outputs": [],
   "source": [
    "def get_correlation_df(df, num_features):\n",
    "  import pandas as pd\n",
    "\n",
    "  # correlation_matrix = df.corr(method=\"pearson\")\n",
    "\n",
    "  # column_sums = correlation_matrix.sum()\n",
    "\n",
    "  # sorted_columns = column_sums.sort_values(ascending=False)\n",
    "\n",
    "  # top_num_columns = sorted_columns.head(num_features)\n",
    "\n",
    "  # top_num_column_names = top_num_columns.index.tolist()\n",
    "\n",
    "  # return df[top_num_column_names]\n",
    "\n",
    "\n",
    "  correlation_matrix = df.corr()\n",
    "\n",
    "  average_correlation = correlation_matrix.abs().mean().sort_values()\n",
    "\n",
    "  smallest_average_correlations = average_correlation.head(num_features).index.tolist()\n",
    "\n",
    "  return df[smallest_average_correlations]\n"
   ]
  },
  {
   "cell_type": "code",
   "execution_count": 184,
   "metadata": {},
   "outputs": [],
   "source": [
    "def get_pca_df(df, num_components):\n",
    "    from sklearn.decomposition import PCA\n",
    "    pca = PCA(n_components=num_components)\n",
    "    return pd.DataFrame(pca.fit_transform(df))"
   ]
  },
  {
   "cell_type": "code",
   "execution_count": 185,
   "metadata": {},
   "outputs": [],
   "source": [
    "def get_k_nn_accuracy(df, labels):\n",
    "  from sklearn.neighbors import KNeighborsClassifier\n",
    "  from sklearn.metrics import accuracy_score\n",
    "\n",
    "  X_train, X_test, y_train, y_test = train_test_split(df, labels, test_size=0.3, random_state=42)\n",
    "  knn = KNeighborsClassifier(n_neighbors=1, metric='euclidean')\n",
    "  knn.fit(X_train, y_train)\n",
    "\n",
    "  y_pred = knn.predict(X_test)\n",
    "\n",
    "  accuracy = accuracy_score(y_test, y_pred)\n",
    "  return accuracy"
   ]
  },
  {
   "cell_type": "code",
   "execution_count": 186,
   "metadata": {},
   "outputs": [],
   "source": [
    "def get_best_representation(df1, df2, labels):\n",
    "  accuracy1 = get_k_nn_accuracy(df1, labels)\n",
    "  accuracy2 = get_k_nn_accuracy(df2, labels)\n",
    "\n",
    "  print(f'1: {accuracy1} x 2: {accuracy2}')\n",
    "\n",
    "  return df1 if accuracy1 > accuracy2 else df2"
   ]
  },
  {
   "cell_type": "markdown",
   "metadata": {},
   "source": [
    "##### De Algoritmos de Agrupamento"
   ]
  },
  {
   "cell_type": "code",
   "execution_count": 187,
   "metadata": {},
   "outputs": [],
   "source": [
    "def get_kmean_indices(df, labels, num_clusters):\n",
    "    from sklearn.cluster import KMeans\n",
    "    from sklearn.metrics import davies_bouldin_score, silhouette_score, adjusted_rand_score\n",
    "\n",
    "    km = KMeans(n_clusters=num_clusters, init='k-means++', max_iter=300, n_init=10, random_state=42)\n",
    "    \n",
    "    km.fit(df)\n",
    "    km_labels = km.fit_predict(df)\n",
    "\n",
    "    indice_db = davies_bouldin_score(df, km_labels)\n",
    "    indice_sil = silhouette_score(df, km_labels, metric='euclidean')\n",
    "    indice_cr = adjusted_rand_score(labels, km_labels)\n",
    "\n",
    "    return indice_db, indice_sil, indice_cr"
   ]
  },
  {
   "cell_type": "code",
   "execution_count": 188,
   "metadata": {},
   "outputs": [],
   "source": [
    "def get_hierarquico_indices(df, labels, num_clusters, linkage):\n",
    "    from sklearn.cluster import AgglomerativeClustering\n",
    "    from sklearn.metrics import davies_bouldin_score, silhouette_score, adjusted_rand_score\n",
    "\n",
    "    hiera_aglo = AgglomerativeClustering(n_clusters=num_clusters, metric='euclidean', linkage=linkage)\n",
    "    \n",
    "    hiera_aglo.fit(df)\n",
    "    ha_labels = hiera_aglo.fit_predict(df)\n",
    "\n",
    "    indice_db = davies_bouldin_score(df, ha_labels)\n",
    "    indice_sil = silhouette_score(df, ha_labels, metric='euclidean')\n",
    "    indice_cr = adjusted_rand_score(labels, ha_labels)\n",
    "\n",
    "    return indice_db, indice_sil, indice_cr"
   ]
  },
  {
   "cell_type": "code",
   "execution_count": 189,
   "metadata": {},
   "outputs": [],
   "source": [
    "def get_em_indices(df, labels, num_components, cov_type):\n",
    "    from sklearn.mixture import GaussianMixture\n",
    "    from sklearn.metrics import davies_bouldin_score, silhouette_score, adjusted_rand_score\n",
    "\n",
    "    gmm = GaussianMixture(n_components=num_components, covariance_type=cov_type)\n",
    "\n",
    "    gmm.fit(df)\n",
    "    gmm_labels = gmm.fit_predict(df)\n",
    "\n",
    "    indice_db = davies_bouldin_score(df, gmm_labels)\n",
    "    indice_sil = silhouette_score(df, gmm_labels, metric='euclidean')\n",
    "    indice_cr = adjusted_rand_score(labels, gmm_labels)\n",
    "\n",
    "    return indice_db, indice_sil, indice_cr"
   ]
  },
  {
   "cell_type": "code",
   "execution_count": 190,
   "metadata": {},
   "outputs": [],
   "source": [
    "def get_dbscan_indices(df, labels, minimum_samples, eps_value):\n",
    "    from sklearn.cluster import DBSCAN\n",
    "    from sklearn.metrics import davies_bouldin_score, silhouette_score, adjusted_rand_score\n",
    "\n",
    "    dbscan = DBSCAN(eps=eps_value, min_samples=minimum_samples)\n",
    "    \n",
    "    dbscan_labels = dbscan.fit_predict(df)\n",
    "\n",
    "    indice_db = davies_bouldin_score(df, dbscan_labels)\n",
    "    indice_sil = silhouette_score(df, dbscan_labels, metric='euclidean')\n",
    "    indice_cr = adjusted_rand_score(labels, dbscan_labels)\n",
    " \n",
    "\n",
    "    return indice_db, indice_sil, indice_cr"
   ]
  },
  {
   "cell_type": "markdown",
   "metadata": {},
   "source": [
    "##### De Execução"
   ]
  },
  {
   "cell_type": "code",
   "execution_count": 191,
   "metadata": {},
   "outputs": [],
   "source": [
    "def plot_cluster_indices(df_original, df_corr, df_pca, labels, cluster_alg, **kwargs):\n",
    "    import pandas as pd\n",
    "    import plotly.graph_objects as go\n",
    "    from plotly.subplots import make_subplots\n",
    "\n",
    "    db_list, sil_list, cr_list = [], [], []\n",
    "\n",
    "    for index in range(2, 21):\n",
    "        db_orig, sil_orig, cr_orig = {}, {}, {}\n",
    "        db_corr, sil_corr, cr_corr = {}, {}, {}\n",
    "        db_pca, sil_pca, cr_pca = {}, {}, {}\n",
    "        \n",
    "        match cluster_alg:\n",
    "            case 'kmeans':\n",
    "                db_orig, sil_orig, cr_orig = get_kmean_indices(df_original, labels, index)\n",
    "                db_corr, sil_corr, cr_corr = get_kmean_indices(df_corr, labels, index)\n",
    "                db_pca, sil_pca, cr_pca = get_kmean_indices(df_pca, labels, index)\n",
    "            case 'hierarquico':\n",
    "                db_orig, sil_orig, cr_orig = get_hierarquico_indices(df_original, labels, index, linkage=kwargs.get('linkage'))\n",
    "                db_corr, sil_corr, cr_corr = get_hierarquico_indices(df_corr, labels, index, linkage=kwargs.get('linkage'))\n",
    "                db_pca, sil_pca, cr_pca = get_hierarquico_indices(df_pca, labels, index, linkage=kwargs.get('linkage'))\n",
    "            case 'em':\n",
    "                db_orig, sil_orig, cr_orig = get_em_indices(df_original, labels, index, cov_type=kwargs.get('cov_type'))\n",
    "                db_corr, sil_corr, cr_corr = get_em_indices(df_corr, labels, index, cov_type=kwargs.get('cov_type'))\n",
    "                db_pca, sil_pca, cr_pca = get_em_indices(df_pca, labels, index, cov_type=kwargs.get('cov_type'))\n",
    "            case 'dbscan':\n",
    "                db_orig, sil_orig, cr_orig = get_dbscan_indices(df_original, labels, index, eps_value=kwargs.get('eps_value'))\n",
    "                # db_corr, sil_corr, cr_corr = get_dbscan_indices(df_corr, labels, index, eps_value=kwargs.get('eps_value'))\n",
    "                db_pca, sil_pca, cr_pca = get_dbscan_indices(df_pca, labels, index, eps_value=kwargs.get('eps_value'))\n",
    "\n",
    "        db_value = {'Grupos': index, 'Base original': db_orig, 'Correlação': db_corr, 'PCA': db_pca}\n",
    "        sil_value = {'Grupos': index, 'Base original': sil_orig, 'Correlação': sil_corr, 'PCA': sil_pca}\n",
    "        cr_value = {'Grupos': index, 'Base original': cr_orig, 'Correlação': cr_corr, 'PCA': cr_pca}\n",
    "        db_list.append(db_value)\n",
    "        sil_list.append(sil_value)\n",
    "        cr_list.append(cr_value)\n",
    "\n",
    "    df_db = pd.DataFrame(db_list)\n",
    "    df_sil = pd.DataFrame(sil_list)\n",
    "    df_cr = pd.DataFrame(cr_list)\n",
    "\n",
    "    df_indice_list = [df_db, df_sil, df_cr]\n",
    "    fig = make_subplots(rows=1, cols=3, subplot_titles=('Índice - Davies-Bouldin', 'Índice - Silhouette', 'Índice - Adjusted Rand Score'))\n",
    "    \n",
    "    for index, df in enumerate(df_indice_list, 1):\n",
    "      fig.add_trace(go.Scatter(x=df['Grupos'], y=df['Base original'], name='Base original'), row=1, col=index)\n",
    "      fig.add_trace(go.Scatter(x=df['Grupos'], y=df['Correlação'], name='Correlação'), row=1, col=index)\n",
    "      fig.add_trace(go.Scatter(x=df['Grupos'], y=df['PCA'], name='PCA'), row=1, col=index)\n",
    "\n",
    "    fig.update_layout(title=f'Gráfico de {cluster_alg.upper()}', showlegend=True, boxmode='group')\n",
    "    fig.show()"
   ]
  },
  {
   "cell_type": "markdown",
   "metadata": {},
   "source": [
    "#### Aplicação dos modelos"
   ]
  },
  {
   "cell_type": "code",
   "execution_count": 192,
   "metadata": {},
   "outputs": [
    {
     "data": {
      "text/plain": [
       "resultado\n",
       "1    202\n",
       "0     65\n",
       "Name: count, dtype: int64"
      ]
     },
     "execution_count": 192,
     "metadata": {},
     "output_type": "execute_result"
    }
   ],
   "source": [
    "labels.value_counts()"
   ]
  },
  {
   "cell_type": "code",
   "execution_count": 193,
   "metadata": {},
   "outputs": [],
   "source": [
    "# data_tfidf = data_tfidf.drop(['advogado_2', 'requerente_3', 'requerente_4', \n",
    "#                             'requerente_5', 'requerente_6', 'requerente_7', \n",
    "#                             'impugnado_2', 'impugnado', 'fiscal_de_lei_nome',\n",
    "#                             'formal_request','free_judicial', 'judicial_secrecy', 'id'] , axis='columns')"
   ]
  },
  {
   "cell_type": "markdown",
   "metadata": {},
   "source": [
    "##### Selecionando de atributos pela correlação"
   ]
  },
  {
   "cell_type": "code",
   "execution_count": 194,
   "metadata": {},
   "outputs": [
    {
     "data": {
      "text/html": [
       "<div>\n",
       "<style scoped>\n",
       "    .dataframe tbody tr th:only-of-type {\n",
       "        vertical-align: middle;\n",
       "    }\n",
       "\n",
       "    .dataframe tbody tr th {\n",
       "        vertical-align: top;\n",
       "    }\n",
       "\n",
       "    .dataframe thead th {\n",
       "        text-align: right;\n",
       "    }\n",
       "</style>\n",
       "<table border=\"1\" class=\"dataframe\">\n",
       "  <thead>\n",
       "    <tr style=\"text-align: right;\">\n",
       "      <th></th>\n",
       "      <th>detalhamento</th>\n",
       "      <th>data_hora_da_assinatura_timestamp</th>\n",
       "      <th>advogado</th>\n",
       "    </tr>\n",
       "  </thead>\n",
       "  <tbody>\n",
       "    <tr>\n",
       "      <th>0</th>\n",
       "      <td>0.003469</td>\n",
       "      <td>0.008382</td>\n",
       "      <td>0.000000</td>\n",
       "    </tr>\n",
       "    <tr>\n",
       "      <th>1</th>\n",
       "      <td>0.001846</td>\n",
       "      <td>0.008676</td>\n",
       "      <td>0.000000</td>\n",
       "    </tr>\n",
       "    <tr>\n",
       "      <th>2</th>\n",
       "      <td>0.003474</td>\n",
       "      <td>0.008449</td>\n",
       "      <td>0.019036</td>\n",
       "    </tr>\n",
       "    <tr>\n",
       "      <th>3</th>\n",
       "      <td>0.002300</td>\n",
       "      <td>0.008613</td>\n",
       "      <td>0.000000</td>\n",
       "    </tr>\n",
       "    <tr>\n",
       "      <th>4</th>\n",
       "      <td>0.002279</td>\n",
       "      <td>0.008643</td>\n",
       "      <td>0.000000</td>\n",
       "    </tr>\n",
       "  </tbody>\n",
       "</table>\n",
       "</div>"
      ],
      "text/plain": [
       "   detalhamento  data_hora_da_assinatura_timestamp  advogado\n",
       "0      0.003469                           0.008382  0.000000\n",
       "1      0.001846                           0.008676  0.000000\n",
       "2      0.003474                           0.008449  0.019036\n",
       "3      0.002300                           0.008613  0.000000\n",
       "4      0.002279                           0.008643  0.000000"
      ]
     },
     "execution_count": 194,
     "metadata": {},
     "output_type": "execute_result"
    }
   ],
   "source": [
    "reduced_dataset_corr_3 = get_correlation_df(data_tfidf, 3)\n",
    "reduced_dataset_corr_3.head()"
   ]
  },
  {
   "cell_type": "code",
   "execution_count": 195,
   "metadata": {},
   "outputs": [
    {
     "data": {
      "text/html": [
       "<div>\n",
       "<style scoped>\n",
       "    .dataframe tbody tr th:only-of-type {\n",
       "        vertical-align: middle;\n",
       "    }\n",
       "\n",
       "    .dataframe tbody tr th {\n",
       "        vertical-align: top;\n",
       "    }\n",
       "\n",
       "    .dataframe thead th {\n",
       "        text-align: right;\n",
       "    }\n",
       "</style>\n",
       "<table border=\"1\" class=\"dataframe\">\n",
       "  <thead>\n",
       "    <tr style=\"text-align: right;\">\n",
       "      <th></th>\n",
       "      <th>detalhamento</th>\n",
       "      <th>data_hora_da_assinatura_timestamp</th>\n",
       "      <th>advogado</th>\n",
       "      <th>matters</th>\n",
       "      <th>documento</th>\n",
       "      <th>reference_legal_action</th>\n",
       "      <th>legal_action_number</th>\n",
       "      <th>last_distribution</th>\n",
       "      <th>position</th>\n",
       "    </tr>\n",
       "  </thead>\n",
       "  <tbody>\n",
       "    <tr>\n",
       "      <th>0</th>\n",
       "      <td>0.003469</td>\n",
       "      <td>0.008382</td>\n",
       "      <td>0.000000</td>\n",
       "      <td>0.084537</td>\n",
       "      <td>0.015584</td>\n",
       "      <td>0.008547</td>\n",
       "      <td>0.006340</td>\n",
       "      <td>0.051368</td>\n",
       "      <td>0.166667</td>\n",
       "    </tr>\n",
       "    <tr>\n",
       "      <th>1</th>\n",
       "      <td>0.001846</td>\n",
       "      <td>0.008676</td>\n",
       "      <td>0.000000</td>\n",
       "      <td>0.078649</td>\n",
       "      <td>0.010966</td>\n",
       "      <td>0.008547</td>\n",
       "      <td>0.006317</td>\n",
       "      <td>0.048778</td>\n",
       "      <td>0.166667</td>\n",
       "    </tr>\n",
       "    <tr>\n",
       "      <th>2</th>\n",
       "      <td>0.003474</td>\n",
       "      <td>0.008449</td>\n",
       "      <td>0.019036</td>\n",
       "      <td>0.072965</td>\n",
       "      <td>0.018309</td>\n",
       "      <td>0.000000</td>\n",
       "      <td>0.006333</td>\n",
       "      <td>0.055196</td>\n",
       "      <td>0.000000</td>\n",
       "    </tr>\n",
       "    <tr>\n",
       "      <th>3</th>\n",
       "      <td>0.002300</td>\n",
       "      <td>0.008613</td>\n",
       "      <td>0.000000</td>\n",
       "      <td>0.074750</td>\n",
       "      <td>0.006369</td>\n",
       "      <td>0.008547</td>\n",
       "      <td>0.006266</td>\n",
       "      <td>0.051515</td>\n",
       "      <td>0.000000</td>\n",
       "    </tr>\n",
       "    <tr>\n",
       "      <th>4</th>\n",
       "      <td>0.002279</td>\n",
       "      <td>0.008643</td>\n",
       "      <td>0.000000</td>\n",
       "      <td>0.071814</td>\n",
       "      <td>0.006369</td>\n",
       "      <td>0.008547</td>\n",
       "      <td>0.006266</td>\n",
       "      <td>0.051515</td>\n",
       "      <td>0.000000</td>\n",
       "    </tr>\n",
       "  </tbody>\n",
       "</table>\n",
       "</div>"
      ],
      "text/plain": [
       "   detalhamento  data_hora_da_assinatura_timestamp  advogado   matters  \\\n",
       "0      0.003469                           0.008382  0.000000  0.084537   \n",
       "1      0.001846                           0.008676  0.000000  0.078649   \n",
       "2      0.003474                           0.008449  0.019036  0.072965   \n",
       "3      0.002300                           0.008613  0.000000  0.074750   \n",
       "4      0.002279                           0.008643  0.000000  0.071814   \n",
       "\n",
       "   documento  reference_legal_action  legal_action_number  last_distribution  \\\n",
       "0   0.015584                0.008547             0.006340           0.051368   \n",
       "1   0.010966                0.008547             0.006317           0.048778   \n",
       "2   0.018309                0.000000             0.006333           0.055196   \n",
       "3   0.006369                0.008547             0.006266           0.051515   \n",
       "4   0.006369                0.008547             0.006266           0.051515   \n",
       "\n",
       "   position  \n",
       "0  0.166667  \n",
       "1  0.166667  \n",
       "2  0.000000  \n",
       "3  0.000000  \n",
       "4  0.000000  "
      ]
     },
     "execution_count": 195,
     "metadata": {},
     "output_type": "execute_result"
    }
   ],
   "source": [
    "reduced_dataset_corr_9 = get_correlation_df(data_tfidf, 9)\n",
    "reduced_dataset_corr_9.head()"
   ]
  },
  {
   "cell_type": "code",
   "execution_count": 196,
   "metadata": {},
   "outputs": [
    {
     "name": "stdout",
     "output_type": "stream",
     "text": [
      "1: 0.8024691358024691 x 2: 0.7901234567901234\n"
     ]
    },
    {
     "data": {
      "text/html": [
       "<div>\n",
       "<style scoped>\n",
       "    .dataframe tbody tr th:only-of-type {\n",
       "        vertical-align: middle;\n",
       "    }\n",
       "\n",
       "    .dataframe tbody tr th {\n",
       "        vertical-align: top;\n",
       "    }\n",
       "\n",
       "    .dataframe thead th {\n",
       "        text-align: right;\n",
       "    }\n",
       "</style>\n",
       "<table border=\"1\" class=\"dataframe\">\n",
       "  <thead>\n",
       "    <tr style=\"text-align: right;\">\n",
       "      <th></th>\n",
       "      <th>detalhamento</th>\n",
       "      <th>data_hora_da_assinatura_timestamp</th>\n",
       "      <th>advogado</th>\n",
       "    </tr>\n",
       "  </thead>\n",
       "  <tbody>\n",
       "    <tr>\n",
       "      <th>0</th>\n",
       "      <td>0.003469</td>\n",
       "      <td>0.008382</td>\n",
       "      <td>0.000000</td>\n",
       "    </tr>\n",
       "    <tr>\n",
       "      <th>1</th>\n",
       "      <td>0.001846</td>\n",
       "      <td>0.008676</td>\n",
       "      <td>0.000000</td>\n",
       "    </tr>\n",
       "    <tr>\n",
       "      <th>2</th>\n",
       "      <td>0.003474</td>\n",
       "      <td>0.008449</td>\n",
       "      <td>0.019036</td>\n",
       "    </tr>\n",
       "    <tr>\n",
       "      <th>3</th>\n",
       "      <td>0.002300</td>\n",
       "      <td>0.008613</td>\n",
       "      <td>0.000000</td>\n",
       "    </tr>\n",
       "    <tr>\n",
       "      <th>4</th>\n",
       "      <td>0.002279</td>\n",
       "      <td>0.008643</td>\n",
       "      <td>0.000000</td>\n",
       "    </tr>\n",
       "  </tbody>\n",
       "</table>\n",
       "</div>"
      ],
      "text/plain": [
       "   detalhamento  data_hora_da_assinatura_timestamp  advogado\n",
       "0      0.003469                           0.008382  0.000000\n",
       "1      0.001846                           0.008676  0.000000\n",
       "2      0.003474                           0.008449  0.019036\n",
       "3      0.002300                           0.008613  0.000000\n",
       "4      0.002279                           0.008643  0.000000"
      ]
     },
     "execution_count": 196,
     "metadata": {},
     "output_type": "execute_result"
    }
   ],
   "source": [
    "selected_df_corr = get_best_representation(reduced_dataset_corr_3, reduced_dataset_corr_9, labels)\n",
    "selected_df_corr.head()"
   ]
  },
  {
   "cell_type": "code",
   "execution_count": 197,
   "metadata": {},
   "outputs": [
    {
     "data": {
      "text/html": [
       "<div>\n",
       "<style scoped>\n",
       "    .dataframe tbody tr th:only-of-type {\n",
       "        vertical-align: middle;\n",
       "    }\n",
       "\n",
       "    .dataframe tbody tr th {\n",
       "        vertical-align: top;\n",
       "    }\n",
       "\n",
       "    .dataframe thead th {\n",
       "        text-align: right;\n",
       "    }\n",
       "</style>\n",
       "<table border=\"1\" class=\"dataframe\">\n",
       "  <thead>\n",
       "    <tr style=\"text-align: right;\">\n",
       "      <th></th>\n",
       "      <th>advogado</th>\n",
       "      <th>data_hora_da_assinatura_timestamp</th>\n",
       "      <th>documento</th>\n",
       "      <th>detalhamento</th>\n",
       "      <th>last_distribution</th>\n",
       "      <th>legal_action_goal</th>\n",
       "      <th>legal_action_number</th>\n",
       "      <th>legal_class</th>\n",
       "      <th>matters</th>\n",
       "      <th>position</th>\n",
       "      <th>reference_legal_action</th>\n",
       "      <th>requerente</th>\n",
       "      <th>requerente_2</th>\n",
       "      <th>impugnante</th>\n",
       "      <th>impugnante_2</th>\n",
       "    </tr>\n",
       "  </thead>\n",
       "  <tbody>\n",
       "    <tr>\n",
       "      <th>0</th>\n",
       "      <td>0.000000</td>\n",
       "      <td>0.008382</td>\n",
       "      <td>0.015584</td>\n",
       "      <td>0.003469</td>\n",
       "      <td>0.051368</td>\n",
       "      <td>0.004944</td>\n",
       "      <td>0.006340</td>\n",
       "      <td>0.57735</td>\n",
       "      <td>0.084537</td>\n",
       "      <td>0.166667</td>\n",
       "      <td>0.008547</td>\n",
       "      <td>0.009217</td>\n",
       "      <td>0.000000</td>\n",
       "      <td>0.022191</td>\n",
       "      <td>0.0</td>\n",
       "    </tr>\n",
       "    <tr>\n",
       "      <th>1</th>\n",
       "      <td>0.000000</td>\n",
       "      <td>0.008676</td>\n",
       "      <td>0.010966</td>\n",
       "      <td>0.001846</td>\n",
       "      <td>0.048778</td>\n",
       "      <td>0.006515</td>\n",
       "      <td>0.006317</td>\n",
       "      <td>0.57735</td>\n",
       "      <td>0.078649</td>\n",
       "      <td>0.166667</td>\n",
       "      <td>0.008547</td>\n",
       "      <td>0.006486</td>\n",
       "      <td>0.009135</td>\n",
       "      <td>0.000000</td>\n",
       "      <td>0.0</td>\n",
       "    </tr>\n",
       "    <tr>\n",
       "      <th>2</th>\n",
       "      <td>0.019036</td>\n",
       "      <td>0.008449</td>\n",
       "      <td>0.018309</td>\n",
       "      <td>0.003474</td>\n",
       "      <td>0.055196</td>\n",
       "      <td>0.007608</td>\n",
       "      <td>0.006333</td>\n",
       "      <td>0.57735</td>\n",
       "      <td>0.072965</td>\n",
       "      <td>0.000000</td>\n",
       "      <td>0.000000</td>\n",
       "      <td>0.000000</td>\n",
       "      <td>0.000000</td>\n",
       "      <td>0.021338</td>\n",
       "      <td>0.0</td>\n",
       "    </tr>\n",
       "    <tr>\n",
       "      <th>3</th>\n",
       "      <td>0.000000</td>\n",
       "      <td>0.008613</td>\n",
       "      <td>0.006369</td>\n",
       "      <td>0.002300</td>\n",
       "      <td>0.051515</td>\n",
       "      <td>0.005768</td>\n",
       "      <td>0.006266</td>\n",
       "      <td>0.57735</td>\n",
       "      <td>0.074750</td>\n",
       "      <td>0.000000</td>\n",
       "      <td>0.008547</td>\n",
       "      <td>0.005369</td>\n",
       "      <td>0.008528</td>\n",
       "      <td>0.000000</td>\n",
       "      <td>0.0</td>\n",
       "    </tr>\n",
       "    <tr>\n",
       "      <th>4</th>\n",
       "      <td>0.000000</td>\n",
       "      <td>0.008643</td>\n",
       "      <td>0.006369</td>\n",
       "      <td>0.002279</td>\n",
       "      <td>0.051515</td>\n",
       "      <td>0.005942</td>\n",
       "      <td>0.006266</td>\n",
       "      <td>0.57735</td>\n",
       "      <td>0.071814</td>\n",
       "      <td>0.000000</td>\n",
       "      <td>0.008547</td>\n",
       "      <td>0.005907</td>\n",
       "      <td>0.008528</td>\n",
       "      <td>0.000000</td>\n",
       "      <td>0.0</td>\n",
       "    </tr>\n",
       "    <tr>\n",
       "      <th>...</th>\n",
       "      <td>...</td>\n",
       "      <td>...</td>\n",
       "      <td>...</td>\n",
       "      <td>...</td>\n",
       "      <td>...</td>\n",
       "      <td>...</td>\n",
       "      <td>...</td>\n",
       "      <td>...</td>\n",
       "      <td>...</td>\n",
       "      <td>...</td>\n",
       "      <td>...</td>\n",
       "      <td>...</td>\n",
       "      <td>...</td>\n",
       "      <td>...</td>\n",
       "      <td>...</td>\n",
       "    </tr>\n",
       "    <tr>\n",
       "      <th>264</th>\n",
       "      <td>0.000000</td>\n",
       "      <td>0.009009</td>\n",
       "      <td>0.006369</td>\n",
       "      <td>0.002488</td>\n",
       "      <td>0.050968</td>\n",
       "      <td>0.007154</td>\n",
       "      <td>0.006169</td>\n",
       "      <td>0.57735</td>\n",
       "      <td>0.078649</td>\n",
       "      <td>0.234982</td>\n",
       "      <td>0.008547</td>\n",
       "      <td>0.005823</td>\n",
       "      <td>0.006132</td>\n",
       "      <td>0.000000</td>\n",
       "      <td>0.0</td>\n",
       "    </tr>\n",
       "    <tr>\n",
       "      <th>265</th>\n",
       "      <td>0.026806</td>\n",
       "      <td>0.009047</td>\n",
       "      <td>0.006369</td>\n",
       "      <td>0.002502</td>\n",
       "      <td>0.050968</td>\n",
       "      <td>0.006475</td>\n",
       "      <td>0.006116</td>\n",
       "      <td>0.57735</td>\n",
       "      <td>0.078649</td>\n",
       "      <td>0.166667</td>\n",
       "      <td>0.008547</td>\n",
       "      <td>0.005846</td>\n",
       "      <td>0.000000</td>\n",
       "      <td>0.000000</td>\n",
       "      <td>0.0</td>\n",
       "    </tr>\n",
       "    <tr>\n",
       "      <th>266</th>\n",
       "      <td>0.000000</td>\n",
       "      <td>0.009081</td>\n",
       "      <td>0.006369</td>\n",
       "      <td>0.002405</td>\n",
       "      <td>0.051882</td>\n",
       "      <td>0.006157</td>\n",
       "      <td>0.006166</td>\n",
       "      <td>0.57735</td>\n",
       "      <td>0.078649</td>\n",
       "      <td>0.234982</td>\n",
       "      <td>0.008547</td>\n",
       "      <td>0.005135</td>\n",
       "      <td>0.008341</td>\n",
       "      <td>0.000000</td>\n",
       "      <td>0.0</td>\n",
       "    </tr>\n",
       "    <tr>\n",
       "      <th>267</th>\n",
       "      <td>0.000000</td>\n",
       "      <td>0.008969</td>\n",
       "      <td>0.006369</td>\n",
       "      <td>0.002248</td>\n",
       "      <td>0.051882</td>\n",
       "      <td>0.006283</td>\n",
       "      <td>0.006290</td>\n",
       "      <td>0.57735</td>\n",
       "      <td>0.078649</td>\n",
       "      <td>0.166667</td>\n",
       "      <td>0.008547</td>\n",
       "      <td>0.006887</td>\n",
       "      <td>0.006689</td>\n",
       "      <td>0.000000</td>\n",
       "      <td>0.0</td>\n",
       "    </tr>\n",
       "    <tr>\n",
       "      <th>268</th>\n",
       "      <td>0.000000</td>\n",
       "      <td>0.008969</td>\n",
       "      <td>0.006369</td>\n",
       "      <td>0.002180</td>\n",
       "      <td>0.051882</td>\n",
       "      <td>0.005897</td>\n",
       "      <td>0.006290</td>\n",
       "      <td>0.57735</td>\n",
       "      <td>0.078649</td>\n",
       "      <td>0.166667</td>\n",
       "      <td>0.008547</td>\n",
       "      <td>0.005333</td>\n",
       "      <td>0.006689</td>\n",
       "      <td>0.000000</td>\n",
       "      <td>0.0</td>\n",
       "    </tr>\n",
       "  </tbody>\n",
       "</table>\n",
       "<p>267 rows × 15 columns</p>\n",
       "</div>"
      ],
      "text/plain": [
       "     advogado  data_hora_da_assinatura_timestamp  documento  detalhamento  \\\n",
       "0    0.000000                           0.008382   0.015584      0.003469   \n",
       "1    0.000000                           0.008676   0.010966      0.001846   \n",
       "2    0.019036                           0.008449   0.018309      0.003474   \n",
       "3    0.000000                           0.008613   0.006369      0.002300   \n",
       "4    0.000000                           0.008643   0.006369      0.002279   \n",
       "..        ...                                ...        ...           ...   \n",
       "264  0.000000                           0.009009   0.006369      0.002488   \n",
       "265  0.026806                           0.009047   0.006369      0.002502   \n",
       "266  0.000000                           0.009081   0.006369      0.002405   \n",
       "267  0.000000                           0.008969   0.006369      0.002248   \n",
       "268  0.000000                           0.008969   0.006369      0.002180   \n",
       "\n",
       "     last_distribution  legal_action_goal  legal_action_number  legal_class  \\\n",
       "0             0.051368           0.004944             0.006340      0.57735   \n",
       "1             0.048778           0.006515             0.006317      0.57735   \n",
       "2             0.055196           0.007608             0.006333      0.57735   \n",
       "3             0.051515           0.005768             0.006266      0.57735   \n",
       "4             0.051515           0.005942             0.006266      0.57735   \n",
       "..                 ...                ...                  ...          ...   \n",
       "264           0.050968           0.007154             0.006169      0.57735   \n",
       "265           0.050968           0.006475             0.006116      0.57735   \n",
       "266           0.051882           0.006157             0.006166      0.57735   \n",
       "267           0.051882           0.006283             0.006290      0.57735   \n",
       "268           0.051882           0.005897             0.006290      0.57735   \n",
       "\n",
       "      matters  position  reference_legal_action  requerente  requerente_2  \\\n",
       "0    0.084537  0.166667                0.008547    0.009217      0.000000   \n",
       "1    0.078649  0.166667                0.008547    0.006486      0.009135   \n",
       "2    0.072965  0.000000                0.000000    0.000000      0.000000   \n",
       "3    0.074750  0.000000                0.008547    0.005369      0.008528   \n",
       "4    0.071814  0.000000                0.008547    0.005907      0.008528   \n",
       "..        ...       ...                     ...         ...           ...   \n",
       "264  0.078649  0.234982                0.008547    0.005823      0.006132   \n",
       "265  0.078649  0.166667                0.008547    0.005846      0.000000   \n",
       "266  0.078649  0.234982                0.008547    0.005135      0.008341   \n",
       "267  0.078649  0.166667                0.008547    0.006887      0.006689   \n",
       "268  0.078649  0.166667                0.008547    0.005333      0.006689   \n",
       "\n",
       "     impugnante  impugnante_2  \n",
       "0      0.022191           0.0  \n",
       "1      0.000000           0.0  \n",
       "2      0.021338           0.0  \n",
       "3      0.000000           0.0  \n",
       "4      0.000000           0.0  \n",
       "..          ...           ...  \n",
       "264    0.000000           0.0  \n",
       "265    0.000000           0.0  \n",
       "266    0.000000           0.0  \n",
       "267    0.000000           0.0  \n",
       "268    0.000000           0.0  \n",
       "\n",
       "[267 rows x 15 columns]"
      ]
     },
     "execution_count": 197,
     "metadata": {},
     "output_type": "execute_result"
    }
   ],
   "source": [
    "data_tfidf\n",
    "# See the NA values"
   ]
  },
  {
   "cell_type": "code",
   "execution_count": 198,
   "metadata": {},
   "outputs": [],
   "source": [
    "# for column in data_tfidf.columns:\n",
    "#     print(data_tfidf[column].value_counts())"
   ]
  },
  {
   "cell_type": "markdown",
   "metadata": {},
   "source": [
    "##### Redução de dimensionalidade pelo PCA"
   ]
  },
  {
   "cell_type": "code",
   "execution_count": 199,
   "metadata": {},
   "outputs": [
    {
     "data": {
      "text/html": [
       "<div>\n",
       "<style scoped>\n",
       "    .dataframe tbody tr th:only-of-type {\n",
       "        vertical-align: middle;\n",
       "    }\n",
       "\n",
       "    .dataframe tbody tr th {\n",
       "        vertical-align: top;\n",
       "    }\n",
       "\n",
       "    .dataframe thead th {\n",
       "        text-align: right;\n",
       "    }\n",
       "</style>\n",
       "<table border=\"1\" class=\"dataframe\">\n",
       "  <thead>\n",
       "    <tr style=\"text-align: right;\">\n",
       "      <th></th>\n",
       "      <th>0</th>\n",
       "      <th>1</th>\n",
       "    </tr>\n",
       "  </thead>\n",
       "  <tbody>\n",
       "    <tr>\n",
       "      <th>0</th>\n",
       "      <td>0.080175</td>\n",
       "      <td>0.000491</td>\n",
       "    </tr>\n",
       "    <tr>\n",
       "      <th>1</th>\n",
       "      <td>0.081064</td>\n",
       "      <td>-0.001692</td>\n",
       "    </tr>\n",
       "    <tr>\n",
       "      <th>2</th>\n",
       "      <td>-0.080856</td>\n",
       "      <td>-0.042001</td>\n",
       "    </tr>\n",
       "    <tr>\n",
       "      <th>3</th>\n",
       "      <td>-0.080159</td>\n",
       "      <td>-0.043994</td>\n",
       "    </tr>\n",
       "    <tr>\n",
       "      <th>4</th>\n",
       "      <td>-0.080152</td>\n",
       "      <td>-0.044019</td>\n",
       "    </tr>\n",
       "  </tbody>\n",
       "</table>\n",
       "</div>"
      ],
      "text/plain": [
       "          0         1\n",
       "0  0.080175  0.000491\n",
       "1  0.081064 -0.001692\n",
       "2 -0.080856 -0.042001\n",
       "3 -0.080159 -0.043994\n",
       "4 -0.080152 -0.044019"
      ]
     },
     "execution_count": 199,
     "metadata": {},
     "output_type": "execute_result"
    }
   ],
   "source": [
    "dataset_pca_90_cov = get_pca_df(data_tfidf, 0.9)\n",
    "dataset_pca_90_cov.head()"
   ]
  },
  {
   "cell_type": "code",
   "execution_count": 200,
   "metadata": {},
   "outputs": [
    {
     "data": {
      "text/html": [
       "<div>\n",
       "<style scoped>\n",
       "    .dataframe tbody tr th:only-of-type {\n",
       "        vertical-align: middle;\n",
       "    }\n",
       "\n",
       "    .dataframe tbody tr th {\n",
       "        vertical-align: top;\n",
       "    }\n",
       "\n",
       "    .dataframe thead th {\n",
       "        text-align: right;\n",
       "    }\n",
       "</style>\n",
       "<table border=\"1\" class=\"dataframe\">\n",
       "  <thead>\n",
       "    <tr style=\"text-align: right;\">\n",
       "      <th></th>\n",
       "      <th>0</th>\n",
       "      <th>1</th>\n",
       "      <th>2</th>\n",
       "    </tr>\n",
       "  </thead>\n",
       "  <tbody>\n",
       "    <tr>\n",
       "      <th>0</th>\n",
       "      <td>0.080175</td>\n",
       "      <td>0.000491</td>\n",
       "      <td>-0.002792</td>\n",
       "    </tr>\n",
       "    <tr>\n",
       "      <th>1</th>\n",
       "      <td>0.081064</td>\n",
       "      <td>-0.001692</td>\n",
       "      <td>-0.004918</td>\n",
       "    </tr>\n",
       "    <tr>\n",
       "      <th>2</th>\n",
       "      <td>-0.080856</td>\n",
       "      <td>-0.042001</td>\n",
       "      <td>0.019501</td>\n",
       "    </tr>\n",
       "    <tr>\n",
       "      <th>3</th>\n",
       "      <td>-0.080159</td>\n",
       "      <td>-0.043994</td>\n",
       "      <td>-0.003588</td>\n",
       "    </tr>\n",
       "    <tr>\n",
       "      <th>4</th>\n",
       "      <td>-0.080152</td>\n",
       "      <td>-0.044019</td>\n",
       "      <td>-0.003383</td>\n",
       "    </tr>\n",
       "  </tbody>\n",
       "</table>\n",
       "</div>"
      ],
      "text/plain": [
       "          0         1         2\n",
       "0  0.080175  0.000491 -0.002792\n",
       "1  0.081064 -0.001692 -0.004918\n",
       "2 -0.080856 -0.042001  0.019501\n",
       "3 -0.080159 -0.043994 -0.003588\n",
       "4 -0.080152 -0.044019 -0.003383"
      ]
     },
     "execution_count": 200,
     "metadata": {},
     "output_type": "execute_result"
    }
   ],
   "source": [
    "dataset_pca_3_cps = get_pca_df(data_tfidf, 3)\n",
    "dataset_pca_3_cps.head()"
   ]
  },
  {
   "cell_type": "code",
   "execution_count": 201,
   "metadata": {},
   "outputs": [
    {
     "name": "stdout",
     "output_type": "stream",
     "text": [
      "1: 0.6049382716049383 x 2: 0.691358024691358\n"
     ]
    },
    {
     "data": {
      "text/html": [
       "<div>\n",
       "<style scoped>\n",
       "    .dataframe tbody tr th:only-of-type {\n",
       "        vertical-align: middle;\n",
       "    }\n",
       "\n",
       "    .dataframe tbody tr th {\n",
       "        vertical-align: top;\n",
       "    }\n",
       "\n",
       "    .dataframe thead th {\n",
       "        text-align: right;\n",
       "    }\n",
       "</style>\n",
       "<table border=\"1\" class=\"dataframe\">\n",
       "  <thead>\n",
       "    <tr style=\"text-align: right;\">\n",
       "      <th></th>\n",
       "      <th>0</th>\n",
       "      <th>1</th>\n",
       "      <th>2</th>\n",
       "    </tr>\n",
       "  </thead>\n",
       "  <tbody>\n",
       "    <tr>\n",
       "      <th>0</th>\n",
       "      <td>0.080175</td>\n",
       "      <td>0.000491</td>\n",
       "      <td>-0.002792</td>\n",
       "    </tr>\n",
       "    <tr>\n",
       "      <th>1</th>\n",
       "      <td>0.081064</td>\n",
       "      <td>-0.001692</td>\n",
       "      <td>-0.004918</td>\n",
       "    </tr>\n",
       "    <tr>\n",
       "      <th>2</th>\n",
       "      <td>-0.080856</td>\n",
       "      <td>-0.042001</td>\n",
       "      <td>0.019501</td>\n",
       "    </tr>\n",
       "    <tr>\n",
       "      <th>3</th>\n",
       "      <td>-0.080159</td>\n",
       "      <td>-0.043994</td>\n",
       "      <td>-0.003588</td>\n",
       "    </tr>\n",
       "    <tr>\n",
       "      <th>4</th>\n",
       "      <td>-0.080152</td>\n",
       "      <td>-0.044019</td>\n",
       "      <td>-0.003383</td>\n",
       "    </tr>\n",
       "  </tbody>\n",
       "</table>\n",
       "</div>"
      ],
      "text/plain": [
       "          0         1         2\n",
       "0  0.080175  0.000491 -0.002792\n",
       "1  0.081064 -0.001692 -0.004918\n",
       "2 -0.080856 -0.042001  0.019501\n",
       "3 -0.080159 -0.043994 -0.003588\n",
       "4 -0.080152 -0.044019 -0.003383"
      ]
     },
     "execution_count": 201,
     "metadata": {},
     "output_type": "execute_result"
    }
   ],
   "source": [
    "selected_df_pca = get_best_representation(dataset_pca_90_cov, dataset_pca_3_cps, labels)\n",
    "selected_df_pca.head()"
   ]
  },
  {
   "cell_type": "markdown",
   "metadata": {},
   "source": [
    "##### Geração de gráficos"
   ]
  },
  {
   "cell_type": "code",
   "execution_count": 202,
   "metadata": {},
   "outputs": [
    {
     "name": "stdout",
     "output_type": "stream",
     "text": [
      "Requirement already satisfied: jupyter in c:\\users\\decas\\documents\\ml-pdf-miner\\venv\\lib\\site-packages (1.1.1)\n",
      "Requirement already satisfied: notebook in c:\\users\\decas\\documents\\ml-pdf-miner\\venv\\lib\\site-packages (7.2.2)\n",
      "Requirement already satisfied: jupyterlab in c:\\users\\decas\\documents\\ml-pdf-miner\\venv\\lib\\site-packages (4.2.5)\n",
      "Requirement already satisfied: plotly in c:\\users\\decas\\documents\\ml-pdf-miner\\venv\\lib\\site-packages (5.24.0)\n",
      "Requirement already satisfied: jupyter-console in c:\\users\\decas\\documents\\ml-pdf-miner\\venv\\lib\\site-packages (from jupyter) (6.6.3)\n",
      "Requirement already satisfied: nbconvert in c:\\users\\decas\\documents\\ml-pdf-miner\\venv\\lib\\site-packages (from jupyter) (7.16.4)\n",
      "Requirement already satisfied: ipykernel in c:\\users\\decas\\documents\\ml-pdf-miner\\venv\\lib\\site-packages (from jupyter) (6.29.5)\n",
      "Requirement already satisfied: ipywidgets in c:\\users\\decas\\documents\\ml-pdf-miner\\venv\\lib\\site-packages (from jupyter) (8.1.5)\n",
      "Requirement already satisfied: jupyter-server<3,>=2.4.0 in c:\\users\\decas\\documents\\ml-pdf-miner\\venv\\lib\\site-packages (from notebook) (2.14.2)\n",
      "Requirement already satisfied: jupyterlab-server<3,>=2.27.1 in c:\\users\\decas\\documents\\ml-pdf-miner\\venv\\lib\\site-packages (from notebook) (2.27.3)\n",
      "Requirement already satisfied: notebook-shim<0.3,>=0.2 in c:\\users\\decas\\documents\\ml-pdf-miner\\venv\\lib\\site-packages (from notebook) (0.2.4)\n",
      "Requirement already satisfied: tornado>=6.2.0 in c:\\users\\decas\\documents\\ml-pdf-miner\\venv\\lib\\site-packages (from notebook) (6.4.1)\n",
      "Requirement already satisfied: async-lru>=1.0.0 in c:\\users\\decas\\documents\\ml-pdf-miner\\venv\\lib\\site-packages (from jupyterlab) (2.0.4)\n",
      "Requirement already satisfied: httpx>=0.25.0 in c:\\users\\decas\\documents\\ml-pdf-miner\\venv\\lib\\site-packages (from jupyterlab) (0.27.2)\n",
      "Requirement already satisfied: jinja2>=3.0.3 in c:\\users\\decas\\documents\\ml-pdf-miner\\venv\\lib\\site-packages (from jupyterlab) (3.1.4)\n",
      "Requirement already satisfied: jupyter-core in c:\\users\\decas\\documents\\ml-pdf-miner\\venv\\lib\\site-packages (from jupyterlab) (5.7.2)\n",
      "Requirement already satisfied: jupyter-lsp>=2.0.0 in c:\\users\\decas\\documents\\ml-pdf-miner\\venv\\lib\\site-packages (from jupyterlab) (2.2.5)\n",
      "Requirement already satisfied: packaging in c:\\users\\decas\\documents\\ml-pdf-miner\\venv\\lib\\site-packages (from jupyterlab) (24.1)\n",
      "Requirement already satisfied: setuptools>=40.1.0 in c:\\users\\decas\\documents\\ml-pdf-miner\\venv\\lib\\site-packages (from jupyterlab) (65.5.0)\n",
      "Requirement already satisfied: traitlets in c:\\users\\decas\\documents\\ml-pdf-miner\\venv\\lib\\site-packages (from jupyterlab) (5.14.3)\n",
      "Requirement already satisfied: tenacity>=6.2.0 in c:\\users\\decas\\documents\\ml-pdf-miner\\venv\\lib\\site-packages (from plotly) (9.0.0)\n",
      "Requirement already satisfied: anyio in c:\\users\\decas\\documents\\ml-pdf-miner\\venv\\lib\\site-packages (from httpx>=0.25.0->jupyterlab) (4.4.0)\n",
      "Requirement already satisfied: certifi in c:\\users\\decas\\documents\\ml-pdf-miner\\venv\\lib\\site-packages (from httpx>=0.25.0->jupyterlab) (2024.8.30)\n",
      "Requirement already satisfied: httpcore==1.* in c:\\users\\decas\\documents\\ml-pdf-miner\\venv\\lib\\site-packages (from httpx>=0.25.0->jupyterlab) (1.0.5)\n",
      "Requirement already satisfied: idna in c:\\users\\decas\\documents\\ml-pdf-miner\\venv\\lib\\site-packages (from httpx>=0.25.0->jupyterlab) (3.8)\n",
      "Requirement already satisfied: sniffio in c:\\users\\decas\\documents\\ml-pdf-miner\\venv\\lib\\site-packages (from httpx>=0.25.0->jupyterlab) (1.3.1)\n",
      "Requirement already satisfied: h11<0.15,>=0.13 in c:\\users\\decas\\documents\\ml-pdf-miner\\venv\\lib\\site-packages (from httpcore==1.*->httpx>=0.25.0->jupyterlab) (0.14.0)\n",
      "Requirement already satisfied: comm>=0.1.1 in c:\\users\\decas\\documents\\ml-pdf-miner\\venv\\lib\\site-packages (from ipykernel->jupyter) (0.2.2)\n",
      "Requirement already satisfied: debugpy>=1.6.5 in c:\\users\\decas\\documents\\ml-pdf-miner\\venv\\lib\\site-packages (from ipykernel->jupyter) (1.8.5)\n",
      "Requirement already satisfied: ipython>=7.23.1 in c:\\users\\decas\\documents\\ml-pdf-miner\\venv\\lib\\site-packages (from ipykernel->jupyter) (8.26.0)\n",
      "Requirement already satisfied: jupyter-client>=6.1.12 in c:\\users\\decas\\documents\\ml-pdf-miner\\venv\\lib\\site-packages (from ipykernel->jupyter) (8.6.2)\n",
      "Requirement already satisfied: matplotlib-inline>=0.1 in c:\\users\\decas\\documents\\ml-pdf-miner\\venv\\lib\\site-packages (from ipykernel->jupyter) (0.1.7)\n",
      "Requirement already satisfied: nest-asyncio in c:\\users\\decas\\documents\\ml-pdf-miner\\venv\\lib\\site-packages (from ipykernel->jupyter) (1.6.0)\n",
      "Requirement already satisfied: psutil in c:\\users\\decas\\documents\\ml-pdf-miner\\venv\\lib\\site-packages (from ipykernel->jupyter) (6.0.0)\n",
      "Requirement already satisfied: pyzmq>=24 in c:\\users\\decas\\documents\\ml-pdf-miner\\venv\\lib\\site-packages (from ipykernel->jupyter) (26.1.0)\n",
      "Requirement already satisfied: MarkupSafe>=2.0 in c:\\users\\decas\\documents\\ml-pdf-miner\\venv\\lib\\site-packages (from jinja2>=3.0.3->jupyterlab) (2.1.5)\n",
      "Requirement already satisfied: platformdirs>=2.5 in c:\\users\\decas\\documents\\ml-pdf-miner\\venv\\lib\\site-packages (from jupyter-core->jupyterlab) (4.2.2)\n",
      "Requirement already satisfied: pywin32>=300 in c:\\users\\decas\\documents\\ml-pdf-miner\\venv\\lib\\site-packages (from jupyter-core->jupyterlab) (306)\n",
      "Requirement already satisfied: argon2-cffi>=21.1 in c:\\users\\decas\\documents\\ml-pdf-miner\\venv\\lib\\site-packages (from jupyter-server<3,>=2.4.0->notebook) (23.1.0)\n",
      "Requirement already satisfied: jupyter-events>=0.9.0 in c:\\users\\decas\\documents\\ml-pdf-miner\\venv\\lib\\site-packages (from jupyter-server<3,>=2.4.0->notebook) (0.10.0)\n",
      "Requirement already satisfied: jupyter-server-terminals>=0.4.4 in c:\\users\\decas\\documents\\ml-pdf-miner\\venv\\lib\\site-packages (from jupyter-server<3,>=2.4.0->notebook) (0.5.3)\n",
      "Requirement already satisfied: nbformat>=5.3.0 in c:\\users\\decas\\documents\\ml-pdf-miner\\venv\\lib\\site-packages (from jupyter-server<3,>=2.4.0->notebook) (5.10.4)\n",
      "Requirement already satisfied: overrides>=5.0 in c:\\users\\decas\\documents\\ml-pdf-miner\\venv\\lib\\site-packages (from jupyter-server<3,>=2.4.0->notebook) (7.7.0)\n",
      "Requirement already satisfied: prometheus-client>=0.9 in c:\\users\\decas\\documents\\ml-pdf-miner\\venv\\lib\\site-packages (from jupyter-server<3,>=2.4.0->notebook) (0.20.0)\n",
      "Requirement already satisfied: pywinpty>=2.0.1 in c:\\users\\decas\\documents\\ml-pdf-miner\\venv\\lib\\site-packages (from jupyter-server<3,>=2.4.0->notebook) (2.0.13)\n",
      "Requirement already satisfied: send2trash>=1.8.2 in c:\\users\\decas\\documents\\ml-pdf-miner\\venv\\lib\\site-packages (from jupyter-server<3,>=2.4.0->notebook) (1.8.3)\n",
      "Requirement already satisfied: terminado>=0.8.3 in c:\\users\\decas\\documents\\ml-pdf-miner\\venv\\lib\\site-packages (from jupyter-server<3,>=2.4.0->notebook) (0.18.1)\n",
      "Requirement already satisfied: websocket-client>=1.7 in c:\\users\\decas\\documents\\ml-pdf-miner\\venv\\lib\\site-packages (from jupyter-server<3,>=2.4.0->notebook) (1.8.0)\n",
      "Requirement already satisfied: babel>=2.10 in c:\\users\\decas\\documents\\ml-pdf-miner\\venv\\lib\\site-packages (from jupyterlab-server<3,>=2.27.1->notebook) (2.16.0)\n",
      "Requirement already satisfied: json5>=0.9.0 in c:\\users\\decas\\documents\\ml-pdf-miner\\venv\\lib\\site-packages (from jupyterlab-server<3,>=2.27.1->notebook) (0.9.25)\n",
      "Requirement already satisfied: jsonschema>=4.18.0 in c:\\users\\decas\\documents\\ml-pdf-miner\\venv\\lib\\site-packages (from jupyterlab-server<3,>=2.27.1->notebook) (4.23.0)\n",
      "Requirement already satisfied: requests>=2.31 in c:\\users\\decas\\documents\\ml-pdf-miner\\venv\\lib\\site-packages (from jupyterlab-server<3,>=2.27.1->notebook) (2.32.3)\n",
      "Requirement already satisfied: beautifulsoup4 in c:\\users\\decas\\documents\\ml-pdf-miner\\venv\\lib\\site-packages (from nbconvert->jupyter) (4.12.3)\n",
      "Requirement already satisfied: bleach!=5.0.0 in c:\\users\\decas\\documents\\ml-pdf-miner\\venv\\lib\\site-packages (from nbconvert->jupyter) (6.1.0)\n",
      "Requirement already satisfied: defusedxml in c:\\users\\decas\\documents\\ml-pdf-miner\\venv\\lib\\site-packages (from nbconvert->jupyter) (0.7.1)\n",
      "Requirement already satisfied: jupyterlab-pygments in c:\\users\\decas\\documents\\ml-pdf-miner\\venv\\lib\\site-packages (from nbconvert->jupyter) (0.3.0)\n",
      "Requirement already satisfied: mistune<4,>=2.0.3 in c:\\users\\decas\\documents\\ml-pdf-miner\\venv\\lib\\site-packages (from nbconvert->jupyter) (3.0.2)\n",
      "Requirement already satisfied: nbclient>=0.5.0 in c:\\users\\decas\\documents\\ml-pdf-miner\\venv\\lib\\site-packages (from nbconvert->jupyter) (0.10.0)\n",
      "Requirement already satisfied: pandocfilters>=1.4.1 in c:\\users\\decas\\documents\\ml-pdf-miner\\venv\\lib\\site-packages (from nbconvert->jupyter) (1.5.1)\n",
      "Requirement already satisfied: pygments>=2.4.1 in c:\\users\\decas\\documents\\ml-pdf-miner\\venv\\lib\\site-packages (from nbconvert->jupyter) (2.18.0)\n",
      "Requirement already satisfied: tinycss2 in c:\\users\\decas\\documents\\ml-pdf-miner\\venv\\lib\\site-packages (from nbconvert->jupyter) (1.3.0)\n",
      "Requirement already satisfied: widgetsnbextension~=4.0.12 in c:\\users\\decas\\documents\\ml-pdf-miner\\venv\\lib\\site-packages (from ipywidgets->jupyter) (4.0.13)\n",
      "Requirement already satisfied: jupyterlab-widgets~=3.0.12 in c:\\users\\decas\\documents\\ml-pdf-miner\\venv\\lib\\site-packages (from ipywidgets->jupyter) (3.0.13)\n",
      "Requirement already satisfied: prompt-toolkit>=3.0.30 in c:\\users\\decas\\documents\\ml-pdf-miner\\venv\\lib\\site-packages (from jupyter-console->jupyter) (3.0.47)\n",
      "Requirement already satisfied: argon2-cffi-bindings in c:\\users\\decas\\documents\\ml-pdf-miner\\venv\\lib\\site-packages (from argon2-cffi>=21.1->jupyter-server<3,>=2.4.0->notebook) (21.2.0)\n",
      "Requirement already satisfied: six>=1.9.0 in c:\\users\\decas\\documents\\ml-pdf-miner\\venv\\lib\\site-packages (from bleach!=5.0.0->nbconvert->jupyter) (1.16.0)\n",
      "Requirement already satisfied: webencodings in c:\\users\\decas\\documents\\ml-pdf-miner\\venv\\lib\\site-packages (from bleach!=5.0.0->nbconvert->jupyter) (0.5.1)\n",
      "Requirement already satisfied: decorator in c:\\users\\decas\\documents\\ml-pdf-miner\\venv\\lib\\site-packages (from ipython>=7.23.1->ipykernel->jupyter) (5.1.1)\n",
      "Requirement already satisfied: jedi>=0.16 in c:\\users\\decas\\documents\\ml-pdf-miner\\venv\\lib\\site-packages (from ipython>=7.23.1->ipykernel->jupyter) (0.19.1)\n",
      "Requirement already satisfied: stack-data in c:\\users\\decas\\documents\\ml-pdf-miner\\venv\\lib\\site-packages (from ipython>=7.23.1->ipykernel->jupyter) (0.6.3)\n",
      "Requirement already satisfied: typing-extensions>=4.6 in c:\\users\\decas\\documents\\ml-pdf-miner\\venv\\lib\\site-packages (from ipython>=7.23.1->ipykernel->jupyter) (4.12.2)\n",
      "Requirement already satisfied: colorama in c:\\users\\decas\\documents\\ml-pdf-miner\\venv\\lib\\site-packages (from ipython>=7.23.1->ipykernel->jupyter) (0.4.6)\n",
      "Requirement already satisfied: attrs>=22.2.0 in c:\\users\\decas\\documents\\ml-pdf-miner\\venv\\lib\\site-packages (from jsonschema>=4.18.0->jupyterlab-server<3,>=2.27.1->notebook) (24.2.0)\n",
      "Requirement already satisfied: jsonschema-specifications>=2023.03.6 in c:\\users\\decas\\documents\\ml-pdf-miner\\venv\\lib\\site-packages (from jsonschema>=4.18.0->jupyterlab-server<3,>=2.27.1->notebook) (2023.12.1)\n",
      "Requirement already satisfied: referencing>=0.28.4 in c:\\users\\decas\\documents\\ml-pdf-miner\\venv\\lib\\site-packages (from jsonschema>=4.18.0->jupyterlab-server<3,>=2.27.1->notebook) (0.35.1)\n",
      "Requirement already satisfied: rpds-py>=0.7.1 in c:\\users\\decas\\documents\\ml-pdf-miner\\venv\\lib\\site-packages (from jsonschema>=4.18.0->jupyterlab-server<3,>=2.27.1->notebook) (0.20.0)\n",
      "Requirement already satisfied: python-dateutil>=2.8.2 in c:\\users\\decas\\documents\\ml-pdf-miner\\venv\\lib\\site-packages (from jupyter-client>=6.1.12->ipykernel->jupyter) (2.9.0.post0)\n",
      "Requirement already satisfied: python-json-logger>=2.0.4 in c:\\users\\decas\\documents\\ml-pdf-miner\\venv\\lib\\site-packages (from jupyter-events>=0.9.0->jupyter-server<3,>=2.4.0->notebook) (2.0.7)\n",
      "Requirement already satisfied: pyyaml>=5.3 in c:\\users\\decas\\documents\\ml-pdf-miner\\venv\\lib\\site-packages (from jupyter-events>=0.9.0->jupyter-server<3,>=2.4.0->notebook) (6.0.2)\n",
      "Requirement already satisfied: rfc3339-validator in c:\\users\\decas\\documents\\ml-pdf-miner\\venv\\lib\\site-packages (from jupyter-events>=0.9.0->jupyter-server<3,>=2.4.0->notebook) (0.1.4)\n",
      "Requirement already satisfied: rfc3986-validator>=0.1.1 in c:\\users\\decas\\documents\\ml-pdf-miner\\venv\\lib\\site-packages (from jupyter-events>=0.9.0->jupyter-server<3,>=2.4.0->notebook) (0.1.1)\n",
      "Requirement already satisfied: fastjsonschema>=2.15 in c:\\users\\decas\\documents\\ml-pdf-miner\\venv\\lib\\site-packages (from nbformat>=5.3.0->jupyter-server<3,>=2.4.0->notebook) (2.20.0)\n",
      "Requirement already satisfied: wcwidth in c:\\users\\decas\\documents\\ml-pdf-miner\\venv\\lib\\site-packages (from prompt-toolkit>=3.0.30->jupyter-console->jupyter) (0.2.13)\n",
      "Requirement already satisfied: charset-normalizer<4,>=2 in c:\\users\\decas\\documents\\ml-pdf-miner\\venv\\lib\\site-packages (from requests>=2.31->jupyterlab-server<3,>=2.27.1->notebook) (3.3.2)\n",
      "Requirement already satisfied: urllib3<3,>=1.21.1 in c:\\users\\decas\\documents\\ml-pdf-miner\\venv\\lib\\site-packages (from requests>=2.31->jupyterlab-server<3,>=2.27.1->notebook) (2.2.2)\n",
      "Requirement already satisfied: soupsieve>1.2 in c:\\users\\decas\\documents\\ml-pdf-miner\\venv\\lib\\site-packages (from beautifulsoup4->nbconvert->jupyter) (2.6)\n",
      "Requirement already satisfied: parso<0.9.0,>=0.8.3 in c:\\users\\decas\\documents\\ml-pdf-miner\\venv\\lib\\site-packages (from jedi>=0.16->ipython>=7.23.1->ipykernel->jupyter) (0.8.4)\n",
      "Requirement already satisfied: fqdn in c:\\users\\decas\\documents\\ml-pdf-miner\\venv\\lib\\site-packages (from jsonschema[format-nongpl]>=4.18.0->jupyter-events>=0.9.0->jupyter-server<3,>=2.4.0->notebook) (1.5.1)\n",
      "Requirement already satisfied: isoduration in c:\\users\\decas\\documents\\ml-pdf-miner\\venv\\lib\\site-packages (from jsonschema[format-nongpl]>=4.18.0->jupyter-events>=0.9.0->jupyter-server<3,>=2.4.0->notebook) (20.11.0)\n",
      "Requirement already satisfied: jsonpointer>1.13 in c:\\users\\decas\\documents\\ml-pdf-miner\\venv\\lib\\site-packages (from jsonschema[format-nongpl]>=4.18.0->jupyter-events>=0.9.0->jupyter-server<3,>=2.4.0->notebook) (3.0.0)\n",
      "Requirement already satisfied: uri-template in c:\\users\\decas\\documents\\ml-pdf-miner\\venv\\lib\\site-packages (from jsonschema[format-nongpl]>=4.18.0->jupyter-events>=0.9.0->jupyter-server<3,>=2.4.0->notebook) (1.3.0)\n",
      "Requirement already satisfied: webcolors>=24.6.0 in c:\\users\\decas\\documents\\ml-pdf-miner\\venv\\lib\\site-packages (from jsonschema[format-nongpl]>=4.18.0->jupyter-events>=0.9.0->jupyter-server<3,>=2.4.0->notebook) (24.8.0)\n",
      "Requirement already satisfied: cffi>=1.0.1 in c:\\users\\decas\\documents\\ml-pdf-miner\\venv\\lib\\site-packages (from argon2-cffi-bindings->argon2-cffi>=21.1->jupyter-server<3,>=2.4.0->notebook) (1.17.0)\n",
      "Requirement already satisfied: executing>=1.2.0 in c:\\users\\decas\\documents\\ml-pdf-miner\\venv\\lib\\site-packages (from stack-data->ipython>=7.23.1->ipykernel->jupyter) (2.0.1)\n",
      "Requirement already satisfied: asttokens>=2.1.0 in c:\\users\\decas\\documents\\ml-pdf-miner\\venv\\lib\\site-packages (from stack-data->ipython>=7.23.1->ipykernel->jupyter) (2.4.1)\n",
      "Requirement already satisfied: pure-eval in c:\\users\\decas\\documents\\ml-pdf-miner\\venv\\lib\\site-packages (from stack-data->ipython>=7.23.1->ipykernel->jupyter) (0.2.3)\n",
      "Requirement already satisfied: pycparser in c:\\users\\decas\\documents\\ml-pdf-miner\\venv\\lib\\site-packages (from cffi>=1.0.1->argon2-cffi-bindings->argon2-cffi>=21.1->jupyter-server<3,>=2.4.0->notebook) (2.22)\n",
      "Requirement already satisfied: arrow>=0.15.0 in c:\\users\\decas\\documents\\ml-pdf-miner\\venv\\lib\\site-packages (from isoduration->jsonschema[format-nongpl]>=4.18.0->jupyter-events>=0.9.0->jupyter-server<3,>=2.4.0->notebook) (1.3.0)\n",
      "Requirement already satisfied: types-python-dateutil>=2.8.10 in c:\\users\\decas\\documents\\ml-pdf-miner\\venv\\lib\\site-packages (from arrow>=0.15.0->isoduration->jsonschema[format-nongpl]>=4.18.0->jupyter-events>=0.9.0->jupyter-server<3,>=2.4.0->notebook) (2.9.0.20240906)\n",
      "Note: you may need to restart the kernel to use updated packages.\n"
     ]
    }
   ],
   "source": [
    "%pip install --upgrade jupyter notebook jupyterlab plotly"
   ]
  },
  {
   "cell_type": "code",
   "execution_count": 203,
   "metadata": {},
   "outputs": [
    {
     "name": "stdout",
     "output_type": "stream",
     "text": [
      "5.10.4\n"
     ]
    }
   ],
   "source": [
    "import nbformat\n",
    "print(nbformat.__version__)"
   ]
  },
  {
   "cell_type": "code",
   "execution_count": 204,
   "metadata": {},
   "outputs": [
    {
     "data": {
      "application/vnd.plotly.v1+json": {
       "config": {
        "plotlyServerURL": "https://plot.ly"
       },
       "data": [
        {
         "name": "Base original",
         "type": "scatter",
         "x": [
          2,
          3,
          4,
          5,
          6,
          7,
          8,
          9,
          10,
          11,
          12,
          13,
          14,
          15,
          16,
          17,
          18,
          19,
          20
         ],
         "xaxis": "x",
         "y": [
          0.5078749722414769,
          0.25286472660902287,
          0.2446691883340569,
          0.27305162611469835,
          0.2294788947029575,
          0.39693029986757056,
          0.5520319795332547,
          0.6308339233555667,
          0.6150443871353002,
          0.5870254132379661,
          0.5922043113410727,
          0.632427103708345,
          0.6278561807525219,
          0.6284731911294714,
          0.627957102455612,
          0.6229695446513349,
          0.6747928791321622,
          0.6172450916543157,
          0.6340956655949073
         ],
         "yaxis": "y"
        },
        {
         "name": "Correlação",
         "type": "scatter",
         "x": [
          2,
          3,
          4,
          5,
          6,
          7,
          8,
          9,
          10,
          11,
          12,
          13,
          14,
          15,
          16,
          17,
          18,
          19,
          20
         ],
         "xaxis": "x",
         "y": [
          0.1846630631256569,
          0.28560451242944257,
          0.5407357638255373,
          0.40364318817410555,
          0.5204691266776198,
          0.5670485476422616,
          0.6317088153776603,
          0.6289606239143101,
          0.5725961227426111,
          0.5147170226855712,
          0.5357923713247043,
          0.5174788535076307,
          0.6043701926155052,
          0.5656060424140743,
          0.6140028938674743,
          0.6201773662490639,
          0.6762457894817514,
          0.5871778445868487,
          0.5935342328266786
         ],
         "yaxis": "y"
        },
        {
         "name": "PCA",
         "type": "scatter",
         "x": [
          2,
          3,
          4,
          5,
          6,
          7,
          8,
          9,
          10,
          11,
          12,
          13,
          14,
          15,
          16,
          17,
          18,
          19,
          20
         ],
         "xaxis": "x",
         "y": [
          0.49770180910512174,
          0.2357807067994838,
          0.21746398726713914,
          0.23036817127539116,
          0.18970528434781972,
          0.17521820892711615,
          0.19361410693109143,
          0.19836507240447848,
          0.24664877344932173,
          0.20749608085265014,
          0.13926715411617593,
          0.1353200699791816,
          0.114921744708412,
          0.08392641135619569,
          0.12927265433741847,
          0.1578492093393872,
          0.17269138245616697,
          0.20125896219886646,
          0.264433334471751
         ],
         "yaxis": "y"
        },
        {
         "name": "Base original",
         "type": "scatter",
         "x": [
          2,
          3,
          4,
          5,
          6,
          7,
          8,
          9,
          10,
          11,
          12,
          13,
          14,
          15,
          16,
          17,
          18,
          19,
          20
         ],
         "xaxis": "x2",
         "y": [
          0.7238926673103409,
          0.8267389575479351,
          0.8411003001090379,
          0.8422711498762737,
          0.8468006079450127,
          0.7524213860260291,
          0.5924787890189229,
          0.586511195698827,
          0.5857111012923829,
          0.600841343103239,
          0.6093691358960863,
          0.5931673979691848,
          0.5992111903673868,
          0.5923210260781268,
          0.576168356149299,
          0.5920987736992066,
          0.5903566495848669,
          0.5994823862122136,
          0.578202149258134
         ],
         "yaxis": "y2"
        },
        {
         "name": "Correlação",
         "type": "scatter",
         "x": [
          2,
          3,
          4,
          5,
          6,
          7,
          8,
          9,
          10,
          11,
          12,
          13,
          14,
          15,
          16,
          17,
          18,
          19,
          20
         ],
         "xaxis": "x2",
         "y": [
          0.9145328995049551,
          0.922397769787499,
          0.8342763003268688,
          0.839391477884147,
          0.5524320283732042,
          0.5453515281592266,
          0.5039720563949245,
          0.483083655042906,
          0.48489243542717736,
          0.4964968462716969,
          0.4901534549352643,
          0.49724119215528767,
          0.43275571819867464,
          0.43086210165233196,
          0.40723312201536843,
          0.4128858754776705,
          0.39232172710754915,
          0.4031425739177079,
          0.422343486724361
         ],
         "yaxis": "y2"
        },
        {
         "name": "PCA",
         "type": "scatter",
         "x": [
          2,
          3,
          4,
          5,
          6,
          7,
          8,
          9,
          10,
          11,
          12,
          13,
          14,
          15,
          16,
          17,
          18,
          19,
          20
         ],
         "xaxis": "x2",
         "y": [
          0.7480564865514782,
          0.8628311282562606,
          0.8784767118894332,
          0.9006873695900878,
          0.9148395025963335,
          0.9226836148722516,
          0.8976580612125072,
          0.8987689138321926,
          0.8939841239174312,
          0.9007346440698795,
          0.9124885225325997,
          0.9141505652715795,
          0.9127618469049446,
          0.911992779797938,
          0.8967283277111203,
          0.8414315271515164,
          0.8354202974759661,
          0.812457854363191,
          0.7455616691217223
         ],
         "yaxis": "y2"
        },
        {
         "name": "Base original",
         "type": "scatter",
         "x": [
          2,
          3,
          4,
          5,
          6,
          7,
          8,
          9,
          10,
          11,
          12,
          13,
          14,
          15,
          16,
          17,
          18,
          19,
          20
         ],
         "xaxis": "x3",
         "y": [
          0.002603601244336508,
          -0.02508453931117638,
          -0.023189046838541488,
          -0.02114934762260645,
          -0.032179839130166754,
          -0.02387874498346601,
          -0.02034555305590135,
          -0.013723692628580015,
          -0.013520470256795078,
          -0.014042730198856036,
          -0.01202099492748161,
          -0.012185146686594314,
          -0.0014062555002687842,
          0.003445137990739886,
          0.0072689638039824984,
          0.012632443483642742,
          0.009838448074043726,
          0.009292088408638152,
          0.01871889243005366
         ],
         "yaxis": "y3"
        },
        {
         "name": "Correlação",
         "type": "scatter",
         "x": [
          2,
          3,
          4,
          5,
          6,
          7,
          8,
          9,
          10,
          11,
          12,
          13,
          14,
          15,
          16,
          17,
          18,
          19,
          20
         ],
         "xaxis": "x3",
         "y": [
          0.03133685967382861,
          0.03514781626295505,
          0.03879678527590487,
          0.03909207231632175,
          0.18019839733475637,
          0.18007118142026393,
          0.14952211436713123,
          0.07876270079542347,
          0.08485990936377176,
          0.08585776480728395,
          0.0894878815492413,
          0.08911236194203317,
          0.06936094078564997,
          0.0639050913482698,
          0.053533035410225395,
          0.05482449010715191,
          0.05213213074025871,
          0.034344352358280636,
          0.03883873552163612
         ],
         "yaxis": "y3"
        },
        {
         "name": "PCA",
         "type": "scatter",
         "x": [
          2,
          3,
          4,
          5,
          6,
          7,
          8,
          9,
          10,
          11,
          12,
          13,
          14,
          15,
          16,
          17,
          18,
          19,
          20
         ],
         "xaxis": "x3",
         "y": [
          0.002603601244336508,
          -0.02508453931117638,
          -0.023189046838541488,
          -0.02114934762260645,
          -0.032179839130166754,
          -0.02387874498346601,
          -0.015175647766316644,
          -0.014970323206609371,
          -0.014720539916810204,
          -0.015222884590263337,
          -0.014681624887561116,
          -0.014913180125564774,
          -0.015020007611314327,
          -0.01493320213668005,
          -0.014684060420231381,
          -0.011818131899035222,
          -0.010979971794358917,
          -0.009837022163282865,
          0.006440454053066022
         ],
         "yaxis": "y3"
        }
       ],
       "layout": {
        "annotations": [
         {
          "font": {
           "size": 16
          },
          "showarrow": false,
          "text": "Índice - Davies-Bouldin",
          "x": 0.14444444444444446,
          "xanchor": "center",
          "xref": "paper",
          "y": 1,
          "yanchor": "bottom",
          "yref": "paper"
         },
         {
          "font": {
           "size": 16
          },
          "showarrow": false,
          "text": "Índice - Silhouette",
          "x": 0.5,
          "xanchor": "center",
          "xref": "paper",
          "y": 1,
          "yanchor": "bottom",
          "yref": "paper"
         },
         {
          "font": {
           "size": 16
          },
          "showarrow": false,
          "text": "Índice - Adjusted Rand Score",
          "x": 0.8555555555555556,
          "xanchor": "center",
          "xref": "paper",
          "y": 1,
          "yanchor": "bottom",
          "yref": "paper"
         }
        ],
        "boxmode": "group",
        "showlegend": true,
        "template": {
         "data": {
          "bar": [
           {
            "error_x": {
             "color": "#2a3f5f"
            },
            "error_y": {
             "color": "#2a3f5f"
            },
            "marker": {
             "line": {
              "color": "#E5ECF6",
              "width": 0.5
             },
             "pattern": {
              "fillmode": "overlay",
              "size": 10,
              "solidity": 0.2
             }
            },
            "type": "bar"
           }
          ],
          "barpolar": [
           {
            "marker": {
             "line": {
              "color": "#E5ECF6",
              "width": 0.5
             },
             "pattern": {
              "fillmode": "overlay",
              "size": 10,
              "solidity": 0.2
             }
            },
            "type": "barpolar"
           }
          ],
          "carpet": [
           {
            "aaxis": {
             "endlinecolor": "#2a3f5f",
             "gridcolor": "white",
             "linecolor": "white",
             "minorgridcolor": "white",
             "startlinecolor": "#2a3f5f"
            },
            "baxis": {
             "endlinecolor": "#2a3f5f",
             "gridcolor": "white",
             "linecolor": "white",
             "minorgridcolor": "white",
             "startlinecolor": "#2a3f5f"
            },
            "type": "carpet"
           }
          ],
          "choropleth": [
           {
            "colorbar": {
             "outlinewidth": 0,
             "ticks": ""
            },
            "type": "choropleth"
           }
          ],
          "contour": [
           {
            "colorbar": {
             "outlinewidth": 0,
             "ticks": ""
            },
            "colorscale": [
             [
              0,
              "#0d0887"
             ],
             [
              0.1111111111111111,
              "#46039f"
             ],
             [
              0.2222222222222222,
              "#7201a8"
             ],
             [
              0.3333333333333333,
              "#9c179e"
             ],
             [
              0.4444444444444444,
              "#bd3786"
             ],
             [
              0.5555555555555556,
              "#d8576b"
             ],
             [
              0.6666666666666666,
              "#ed7953"
             ],
             [
              0.7777777777777778,
              "#fb9f3a"
             ],
             [
              0.8888888888888888,
              "#fdca26"
             ],
             [
              1,
              "#f0f921"
             ]
            ],
            "type": "contour"
           }
          ],
          "contourcarpet": [
           {
            "colorbar": {
             "outlinewidth": 0,
             "ticks": ""
            },
            "type": "contourcarpet"
           }
          ],
          "heatmap": [
           {
            "colorbar": {
             "outlinewidth": 0,
             "ticks": ""
            },
            "colorscale": [
             [
              0,
              "#0d0887"
             ],
             [
              0.1111111111111111,
              "#46039f"
             ],
             [
              0.2222222222222222,
              "#7201a8"
             ],
             [
              0.3333333333333333,
              "#9c179e"
             ],
             [
              0.4444444444444444,
              "#bd3786"
             ],
             [
              0.5555555555555556,
              "#d8576b"
             ],
             [
              0.6666666666666666,
              "#ed7953"
             ],
             [
              0.7777777777777778,
              "#fb9f3a"
             ],
             [
              0.8888888888888888,
              "#fdca26"
             ],
             [
              1,
              "#f0f921"
             ]
            ],
            "type": "heatmap"
           }
          ],
          "heatmapgl": [
           {
            "colorbar": {
             "outlinewidth": 0,
             "ticks": ""
            },
            "colorscale": [
             [
              0,
              "#0d0887"
             ],
             [
              0.1111111111111111,
              "#46039f"
             ],
             [
              0.2222222222222222,
              "#7201a8"
             ],
             [
              0.3333333333333333,
              "#9c179e"
             ],
             [
              0.4444444444444444,
              "#bd3786"
             ],
             [
              0.5555555555555556,
              "#d8576b"
             ],
             [
              0.6666666666666666,
              "#ed7953"
             ],
             [
              0.7777777777777778,
              "#fb9f3a"
             ],
             [
              0.8888888888888888,
              "#fdca26"
             ],
             [
              1,
              "#f0f921"
             ]
            ],
            "type": "heatmapgl"
           }
          ],
          "histogram": [
           {
            "marker": {
             "pattern": {
              "fillmode": "overlay",
              "size": 10,
              "solidity": 0.2
             }
            },
            "type": "histogram"
           }
          ],
          "histogram2d": [
           {
            "colorbar": {
             "outlinewidth": 0,
             "ticks": ""
            },
            "colorscale": [
             [
              0,
              "#0d0887"
             ],
             [
              0.1111111111111111,
              "#46039f"
             ],
             [
              0.2222222222222222,
              "#7201a8"
             ],
             [
              0.3333333333333333,
              "#9c179e"
             ],
             [
              0.4444444444444444,
              "#bd3786"
             ],
             [
              0.5555555555555556,
              "#d8576b"
             ],
             [
              0.6666666666666666,
              "#ed7953"
             ],
             [
              0.7777777777777778,
              "#fb9f3a"
             ],
             [
              0.8888888888888888,
              "#fdca26"
             ],
             [
              1,
              "#f0f921"
             ]
            ],
            "type": "histogram2d"
           }
          ],
          "histogram2dcontour": [
           {
            "colorbar": {
             "outlinewidth": 0,
             "ticks": ""
            },
            "colorscale": [
             [
              0,
              "#0d0887"
             ],
             [
              0.1111111111111111,
              "#46039f"
             ],
             [
              0.2222222222222222,
              "#7201a8"
             ],
             [
              0.3333333333333333,
              "#9c179e"
             ],
             [
              0.4444444444444444,
              "#bd3786"
             ],
             [
              0.5555555555555556,
              "#d8576b"
             ],
             [
              0.6666666666666666,
              "#ed7953"
             ],
             [
              0.7777777777777778,
              "#fb9f3a"
             ],
             [
              0.8888888888888888,
              "#fdca26"
             ],
             [
              1,
              "#f0f921"
             ]
            ],
            "type": "histogram2dcontour"
           }
          ],
          "mesh3d": [
           {
            "colorbar": {
             "outlinewidth": 0,
             "ticks": ""
            },
            "type": "mesh3d"
           }
          ],
          "parcoords": [
           {
            "line": {
             "colorbar": {
              "outlinewidth": 0,
              "ticks": ""
             }
            },
            "type": "parcoords"
           }
          ],
          "pie": [
           {
            "automargin": true,
            "type": "pie"
           }
          ],
          "scatter": [
           {
            "fillpattern": {
             "fillmode": "overlay",
             "size": 10,
             "solidity": 0.2
            },
            "type": "scatter"
           }
          ],
          "scatter3d": [
           {
            "line": {
             "colorbar": {
              "outlinewidth": 0,
              "ticks": ""
             }
            },
            "marker": {
             "colorbar": {
              "outlinewidth": 0,
              "ticks": ""
             }
            },
            "type": "scatter3d"
           }
          ],
          "scattercarpet": [
           {
            "marker": {
             "colorbar": {
              "outlinewidth": 0,
              "ticks": ""
             }
            },
            "type": "scattercarpet"
           }
          ],
          "scattergeo": [
           {
            "marker": {
             "colorbar": {
              "outlinewidth": 0,
              "ticks": ""
             }
            },
            "type": "scattergeo"
           }
          ],
          "scattergl": [
           {
            "marker": {
             "colorbar": {
              "outlinewidth": 0,
              "ticks": ""
             }
            },
            "type": "scattergl"
           }
          ],
          "scattermapbox": [
           {
            "marker": {
             "colorbar": {
              "outlinewidth": 0,
              "ticks": ""
             }
            },
            "type": "scattermapbox"
           }
          ],
          "scatterpolar": [
           {
            "marker": {
             "colorbar": {
              "outlinewidth": 0,
              "ticks": ""
             }
            },
            "type": "scatterpolar"
           }
          ],
          "scatterpolargl": [
           {
            "marker": {
             "colorbar": {
              "outlinewidth": 0,
              "ticks": ""
             }
            },
            "type": "scatterpolargl"
           }
          ],
          "scatterternary": [
           {
            "marker": {
             "colorbar": {
              "outlinewidth": 0,
              "ticks": ""
             }
            },
            "type": "scatterternary"
           }
          ],
          "surface": [
           {
            "colorbar": {
             "outlinewidth": 0,
             "ticks": ""
            },
            "colorscale": [
             [
              0,
              "#0d0887"
             ],
             [
              0.1111111111111111,
              "#46039f"
             ],
             [
              0.2222222222222222,
              "#7201a8"
             ],
             [
              0.3333333333333333,
              "#9c179e"
             ],
             [
              0.4444444444444444,
              "#bd3786"
             ],
             [
              0.5555555555555556,
              "#d8576b"
             ],
             [
              0.6666666666666666,
              "#ed7953"
             ],
             [
              0.7777777777777778,
              "#fb9f3a"
             ],
             [
              0.8888888888888888,
              "#fdca26"
             ],
             [
              1,
              "#f0f921"
             ]
            ],
            "type": "surface"
           }
          ],
          "table": [
           {
            "cells": {
             "fill": {
              "color": "#EBF0F8"
             },
             "line": {
              "color": "white"
             }
            },
            "header": {
             "fill": {
              "color": "#C8D4E3"
             },
             "line": {
              "color": "white"
             }
            },
            "type": "table"
           }
          ]
         },
         "layout": {
          "annotationdefaults": {
           "arrowcolor": "#2a3f5f",
           "arrowhead": 0,
           "arrowwidth": 1
          },
          "autotypenumbers": "strict",
          "coloraxis": {
           "colorbar": {
            "outlinewidth": 0,
            "ticks": ""
           }
          },
          "colorscale": {
           "diverging": [
            [
             0,
             "#8e0152"
            ],
            [
             0.1,
             "#c51b7d"
            ],
            [
             0.2,
             "#de77ae"
            ],
            [
             0.3,
             "#f1b6da"
            ],
            [
             0.4,
             "#fde0ef"
            ],
            [
             0.5,
             "#f7f7f7"
            ],
            [
             0.6,
             "#e6f5d0"
            ],
            [
             0.7,
             "#b8e186"
            ],
            [
             0.8,
             "#7fbc41"
            ],
            [
             0.9,
             "#4d9221"
            ],
            [
             1,
             "#276419"
            ]
           ],
           "sequential": [
            [
             0,
             "#0d0887"
            ],
            [
             0.1111111111111111,
             "#46039f"
            ],
            [
             0.2222222222222222,
             "#7201a8"
            ],
            [
             0.3333333333333333,
             "#9c179e"
            ],
            [
             0.4444444444444444,
             "#bd3786"
            ],
            [
             0.5555555555555556,
             "#d8576b"
            ],
            [
             0.6666666666666666,
             "#ed7953"
            ],
            [
             0.7777777777777778,
             "#fb9f3a"
            ],
            [
             0.8888888888888888,
             "#fdca26"
            ],
            [
             1,
             "#f0f921"
            ]
           ],
           "sequentialminus": [
            [
             0,
             "#0d0887"
            ],
            [
             0.1111111111111111,
             "#46039f"
            ],
            [
             0.2222222222222222,
             "#7201a8"
            ],
            [
             0.3333333333333333,
             "#9c179e"
            ],
            [
             0.4444444444444444,
             "#bd3786"
            ],
            [
             0.5555555555555556,
             "#d8576b"
            ],
            [
             0.6666666666666666,
             "#ed7953"
            ],
            [
             0.7777777777777778,
             "#fb9f3a"
            ],
            [
             0.8888888888888888,
             "#fdca26"
            ],
            [
             1,
             "#f0f921"
            ]
           ]
          },
          "colorway": [
           "#636efa",
           "#EF553B",
           "#00cc96",
           "#ab63fa",
           "#FFA15A",
           "#19d3f3",
           "#FF6692",
           "#B6E880",
           "#FF97FF",
           "#FECB52"
          ],
          "font": {
           "color": "#2a3f5f"
          },
          "geo": {
           "bgcolor": "white",
           "lakecolor": "white",
           "landcolor": "#E5ECF6",
           "showlakes": true,
           "showland": true,
           "subunitcolor": "white"
          },
          "hoverlabel": {
           "align": "left"
          },
          "hovermode": "closest",
          "mapbox": {
           "style": "light"
          },
          "paper_bgcolor": "white",
          "plot_bgcolor": "#E5ECF6",
          "polar": {
           "angularaxis": {
            "gridcolor": "white",
            "linecolor": "white",
            "ticks": ""
           },
           "bgcolor": "#E5ECF6",
           "radialaxis": {
            "gridcolor": "white",
            "linecolor": "white",
            "ticks": ""
           }
          },
          "scene": {
           "xaxis": {
            "backgroundcolor": "#E5ECF6",
            "gridcolor": "white",
            "gridwidth": 2,
            "linecolor": "white",
            "showbackground": true,
            "ticks": "",
            "zerolinecolor": "white"
           },
           "yaxis": {
            "backgroundcolor": "#E5ECF6",
            "gridcolor": "white",
            "gridwidth": 2,
            "linecolor": "white",
            "showbackground": true,
            "ticks": "",
            "zerolinecolor": "white"
           },
           "zaxis": {
            "backgroundcolor": "#E5ECF6",
            "gridcolor": "white",
            "gridwidth": 2,
            "linecolor": "white",
            "showbackground": true,
            "ticks": "",
            "zerolinecolor": "white"
           }
          },
          "shapedefaults": {
           "line": {
            "color": "#2a3f5f"
           }
          },
          "ternary": {
           "aaxis": {
            "gridcolor": "white",
            "linecolor": "white",
            "ticks": ""
           },
           "baxis": {
            "gridcolor": "white",
            "linecolor": "white",
            "ticks": ""
           },
           "bgcolor": "#E5ECF6",
           "caxis": {
            "gridcolor": "white",
            "linecolor": "white",
            "ticks": ""
           }
          },
          "title": {
           "x": 0.05
          },
          "xaxis": {
           "automargin": true,
           "gridcolor": "white",
           "linecolor": "white",
           "ticks": "",
           "title": {
            "standoff": 15
           },
           "zerolinecolor": "white",
           "zerolinewidth": 2
          },
          "yaxis": {
           "automargin": true,
           "gridcolor": "white",
           "linecolor": "white",
           "ticks": "",
           "title": {
            "standoff": 15
           },
           "zerolinecolor": "white",
           "zerolinewidth": 2
          }
         }
        },
        "title": {
         "text": "Gráfico de KMEANS"
        },
        "xaxis": {
         "anchor": "y",
         "domain": [
          0,
          0.2888888888888889
         ]
        },
        "xaxis2": {
         "anchor": "y2",
         "domain": [
          0.35555555555555557,
          0.6444444444444445
         ]
        },
        "xaxis3": {
         "anchor": "y3",
         "domain": [
          0.7111111111111111,
          1
         ]
        },
        "yaxis": {
         "anchor": "x",
         "domain": [
          0,
          1
         ]
        },
        "yaxis2": {
         "anchor": "x2",
         "domain": [
          0,
          1
         ]
        },
        "yaxis3": {
         "anchor": "x3",
         "domain": [
          0,
          1
         ]
        }
       }
      }
     },
     "metadata": {},
     "output_type": "display_data"
    }
   ],
   "source": [
    "plot_cluster_indices(data_tfidf, selected_df_corr, selected_df_pca, labels, 'kmeans')"
   ]
  },
  {
   "cell_type": "code",
   "execution_count": 205,
   "metadata": {},
   "outputs": [
    {
     "data": {
      "application/vnd.plotly.v1+json": {
       "config": {
        "plotlyServerURL": "https://plot.ly"
       },
       "data": [
        {
         "name": "Base original",
         "type": "scatter",
         "x": [
          2,
          3,
          4,
          5,
          6,
          7,
          8,
          9,
          10,
          11,
          12,
          13,
          14,
          15,
          16,
          17,
          18,
          19,
          20
         ],
         "xaxis": "x",
         "y": [
          0.5078749722414769,
          0.25286472660902287,
          0.2446691883340569,
          0.27305162611469835,
          0.2294788947029575,
          0.3922579543923447,
          0.7361361294166999,
          0.6972706207386596,
          0.6740732941463493,
          0.626788203985988,
          0.6212564759478749,
          0.6095993935965478,
          0.6088464911615782,
          0.607480916010448,
          0.6038706362997213,
          0.6094037624213775,
          0.5781327238443175,
          0.535238022529003,
          0.5739548128407418
         ],
         "yaxis": "y"
        },
        {
         "name": "Correlação",
         "type": "scatter",
         "x": [
          2,
          3,
          4,
          5,
          6,
          7,
          8,
          9,
          10,
          11,
          12,
          13,
          14,
          15,
          16,
          17,
          18,
          19,
          20
         ],
         "xaxis": "x",
         "y": [
          0.1846630631256569,
          0.28560451242944257,
          0.5407357638255373,
          0.4036431881741055,
          0.4932885057148782,
          0.5437508725313404,
          0.5715584110062977,
          0.5125504117740177,
          0.5696986440957695,
          0.515895188849959,
          0.5799754465263592,
          0.5579811167686486,
          0.5605772269952932,
          0.5510205058866905,
          0.5219365047959426,
          0.5375197454358331,
          0.5738376975664798,
          0.5874437648481405,
          0.5878351990520765
         ],
         "yaxis": "y"
        },
        {
         "name": "PCA",
         "type": "scatter",
         "x": [
          2,
          3,
          4,
          5,
          6,
          7,
          8,
          9,
          10,
          11,
          12,
          13,
          14,
          15,
          16,
          17,
          18,
          19,
          20
         ],
         "xaxis": "x",
         "y": [
          0.49770180910512174,
          0.2357807067994838,
          0.21746398726713914,
          0.23036817127539116,
          0.18970528434781972,
          0.17521820892711615,
          0.19361410693109143,
          0.19836507240447848,
          0.24664877344932173,
          0.20749608085265017,
          0.13926715411617593,
          0.13532006997918156,
          0.114921744708412,
          0.08392641135619569,
          0.10156279140110039,
          0.12421722308590327,
          0.16444137408415951,
          0.19344316479380683,
          0.24975835552569697
         ],
         "yaxis": "y"
        },
        {
         "name": "Base original",
         "type": "scatter",
         "x": [
          2,
          3,
          4,
          5,
          6,
          7,
          8,
          9,
          10,
          11,
          12,
          13,
          14,
          15,
          16,
          17,
          18,
          19,
          20
         ],
         "xaxis": "x2",
         "y": [
          0.7238926673103409,
          0.8267389575479351,
          0.8411003001090379,
          0.8422711498762737,
          0.8468006079450127,
          0.7483174236836173,
          0.5474966712378572,
          0.5788318764499194,
          0.5780317820434754,
          0.5932374116563022,
          0.6076211824651919,
          0.5955472820063955,
          0.6050201131471107,
          0.5758403120654343,
          0.5916347678677696,
          0.5850994052450397,
          0.587284920763026,
          0.5947121866712696,
          0.5911436738030983
         ],
         "yaxis": "y2"
        },
        {
         "name": "Correlação",
         "type": "scatter",
         "x": [
          2,
          3,
          4,
          5,
          6,
          7,
          8,
          9,
          10,
          11,
          12,
          13,
          14,
          15,
          16,
          17,
          18,
          19,
          20
         ],
         "xaxis": "x2",
         "y": [
          0.9145328995049551,
          0.922397769787499,
          0.8342763003268688,
          0.839391477884147,
          0.5705692018903633,
          0.5634887016763858,
          0.5750471187461446,
          0.5804041041851532,
          0.47294071138432014,
          0.48085575686671556,
          0.41129002912004015,
          0.42660899383727713,
          0.41467191761041994,
          0.41745822676833627,
          0.4197375126035036,
          0.41828884075404527,
          0.39927223082930324,
          0.38110060117555844,
          0.38245172054363624
         ],
         "yaxis": "y2"
        },
        {
         "name": "PCA",
         "type": "scatter",
         "x": [
          2,
          3,
          4,
          5,
          6,
          7,
          8,
          9,
          10,
          11,
          12,
          13,
          14,
          15,
          16,
          17,
          18,
          19,
          20
         ],
         "xaxis": "x2",
         "y": [
          0.7480564865514782,
          0.8628311282562606,
          0.8784767118894332,
          0.9006873695900878,
          0.9148395025963335,
          0.9226836148722516,
          0.8976580612125072,
          0.8987689138321926,
          0.8939841239174312,
          0.9007346440698795,
          0.9124885225325997,
          0.9141505652715795,
          0.9127618469049446,
          0.911992779797938,
          0.9003371956126749,
          0.847105430232472,
          0.8368433947299486,
          0.8138809516171734,
          0.7469256974375182
         ],
         "yaxis": "y2"
        },
        {
         "name": "Base original",
         "type": "scatter",
         "x": [
          2,
          3,
          4,
          5,
          6,
          7,
          8,
          9,
          10,
          11,
          12,
          13,
          14,
          15,
          16,
          17,
          18,
          19,
          20
         ],
         "xaxis": "x3",
         "y": [
          0.002603601244336508,
          -0.02508453931117638,
          -0.023189046838541488,
          -0.02114934762260645,
          -0.032179839130166754,
          -0.02335828072285723,
          -0.01553453938501757,
          -0.01326065522612252,
          -0.013058003034562034,
          -0.013401917968004584,
          -0.01229341170177337,
          -0.010746251243768011,
          -0.01113223812837022,
          0.0020927303321941456,
          0.00749969674940354,
          0.011044050758516485,
          0.01054453989118045,
          0.01066526264328293,
          0.009939652408773663
         ],
         "yaxis": "y3"
        },
        {
         "name": "Correlação",
         "type": "scatter",
         "x": [
          2,
          3,
          4,
          5,
          6,
          7,
          8,
          9,
          10,
          11,
          12,
          13,
          14,
          15,
          16,
          17,
          18,
          19,
          20
         ],
         "xaxis": "x3",
         "y": [
          0.03133685967382861,
          0.03514781626295505,
          0.03879678527590487,
          0.03909207231632175,
          0.1866183051202293,
          0.1864742926501586,
          0.1856626495037889,
          0.19071668351220114,
          0.08162946428899984,
          0.08466099936618622,
          0.06687792641782295,
          0.06257627219361733,
          0.06523502950995985,
          0.06540007823653017,
          0.0653373565929389,
          0.06559182602535071,
          0.047988727907214264,
          0.05068714820972792,
          0.04982004370365789
         ],
         "yaxis": "y3"
        },
        {
         "name": "PCA",
         "type": "scatter",
         "x": [
          2,
          3,
          4,
          5,
          6,
          7,
          8,
          9,
          10,
          11,
          12,
          13,
          14,
          15,
          16,
          17,
          18,
          19,
          20
         ],
         "xaxis": "x3",
         "y": [
          0.002603601244336508,
          -0.02508453931117638,
          -0.023189046838541488,
          -0.02114934762260645,
          -0.032179839130166754,
          -0.02387874498346601,
          -0.015175647766316644,
          -0.014970323206609371,
          -0.014720539916810204,
          -0.015222884590263337,
          -0.014681624887561116,
          -0.014913180125564774,
          -0.015020007611314327,
          -0.01493320213668005,
          -0.014370373512718554,
          -0.013233859434487964,
          -0.012709928351736014,
          -0.011562950702294943,
          0.0031074179439208095
         ],
         "yaxis": "y3"
        }
       ],
       "layout": {
        "annotations": [
         {
          "font": {
           "size": 16
          },
          "showarrow": false,
          "text": "Índice - Davies-Bouldin",
          "x": 0.14444444444444446,
          "xanchor": "center",
          "xref": "paper",
          "y": 1,
          "yanchor": "bottom",
          "yref": "paper"
         },
         {
          "font": {
           "size": 16
          },
          "showarrow": false,
          "text": "Índice - Silhouette",
          "x": 0.5,
          "xanchor": "center",
          "xref": "paper",
          "y": 1,
          "yanchor": "bottom",
          "yref": "paper"
         },
         {
          "font": {
           "size": 16
          },
          "showarrow": false,
          "text": "Índice - Adjusted Rand Score",
          "x": 0.8555555555555556,
          "xanchor": "center",
          "xref": "paper",
          "y": 1,
          "yanchor": "bottom",
          "yref": "paper"
         }
        ],
        "boxmode": "group",
        "showlegend": true,
        "template": {
         "data": {
          "bar": [
           {
            "error_x": {
             "color": "#2a3f5f"
            },
            "error_y": {
             "color": "#2a3f5f"
            },
            "marker": {
             "line": {
              "color": "#E5ECF6",
              "width": 0.5
             },
             "pattern": {
              "fillmode": "overlay",
              "size": 10,
              "solidity": 0.2
             }
            },
            "type": "bar"
           }
          ],
          "barpolar": [
           {
            "marker": {
             "line": {
              "color": "#E5ECF6",
              "width": 0.5
             },
             "pattern": {
              "fillmode": "overlay",
              "size": 10,
              "solidity": 0.2
             }
            },
            "type": "barpolar"
           }
          ],
          "carpet": [
           {
            "aaxis": {
             "endlinecolor": "#2a3f5f",
             "gridcolor": "white",
             "linecolor": "white",
             "minorgridcolor": "white",
             "startlinecolor": "#2a3f5f"
            },
            "baxis": {
             "endlinecolor": "#2a3f5f",
             "gridcolor": "white",
             "linecolor": "white",
             "minorgridcolor": "white",
             "startlinecolor": "#2a3f5f"
            },
            "type": "carpet"
           }
          ],
          "choropleth": [
           {
            "colorbar": {
             "outlinewidth": 0,
             "ticks": ""
            },
            "type": "choropleth"
           }
          ],
          "contour": [
           {
            "colorbar": {
             "outlinewidth": 0,
             "ticks": ""
            },
            "colorscale": [
             [
              0,
              "#0d0887"
             ],
             [
              0.1111111111111111,
              "#46039f"
             ],
             [
              0.2222222222222222,
              "#7201a8"
             ],
             [
              0.3333333333333333,
              "#9c179e"
             ],
             [
              0.4444444444444444,
              "#bd3786"
             ],
             [
              0.5555555555555556,
              "#d8576b"
             ],
             [
              0.6666666666666666,
              "#ed7953"
             ],
             [
              0.7777777777777778,
              "#fb9f3a"
             ],
             [
              0.8888888888888888,
              "#fdca26"
             ],
             [
              1,
              "#f0f921"
             ]
            ],
            "type": "contour"
           }
          ],
          "contourcarpet": [
           {
            "colorbar": {
             "outlinewidth": 0,
             "ticks": ""
            },
            "type": "contourcarpet"
           }
          ],
          "heatmap": [
           {
            "colorbar": {
             "outlinewidth": 0,
             "ticks": ""
            },
            "colorscale": [
             [
              0,
              "#0d0887"
             ],
             [
              0.1111111111111111,
              "#46039f"
             ],
             [
              0.2222222222222222,
              "#7201a8"
             ],
             [
              0.3333333333333333,
              "#9c179e"
             ],
             [
              0.4444444444444444,
              "#bd3786"
             ],
             [
              0.5555555555555556,
              "#d8576b"
             ],
             [
              0.6666666666666666,
              "#ed7953"
             ],
             [
              0.7777777777777778,
              "#fb9f3a"
             ],
             [
              0.8888888888888888,
              "#fdca26"
             ],
             [
              1,
              "#f0f921"
             ]
            ],
            "type": "heatmap"
           }
          ],
          "heatmapgl": [
           {
            "colorbar": {
             "outlinewidth": 0,
             "ticks": ""
            },
            "colorscale": [
             [
              0,
              "#0d0887"
             ],
             [
              0.1111111111111111,
              "#46039f"
             ],
             [
              0.2222222222222222,
              "#7201a8"
             ],
             [
              0.3333333333333333,
              "#9c179e"
             ],
             [
              0.4444444444444444,
              "#bd3786"
             ],
             [
              0.5555555555555556,
              "#d8576b"
             ],
             [
              0.6666666666666666,
              "#ed7953"
             ],
             [
              0.7777777777777778,
              "#fb9f3a"
             ],
             [
              0.8888888888888888,
              "#fdca26"
             ],
             [
              1,
              "#f0f921"
             ]
            ],
            "type": "heatmapgl"
           }
          ],
          "histogram": [
           {
            "marker": {
             "pattern": {
              "fillmode": "overlay",
              "size": 10,
              "solidity": 0.2
             }
            },
            "type": "histogram"
           }
          ],
          "histogram2d": [
           {
            "colorbar": {
             "outlinewidth": 0,
             "ticks": ""
            },
            "colorscale": [
             [
              0,
              "#0d0887"
             ],
             [
              0.1111111111111111,
              "#46039f"
             ],
             [
              0.2222222222222222,
              "#7201a8"
             ],
             [
              0.3333333333333333,
              "#9c179e"
             ],
             [
              0.4444444444444444,
              "#bd3786"
             ],
             [
              0.5555555555555556,
              "#d8576b"
             ],
             [
              0.6666666666666666,
              "#ed7953"
             ],
             [
              0.7777777777777778,
              "#fb9f3a"
             ],
             [
              0.8888888888888888,
              "#fdca26"
             ],
             [
              1,
              "#f0f921"
             ]
            ],
            "type": "histogram2d"
           }
          ],
          "histogram2dcontour": [
           {
            "colorbar": {
             "outlinewidth": 0,
             "ticks": ""
            },
            "colorscale": [
             [
              0,
              "#0d0887"
             ],
             [
              0.1111111111111111,
              "#46039f"
             ],
             [
              0.2222222222222222,
              "#7201a8"
             ],
             [
              0.3333333333333333,
              "#9c179e"
             ],
             [
              0.4444444444444444,
              "#bd3786"
             ],
             [
              0.5555555555555556,
              "#d8576b"
             ],
             [
              0.6666666666666666,
              "#ed7953"
             ],
             [
              0.7777777777777778,
              "#fb9f3a"
             ],
             [
              0.8888888888888888,
              "#fdca26"
             ],
             [
              1,
              "#f0f921"
             ]
            ],
            "type": "histogram2dcontour"
           }
          ],
          "mesh3d": [
           {
            "colorbar": {
             "outlinewidth": 0,
             "ticks": ""
            },
            "type": "mesh3d"
           }
          ],
          "parcoords": [
           {
            "line": {
             "colorbar": {
              "outlinewidth": 0,
              "ticks": ""
             }
            },
            "type": "parcoords"
           }
          ],
          "pie": [
           {
            "automargin": true,
            "type": "pie"
           }
          ],
          "scatter": [
           {
            "fillpattern": {
             "fillmode": "overlay",
             "size": 10,
             "solidity": 0.2
            },
            "type": "scatter"
           }
          ],
          "scatter3d": [
           {
            "line": {
             "colorbar": {
              "outlinewidth": 0,
              "ticks": ""
             }
            },
            "marker": {
             "colorbar": {
              "outlinewidth": 0,
              "ticks": ""
             }
            },
            "type": "scatter3d"
           }
          ],
          "scattercarpet": [
           {
            "marker": {
             "colorbar": {
              "outlinewidth": 0,
              "ticks": ""
             }
            },
            "type": "scattercarpet"
           }
          ],
          "scattergeo": [
           {
            "marker": {
             "colorbar": {
              "outlinewidth": 0,
              "ticks": ""
             }
            },
            "type": "scattergeo"
           }
          ],
          "scattergl": [
           {
            "marker": {
             "colorbar": {
              "outlinewidth": 0,
              "ticks": ""
             }
            },
            "type": "scattergl"
           }
          ],
          "scattermapbox": [
           {
            "marker": {
             "colorbar": {
              "outlinewidth": 0,
              "ticks": ""
             }
            },
            "type": "scattermapbox"
           }
          ],
          "scatterpolar": [
           {
            "marker": {
             "colorbar": {
              "outlinewidth": 0,
              "ticks": ""
             }
            },
            "type": "scatterpolar"
           }
          ],
          "scatterpolargl": [
           {
            "marker": {
             "colorbar": {
              "outlinewidth": 0,
              "ticks": ""
             }
            },
            "type": "scatterpolargl"
           }
          ],
          "scatterternary": [
           {
            "marker": {
             "colorbar": {
              "outlinewidth": 0,
              "ticks": ""
             }
            },
            "type": "scatterternary"
           }
          ],
          "surface": [
           {
            "colorbar": {
             "outlinewidth": 0,
             "ticks": ""
            },
            "colorscale": [
             [
              0,
              "#0d0887"
             ],
             [
              0.1111111111111111,
              "#46039f"
             ],
             [
              0.2222222222222222,
              "#7201a8"
             ],
             [
              0.3333333333333333,
              "#9c179e"
             ],
             [
              0.4444444444444444,
              "#bd3786"
             ],
             [
              0.5555555555555556,
              "#d8576b"
             ],
             [
              0.6666666666666666,
              "#ed7953"
             ],
             [
              0.7777777777777778,
              "#fb9f3a"
             ],
             [
              0.8888888888888888,
              "#fdca26"
             ],
             [
              1,
              "#f0f921"
             ]
            ],
            "type": "surface"
           }
          ],
          "table": [
           {
            "cells": {
             "fill": {
              "color": "#EBF0F8"
             },
             "line": {
              "color": "white"
             }
            },
            "header": {
             "fill": {
              "color": "#C8D4E3"
             },
             "line": {
              "color": "white"
             }
            },
            "type": "table"
           }
          ]
         },
         "layout": {
          "annotationdefaults": {
           "arrowcolor": "#2a3f5f",
           "arrowhead": 0,
           "arrowwidth": 1
          },
          "autotypenumbers": "strict",
          "coloraxis": {
           "colorbar": {
            "outlinewidth": 0,
            "ticks": ""
           }
          },
          "colorscale": {
           "diverging": [
            [
             0,
             "#8e0152"
            ],
            [
             0.1,
             "#c51b7d"
            ],
            [
             0.2,
             "#de77ae"
            ],
            [
             0.3,
             "#f1b6da"
            ],
            [
             0.4,
             "#fde0ef"
            ],
            [
             0.5,
             "#f7f7f7"
            ],
            [
             0.6,
             "#e6f5d0"
            ],
            [
             0.7,
             "#b8e186"
            ],
            [
             0.8,
             "#7fbc41"
            ],
            [
             0.9,
             "#4d9221"
            ],
            [
             1,
             "#276419"
            ]
           ],
           "sequential": [
            [
             0,
             "#0d0887"
            ],
            [
             0.1111111111111111,
             "#46039f"
            ],
            [
             0.2222222222222222,
             "#7201a8"
            ],
            [
             0.3333333333333333,
             "#9c179e"
            ],
            [
             0.4444444444444444,
             "#bd3786"
            ],
            [
             0.5555555555555556,
             "#d8576b"
            ],
            [
             0.6666666666666666,
             "#ed7953"
            ],
            [
             0.7777777777777778,
             "#fb9f3a"
            ],
            [
             0.8888888888888888,
             "#fdca26"
            ],
            [
             1,
             "#f0f921"
            ]
           ],
           "sequentialminus": [
            [
             0,
             "#0d0887"
            ],
            [
             0.1111111111111111,
             "#46039f"
            ],
            [
             0.2222222222222222,
             "#7201a8"
            ],
            [
             0.3333333333333333,
             "#9c179e"
            ],
            [
             0.4444444444444444,
             "#bd3786"
            ],
            [
             0.5555555555555556,
             "#d8576b"
            ],
            [
             0.6666666666666666,
             "#ed7953"
            ],
            [
             0.7777777777777778,
             "#fb9f3a"
            ],
            [
             0.8888888888888888,
             "#fdca26"
            ],
            [
             1,
             "#f0f921"
            ]
           ]
          },
          "colorway": [
           "#636efa",
           "#EF553B",
           "#00cc96",
           "#ab63fa",
           "#FFA15A",
           "#19d3f3",
           "#FF6692",
           "#B6E880",
           "#FF97FF",
           "#FECB52"
          ],
          "font": {
           "color": "#2a3f5f"
          },
          "geo": {
           "bgcolor": "white",
           "lakecolor": "white",
           "landcolor": "#E5ECF6",
           "showlakes": true,
           "showland": true,
           "subunitcolor": "white"
          },
          "hoverlabel": {
           "align": "left"
          },
          "hovermode": "closest",
          "mapbox": {
           "style": "light"
          },
          "paper_bgcolor": "white",
          "plot_bgcolor": "#E5ECF6",
          "polar": {
           "angularaxis": {
            "gridcolor": "white",
            "linecolor": "white",
            "ticks": ""
           },
           "bgcolor": "#E5ECF6",
           "radialaxis": {
            "gridcolor": "white",
            "linecolor": "white",
            "ticks": ""
           }
          },
          "scene": {
           "xaxis": {
            "backgroundcolor": "#E5ECF6",
            "gridcolor": "white",
            "gridwidth": 2,
            "linecolor": "white",
            "showbackground": true,
            "ticks": "",
            "zerolinecolor": "white"
           },
           "yaxis": {
            "backgroundcolor": "#E5ECF6",
            "gridcolor": "white",
            "gridwidth": 2,
            "linecolor": "white",
            "showbackground": true,
            "ticks": "",
            "zerolinecolor": "white"
           },
           "zaxis": {
            "backgroundcolor": "#E5ECF6",
            "gridcolor": "white",
            "gridwidth": 2,
            "linecolor": "white",
            "showbackground": true,
            "ticks": "",
            "zerolinecolor": "white"
           }
          },
          "shapedefaults": {
           "line": {
            "color": "#2a3f5f"
           }
          },
          "ternary": {
           "aaxis": {
            "gridcolor": "white",
            "linecolor": "white",
            "ticks": ""
           },
           "baxis": {
            "gridcolor": "white",
            "linecolor": "white",
            "ticks": ""
           },
           "bgcolor": "#E5ECF6",
           "caxis": {
            "gridcolor": "white",
            "linecolor": "white",
            "ticks": ""
           }
          },
          "title": {
           "x": 0.05
          },
          "xaxis": {
           "automargin": true,
           "gridcolor": "white",
           "linecolor": "white",
           "ticks": "",
           "title": {
            "standoff": 15
           },
           "zerolinecolor": "white",
           "zerolinewidth": 2
          },
          "yaxis": {
           "automargin": true,
           "gridcolor": "white",
           "linecolor": "white",
           "ticks": "",
           "title": {
            "standoff": 15
           },
           "zerolinecolor": "white",
           "zerolinewidth": 2
          }
         }
        },
        "title": {
         "text": "Gráfico de HIERARQUICO"
        },
        "xaxis": {
         "anchor": "y",
         "domain": [
          0,
          0.2888888888888889
         ]
        },
        "xaxis2": {
         "anchor": "y2",
         "domain": [
          0.35555555555555557,
          0.6444444444444445
         ]
        },
        "xaxis3": {
         "anchor": "y3",
         "domain": [
          0.7111111111111111,
          1
         ]
        },
        "yaxis": {
         "anchor": "x",
         "domain": [
          0,
          1
         ]
        },
        "yaxis2": {
         "anchor": "x2",
         "domain": [
          0,
          1
         ]
        },
        "yaxis3": {
         "anchor": "x3",
         "domain": [
          0,
          1
         ]
        }
       }
      }
     },
     "metadata": {},
     "output_type": "display_data"
    }
   ],
   "source": [
    "plot_cluster_indices(data_tfidf, selected_df_corr, selected_df_pca, labels, 'hierarquico', linkage='ward')"
   ]
  },
  {
   "cell_type": "code",
   "execution_count": 206,
   "metadata": {},
   "outputs": [
    {
     "data": {
      "application/vnd.plotly.v1+json": {
       "config": {
        "plotlyServerURL": "https://plot.ly"
       },
       "data": [
        {
         "name": "Base original",
         "type": "scatter",
         "x": [
          2,
          3,
          4,
          5,
          6,
          7,
          8,
          9,
          10,
          11,
          12,
          13,
          14,
          15,
          16,
          17,
          18,
          19,
          20
         ],
         "xaxis": "x",
         "y": [
          0.5078749722414769,
          0.2528647266090228,
          0.2446691883340569,
          0.27305162611469835,
          0.46114947690479013,
          0.26425884705294955,
          0.7402244317075224,
          0.710526001645898,
          0.5177367904534853,
          0.587025413237966,
          0.6536469421824405,
          0.5672019930827296,
          0.6339809309096939,
          0.5878370893432056,
          0.6723202980093149,
          0.5786945902886591,
          0.6665255897702589,
          0.6523893553585531,
          0.6109640418607215
         ],
         "yaxis": "y"
        },
        {
         "name": "Correlação",
         "type": "scatter",
         "x": [
          2,
          3,
          4,
          5,
          6,
          7,
          8,
          9,
          10,
          11,
          12,
          13,
          14,
          15,
          16,
          17,
          18,
          19,
          20
         ],
         "xaxis": "x",
         "y": [
          0.1846630631256569,
          0.28560451242944257,
          0.4402637123190366,
          0.29323125194685173,
          0.14783254100166757,
          0.2670455522927172,
          0.2670455522927172,
          0.2670455522927172,
          0.29323125194685173,
          0.30154621894438477,
          0.2670455522927172,
          0.2670455522927172,
          0.2670455522927172,
          0.2670455522927172,
          0.2670455522927172,
          0.2670455522927172,
          0.30154621894438477,
          0.4322874205387612,
          0.2670455522927172
         ],
         "yaxis": "y"
        },
        {
         "name": "PCA",
         "type": "scatter",
         "x": [
          2,
          3,
          4,
          5,
          6,
          7,
          8,
          9,
          10,
          11,
          12,
          13,
          14,
          15,
          16,
          17,
          18,
          19,
          20
         ],
         "xaxis": "x",
         "y": [
          0.49770180910512174,
          0.2357807067994838,
          0.38200434873154376,
          0.23036817127539116,
          0.18970528434781972,
          0.17521820892711615,
          0.18286253233517347,
          0.19836507240447845,
          0.24664877344932173,
          0.1775089804057522,
          0.1786749504186974,
          0.11699610504480912,
          0.15236154010491437,
          0.14886104141739068,
          0.13188981632421662,
          0.10156279140110039,
          0.14388729078247042,
          0.15352959903320842,
          0.15161212629752435
         ],
         "yaxis": "y"
        },
        {
         "name": "Base original",
         "type": "scatter",
         "x": [
          2,
          3,
          4,
          5,
          6,
          7,
          8,
          9,
          10,
          11,
          12,
          13,
          14,
          15,
          16,
          17,
          18,
          19,
          20
         ],
         "xaxis": "x2",
         "y": [
          0.7238926673103409,
          0.8267389575479351,
          0.8411003001090379,
          0.8422711498762737,
          0.7478919279572902,
          0.8460005135385685,
          0.5516006335802692,
          0.550800539173825,
          0.6865914628177501,
          0.600841343103239,
          0.5621166848730019,
          0.5753763514455976,
          0.582724396412693,
          0.6013967058853731,
          0.5868791917459202,
          0.6032780839635827,
          0.55266422443003,
          0.5891614373978024,
          0.552585399786968
         ],
         "yaxis": "y2"
        },
        {
         "name": "Correlação",
         "type": "scatter",
         "x": [
          2,
          3,
          4,
          5,
          6,
          7,
          8,
          9,
          10,
          11,
          12,
          13,
          14,
          15,
          16,
          17,
          18,
          19,
          20
         ],
         "xaxis": "x2",
         "y": [
          0.9145328995049551,
          0.922397769787499,
          0.6509325377095811,
          0.8414359107437577,
          0.9164770994719947,
          0.8334442705470412,
          0.8334442705470412,
          0.8334442705470412,
          0.8414359107437577,
          0.8256963394397729,
          0.8334442705470412,
          0.8334442705470412,
          0.8334442705470412,
          0.8334442705470412,
          0.8334442705470412,
          0.8334442705470412,
          0.8256963394397729,
          0.8253589719708492,
          0.8334442705470412
         ],
         "yaxis": "y2"
        },
        {
         "name": "PCA",
         "type": "scatter",
         "x": [
          2,
          3,
          4,
          5,
          6,
          7,
          8,
          9,
          10,
          11,
          12,
          13,
          14,
          15,
          16,
          17,
          18,
          19,
          20
         ],
         "xaxis": "x2",
         "y": [
          0.7480564865514782,
          0.8628311282562606,
          0.8736822583622347,
          0.9006873695900878,
          0.9148395025963335,
          0.9226836148722516,
          0.9237944674919369,
          0.8987689138321926,
          0.8939841239174312,
          0.8912555480988584,
          0.8997119589887366,
          0.9110998041659648,
          0.8988359913670284,
          0.9008640673915002,
          0.9011062627196815,
          0.9003371956126749,
          0.8856074749232031,
          0.8674315450463416,
          0.8679836751910197
         ],
         "yaxis": "y2"
        },
        {
         "name": "Base original",
         "type": "scatter",
         "x": [
          2,
          3,
          4,
          5,
          6,
          7,
          8,
          9,
          10,
          11,
          12,
          13,
          14,
          15,
          16,
          17,
          18,
          19,
          20
         ],
         "xaxis": "x3",
         "y": [
          0.002603601244336508,
          -0.02508453931117638,
          -0.023189046838541488,
          -0.02114934762260645,
          -0.013092238782921444,
          -0.03196041598969044,
          -0.016045209935792847,
          -0.0158405606130855,
          -0.0210205337727737,
          -0.014042730198856036,
          -0.013205351665593803,
          -0.012265473550019518,
          0.010500639267381397,
          -0.0019056138208467413,
          -0.0044330830773712014,
          0.0040648305611537625,
          0.01948872358172988,
          0.009643699797143824,
          0.014662899985260753
         ],
         "yaxis": "y3"
        },
        {
         "name": "Correlação",
         "type": "scatter",
         "x": [
          2,
          3,
          4,
          5,
          6,
          7,
          8,
          9,
          10,
          11,
          12,
          13,
          14,
          15,
          16,
          17,
          18,
          19,
          20
         ],
         "xaxis": "x3",
         "y": [
          0.03133685967382861,
          0.03514781626295505,
          0.1849904240689659,
          0.03616860423332026,
          0.03544776574651344,
          0.03728131591683664,
          0.03728131591683664,
          0.03728131591683664,
          0.03616860423332026,
          0.03637762331001303,
          0.03728131591683664,
          0.03728131591683664,
          0.03728131591683664,
          0.03728131591683664,
          0.03728131591683664,
          0.03728131591683664,
          0.03637762331001303,
          0.03980093544913973,
          0.03728131591683664
         ],
         "yaxis": "y3"
        },
        {
         "name": "PCA",
         "type": "scatter",
         "x": [
          2,
          3,
          4,
          5,
          6,
          7,
          8,
          9,
          10,
          11,
          12,
          13,
          14,
          15,
          16,
          17,
          18,
          19,
          20
         ],
         "xaxis": "x3",
         "y": [
          0.002603601244336508,
          -0.02508453931117638,
          -0.021062398961195727,
          -0.02114934762260645,
          -0.032179839130166754,
          -0.02387874498346601,
          -0.023666640977733532,
          -0.014970323206609371,
          -0.014720539916810204,
          -0.013308909031624802,
          -0.015136000223868188,
          -0.014788528540759545,
          -0.01441803077538909,
          -0.01445608102686848,
          -0.014457109566392491,
          -0.014370373512718554,
          -0.014077283880164037,
          -0.01430424979129009,
          -0.014157498465479472
         ],
         "yaxis": "y3"
        }
       ],
       "layout": {
        "annotations": [
         {
          "font": {
           "size": 16
          },
          "showarrow": false,
          "text": "Índice - Davies-Bouldin",
          "x": 0.14444444444444446,
          "xanchor": "center",
          "xref": "paper",
          "y": 1,
          "yanchor": "bottom",
          "yref": "paper"
         },
         {
          "font": {
           "size": 16
          },
          "showarrow": false,
          "text": "Índice - Silhouette",
          "x": 0.5,
          "xanchor": "center",
          "xref": "paper",
          "y": 1,
          "yanchor": "bottom",
          "yref": "paper"
         },
         {
          "font": {
           "size": 16
          },
          "showarrow": false,
          "text": "Índice - Adjusted Rand Score",
          "x": 0.8555555555555556,
          "xanchor": "center",
          "xref": "paper",
          "y": 1,
          "yanchor": "bottom",
          "yref": "paper"
         }
        ],
        "boxmode": "group",
        "showlegend": true,
        "template": {
         "data": {
          "bar": [
           {
            "error_x": {
             "color": "#2a3f5f"
            },
            "error_y": {
             "color": "#2a3f5f"
            },
            "marker": {
             "line": {
              "color": "#E5ECF6",
              "width": 0.5
             },
             "pattern": {
              "fillmode": "overlay",
              "size": 10,
              "solidity": 0.2
             }
            },
            "type": "bar"
           }
          ],
          "barpolar": [
           {
            "marker": {
             "line": {
              "color": "#E5ECF6",
              "width": 0.5
             },
             "pattern": {
              "fillmode": "overlay",
              "size": 10,
              "solidity": 0.2
             }
            },
            "type": "barpolar"
           }
          ],
          "carpet": [
           {
            "aaxis": {
             "endlinecolor": "#2a3f5f",
             "gridcolor": "white",
             "linecolor": "white",
             "minorgridcolor": "white",
             "startlinecolor": "#2a3f5f"
            },
            "baxis": {
             "endlinecolor": "#2a3f5f",
             "gridcolor": "white",
             "linecolor": "white",
             "minorgridcolor": "white",
             "startlinecolor": "#2a3f5f"
            },
            "type": "carpet"
           }
          ],
          "choropleth": [
           {
            "colorbar": {
             "outlinewidth": 0,
             "ticks": ""
            },
            "type": "choropleth"
           }
          ],
          "contour": [
           {
            "colorbar": {
             "outlinewidth": 0,
             "ticks": ""
            },
            "colorscale": [
             [
              0,
              "#0d0887"
             ],
             [
              0.1111111111111111,
              "#46039f"
             ],
             [
              0.2222222222222222,
              "#7201a8"
             ],
             [
              0.3333333333333333,
              "#9c179e"
             ],
             [
              0.4444444444444444,
              "#bd3786"
             ],
             [
              0.5555555555555556,
              "#d8576b"
             ],
             [
              0.6666666666666666,
              "#ed7953"
             ],
             [
              0.7777777777777778,
              "#fb9f3a"
             ],
             [
              0.8888888888888888,
              "#fdca26"
             ],
             [
              1,
              "#f0f921"
             ]
            ],
            "type": "contour"
           }
          ],
          "contourcarpet": [
           {
            "colorbar": {
             "outlinewidth": 0,
             "ticks": ""
            },
            "type": "contourcarpet"
           }
          ],
          "heatmap": [
           {
            "colorbar": {
             "outlinewidth": 0,
             "ticks": ""
            },
            "colorscale": [
             [
              0,
              "#0d0887"
             ],
             [
              0.1111111111111111,
              "#46039f"
             ],
             [
              0.2222222222222222,
              "#7201a8"
             ],
             [
              0.3333333333333333,
              "#9c179e"
             ],
             [
              0.4444444444444444,
              "#bd3786"
             ],
             [
              0.5555555555555556,
              "#d8576b"
             ],
             [
              0.6666666666666666,
              "#ed7953"
             ],
             [
              0.7777777777777778,
              "#fb9f3a"
             ],
             [
              0.8888888888888888,
              "#fdca26"
             ],
             [
              1,
              "#f0f921"
             ]
            ],
            "type": "heatmap"
           }
          ],
          "heatmapgl": [
           {
            "colorbar": {
             "outlinewidth": 0,
             "ticks": ""
            },
            "colorscale": [
             [
              0,
              "#0d0887"
             ],
             [
              0.1111111111111111,
              "#46039f"
             ],
             [
              0.2222222222222222,
              "#7201a8"
             ],
             [
              0.3333333333333333,
              "#9c179e"
             ],
             [
              0.4444444444444444,
              "#bd3786"
             ],
             [
              0.5555555555555556,
              "#d8576b"
             ],
             [
              0.6666666666666666,
              "#ed7953"
             ],
             [
              0.7777777777777778,
              "#fb9f3a"
             ],
             [
              0.8888888888888888,
              "#fdca26"
             ],
             [
              1,
              "#f0f921"
             ]
            ],
            "type": "heatmapgl"
           }
          ],
          "histogram": [
           {
            "marker": {
             "pattern": {
              "fillmode": "overlay",
              "size": 10,
              "solidity": 0.2
             }
            },
            "type": "histogram"
           }
          ],
          "histogram2d": [
           {
            "colorbar": {
             "outlinewidth": 0,
             "ticks": ""
            },
            "colorscale": [
             [
              0,
              "#0d0887"
             ],
             [
              0.1111111111111111,
              "#46039f"
             ],
             [
              0.2222222222222222,
              "#7201a8"
             ],
             [
              0.3333333333333333,
              "#9c179e"
             ],
             [
              0.4444444444444444,
              "#bd3786"
             ],
             [
              0.5555555555555556,
              "#d8576b"
             ],
             [
              0.6666666666666666,
              "#ed7953"
             ],
             [
              0.7777777777777778,
              "#fb9f3a"
             ],
             [
              0.8888888888888888,
              "#fdca26"
             ],
             [
              1,
              "#f0f921"
             ]
            ],
            "type": "histogram2d"
           }
          ],
          "histogram2dcontour": [
           {
            "colorbar": {
             "outlinewidth": 0,
             "ticks": ""
            },
            "colorscale": [
             [
              0,
              "#0d0887"
             ],
             [
              0.1111111111111111,
              "#46039f"
             ],
             [
              0.2222222222222222,
              "#7201a8"
             ],
             [
              0.3333333333333333,
              "#9c179e"
             ],
             [
              0.4444444444444444,
              "#bd3786"
             ],
             [
              0.5555555555555556,
              "#d8576b"
             ],
             [
              0.6666666666666666,
              "#ed7953"
             ],
             [
              0.7777777777777778,
              "#fb9f3a"
             ],
             [
              0.8888888888888888,
              "#fdca26"
             ],
             [
              1,
              "#f0f921"
             ]
            ],
            "type": "histogram2dcontour"
           }
          ],
          "mesh3d": [
           {
            "colorbar": {
             "outlinewidth": 0,
             "ticks": ""
            },
            "type": "mesh3d"
           }
          ],
          "parcoords": [
           {
            "line": {
             "colorbar": {
              "outlinewidth": 0,
              "ticks": ""
             }
            },
            "type": "parcoords"
           }
          ],
          "pie": [
           {
            "automargin": true,
            "type": "pie"
           }
          ],
          "scatter": [
           {
            "fillpattern": {
             "fillmode": "overlay",
             "size": 10,
             "solidity": 0.2
            },
            "type": "scatter"
           }
          ],
          "scatter3d": [
           {
            "line": {
             "colorbar": {
              "outlinewidth": 0,
              "ticks": ""
             }
            },
            "marker": {
             "colorbar": {
              "outlinewidth": 0,
              "ticks": ""
             }
            },
            "type": "scatter3d"
           }
          ],
          "scattercarpet": [
           {
            "marker": {
             "colorbar": {
              "outlinewidth": 0,
              "ticks": ""
             }
            },
            "type": "scattercarpet"
           }
          ],
          "scattergeo": [
           {
            "marker": {
             "colorbar": {
              "outlinewidth": 0,
              "ticks": ""
             }
            },
            "type": "scattergeo"
           }
          ],
          "scattergl": [
           {
            "marker": {
             "colorbar": {
              "outlinewidth": 0,
              "ticks": ""
             }
            },
            "type": "scattergl"
           }
          ],
          "scattermapbox": [
           {
            "marker": {
             "colorbar": {
              "outlinewidth": 0,
              "ticks": ""
             }
            },
            "type": "scattermapbox"
           }
          ],
          "scatterpolar": [
           {
            "marker": {
             "colorbar": {
              "outlinewidth": 0,
              "ticks": ""
             }
            },
            "type": "scatterpolar"
           }
          ],
          "scatterpolargl": [
           {
            "marker": {
             "colorbar": {
              "outlinewidth": 0,
              "ticks": ""
             }
            },
            "type": "scatterpolargl"
           }
          ],
          "scatterternary": [
           {
            "marker": {
             "colorbar": {
              "outlinewidth": 0,
              "ticks": ""
             }
            },
            "type": "scatterternary"
           }
          ],
          "surface": [
           {
            "colorbar": {
             "outlinewidth": 0,
             "ticks": ""
            },
            "colorscale": [
             [
              0,
              "#0d0887"
             ],
             [
              0.1111111111111111,
              "#46039f"
             ],
             [
              0.2222222222222222,
              "#7201a8"
             ],
             [
              0.3333333333333333,
              "#9c179e"
             ],
             [
              0.4444444444444444,
              "#bd3786"
             ],
             [
              0.5555555555555556,
              "#d8576b"
             ],
             [
              0.6666666666666666,
              "#ed7953"
             ],
             [
              0.7777777777777778,
              "#fb9f3a"
             ],
             [
              0.8888888888888888,
              "#fdca26"
             ],
             [
              1,
              "#f0f921"
             ]
            ],
            "type": "surface"
           }
          ],
          "table": [
           {
            "cells": {
             "fill": {
              "color": "#EBF0F8"
             },
             "line": {
              "color": "white"
             }
            },
            "header": {
             "fill": {
              "color": "#C8D4E3"
             },
             "line": {
              "color": "white"
             }
            },
            "type": "table"
           }
          ]
         },
         "layout": {
          "annotationdefaults": {
           "arrowcolor": "#2a3f5f",
           "arrowhead": 0,
           "arrowwidth": 1
          },
          "autotypenumbers": "strict",
          "coloraxis": {
           "colorbar": {
            "outlinewidth": 0,
            "ticks": ""
           }
          },
          "colorscale": {
           "diverging": [
            [
             0,
             "#8e0152"
            ],
            [
             0.1,
             "#c51b7d"
            ],
            [
             0.2,
             "#de77ae"
            ],
            [
             0.3,
             "#f1b6da"
            ],
            [
             0.4,
             "#fde0ef"
            ],
            [
             0.5,
             "#f7f7f7"
            ],
            [
             0.6,
             "#e6f5d0"
            ],
            [
             0.7,
             "#b8e186"
            ],
            [
             0.8,
             "#7fbc41"
            ],
            [
             0.9,
             "#4d9221"
            ],
            [
             1,
             "#276419"
            ]
           ],
           "sequential": [
            [
             0,
             "#0d0887"
            ],
            [
             0.1111111111111111,
             "#46039f"
            ],
            [
             0.2222222222222222,
             "#7201a8"
            ],
            [
             0.3333333333333333,
             "#9c179e"
            ],
            [
             0.4444444444444444,
             "#bd3786"
            ],
            [
             0.5555555555555556,
             "#d8576b"
            ],
            [
             0.6666666666666666,
             "#ed7953"
            ],
            [
             0.7777777777777778,
             "#fb9f3a"
            ],
            [
             0.8888888888888888,
             "#fdca26"
            ],
            [
             1,
             "#f0f921"
            ]
           ],
           "sequentialminus": [
            [
             0,
             "#0d0887"
            ],
            [
             0.1111111111111111,
             "#46039f"
            ],
            [
             0.2222222222222222,
             "#7201a8"
            ],
            [
             0.3333333333333333,
             "#9c179e"
            ],
            [
             0.4444444444444444,
             "#bd3786"
            ],
            [
             0.5555555555555556,
             "#d8576b"
            ],
            [
             0.6666666666666666,
             "#ed7953"
            ],
            [
             0.7777777777777778,
             "#fb9f3a"
            ],
            [
             0.8888888888888888,
             "#fdca26"
            ],
            [
             1,
             "#f0f921"
            ]
           ]
          },
          "colorway": [
           "#636efa",
           "#EF553B",
           "#00cc96",
           "#ab63fa",
           "#FFA15A",
           "#19d3f3",
           "#FF6692",
           "#B6E880",
           "#FF97FF",
           "#FECB52"
          ],
          "font": {
           "color": "#2a3f5f"
          },
          "geo": {
           "bgcolor": "white",
           "lakecolor": "white",
           "landcolor": "#E5ECF6",
           "showlakes": true,
           "showland": true,
           "subunitcolor": "white"
          },
          "hoverlabel": {
           "align": "left"
          },
          "hovermode": "closest",
          "mapbox": {
           "style": "light"
          },
          "paper_bgcolor": "white",
          "plot_bgcolor": "#E5ECF6",
          "polar": {
           "angularaxis": {
            "gridcolor": "white",
            "linecolor": "white",
            "ticks": ""
           },
           "bgcolor": "#E5ECF6",
           "radialaxis": {
            "gridcolor": "white",
            "linecolor": "white",
            "ticks": ""
           }
          },
          "scene": {
           "xaxis": {
            "backgroundcolor": "#E5ECF6",
            "gridcolor": "white",
            "gridwidth": 2,
            "linecolor": "white",
            "showbackground": true,
            "ticks": "",
            "zerolinecolor": "white"
           },
           "yaxis": {
            "backgroundcolor": "#E5ECF6",
            "gridcolor": "white",
            "gridwidth": 2,
            "linecolor": "white",
            "showbackground": true,
            "ticks": "",
            "zerolinecolor": "white"
           },
           "zaxis": {
            "backgroundcolor": "#E5ECF6",
            "gridcolor": "white",
            "gridwidth": 2,
            "linecolor": "white",
            "showbackground": true,
            "ticks": "",
            "zerolinecolor": "white"
           }
          },
          "shapedefaults": {
           "line": {
            "color": "#2a3f5f"
           }
          },
          "ternary": {
           "aaxis": {
            "gridcolor": "white",
            "linecolor": "white",
            "ticks": ""
           },
           "baxis": {
            "gridcolor": "white",
            "linecolor": "white",
            "ticks": ""
           },
           "bgcolor": "#E5ECF6",
           "caxis": {
            "gridcolor": "white",
            "linecolor": "white",
            "ticks": ""
           }
          },
          "title": {
           "x": 0.05
          },
          "xaxis": {
           "automargin": true,
           "gridcolor": "white",
           "linecolor": "white",
           "ticks": "",
           "title": {
            "standoff": 15
           },
           "zerolinecolor": "white",
           "zerolinewidth": 2
          },
          "yaxis": {
           "automargin": true,
           "gridcolor": "white",
           "linecolor": "white",
           "ticks": "",
           "title": {
            "standoff": 15
           },
           "zerolinecolor": "white",
           "zerolinewidth": 2
          }
         }
        },
        "title": {
         "text": "Gráfico de EM"
        },
        "xaxis": {
         "anchor": "y",
         "domain": [
          0,
          0.2888888888888889
         ]
        },
        "xaxis2": {
         "anchor": "y2",
         "domain": [
          0.35555555555555557,
          0.6444444444444445
         ]
        },
        "xaxis3": {
         "anchor": "y3",
         "domain": [
          0.7111111111111111,
          1
         ]
        },
        "yaxis": {
         "anchor": "x",
         "domain": [
          0,
          1
         ]
        },
        "yaxis2": {
         "anchor": "x2",
         "domain": [
          0,
          1
         ]
        },
        "yaxis3": {
         "anchor": "x3",
         "domain": [
          0,
          1
         ]
        }
       }
      }
     },
     "metadata": {},
     "output_type": "display_data"
    }
   ],
   "source": [
    "plot_cluster_indices(data_tfidf, selected_df_corr, selected_df_pca, labels, 'em', cov_type='full')"
   ]
  },
  {
   "cell_type": "code",
   "execution_count": 207,
   "metadata": {},
   "outputs": [
    {
     "data": {
      "application/vnd.plotly.v1+json": {
       "config": {
        "plotlyServerURL": "https://plot.ly"
       },
       "data": [
        {
         "name": "Base original",
         "type": "scatter",
         "x": [
          2,
          3,
          4,
          5,
          6,
          7,
          8,
          9,
          10,
          11,
          12,
          13,
          14,
          15,
          16,
          17,
          18,
          19,
          20
         ],
         "xaxis": "x",
         "y": [
          0.2528647266090228,
          0.2528647266090228,
          0.2528647266090228,
          0.2528647266090228,
          0.2528647266090228,
          0.2528647266090228,
          0.2528647266090228,
          0.2528647266090228,
          0.2528647266090228,
          0.2528647266090228,
          0.2528647266090228,
          0.2528647266090228,
          0.2528647266090228,
          0.2528647266090228,
          0.2528647266090228,
          0.2528647266090228,
          0.2528647266090228,
          0.2528647266090228,
          0.2528647266090228
         ],
         "yaxis": "y"
        },
        {
         "name": "Correlação",
         "type": "scatter",
         "x": [
          2,
          3,
          4,
          5,
          6,
          7,
          8,
          9,
          10,
          11,
          12,
          13,
          14,
          15,
          16,
          17,
          18,
          19,
          20
         ],
         "xaxis": "x",
         "y": [
          {},
          {},
          {},
          {},
          {},
          {},
          {},
          {},
          {},
          {},
          {},
          {},
          {},
          {},
          {},
          {},
          {},
          {},
          {}
         ],
         "yaxis": "y"
        },
        {
         "name": "PCA",
         "type": "scatter",
         "x": [
          2,
          3,
          4,
          5,
          6,
          7,
          8,
          9,
          10,
          11,
          12,
          13,
          14,
          15,
          16,
          17,
          18,
          19,
          20
         ],
         "xaxis": "x",
         "y": [
          0.2357807067994838,
          0.2357807067994838,
          0.2357807067994838,
          0.2357807067994838,
          0.2357807067994838,
          0.2357807067994838,
          0.2357807067994838,
          0.2357807067994838,
          0.2357807067994838,
          0.2357807067994838,
          0.2357807067994838,
          0.2357807067994838,
          0.2357807067994838,
          0.2357807067994838,
          0.2357807067994838,
          0.2357807067994838,
          0.2357807067994838,
          0.2357807067994838,
          0.2357807067994838
         ],
         "yaxis": "y"
        },
        {
         "name": "Base original",
         "type": "scatter",
         "x": [
          2,
          3,
          4,
          5,
          6,
          7,
          8,
          9,
          10,
          11,
          12,
          13,
          14,
          15,
          16,
          17,
          18,
          19,
          20
         ],
         "xaxis": "x2",
         "y": [
          0.8267389575479351,
          0.8267389575479351,
          0.8267389575479351,
          0.8267389575479351,
          0.8267389575479351,
          0.8267389575479351,
          0.8267389575479351,
          0.8267389575479351,
          0.8267389575479351,
          0.8267389575479351,
          0.8267389575479351,
          0.8267389575479351,
          0.8267389575479351,
          0.8267389575479351,
          0.8267389575479351,
          0.8267389575479351,
          0.8267389575479351,
          0.8267389575479351,
          0.8267389575479351
         ],
         "yaxis": "y2"
        },
        {
         "name": "Correlação",
         "type": "scatter",
         "x": [
          2,
          3,
          4,
          5,
          6,
          7,
          8,
          9,
          10,
          11,
          12,
          13,
          14,
          15,
          16,
          17,
          18,
          19,
          20
         ],
         "xaxis": "x2",
         "y": [
          {},
          {},
          {},
          {},
          {},
          {},
          {},
          {},
          {},
          {},
          {},
          {},
          {},
          {},
          {},
          {},
          {},
          {},
          {}
         ],
         "yaxis": "y2"
        },
        {
         "name": "PCA",
         "type": "scatter",
         "x": [
          2,
          3,
          4,
          5,
          6,
          7,
          8,
          9,
          10,
          11,
          12,
          13,
          14,
          15,
          16,
          17,
          18,
          19,
          20
         ],
         "xaxis": "x2",
         "y": [
          0.8628311282562606,
          0.8628311282562606,
          0.8628311282562606,
          0.8628311282562606,
          0.8628311282562606,
          0.8628311282562606,
          0.8628311282562606,
          0.8628311282562606,
          0.8628311282562606,
          0.8628311282562606,
          0.8628311282562606,
          0.8628311282562606,
          0.8628311282562606,
          0.8628311282562606,
          0.8628311282562606,
          0.8628311282562606,
          0.8628311282562606,
          0.8628311282562606,
          0.8628311282562606
         ],
         "yaxis": "y2"
        },
        {
         "name": "Base original",
         "type": "scatter",
         "x": [
          2,
          3,
          4,
          5,
          6,
          7,
          8,
          9,
          10,
          11,
          12,
          13,
          14,
          15,
          16,
          17,
          18,
          19,
          20
         ],
         "xaxis": "x3",
         "y": [
          -0.02508453931117638,
          -0.02508453931117638,
          -0.02508453931117638,
          -0.02508453931117638,
          -0.02508453931117638,
          -0.02508453931117638,
          -0.02508453931117638,
          -0.02508453931117638,
          -0.02508453931117638,
          -0.02508453931117638,
          -0.02508453931117638,
          -0.02508453931117638,
          -0.02508453931117638,
          -0.02508453931117638,
          -0.02508453931117638,
          -0.02508453931117638,
          -0.02508453931117638,
          -0.02508453931117638,
          -0.02508453931117638
         ],
         "yaxis": "y3"
        },
        {
         "name": "Correlação",
         "type": "scatter",
         "x": [
          2,
          3,
          4,
          5,
          6,
          7,
          8,
          9,
          10,
          11,
          12,
          13,
          14,
          15,
          16,
          17,
          18,
          19,
          20
         ],
         "xaxis": "x3",
         "y": [
          {},
          {},
          {},
          {},
          {},
          {},
          {},
          {},
          {},
          {},
          {},
          {},
          {},
          {},
          {},
          {},
          {},
          {},
          {}
         ],
         "yaxis": "y3"
        },
        {
         "name": "PCA",
         "type": "scatter",
         "x": [
          2,
          3,
          4,
          5,
          6,
          7,
          8,
          9,
          10,
          11,
          12,
          13,
          14,
          15,
          16,
          17,
          18,
          19,
          20
         ],
         "xaxis": "x3",
         "y": [
          -0.02508453931117638,
          -0.02508453931117638,
          -0.02508453931117638,
          -0.02508453931117638,
          -0.02508453931117638,
          -0.02508453931117638,
          -0.02508453931117638,
          -0.02508453931117638,
          -0.02508453931117638,
          -0.02508453931117638,
          -0.02508453931117638,
          -0.02508453931117638,
          -0.02508453931117638,
          -0.02508453931117638,
          -0.02508453931117638,
          -0.02508453931117638,
          -0.02508453931117638,
          -0.02508453931117638,
          -0.02508453931117638
         ],
         "yaxis": "y3"
        }
       ],
       "layout": {
        "annotations": [
         {
          "font": {
           "size": 16
          },
          "showarrow": false,
          "text": "Índice - Davies-Bouldin",
          "x": 0.14444444444444446,
          "xanchor": "center",
          "xref": "paper",
          "y": 1,
          "yanchor": "bottom",
          "yref": "paper"
         },
         {
          "font": {
           "size": 16
          },
          "showarrow": false,
          "text": "Índice - Silhouette",
          "x": 0.5,
          "xanchor": "center",
          "xref": "paper",
          "y": 1,
          "yanchor": "bottom",
          "yref": "paper"
         },
         {
          "font": {
           "size": 16
          },
          "showarrow": false,
          "text": "Índice - Adjusted Rand Score",
          "x": 0.8555555555555556,
          "xanchor": "center",
          "xref": "paper",
          "y": 1,
          "yanchor": "bottom",
          "yref": "paper"
         }
        ],
        "boxmode": "group",
        "showlegend": true,
        "template": {
         "data": {
          "bar": [
           {
            "error_x": {
             "color": "#2a3f5f"
            },
            "error_y": {
             "color": "#2a3f5f"
            },
            "marker": {
             "line": {
              "color": "#E5ECF6",
              "width": 0.5
             },
             "pattern": {
              "fillmode": "overlay",
              "size": 10,
              "solidity": 0.2
             }
            },
            "type": "bar"
           }
          ],
          "barpolar": [
           {
            "marker": {
             "line": {
              "color": "#E5ECF6",
              "width": 0.5
             },
             "pattern": {
              "fillmode": "overlay",
              "size": 10,
              "solidity": 0.2
             }
            },
            "type": "barpolar"
           }
          ],
          "carpet": [
           {
            "aaxis": {
             "endlinecolor": "#2a3f5f",
             "gridcolor": "white",
             "linecolor": "white",
             "minorgridcolor": "white",
             "startlinecolor": "#2a3f5f"
            },
            "baxis": {
             "endlinecolor": "#2a3f5f",
             "gridcolor": "white",
             "linecolor": "white",
             "minorgridcolor": "white",
             "startlinecolor": "#2a3f5f"
            },
            "type": "carpet"
           }
          ],
          "choropleth": [
           {
            "colorbar": {
             "outlinewidth": 0,
             "ticks": ""
            },
            "type": "choropleth"
           }
          ],
          "contour": [
           {
            "colorbar": {
             "outlinewidth": 0,
             "ticks": ""
            },
            "colorscale": [
             [
              0,
              "#0d0887"
             ],
             [
              0.1111111111111111,
              "#46039f"
             ],
             [
              0.2222222222222222,
              "#7201a8"
             ],
             [
              0.3333333333333333,
              "#9c179e"
             ],
             [
              0.4444444444444444,
              "#bd3786"
             ],
             [
              0.5555555555555556,
              "#d8576b"
             ],
             [
              0.6666666666666666,
              "#ed7953"
             ],
             [
              0.7777777777777778,
              "#fb9f3a"
             ],
             [
              0.8888888888888888,
              "#fdca26"
             ],
             [
              1,
              "#f0f921"
             ]
            ],
            "type": "contour"
           }
          ],
          "contourcarpet": [
           {
            "colorbar": {
             "outlinewidth": 0,
             "ticks": ""
            },
            "type": "contourcarpet"
           }
          ],
          "heatmap": [
           {
            "colorbar": {
             "outlinewidth": 0,
             "ticks": ""
            },
            "colorscale": [
             [
              0,
              "#0d0887"
             ],
             [
              0.1111111111111111,
              "#46039f"
             ],
             [
              0.2222222222222222,
              "#7201a8"
             ],
             [
              0.3333333333333333,
              "#9c179e"
             ],
             [
              0.4444444444444444,
              "#bd3786"
             ],
             [
              0.5555555555555556,
              "#d8576b"
             ],
             [
              0.6666666666666666,
              "#ed7953"
             ],
             [
              0.7777777777777778,
              "#fb9f3a"
             ],
             [
              0.8888888888888888,
              "#fdca26"
             ],
             [
              1,
              "#f0f921"
             ]
            ],
            "type": "heatmap"
           }
          ],
          "heatmapgl": [
           {
            "colorbar": {
             "outlinewidth": 0,
             "ticks": ""
            },
            "colorscale": [
             [
              0,
              "#0d0887"
             ],
             [
              0.1111111111111111,
              "#46039f"
             ],
             [
              0.2222222222222222,
              "#7201a8"
             ],
             [
              0.3333333333333333,
              "#9c179e"
             ],
             [
              0.4444444444444444,
              "#bd3786"
             ],
             [
              0.5555555555555556,
              "#d8576b"
             ],
             [
              0.6666666666666666,
              "#ed7953"
             ],
             [
              0.7777777777777778,
              "#fb9f3a"
             ],
             [
              0.8888888888888888,
              "#fdca26"
             ],
             [
              1,
              "#f0f921"
             ]
            ],
            "type": "heatmapgl"
           }
          ],
          "histogram": [
           {
            "marker": {
             "pattern": {
              "fillmode": "overlay",
              "size": 10,
              "solidity": 0.2
             }
            },
            "type": "histogram"
           }
          ],
          "histogram2d": [
           {
            "colorbar": {
             "outlinewidth": 0,
             "ticks": ""
            },
            "colorscale": [
             [
              0,
              "#0d0887"
             ],
             [
              0.1111111111111111,
              "#46039f"
             ],
             [
              0.2222222222222222,
              "#7201a8"
             ],
             [
              0.3333333333333333,
              "#9c179e"
             ],
             [
              0.4444444444444444,
              "#bd3786"
             ],
             [
              0.5555555555555556,
              "#d8576b"
             ],
             [
              0.6666666666666666,
              "#ed7953"
             ],
             [
              0.7777777777777778,
              "#fb9f3a"
             ],
             [
              0.8888888888888888,
              "#fdca26"
             ],
             [
              1,
              "#f0f921"
             ]
            ],
            "type": "histogram2d"
           }
          ],
          "histogram2dcontour": [
           {
            "colorbar": {
             "outlinewidth": 0,
             "ticks": ""
            },
            "colorscale": [
             [
              0,
              "#0d0887"
             ],
             [
              0.1111111111111111,
              "#46039f"
             ],
             [
              0.2222222222222222,
              "#7201a8"
             ],
             [
              0.3333333333333333,
              "#9c179e"
             ],
             [
              0.4444444444444444,
              "#bd3786"
             ],
             [
              0.5555555555555556,
              "#d8576b"
             ],
             [
              0.6666666666666666,
              "#ed7953"
             ],
             [
              0.7777777777777778,
              "#fb9f3a"
             ],
             [
              0.8888888888888888,
              "#fdca26"
             ],
             [
              1,
              "#f0f921"
             ]
            ],
            "type": "histogram2dcontour"
           }
          ],
          "mesh3d": [
           {
            "colorbar": {
             "outlinewidth": 0,
             "ticks": ""
            },
            "type": "mesh3d"
           }
          ],
          "parcoords": [
           {
            "line": {
             "colorbar": {
              "outlinewidth": 0,
              "ticks": ""
             }
            },
            "type": "parcoords"
           }
          ],
          "pie": [
           {
            "automargin": true,
            "type": "pie"
           }
          ],
          "scatter": [
           {
            "fillpattern": {
             "fillmode": "overlay",
             "size": 10,
             "solidity": 0.2
            },
            "type": "scatter"
           }
          ],
          "scatter3d": [
           {
            "line": {
             "colorbar": {
              "outlinewidth": 0,
              "ticks": ""
             }
            },
            "marker": {
             "colorbar": {
              "outlinewidth": 0,
              "ticks": ""
             }
            },
            "type": "scatter3d"
           }
          ],
          "scattercarpet": [
           {
            "marker": {
             "colorbar": {
              "outlinewidth": 0,
              "ticks": ""
             }
            },
            "type": "scattercarpet"
           }
          ],
          "scattergeo": [
           {
            "marker": {
             "colorbar": {
              "outlinewidth": 0,
              "ticks": ""
             }
            },
            "type": "scattergeo"
           }
          ],
          "scattergl": [
           {
            "marker": {
             "colorbar": {
              "outlinewidth": 0,
              "ticks": ""
             }
            },
            "type": "scattergl"
           }
          ],
          "scattermapbox": [
           {
            "marker": {
             "colorbar": {
              "outlinewidth": 0,
              "ticks": ""
             }
            },
            "type": "scattermapbox"
           }
          ],
          "scatterpolar": [
           {
            "marker": {
             "colorbar": {
              "outlinewidth": 0,
              "ticks": ""
             }
            },
            "type": "scatterpolar"
           }
          ],
          "scatterpolargl": [
           {
            "marker": {
             "colorbar": {
              "outlinewidth": 0,
              "ticks": ""
             }
            },
            "type": "scatterpolargl"
           }
          ],
          "scatterternary": [
           {
            "marker": {
             "colorbar": {
              "outlinewidth": 0,
              "ticks": ""
             }
            },
            "type": "scatterternary"
           }
          ],
          "surface": [
           {
            "colorbar": {
             "outlinewidth": 0,
             "ticks": ""
            },
            "colorscale": [
             [
              0,
              "#0d0887"
             ],
             [
              0.1111111111111111,
              "#46039f"
             ],
             [
              0.2222222222222222,
              "#7201a8"
             ],
             [
              0.3333333333333333,
              "#9c179e"
             ],
             [
              0.4444444444444444,
              "#bd3786"
             ],
             [
              0.5555555555555556,
              "#d8576b"
             ],
             [
              0.6666666666666666,
              "#ed7953"
             ],
             [
              0.7777777777777778,
              "#fb9f3a"
             ],
             [
              0.8888888888888888,
              "#fdca26"
             ],
             [
              1,
              "#f0f921"
             ]
            ],
            "type": "surface"
           }
          ],
          "table": [
           {
            "cells": {
             "fill": {
              "color": "#EBF0F8"
             },
             "line": {
              "color": "white"
             }
            },
            "header": {
             "fill": {
              "color": "#C8D4E3"
             },
             "line": {
              "color": "white"
             }
            },
            "type": "table"
           }
          ]
         },
         "layout": {
          "annotationdefaults": {
           "arrowcolor": "#2a3f5f",
           "arrowhead": 0,
           "arrowwidth": 1
          },
          "autotypenumbers": "strict",
          "coloraxis": {
           "colorbar": {
            "outlinewidth": 0,
            "ticks": ""
           }
          },
          "colorscale": {
           "diverging": [
            [
             0,
             "#8e0152"
            ],
            [
             0.1,
             "#c51b7d"
            ],
            [
             0.2,
             "#de77ae"
            ],
            [
             0.3,
             "#f1b6da"
            ],
            [
             0.4,
             "#fde0ef"
            ],
            [
             0.5,
             "#f7f7f7"
            ],
            [
             0.6,
             "#e6f5d0"
            ],
            [
             0.7,
             "#b8e186"
            ],
            [
             0.8,
             "#7fbc41"
            ],
            [
             0.9,
             "#4d9221"
            ],
            [
             1,
             "#276419"
            ]
           ],
           "sequential": [
            [
             0,
             "#0d0887"
            ],
            [
             0.1111111111111111,
             "#46039f"
            ],
            [
             0.2222222222222222,
             "#7201a8"
            ],
            [
             0.3333333333333333,
             "#9c179e"
            ],
            [
             0.4444444444444444,
             "#bd3786"
            ],
            [
             0.5555555555555556,
             "#d8576b"
            ],
            [
             0.6666666666666666,
             "#ed7953"
            ],
            [
             0.7777777777777778,
             "#fb9f3a"
            ],
            [
             0.8888888888888888,
             "#fdca26"
            ],
            [
             1,
             "#f0f921"
            ]
           ],
           "sequentialminus": [
            [
             0,
             "#0d0887"
            ],
            [
             0.1111111111111111,
             "#46039f"
            ],
            [
             0.2222222222222222,
             "#7201a8"
            ],
            [
             0.3333333333333333,
             "#9c179e"
            ],
            [
             0.4444444444444444,
             "#bd3786"
            ],
            [
             0.5555555555555556,
             "#d8576b"
            ],
            [
             0.6666666666666666,
             "#ed7953"
            ],
            [
             0.7777777777777778,
             "#fb9f3a"
            ],
            [
             0.8888888888888888,
             "#fdca26"
            ],
            [
             1,
             "#f0f921"
            ]
           ]
          },
          "colorway": [
           "#636efa",
           "#EF553B",
           "#00cc96",
           "#ab63fa",
           "#FFA15A",
           "#19d3f3",
           "#FF6692",
           "#B6E880",
           "#FF97FF",
           "#FECB52"
          ],
          "font": {
           "color": "#2a3f5f"
          },
          "geo": {
           "bgcolor": "white",
           "lakecolor": "white",
           "landcolor": "#E5ECF6",
           "showlakes": true,
           "showland": true,
           "subunitcolor": "white"
          },
          "hoverlabel": {
           "align": "left"
          },
          "hovermode": "closest",
          "mapbox": {
           "style": "light"
          },
          "paper_bgcolor": "white",
          "plot_bgcolor": "#E5ECF6",
          "polar": {
           "angularaxis": {
            "gridcolor": "white",
            "linecolor": "white",
            "ticks": ""
           },
           "bgcolor": "#E5ECF6",
           "radialaxis": {
            "gridcolor": "white",
            "linecolor": "white",
            "ticks": ""
           }
          },
          "scene": {
           "xaxis": {
            "backgroundcolor": "#E5ECF6",
            "gridcolor": "white",
            "gridwidth": 2,
            "linecolor": "white",
            "showbackground": true,
            "ticks": "",
            "zerolinecolor": "white"
           },
           "yaxis": {
            "backgroundcolor": "#E5ECF6",
            "gridcolor": "white",
            "gridwidth": 2,
            "linecolor": "white",
            "showbackground": true,
            "ticks": "",
            "zerolinecolor": "white"
           },
           "zaxis": {
            "backgroundcolor": "#E5ECF6",
            "gridcolor": "white",
            "gridwidth": 2,
            "linecolor": "white",
            "showbackground": true,
            "ticks": "",
            "zerolinecolor": "white"
           }
          },
          "shapedefaults": {
           "line": {
            "color": "#2a3f5f"
           }
          },
          "ternary": {
           "aaxis": {
            "gridcolor": "white",
            "linecolor": "white",
            "ticks": ""
           },
           "baxis": {
            "gridcolor": "white",
            "linecolor": "white",
            "ticks": ""
           },
           "bgcolor": "#E5ECF6",
           "caxis": {
            "gridcolor": "white",
            "linecolor": "white",
            "ticks": ""
           }
          },
          "title": {
           "x": 0.05
          },
          "xaxis": {
           "automargin": true,
           "gridcolor": "white",
           "linecolor": "white",
           "ticks": "",
           "title": {
            "standoff": 15
           },
           "zerolinecolor": "white",
           "zerolinewidth": 2
          },
          "yaxis": {
           "automargin": true,
           "gridcolor": "white",
           "linecolor": "white",
           "ticks": "",
           "title": {
            "standoff": 15
           },
           "zerolinecolor": "white",
           "zerolinewidth": 2
          }
         }
        },
        "title": {
         "text": "Gráfico de DBSCAN"
        },
        "xaxis": {
         "anchor": "y",
         "domain": [
          0,
          0.2888888888888889
         ]
        },
        "xaxis2": {
         "anchor": "y2",
         "domain": [
          0.35555555555555557,
          0.6444444444444445
         ]
        },
        "xaxis3": {
         "anchor": "y3",
         "domain": [
          0.7111111111111111,
          1
         ]
        },
        "yaxis": {
         "anchor": "x",
         "domain": [
          0,
          1
         ]
        },
        "yaxis2": {
         "anchor": "x2",
         "domain": [
          0,
          1
         ]
        },
        "yaxis3": {
         "anchor": "x3",
         "domain": [
          0,
          1
         ]
        }
       }
      }
     },
     "metadata": {},
     "output_type": "display_data"
    }
   ],
   "source": [
    "# Giving error 'Number of labels is 1. Valid values are 2 to n_samples - 1 (inclusive)' how to solve?\n",
    "plot_cluster_indices(data_tfidf, selected_df_corr, selected_df_pca, labels, 'dbscan', eps_value=.1)"
   ]
  },
  {
   "cell_type": "code",
   "execution_count": 208,
   "metadata": {},
   "outputs": [],
   "source": [
    "# from sklearn.cluster import DBSCAN\n",
    "\n",
    "# for i in [.1, .2, .3, .4, .5, .6, .7, .8]:\n",
    "#     for index in range(2, 21):\n",
    "#         dbscan = DBSCAN(eps=i, min_samples=index)\n",
    "#         dbscan_labels = dbscan.fit_predict(data_tfidf)\n",
    "        \n",
    "#         n_noise = list(dbscan_labels).count(-1)\n",
    "#         n_clusters = len(set(dbscan_labels)) - (1 if -1 in dbscan_labels else 0)\n",
    "#         print(f'EPS: {i}, MIN_SAMPLES: {index}: {n_clusters} clusters, {n_noise} noise points')\n"
   ]
  },
  {
   "cell_type": "markdown",
   "metadata": {},
   "source": [
    "#### Comitê de Agrupamento"
   ]
  },
  {
   "cell_type": "markdown",
   "metadata": {},
   "source": [
    "##### Funções"
   ]
  },
  {
   "cell_type": "code",
   "execution_count": 209,
   "metadata": {},
   "outputs": [],
   "source": [
    "from sklearn.cluster import KMeans, DBSCAN, AgglomerativeClustering\n",
    "import numpy as np\n",
    "import pandas as pd\n",
    "\n",
    "def build_binary_matrix(clabels):\n",
    "    from scipy import sparse\n",
    "\n",
    "    data_len = len(clabels) \n",
    "\n",
    "    matrix = np.zeros((data_len, data_len))\n",
    "    \n",
    "    for index in range(data_len):\n",
    "        matrix[index,:] = clabels == clabels[index]\n",
    "\n",
    "    return matrix                                         "
   ]
  },
  {
   "cell_type": "code",
   "execution_count": 210,
   "metadata": {},
   "outputs": [],
   "source": [
    "def build_similarity_matrix(models_labels):\n",
    "    n_runs, n_data = models_labels.shape[0], models_labels.shape[1]\n",
    "\n",
    "    sim_matrix = np.zeros( (n_data, n_data) )\n",
    "\n",
    "    for index in range(n_runs):\n",
    "        sim_matrix += build_binary_matrix( models_labels[index,:] )\n",
    "\n",
    "    sim_matrix = sim_matrix / n_runs\n",
    "\n",
    "    return sim_matrix"
   ]
  },
  {
   "cell_type": "code",
   "execution_count": 211,
   "metadata": {},
   "outputs": [],
   "source": [
    "def get_kmeans_models(df, model_sizes):\n",
    "    from sklearn.cluster import KMeans\n",
    "    from sklearn.metrics import davies_bouldin_score, silhouette_score, adjusted_rand_score\n",
    "\n",
    "    clt_models = [KMeans(n_clusters=i, n_init=4, random_state=214)\n",
    "              for i in model_sizes]\n",
    "\n",
    "    for i, model in enumerate(clt_models):\n",
    "        model.fit(data_tfidf)\n",
    "\n",
    "    return clt_models"
   ]
  },
  {
   "cell_type": "code",
   "execution_count": 212,
   "metadata": {},
   "outputs": [],
   "source": [
    "def get_hierarquico_models(df, model_sizes):\n",
    "    from sklearn.cluster import AgglomerativeClustering\n",
    "\n",
    "    agglo_models = [AgglomerativeClustering(n_clusters=i)\n",
    "                  for i in model_sizes]\n",
    "\n",
    "    for i, model in enumerate(agglo_models):\n",
    "        model.fit(df)\n",
    "\n",
    "    return agglo_models"
   ]
  },
  {
   "cell_type": "code",
   "execution_count": 225,
   "metadata": {},
   "outputs": [],
   "source": [
    "def get_em_labels(df: pd.DataFrame, model_sizes):\n",
    "    from sklearn.mixture import GaussianMixture\n",
    "    \n",
    "    gmm_models = [GaussianMixture(n_components=i, random_state=214) for i in model_sizes]\n",
    "    models_labels_list = []\n",
    "\n",
    "    for i, model in enumerate(gmm_models):\n",
    "        model.fit(df)\n",
    "        labels = model.predict(df)\n",
    "        models_labels_list.append(labels)\n",
    "\n",
    "    models_labels = np.array(models_labels_list)\n",
    "\n",
    "    return models_labels"
   ]
  },
  {
   "cell_type": "code",
   "execution_count": 226,
   "metadata": {},
   "outputs": [],
   "source": [
    "def get_dbscan_models(df, NUM_MODELS):\n",
    "    from sklearn.cluster import DBSCAN\n",
    "\n",
    "    eps_values = np.random.uniform(.1, 1.0, size=NUM_MODELS[2])\n",
    "    min_samples_values = np.random.randint(2, 20, size=NUM_MODELS[2])\n",
    "\n",
    "    dbscan_models = [DBSCAN(eps=eps, min_samples=ms) for eps, ms in zip(eps_values, min_samples_values)]\n",
    "\n",
    "    for i, model in enumerate(dbscan_models):\n",
    "        model.fit(df)\n",
    "     \n",
    "    return dbscan_models"
   ]
  },
  {
   "cell_type": "code",
   "execution_count": 227,
   "metadata": {},
   "outputs": [],
   "source": [
    "def get_similarity_matrix(clt_models):\n",
    "    models_labels = np.array([model.labels_ for model in clt_models])\n",
    "    sim_matrix = build_similarity_matrix(models_labels)\n",
    "\n",
    "    return sim_matrix"
   ]
  },
  {
   "cell_type": "code",
   "execution_count": 228,
   "metadata": {},
   "outputs": [],
   "source": [
    "def get_similarity_matrix_em(clt_labels):\n",
    "    sim_matrix = build_similarity_matrix(clt_labels)\n",
    "\n",
    "    return sim_matrix"
   ]
  },
  {
   "cell_type": "code",
   "execution_count": 229,
   "metadata": {},
   "outputs": [],
   "source": [
    "def get_final_labels(sim_matrix, num_clusters):\n",
    "    from sklearn.cluster import SpectralClustering\n",
    "\n",
    "    spec_clt = SpectralClustering(n_clusters=num_clusters, affinity='precomputed',\n",
    "                                n_init=5, random_state=214)\n",
    "\n",
    "    final_labels = spec_clt.fit_predict(sim_matrix)\n",
    "\n",
    "    return final_labels"
   ]
  },
  {
   "cell_type": "code",
   "execution_count": 230,
   "metadata": {},
   "outputs": [],
   "source": [
    "def get_ensemble_indices(df, final_labels, labels):\n",
    "    from sklearn.metrics import davies_bouldin_score, silhouette_score, adjusted_rand_score\n",
    "\n",
    "    indice_db = davies_bouldin_score(df, final_labels)\n",
    "    indice_sil = silhouette_score(df, final_labels, metric='euclidean')\n",
    "    indice_cr = adjusted_rand_score(labels, final_labels)\n",
    " \n",
    "    return indice_db, indice_sil, indice_cr"
   ]
  },
  {
   "cell_type": "code",
   "execution_count": 231,
   "metadata": {},
   "outputs": [],
   "source": [
    "def plot_ensemble_indices(df_original, df_corr, df_pca, labels, cluster_type, **kwargs):\n",
    "    import pandas as pd\n",
    "    import plotly.graph_objects as go\n",
    "    from plotly.subplots import make_subplots\n",
    "\n",
    "    NUM_MODELS = [5, 10, 15, 25]\n",
    "    MIN_NUM_CLUSTERS = 2\n",
    "    MAX_NUM_CLUSTERS = 20\n",
    "\n",
    "    model_sizes = np.random.randint(MIN_NUM_CLUSTERS, MAX_NUM_CLUSTERS+1, size=NUM_MODELS[2])\n",
    "\n",
    "    db_list, sil_list, cr_list = [], [], []\n",
    "\n",
    "    for index in range(2, 21):\n",
    "        orig_models, corr_models, pca_models = [], [], []\n",
    "        orig_labels, corr_labels, pca_labels = [], [], []\n",
    "        db_orig, sil_orig, cr_orig = {}, {}, {}\n",
    "        db_corr, sil_corr, cr_corr = {}, {}, {}\n",
    "        db_pca, sil_pca, cr_pca = {}, {}, {}\n",
    "        \n",
    "        match cluster_type:\n",
    "            case 'kmeans':\n",
    "                orig_models = get_kmeans_models(df_original, model_sizes)\n",
    "                corr_models = get_kmeans_models(df_corr, model_sizes)\n",
    "                pca_models = get_kmeans_models(df_pca, model_sizes)\n",
    "            case 'hierarquico':\n",
    "                orig_models = get_hierarquico_models(df_original, model_sizes)\n",
    "                corr_models = get_hierarquico_models(df_corr, model_sizes)\n",
    "                pca_models = get_hierarquico_models(df_pca, model_sizes)\n",
    "            case 'em':\n",
    "                orig_labels = get_em_labels(df_original, model_sizes)\n",
    "                corr_labels = get_em_labels(df_corr, model_sizes)\n",
    "                pca_labels = get_em_labels(df_pca, model_sizes)\n",
    "            case 'dbscan':\n",
    "                orig_models = get_dbscan_models(df_original, NUM_MODELS)\n",
    "                corr_models = get_dbscan_models(df_corr, NUM_MODELS)\n",
    "                pca_models = get_dbscan_models(df_pca, NUM_MODELS)\n",
    "\n",
    "        orig_sim_matrix, corr_sim_matrix, pca_sim_matrix = [], [], []\n",
    "\n",
    "        if cluster_type == 'em':\n",
    "            orig_sim_matrix = get_similarity_matrix_em(orig_labels)\n",
    "            corr_sim_matrix = get_similarity_matrix_em(corr_labels)\n",
    "            pca_sim_matrix = get_similarity_matrix_em(pca_labels)\n",
    "        else:\n",
    "            orig_sim_matrix = get_similarity_matrix(orig_models)\n",
    "            corr_sim_matrix = get_similarity_matrix(corr_models)\n",
    "            pca_sim_matrix = get_similarity_matrix(pca_models)\n",
    "\n",
    "        orig_final_labels = get_final_labels(orig_sim_matrix, index)\n",
    "        corr_final_labels = get_final_labels(corr_sim_matrix, index)\n",
    "        pca_final_labels = get_final_labels(pca_sim_matrix, index)\n",
    "\n",
    "        db_orig, sil_orig, cr_orig = get_ensemble_indices(df_original, orig_final_labels, labels)\n",
    "        db_corr, sil_corr, cr_corr = get_ensemble_indices(df_corr, corr_final_labels, labels)\n",
    "        db_pca, sil_pca, cr_pca = get_ensemble_indices(df_pca, pca_final_labels, labels)\n",
    "\n",
    "        db_value = {'Grupos': index, 'Base original': db_orig, 'Correlação': db_corr, 'PCA': db_pca}\n",
    "        sil_value = {'Grupos': index, 'Base original': sil_orig, 'Correlação': sil_corr, 'PCA': sil_pca}\n",
    "        cr_value = {'Grupos': index, 'Base original': cr_orig, 'Correlação': cr_corr, 'PCA': cr_pca}\n",
    "        db_list.append(db_value)\n",
    "        sil_list.append(sil_value)\n",
    "        cr_list.append(cr_value)\n",
    "\n",
    "    df_db = pd.DataFrame(db_list)\n",
    "    df_sil = pd.DataFrame(sil_list)\n",
    "    df_cr = pd.DataFrame(cr_list)\n",
    "\n",
    "    df_indice_list = [df_db, df_sil, df_cr]\n",
    "    fig = make_subplots(rows=1, cols=3, subplot_titles=('Índice - Davies-Bouldin', 'Índice - Silhouette', 'Índice - Adjusted Rand Score'))\n",
    "    \n",
    "    for index, df in enumerate(df_indice_list, 1):\n",
    "      fig.add_trace(go.Scatter(x=df['Grupos'], y=df['Base original'], name='Base original'), row=1, col=index)\n",
    "      fig.add_trace(go.Scatter(x=df['Grupos'], y=df['Correlação'], name='Correlação'), row=1, col=index)\n",
    "      fig.add_trace(go.Scatter(x=df['Grupos'], y=df['PCA'], name='PCA'), row=1, col=index)\n",
    "\n",
    "    fig.update_layout(title=f'Gráfico de comitê de agrupamento com {cluster_type.upper()}', showlegend=True, boxmode='group')\n",
    "    fig.show()"
   ]
  },
  {
   "cell_type": "markdown",
   "metadata": {},
   "source": [
    "##### Execução"
   ]
  },
  {
   "cell_type": "code",
   "execution_count": 232,
   "metadata": {},
   "outputs": [
    {
     "name": "stderr",
     "output_type": "stream",
     "text": [
      "c:\\Users\\decas\\Documents\\ml-pdf-miner\\venv\\Lib\\site-packages\\sklearn\\manifold\\_spectral_embedding.py:329: UserWarning:\n",
      "\n",
      "Graph is not fully connected, spectral embedding may not work as expected.\n",
      "\n",
      "c:\\Users\\decas\\Documents\\ml-pdf-miner\\venv\\Lib\\site-packages\\sklearn\\manifold\\_spectral_embedding.py:329: UserWarning:\n",
      "\n",
      "Graph is not fully connected, spectral embedding may not work as expected.\n",
      "\n",
      "c:\\Users\\decas\\Documents\\ml-pdf-miner\\venv\\Lib\\site-packages\\sklearn\\manifold\\_spectral_embedding.py:329: UserWarning:\n",
      "\n",
      "Graph is not fully connected, spectral embedding may not work as expected.\n",
      "\n",
      "c:\\Users\\decas\\Documents\\ml-pdf-miner\\venv\\Lib\\site-packages\\sklearn\\manifold\\_spectral_embedding.py:329: UserWarning:\n",
      "\n",
      "Graph is not fully connected, spectral embedding may not work as expected.\n",
      "\n",
      "c:\\Users\\decas\\Documents\\ml-pdf-miner\\venv\\Lib\\site-packages\\sklearn\\manifold\\_spectral_embedding.py:329: UserWarning:\n",
      "\n",
      "Graph is not fully connected, spectral embedding may not work as expected.\n",
      "\n",
      "c:\\Users\\decas\\Documents\\ml-pdf-miner\\venv\\Lib\\site-packages\\sklearn\\manifold\\_spectral_embedding.py:329: UserWarning:\n",
      "\n",
      "Graph is not fully connected, spectral embedding may not work as expected.\n",
      "\n",
      "c:\\Users\\decas\\Documents\\ml-pdf-miner\\venv\\Lib\\site-packages\\sklearn\\manifold\\_spectral_embedding.py:329: UserWarning:\n",
      "\n",
      "Graph is not fully connected, spectral embedding may not work as expected.\n",
      "\n",
      "c:\\Users\\decas\\Documents\\ml-pdf-miner\\venv\\Lib\\site-packages\\sklearn\\manifold\\_spectral_embedding.py:329: UserWarning:\n",
      "\n",
      "Graph is not fully connected, spectral embedding may not work as expected.\n",
      "\n",
      "c:\\Users\\decas\\Documents\\ml-pdf-miner\\venv\\Lib\\site-packages\\sklearn\\manifold\\_spectral_embedding.py:329: UserWarning:\n",
      "\n",
      "Graph is not fully connected, spectral embedding may not work as expected.\n",
      "\n",
      "c:\\Users\\decas\\Documents\\ml-pdf-miner\\venv\\Lib\\site-packages\\sklearn\\manifold\\_spectral_embedding.py:329: UserWarning:\n",
      "\n",
      "Graph is not fully connected, spectral embedding may not work as expected.\n",
      "\n",
      "c:\\Users\\decas\\Documents\\ml-pdf-miner\\venv\\Lib\\site-packages\\sklearn\\manifold\\_spectral_embedding.py:329: UserWarning:\n",
      "\n",
      "Graph is not fully connected, spectral embedding may not work as expected.\n",
      "\n",
      "c:\\Users\\decas\\Documents\\ml-pdf-miner\\venv\\Lib\\site-packages\\sklearn\\manifold\\_spectral_embedding.py:329: UserWarning:\n",
      "\n",
      "Graph is not fully connected, spectral embedding may not work as expected.\n",
      "\n",
      "c:\\Users\\decas\\Documents\\ml-pdf-miner\\venv\\Lib\\site-packages\\sklearn\\manifold\\_spectral_embedding.py:329: UserWarning:\n",
      "\n",
      "Graph is not fully connected, spectral embedding may not work as expected.\n",
      "\n",
      "c:\\Users\\decas\\Documents\\ml-pdf-miner\\venv\\Lib\\site-packages\\sklearn\\manifold\\_spectral_embedding.py:329: UserWarning:\n",
      "\n",
      "Graph is not fully connected, spectral embedding may not work as expected.\n",
      "\n",
      "c:\\Users\\decas\\Documents\\ml-pdf-miner\\venv\\Lib\\site-packages\\sklearn\\manifold\\_spectral_embedding.py:329: UserWarning:\n",
      "\n",
      "Graph is not fully connected, spectral embedding may not work as expected.\n",
      "\n",
      "c:\\Users\\decas\\Documents\\ml-pdf-miner\\venv\\Lib\\site-packages\\sklearn\\manifold\\_spectral_embedding.py:329: UserWarning:\n",
      "\n",
      "Graph is not fully connected, spectral embedding may not work as expected.\n",
      "\n",
      "c:\\Users\\decas\\Documents\\ml-pdf-miner\\venv\\Lib\\site-packages\\sklearn\\manifold\\_spectral_embedding.py:329: UserWarning:\n",
      "\n",
      "Graph is not fully connected, spectral embedding may not work as expected.\n",
      "\n",
      "c:\\Users\\decas\\Documents\\ml-pdf-miner\\venv\\Lib\\site-packages\\sklearn\\manifold\\_spectral_embedding.py:329: UserWarning:\n",
      "\n",
      "Graph is not fully connected, spectral embedding may not work as expected.\n",
      "\n",
      "c:\\Users\\decas\\Documents\\ml-pdf-miner\\venv\\Lib\\site-packages\\sklearn\\manifold\\_spectral_embedding.py:329: UserWarning:\n",
      "\n",
      "Graph is not fully connected, spectral embedding may not work as expected.\n",
      "\n",
      "c:\\Users\\decas\\Documents\\ml-pdf-miner\\venv\\Lib\\site-packages\\sklearn\\manifold\\_spectral_embedding.py:329: UserWarning:\n",
      "\n",
      "Graph is not fully connected, spectral embedding may not work as expected.\n",
      "\n",
      "c:\\Users\\decas\\Documents\\ml-pdf-miner\\venv\\Lib\\site-packages\\sklearn\\manifold\\_spectral_embedding.py:329: UserWarning:\n",
      "\n",
      "Graph is not fully connected, spectral embedding may not work as expected.\n",
      "\n",
      "c:\\Users\\decas\\Documents\\ml-pdf-miner\\venv\\Lib\\site-packages\\sklearn\\manifold\\_spectral_embedding.py:329: UserWarning:\n",
      "\n",
      "Graph is not fully connected, spectral embedding may not work as expected.\n",
      "\n",
      "c:\\Users\\decas\\Documents\\ml-pdf-miner\\venv\\Lib\\site-packages\\sklearn\\manifold\\_spectral_embedding.py:329: UserWarning:\n",
      "\n",
      "Graph is not fully connected, spectral embedding may not work as expected.\n",
      "\n",
      "c:\\Users\\decas\\Documents\\ml-pdf-miner\\venv\\Lib\\site-packages\\sklearn\\manifold\\_spectral_embedding.py:329: UserWarning:\n",
      "\n",
      "Graph is not fully connected, spectral embedding may not work as expected.\n",
      "\n",
      "c:\\Users\\decas\\Documents\\ml-pdf-miner\\venv\\Lib\\site-packages\\sklearn\\manifold\\_spectral_embedding.py:329: UserWarning:\n",
      "\n",
      "Graph is not fully connected, spectral embedding may not work as expected.\n",
      "\n",
      "c:\\Users\\decas\\Documents\\ml-pdf-miner\\venv\\Lib\\site-packages\\sklearn\\manifold\\_spectral_embedding.py:329: UserWarning:\n",
      "\n",
      "Graph is not fully connected, spectral embedding may not work as expected.\n",
      "\n",
      "c:\\Users\\decas\\Documents\\ml-pdf-miner\\venv\\Lib\\site-packages\\sklearn\\manifold\\_spectral_embedding.py:329: UserWarning:\n",
      "\n",
      "Graph is not fully connected, spectral embedding may not work as expected.\n",
      "\n",
      "c:\\Users\\decas\\Documents\\ml-pdf-miner\\venv\\Lib\\site-packages\\sklearn\\manifold\\_spectral_embedding.py:329: UserWarning:\n",
      "\n",
      "Graph is not fully connected, spectral embedding may not work as expected.\n",
      "\n",
      "c:\\Users\\decas\\Documents\\ml-pdf-miner\\venv\\Lib\\site-packages\\sklearn\\manifold\\_spectral_embedding.py:329: UserWarning:\n",
      "\n",
      "Graph is not fully connected, spectral embedding may not work as expected.\n",
      "\n",
      "c:\\Users\\decas\\Documents\\ml-pdf-miner\\venv\\Lib\\site-packages\\sklearn\\manifold\\_spectral_embedding.py:329: UserWarning:\n",
      "\n",
      "Graph is not fully connected, spectral embedding may not work as expected.\n",
      "\n",
      "c:\\Users\\decas\\Documents\\ml-pdf-miner\\venv\\Lib\\site-packages\\sklearn\\manifold\\_spectral_embedding.py:329: UserWarning:\n",
      "\n",
      "Graph is not fully connected, spectral embedding may not work as expected.\n",
      "\n",
      "c:\\Users\\decas\\Documents\\ml-pdf-miner\\venv\\Lib\\site-packages\\sklearn\\manifold\\_spectral_embedding.py:329: UserWarning:\n",
      "\n",
      "Graph is not fully connected, spectral embedding may not work as expected.\n",
      "\n",
      "c:\\Users\\decas\\Documents\\ml-pdf-miner\\venv\\Lib\\site-packages\\sklearn\\manifold\\_spectral_embedding.py:329: UserWarning:\n",
      "\n",
      "Graph is not fully connected, spectral embedding may not work as expected.\n",
      "\n",
      "c:\\Users\\decas\\Documents\\ml-pdf-miner\\venv\\Lib\\site-packages\\sklearn\\manifold\\_spectral_embedding.py:329: UserWarning:\n",
      "\n",
      "Graph is not fully connected, spectral embedding may not work as expected.\n",
      "\n",
      "c:\\Users\\decas\\Documents\\ml-pdf-miner\\venv\\Lib\\site-packages\\sklearn\\manifold\\_spectral_embedding.py:329: UserWarning:\n",
      "\n",
      "Graph is not fully connected, spectral embedding may not work as expected.\n",
      "\n",
      "c:\\Users\\decas\\Documents\\ml-pdf-miner\\venv\\Lib\\site-packages\\sklearn\\manifold\\_spectral_embedding.py:329: UserWarning:\n",
      "\n",
      "Graph is not fully connected, spectral embedding may not work as expected.\n",
      "\n",
      "c:\\Users\\decas\\Documents\\ml-pdf-miner\\venv\\Lib\\site-packages\\sklearn\\manifold\\_spectral_embedding.py:329: UserWarning:\n",
      "\n",
      "Graph is not fully connected, spectral embedding may not work as expected.\n",
      "\n",
      "c:\\Users\\decas\\Documents\\ml-pdf-miner\\venv\\Lib\\site-packages\\sklearn\\manifold\\_spectral_embedding.py:329: UserWarning:\n",
      "\n",
      "Graph is not fully connected, spectral embedding may not work as expected.\n",
      "\n",
      "c:\\Users\\decas\\Documents\\ml-pdf-miner\\venv\\Lib\\site-packages\\sklearn\\manifold\\_spectral_embedding.py:329: UserWarning:\n",
      "\n",
      "Graph is not fully connected, spectral embedding may not work as expected.\n",
      "\n",
      "c:\\Users\\decas\\Documents\\ml-pdf-miner\\venv\\Lib\\site-packages\\sklearn\\manifold\\_spectral_embedding.py:329: UserWarning:\n",
      "\n",
      "Graph is not fully connected, spectral embedding may not work as expected.\n",
      "\n",
      "c:\\Users\\decas\\Documents\\ml-pdf-miner\\venv\\Lib\\site-packages\\sklearn\\manifold\\_spectral_embedding.py:329: UserWarning:\n",
      "\n",
      "Graph is not fully connected, spectral embedding may not work as expected.\n",
      "\n",
      "c:\\Users\\decas\\Documents\\ml-pdf-miner\\venv\\Lib\\site-packages\\sklearn\\manifold\\_spectral_embedding.py:329: UserWarning:\n",
      "\n",
      "Graph is not fully connected, spectral embedding may not work as expected.\n",
      "\n",
      "c:\\Users\\decas\\Documents\\ml-pdf-miner\\venv\\Lib\\site-packages\\sklearn\\manifold\\_spectral_embedding.py:329: UserWarning:\n",
      "\n",
      "Graph is not fully connected, spectral embedding may not work as expected.\n",
      "\n",
      "c:\\Users\\decas\\Documents\\ml-pdf-miner\\venv\\Lib\\site-packages\\sklearn\\manifold\\_spectral_embedding.py:329: UserWarning:\n",
      "\n",
      "Graph is not fully connected, spectral embedding may not work as expected.\n",
      "\n",
      "c:\\Users\\decas\\Documents\\ml-pdf-miner\\venv\\Lib\\site-packages\\sklearn\\manifold\\_spectral_embedding.py:329: UserWarning:\n",
      "\n",
      "Graph is not fully connected, spectral embedding may not work as expected.\n",
      "\n",
      "c:\\Users\\decas\\Documents\\ml-pdf-miner\\venv\\Lib\\site-packages\\sklearn\\manifold\\_spectral_embedding.py:329: UserWarning:\n",
      "\n",
      "Graph is not fully connected, spectral embedding may not work as expected.\n",
      "\n",
      "c:\\Users\\decas\\Documents\\ml-pdf-miner\\venv\\Lib\\site-packages\\sklearn\\manifold\\_spectral_embedding.py:329: UserWarning:\n",
      "\n",
      "Graph is not fully connected, spectral embedding may not work as expected.\n",
      "\n",
      "c:\\Users\\decas\\Documents\\ml-pdf-miner\\venv\\Lib\\site-packages\\sklearn\\manifold\\_spectral_embedding.py:329: UserWarning:\n",
      "\n",
      "Graph is not fully connected, spectral embedding may not work as expected.\n",
      "\n",
      "c:\\Users\\decas\\Documents\\ml-pdf-miner\\venv\\Lib\\site-packages\\sklearn\\manifold\\_spectral_embedding.py:329: UserWarning:\n",
      "\n",
      "Graph is not fully connected, spectral embedding may not work as expected.\n",
      "\n",
      "c:\\Users\\decas\\Documents\\ml-pdf-miner\\venv\\Lib\\site-packages\\sklearn\\manifold\\_spectral_embedding.py:329: UserWarning:\n",
      "\n",
      "Graph is not fully connected, spectral embedding may not work as expected.\n",
      "\n",
      "c:\\Users\\decas\\Documents\\ml-pdf-miner\\venv\\Lib\\site-packages\\sklearn\\manifold\\_spectral_embedding.py:329: UserWarning:\n",
      "\n",
      "Graph is not fully connected, spectral embedding may not work as expected.\n",
      "\n",
      "c:\\Users\\decas\\Documents\\ml-pdf-miner\\venv\\Lib\\site-packages\\sklearn\\manifold\\_spectral_embedding.py:329: UserWarning:\n",
      "\n",
      "Graph is not fully connected, spectral embedding may not work as expected.\n",
      "\n",
      "c:\\Users\\decas\\Documents\\ml-pdf-miner\\venv\\Lib\\site-packages\\sklearn\\manifold\\_spectral_embedding.py:329: UserWarning:\n",
      "\n",
      "Graph is not fully connected, spectral embedding may not work as expected.\n",
      "\n",
      "c:\\Users\\decas\\Documents\\ml-pdf-miner\\venv\\Lib\\site-packages\\sklearn\\manifold\\_spectral_embedding.py:329: UserWarning:\n",
      "\n",
      "Graph is not fully connected, spectral embedding may not work as expected.\n",
      "\n",
      "c:\\Users\\decas\\Documents\\ml-pdf-miner\\venv\\Lib\\site-packages\\sklearn\\manifold\\_spectral_embedding.py:329: UserWarning:\n",
      "\n",
      "Graph is not fully connected, spectral embedding may not work as expected.\n",
      "\n",
      "c:\\Users\\decas\\Documents\\ml-pdf-miner\\venv\\Lib\\site-packages\\sklearn\\manifold\\_spectral_embedding.py:329: UserWarning:\n",
      "\n",
      "Graph is not fully connected, spectral embedding may not work as expected.\n",
      "\n",
      "c:\\Users\\decas\\Documents\\ml-pdf-miner\\venv\\Lib\\site-packages\\sklearn\\manifold\\_spectral_embedding.py:329: UserWarning:\n",
      "\n",
      "Graph is not fully connected, spectral embedding may not work as expected.\n",
      "\n"
     ]
    },
    {
     "data": {
      "application/vnd.plotly.v1+json": {
       "config": {
        "plotlyServerURL": "https://plot.ly"
       },
       "data": [
        {
         "name": "Base original",
         "type": "scatter",
         "x": [
          2,
          3,
          4,
          5,
          6,
          7,
          8,
          9,
          10,
          11,
          12,
          13,
          14,
          15,
          16,
          17,
          18,
          19,
          20
         ],
         "xaxis": "x",
         "y": [
          0.644375620117391,
          0.25286472660902287,
          0.21714031593432886,
          0.5983084500839234,
          1.0112014746480347,
          0.9584232524914417,
          0.7514453649227373,
          0.6308339233555667,
          0.6113453332075266,
          0.6286684379999203,
          0.715715016028052,
          0.6953285476844974,
          0.7372066541777552,
          0.6998238861224746,
          0.6878088983085455,
          0.7486615541915005,
          0.6366650293239074,
          0.623101067443589,
          1.5455843447226918
         ],
         "yaxis": "y"
        },
        {
         "name": "Correlação",
         "type": "scatter",
         "x": [
          2,
          3,
          4,
          5,
          6,
          7,
          8,
          9,
          10,
          11,
          12,
          13,
          14,
          15,
          16,
          17,
          18,
          19,
          20
         ],
         "xaxis": "x",
         "y": [
          3.7335295814541603,
          7.130938594175912,
          21.406904252075602,
          5.8652714241660435,
          5.6727432942268265,
          5.007154214854663,
          14.512373913658877,
          14.016323184538697,
          13.928149200674023,
          13.00203377708881,
          13.097231167715654,
          9.935071585496694,
          10.392376083442894,
          11.845870182077322,
          9.201010013716107,
          7.527869129285315,
          7.183648442252206,
          6.872771625035732,
          6.867689551935034
         ],
         "yaxis": "y"
        },
        {
         "name": "PCA",
         "type": "scatter",
         "x": [
          2,
          3,
          4,
          5,
          6,
          7,
          8,
          9,
          10,
          11,
          12,
          13,
          14,
          15,
          16,
          17,
          18,
          19,
          20
         ],
         "xaxis": "x",
         "y": [
          0.6408600406593717,
          0.2357807067994838,
          0.18962379165243443,
          0.5498178084773251,
          0.5969354050261183,
          0.5753446703278472,
          0.27805157841593137,
          0.4475359913404788,
          1.2635158608681731,
          1.6524922981734802,
          1.8819564931029165,
          1.7579022744492845,
          1.6792022851694988,
          1.4196826778841698,
          1.1572036872456735,
          1.8590634890213884,
          1.7204918143544181,
          1.5982275154178636,
          3.1980691880452947
         ],
         "yaxis": "y"
        },
        {
         "name": "Base original",
         "type": "scatter",
         "x": [
          2,
          3,
          4,
          5,
          6,
          7,
          8,
          9,
          10,
          11,
          12,
          13,
          14,
          15,
          16,
          17,
          18,
          19,
          20
         ],
         "xaxis": "x2",
         "y": [
          0.4906204739090915,
          0.8267389575479351,
          0.8312684156166741,
          0.6550582859362422,
          0.4584835760522756,
          0.4893107374871739,
          0.5558466761420626,
          0.586511195698827,
          0.5998894218360526,
          0.6047013781071325,
          0.5615843245090167,
          0.5607842301025727,
          0.5428422462964582,
          0.565837662377156,
          0.5777469395778265,
          0.5860235616526643,
          0.5803015393598391,
          0.5846850723121945,
          0.40901301641919324
         ],
         "yaxis": "y2"
        },
        {
         "name": "Correlação",
         "type": "scatter",
         "x": [
          2,
          3,
          4,
          5,
          6,
          7,
          8,
          9,
          10,
          11,
          12,
          13,
          14,
          15,
          16,
          17,
          18,
          19,
          20
         ],
         "xaxis": "x2",
         "y": [
          -0.22132946954745736,
          -0.2570492914373618,
          -0.49914799751463723,
          -0.3287115837081641,
          -0.20388497735844718,
          -0.20657512435664405,
          -0.22443054419136504,
          -0.23980266538970574,
          -0.27752735482949903,
          -0.29898505739485004,
          -0.3259991203879905,
          -0.32438704866626156,
          -0.3002122261085325,
          -0.3017041097066639,
          -0.30141600177140665,
          -0.2970593902313116,
          -0.31675329632248694,
          -0.3089779927058753,
          -0.3076608405026309
         ],
         "yaxis": "y2"
        },
        {
         "name": "PCA",
         "type": "scatter",
         "x": [
          2,
          3,
          4,
          5,
          6,
          7,
          8,
          9,
          10,
          11,
          12,
          13,
          14,
          15,
          16,
          17,
          18,
          19,
          20
         ],
         "xaxis": "x2",
         "y": [
          0.5069162489758269,
          0.8628311282562606,
          0.8769832612625064,
          0.7168725862374642,
          0.6184006225356359,
          0.6671837342114316,
          0.8242116511704233,
          0.8331003984987132,
          0.7616568290029772,
          0.6755845492272605,
          0.5280242169458308,
          0.5291350695655163,
          0.5243450895583087,
          0.5675666774965952,
          0.5629673680072198,
          0.5182263278818786,
          0.5067087093706316,
          0.5184625878333516,
          0.3085470476872031
         ],
         "yaxis": "y2"
        },
        {
         "name": "Base original",
         "type": "scatter",
         "x": [
          2,
          3,
          4,
          5,
          6,
          7,
          8,
          9,
          10,
          11,
          12,
          13,
          14,
          15,
          16,
          17,
          18,
          19,
          20
         ],
         "xaxis": "x3",
         "y": [
          -0.08956987662870333,
          -0.02508453931117638,
          -0.03651294833056117,
          -0.025469740873784327,
          -0.01563287451320551,
          -0.015086554188927362,
          -0.014192766002106385,
          -0.013723692628580015,
          -0.013836233084653126,
          -0.0026196469652177,
          0.005618731387946474,
          0.005813930634158064,
          0.00603598927319409,
          0.008628837855664494,
          0.008400860900919968,
          0.009770640338394582,
          0.009818935389207018,
          0.010338167855528664,
          0.009527744655792534
         ],
         "yaxis": "y3"
        },
        {
         "name": "Correlação",
         "type": "scatter",
         "x": [
          2,
          3,
          4,
          5,
          6,
          7,
          8,
          9,
          10,
          11,
          12,
          13,
          14,
          15,
          16,
          17,
          18,
          19,
          20
         ],
         "xaxis": "x3",
         "y": [
          -0.08956987662870333,
          -0.02508453931117638,
          -0.03651294833056117,
          -0.025469740873784327,
          -0.01563287451320551,
          -0.015086554188927362,
          -0.014192766002106385,
          -0.013723692628580015,
          -0.013836233084653126,
          -0.0026196469652177,
          0.005618731387946474,
          0.005813930634158064,
          0.00603598927319409,
          0.008628837855664494,
          0.008400860900919968,
          0.009770640338394582,
          0.009818935389207018,
          0.010338167855528664,
          0.009527744655792534
         ],
         "yaxis": "y3"
        },
        {
         "name": "PCA",
         "type": "scatter",
         "x": [
          2,
          3,
          4,
          5,
          6,
          7,
          8,
          9,
          10,
          11,
          12,
          13,
          14,
          15,
          16,
          17,
          18,
          19,
          20
         ],
         "xaxis": "x3",
         "y": [
          -0.08956987662870333,
          -0.02508453931117638,
          -0.03651294833056117,
          -0.025469740873784327,
          -0.01563287451320551,
          -0.015086554188927362,
          -0.014192766002106385,
          -0.013723692628580015,
          -0.013836233084653126,
          -0.0026196469652177,
          0.005618731387946474,
          0.005813930634158064,
          0.00603598927319409,
          0.008628837855664494,
          0.008400860900919968,
          0.009770640338394582,
          0.009818935389207018,
          0.010338167855528664,
          0.009527744655792534
         ],
         "yaxis": "y3"
        }
       ],
       "layout": {
        "annotations": [
         {
          "font": {
           "size": 16
          },
          "showarrow": false,
          "text": "Índice - Davies-Bouldin",
          "x": 0.14444444444444446,
          "xanchor": "center",
          "xref": "paper",
          "y": 1,
          "yanchor": "bottom",
          "yref": "paper"
         },
         {
          "font": {
           "size": 16
          },
          "showarrow": false,
          "text": "Índice - Silhouette",
          "x": 0.5,
          "xanchor": "center",
          "xref": "paper",
          "y": 1,
          "yanchor": "bottom",
          "yref": "paper"
         },
         {
          "font": {
           "size": 16
          },
          "showarrow": false,
          "text": "Índice - Adjusted Rand Score",
          "x": 0.8555555555555556,
          "xanchor": "center",
          "xref": "paper",
          "y": 1,
          "yanchor": "bottom",
          "yref": "paper"
         }
        ],
        "boxmode": "group",
        "showlegend": true,
        "template": {
         "data": {
          "bar": [
           {
            "error_x": {
             "color": "#2a3f5f"
            },
            "error_y": {
             "color": "#2a3f5f"
            },
            "marker": {
             "line": {
              "color": "#E5ECF6",
              "width": 0.5
             },
             "pattern": {
              "fillmode": "overlay",
              "size": 10,
              "solidity": 0.2
             }
            },
            "type": "bar"
           }
          ],
          "barpolar": [
           {
            "marker": {
             "line": {
              "color": "#E5ECF6",
              "width": 0.5
             },
             "pattern": {
              "fillmode": "overlay",
              "size": 10,
              "solidity": 0.2
             }
            },
            "type": "barpolar"
           }
          ],
          "carpet": [
           {
            "aaxis": {
             "endlinecolor": "#2a3f5f",
             "gridcolor": "white",
             "linecolor": "white",
             "minorgridcolor": "white",
             "startlinecolor": "#2a3f5f"
            },
            "baxis": {
             "endlinecolor": "#2a3f5f",
             "gridcolor": "white",
             "linecolor": "white",
             "minorgridcolor": "white",
             "startlinecolor": "#2a3f5f"
            },
            "type": "carpet"
           }
          ],
          "choropleth": [
           {
            "colorbar": {
             "outlinewidth": 0,
             "ticks": ""
            },
            "type": "choropleth"
           }
          ],
          "contour": [
           {
            "colorbar": {
             "outlinewidth": 0,
             "ticks": ""
            },
            "colorscale": [
             [
              0,
              "#0d0887"
             ],
             [
              0.1111111111111111,
              "#46039f"
             ],
             [
              0.2222222222222222,
              "#7201a8"
             ],
             [
              0.3333333333333333,
              "#9c179e"
             ],
             [
              0.4444444444444444,
              "#bd3786"
             ],
             [
              0.5555555555555556,
              "#d8576b"
             ],
             [
              0.6666666666666666,
              "#ed7953"
             ],
             [
              0.7777777777777778,
              "#fb9f3a"
             ],
             [
              0.8888888888888888,
              "#fdca26"
             ],
             [
              1,
              "#f0f921"
             ]
            ],
            "type": "contour"
           }
          ],
          "contourcarpet": [
           {
            "colorbar": {
             "outlinewidth": 0,
             "ticks": ""
            },
            "type": "contourcarpet"
           }
          ],
          "heatmap": [
           {
            "colorbar": {
             "outlinewidth": 0,
             "ticks": ""
            },
            "colorscale": [
             [
              0,
              "#0d0887"
             ],
             [
              0.1111111111111111,
              "#46039f"
             ],
             [
              0.2222222222222222,
              "#7201a8"
             ],
             [
              0.3333333333333333,
              "#9c179e"
             ],
             [
              0.4444444444444444,
              "#bd3786"
             ],
             [
              0.5555555555555556,
              "#d8576b"
             ],
             [
              0.6666666666666666,
              "#ed7953"
             ],
             [
              0.7777777777777778,
              "#fb9f3a"
             ],
             [
              0.8888888888888888,
              "#fdca26"
             ],
             [
              1,
              "#f0f921"
             ]
            ],
            "type": "heatmap"
           }
          ],
          "heatmapgl": [
           {
            "colorbar": {
             "outlinewidth": 0,
             "ticks": ""
            },
            "colorscale": [
             [
              0,
              "#0d0887"
             ],
             [
              0.1111111111111111,
              "#46039f"
             ],
             [
              0.2222222222222222,
              "#7201a8"
             ],
             [
              0.3333333333333333,
              "#9c179e"
             ],
             [
              0.4444444444444444,
              "#bd3786"
             ],
             [
              0.5555555555555556,
              "#d8576b"
             ],
             [
              0.6666666666666666,
              "#ed7953"
             ],
             [
              0.7777777777777778,
              "#fb9f3a"
             ],
             [
              0.8888888888888888,
              "#fdca26"
             ],
             [
              1,
              "#f0f921"
             ]
            ],
            "type": "heatmapgl"
           }
          ],
          "histogram": [
           {
            "marker": {
             "pattern": {
              "fillmode": "overlay",
              "size": 10,
              "solidity": 0.2
             }
            },
            "type": "histogram"
           }
          ],
          "histogram2d": [
           {
            "colorbar": {
             "outlinewidth": 0,
             "ticks": ""
            },
            "colorscale": [
             [
              0,
              "#0d0887"
             ],
             [
              0.1111111111111111,
              "#46039f"
             ],
             [
              0.2222222222222222,
              "#7201a8"
             ],
             [
              0.3333333333333333,
              "#9c179e"
             ],
             [
              0.4444444444444444,
              "#bd3786"
             ],
             [
              0.5555555555555556,
              "#d8576b"
             ],
             [
              0.6666666666666666,
              "#ed7953"
             ],
             [
              0.7777777777777778,
              "#fb9f3a"
             ],
             [
              0.8888888888888888,
              "#fdca26"
             ],
             [
              1,
              "#f0f921"
             ]
            ],
            "type": "histogram2d"
           }
          ],
          "histogram2dcontour": [
           {
            "colorbar": {
             "outlinewidth": 0,
             "ticks": ""
            },
            "colorscale": [
             [
              0,
              "#0d0887"
             ],
             [
              0.1111111111111111,
              "#46039f"
             ],
             [
              0.2222222222222222,
              "#7201a8"
             ],
             [
              0.3333333333333333,
              "#9c179e"
             ],
             [
              0.4444444444444444,
              "#bd3786"
             ],
             [
              0.5555555555555556,
              "#d8576b"
             ],
             [
              0.6666666666666666,
              "#ed7953"
             ],
             [
              0.7777777777777778,
              "#fb9f3a"
             ],
             [
              0.8888888888888888,
              "#fdca26"
             ],
             [
              1,
              "#f0f921"
             ]
            ],
            "type": "histogram2dcontour"
           }
          ],
          "mesh3d": [
           {
            "colorbar": {
             "outlinewidth": 0,
             "ticks": ""
            },
            "type": "mesh3d"
           }
          ],
          "parcoords": [
           {
            "line": {
             "colorbar": {
              "outlinewidth": 0,
              "ticks": ""
             }
            },
            "type": "parcoords"
           }
          ],
          "pie": [
           {
            "automargin": true,
            "type": "pie"
           }
          ],
          "scatter": [
           {
            "fillpattern": {
             "fillmode": "overlay",
             "size": 10,
             "solidity": 0.2
            },
            "type": "scatter"
           }
          ],
          "scatter3d": [
           {
            "line": {
             "colorbar": {
              "outlinewidth": 0,
              "ticks": ""
             }
            },
            "marker": {
             "colorbar": {
              "outlinewidth": 0,
              "ticks": ""
             }
            },
            "type": "scatter3d"
           }
          ],
          "scattercarpet": [
           {
            "marker": {
             "colorbar": {
              "outlinewidth": 0,
              "ticks": ""
             }
            },
            "type": "scattercarpet"
           }
          ],
          "scattergeo": [
           {
            "marker": {
             "colorbar": {
              "outlinewidth": 0,
              "ticks": ""
             }
            },
            "type": "scattergeo"
           }
          ],
          "scattergl": [
           {
            "marker": {
             "colorbar": {
              "outlinewidth": 0,
              "ticks": ""
             }
            },
            "type": "scattergl"
           }
          ],
          "scattermapbox": [
           {
            "marker": {
             "colorbar": {
              "outlinewidth": 0,
              "ticks": ""
             }
            },
            "type": "scattermapbox"
           }
          ],
          "scatterpolar": [
           {
            "marker": {
             "colorbar": {
              "outlinewidth": 0,
              "ticks": ""
             }
            },
            "type": "scatterpolar"
           }
          ],
          "scatterpolargl": [
           {
            "marker": {
             "colorbar": {
              "outlinewidth": 0,
              "ticks": ""
             }
            },
            "type": "scatterpolargl"
           }
          ],
          "scatterternary": [
           {
            "marker": {
             "colorbar": {
              "outlinewidth": 0,
              "ticks": ""
             }
            },
            "type": "scatterternary"
           }
          ],
          "surface": [
           {
            "colorbar": {
             "outlinewidth": 0,
             "ticks": ""
            },
            "colorscale": [
             [
              0,
              "#0d0887"
             ],
             [
              0.1111111111111111,
              "#46039f"
             ],
             [
              0.2222222222222222,
              "#7201a8"
             ],
             [
              0.3333333333333333,
              "#9c179e"
             ],
             [
              0.4444444444444444,
              "#bd3786"
             ],
             [
              0.5555555555555556,
              "#d8576b"
             ],
             [
              0.6666666666666666,
              "#ed7953"
             ],
             [
              0.7777777777777778,
              "#fb9f3a"
             ],
             [
              0.8888888888888888,
              "#fdca26"
             ],
             [
              1,
              "#f0f921"
             ]
            ],
            "type": "surface"
           }
          ],
          "table": [
           {
            "cells": {
             "fill": {
              "color": "#EBF0F8"
             },
             "line": {
              "color": "white"
             }
            },
            "header": {
             "fill": {
              "color": "#C8D4E3"
             },
             "line": {
              "color": "white"
             }
            },
            "type": "table"
           }
          ]
         },
         "layout": {
          "annotationdefaults": {
           "arrowcolor": "#2a3f5f",
           "arrowhead": 0,
           "arrowwidth": 1
          },
          "autotypenumbers": "strict",
          "coloraxis": {
           "colorbar": {
            "outlinewidth": 0,
            "ticks": ""
           }
          },
          "colorscale": {
           "diverging": [
            [
             0,
             "#8e0152"
            ],
            [
             0.1,
             "#c51b7d"
            ],
            [
             0.2,
             "#de77ae"
            ],
            [
             0.3,
             "#f1b6da"
            ],
            [
             0.4,
             "#fde0ef"
            ],
            [
             0.5,
             "#f7f7f7"
            ],
            [
             0.6,
             "#e6f5d0"
            ],
            [
             0.7,
             "#b8e186"
            ],
            [
             0.8,
             "#7fbc41"
            ],
            [
             0.9,
             "#4d9221"
            ],
            [
             1,
             "#276419"
            ]
           ],
           "sequential": [
            [
             0,
             "#0d0887"
            ],
            [
             0.1111111111111111,
             "#46039f"
            ],
            [
             0.2222222222222222,
             "#7201a8"
            ],
            [
             0.3333333333333333,
             "#9c179e"
            ],
            [
             0.4444444444444444,
             "#bd3786"
            ],
            [
             0.5555555555555556,
             "#d8576b"
            ],
            [
             0.6666666666666666,
             "#ed7953"
            ],
            [
             0.7777777777777778,
             "#fb9f3a"
            ],
            [
             0.8888888888888888,
             "#fdca26"
            ],
            [
             1,
             "#f0f921"
            ]
           ],
           "sequentialminus": [
            [
             0,
             "#0d0887"
            ],
            [
             0.1111111111111111,
             "#46039f"
            ],
            [
             0.2222222222222222,
             "#7201a8"
            ],
            [
             0.3333333333333333,
             "#9c179e"
            ],
            [
             0.4444444444444444,
             "#bd3786"
            ],
            [
             0.5555555555555556,
             "#d8576b"
            ],
            [
             0.6666666666666666,
             "#ed7953"
            ],
            [
             0.7777777777777778,
             "#fb9f3a"
            ],
            [
             0.8888888888888888,
             "#fdca26"
            ],
            [
             1,
             "#f0f921"
            ]
           ]
          },
          "colorway": [
           "#636efa",
           "#EF553B",
           "#00cc96",
           "#ab63fa",
           "#FFA15A",
           "#19d3f3",
           "#FF6692",
           "#B6E880",
           "#FF97FF",
           "#FECB52"
          ],
          "font": {
           "color": "#2a3f5f"
          },
          "geo": {
           "bgcolor": "white",
           "lakecolor": "white",
           "landcolor": "#E5ECF6",
           "showlakes": true,
           "showland": true,
           "subunitcolor": "white"
          },
          "hoverlabel": {
           "align": "left"
          },
          "hovermode": "closest",
          "mapbox": {
           "style": "light"
          },
          "paper_bgcolor": "white",
          "plot_bgcolor": "#E5ECF6",
          "polar": {
           "angularaxis": {
            "gridcolor": "white",
            "linecolor": "white",
            "ticks": ""
           },
           "bgcolor": "#E5ECF6",
           "radialaxis": {
            "gridcolor": "white",
            "linecolor": "white",
            "ticks": ""
           }
          },
          "scene": {
           "xaxis": {
            "backgroundcolor": "#E5ECF6",
            "gridcolor": "white",
            "gridwidth": 2,
            "linecolor": "white",
            "showbackground": true,
            "ticks": "",
            "zerolinecolor": "white"
           },
           "yaxis": {
            "backgroundcolor": "#E5ECF6",
            "gridcolor": "white",
            "gridwidth": 2,
            "linecolor": "white",
            "showbackground": true,
            "ticks": "",
            "zerolinecolor": "white"
           },
           "zaxis": {
            "backgroundcolor": "#E5ECF6",
            "gridcolor": "white",
            "gridwidth": 2,
            "linecolor": "white",
            "showbackground": true,
            "ticks": "",
            "zerolinecolor": "white"
           }
          },
          "shapedefaults": {
           "line": {
            "color": "#2a3f5f"
           }
          },
          "ternary": {
           "aaxis": {
            "gridcolor": "white",
            "linecolor": "white",
            "ticks": ""
           },
           "baxis": {
            "gridcolor": "white",
            "linecolor": "white",
            "ticks": ""
           },
           "bgcolor": "#E5ECF6",
           "caxis": {
            "gridcolor": "white",
            "linecolor": "white",
            "ticks": ""
           }
          },
          "title": {
           "x": 0.05
          },
          "xaxis": {
           "automargin": true,
           "gridcolor": "white",
           "linecolor": "white",
           "ticks": "",
           "title": {
            "standoff": 15
           },
           "zerolinecolor": "white",
           "zerolinewidth": 2
          },
          "yaxis": {
           "automargin": true,
           "gridcolor": "white",
           "linecolor": "white",
           "ticks": "",
           "title": {
            "standoff": 15
           },
           "zerolinecolor": "white",
           "zerolinewidth": 2
          }
         }
        },
        "title": {
         "text": "Gráfico de comitê de agrupamento com KMEANS"
        },
        "xaxis": {
         "anchor": "y",
         "domain": [
          0,
          0.2888888888888889
         ]
        },
        "xaxis2": {
         "anchor": "y2",
         "domain": [
          0.35555555555555557,
          0.6444444444444445
         ]
        },
        "xaxis3": {
         "anchor": "y3",
         "domain": [
          0.7111111111111111,
          1
         ]
        },
        "yaxis": {
         "anchor": "x",
         "domain": [
          0,
          1
         ]
        },
        "yaxis2": {
         "anchor": "x2",
         "domain": [
          0,
          1
         ]
        },
        "yaxis3": {
         "anchor": "x3",
         "domain": [
          0,
          1
         ]
        }
       }
      }
     },
     "metadata": {},
     "output_type": "display_data"
    }
   ],
   "source": [
    "plot_ensemble_indices(data_tfidf, selected_df_corr, selected_df_pca, labels, 'kmeans')"
   ]
  },
  {
   "cell_type": "code",
   "execution_count": 233,
   "metadata": {},
   "outputs": [
    {
     "name": "stderr",
     "output_type": "stream",
     "text": [
      "c:\\Users\\decas\\Documents\\ml-pdf-miner\\venv\\Lib\\site-packages\\sklearn\\manifold\\_spectral_embedding.py:329: UserWarning:\n",
      "\n",
      "Graph is not fully connected, spectral embedding may not work as expected.\n",
      "\n",
      "c:\\Users\\decas\\Documents\\ml-pdf-miner\\venv\\Lib\\site-packages\\sklearn\\manifold\\_spectral_embedding.py:329: UserWarning:\n",
      "\n",
      "Graph is not fully connected, spectral embedding may not work as expected.\n",
      "\n",
      "c:\\Users\\decas\\Documents\\ml-pdf-miner\\venv\\Lib\\site-packages\\sklearn\\manifold\\_spectral_embedding.py:329: UserWarning:\n",
      "\n",
      "Graph is not fully connected, spectral embedding may not work as expected.\n",
      "\n",
      "c:\\Users\\decas\\Documents\\ml-pdf-miner\\venv\\Lib\\site-packages\\sklearn\\manifold\\_spectral_embedding.py:329: UserWarning:\n",
      "\n",
      "Graph is not fully connected, spectral embedding may not work as expected.\n",
      "\n",
      "c:\\Users\\decas\\Documents\\ml-pdf-miner\\venv\\Lib\\site-packages\\sklearn\\manifold\\_spectral_embedding.py:329: UserWarning:\n",
      "\n",
      "Graph is not fully connected, spectral embedding may not work as expected.\n",
      "\n",
      "c:\\Users\\decas\\Documents\\ml-pdf-miner\\venv\\Lib\\site-packages\\sklearn\\manifold\\_spectral_embedding.py:329: UserWarning:\n",
      "\n",
      "Graph is not fully connected, spectral embedding may not work as expected.\n",
      "\n",
      "c:\\Users\\decas\\Documents\\ml-pdf-miner\\venv\\Lib\\site-packages\\sklearn\\manifold\\_spectral_embedding.py:329: UserWarning:\n",
      "\n",
      "Graph is not fully connected, spectral embedding may not work as expected.\n",
      "\n",
      "c:\\Users\\decas\\Documents\\ml-pdf-miner\\venv\\Lib\\site-packages\\sklearn\\manifold\\_spectral_embedding.py:329: UserWarning:\n",
      "\n",
      "Graph is not fully connected, spectral embedding may not work as expected.\n",
      "\n",
      "c:\\Users\\decas\\Documents\\ml-pdf-miner\\venv\\Lib\\site-packages\\sklearn\\manifold\\_spectral_embedding.py:329: UserWarning:\n",
      "\n",
      "Graph is not fully connected, spectral embedding may not work as expected.\n",
      "\n",
      "c:\\Users\\decas\\Documents\\ml-pdf-miner\\venv\\Lib\\site-packages\\sklearn\\manifold\\_spectral_embedding.py:329: UserWarning:\n",
      "\n",
      "Graph is not fully connected, spectral embedding may not work as expected.\n",
      "\n",
      "c:\\Users\\decas\\Documents\\ml-pdf-miner\\venv\\Lib\\site-packages\\sklearn\\manifold\\_spectral_embedding.py:329: UserWarning:\n",
      "\n",
      "Graph is not fully connected, spectral embedding may not work as expected.\n",
      "\n",
      "c:\\Users\\decas\\Documents\\ml-pdf-miner\\venv\\Lib\\site-packages\\sklearn\\manifold\\_spectral_embedding.py:329: UserWarning:\n",
      "\n",
      "Graph is not fully connected, spectral embedding may not work as expected.\n",
      "\n",
      "c:\\Users\\decas\\Documents\\ml-pdf-miner\\venv\\Lib\\site-packages\\sklearn\\manifold\\_spectral_embedding.py:329: UserWarning:\n",
      "\n",
      "Graph is not fully connected, spectral embedding may not work as expected.\n",
      "\n",
      "c:\\Users\\decas\\Documents\\ml-pdf-miner\\venv\\Lib\\site-packages\\sklearn\\manifold\\_spectral_embedding.py:329: UserWarning:\n",
      "\n",
      "Graph is not fully connected, spectral embedding may not work as expected.\n",
      "\n",
      "c:\\Users\\decas\\Documents\\ml-pdf-miner\\venv\\Lib\\site-packages\\sklearn\\manifold\\_spectral_embedding.py:329: UserWarning:\n",
      "\n",
      "Graph is not fully connected, spectral embedding may not work as expected.\n",
      "\n",
      "c:\\Users\\decas\\Documents\\ml-pdf-miner\\venv\\Lib\\site-packages\\sklearn\\manifold\\_spectral_embedding.py:329: UserWarning:\n",
      "\n",
      "Graph is not fully connected, spectral embedding may not work as expected.\n",
      "\n",
      "c:\\Users\\decas\\Documents\\ml-pdf-miner\\venv\\Lib\\site-packages\\sklearn\\manifold\\_spectral_embedding.py:329: UserWarning:\n",
      "\n",
      "Graph is not fully connected, spectral embedding may not work as expected.\n",
      "\n",
      "c:\\Users\\decas\\Documents\\ml-pdf-miner\\venv\\Lib\\site-packages\\sklearn\\manifold\\_spectral_embedding.py:329: UserWarning:\n",
      "\n",
      "Graph is not fully connected, spectral embedding may not work as expected.\n",
      "\n",
      "c:\\Users\\decas\\Documents\\ml-pdf-miner\\venv\\Lib\\site-packages\\sklearn\\manifold\\_spectral_embedding.py:329: UserWarning:\n",
      "\n",
      "Graph is not fully connected, spectral embedding may not work as expected.\n",
      "\n",
      "c:\\Users\\decas\\Documents\\ml-pdf-miner\\venv\\Lib\\site-packages\\sklearn\\manifold\\_spectral_embedding.py:329: UserWarning:\n",
      "\n",
      "Graph is not fully connected, spectral embedding may not work as expected.\n",
      "\n",
      "c:\\Users\\decas\\Documents\\ml-pdf-miner\\venv\\Lib\\site-packages\\sklearn\\manifold\\_spectral_embedding.py:329: UserWarning:\n",
      "\n",
      "Graph is not fully connected, spectral embedding may not work as expected.\n",
      "\n",
      "c:\\Users\\decas\\Documents\\ml-pdf-miner\\venv\\Lib\\site-packages\\sklearn\\manifold\\_spectral_embedding.py:329: UserWarning:\n",
      "\n",
      "Graph is not fully connected, spectral embedding may not work as expected.\n",
      "\n",
      "c:\\Users\\decas\\Documents\\ml-pdf-miner\\venv\\Lib\\site-packages\\sklearn\\manifold\\_spectral_embedding.py:329: UserWarning:\n",
      "\n",
      "Graph is not fully connected, spectral embedding may not work as expected.\n",
      "\n",
      "c:\\Users\\decas\\Documents\\ml-pdf-miner\\venv\\Lib\\site-packages\\sklearn\\manifold\\_spectral_embedding.py:329: UserWarning:\n",
      "\n",
      "Graph is not fully connected, spectral embedding may not work as expected.\n",
      "\n",
      "c:\\Users\\decas\\Documents\\ml-pdf-miner\\venv\\Lib\\site-packages\\sklearn\\manifold\\_spectral_embedding.py:329: UserWarning:\n",
      "\n",
      "Graph is not fully connected, spectral embedding may not work as expected.\n",
      "\n",
      "c:\\Users\\decas\\Documents\\ml-pdf-miner\\venv\\Lib\\site-packages\\sklearn\\manifold\\_spectral_embedding.py:329: UserWarning:\n",
      "\n",
      "Graph is not fully connected, spectral embedding may not work as expected.\n",
      "\n",
      "c:\\Users\\decas\\Documents\\ml-pdf-miner\\venv\\Lib\\site-packages\\sklearn\\manifold\\_spectral_embedding.py:329: UserWarning:\n",
      "\n",
      "Graph is not fully connected, spectral embedding may not work as expected.\n",
      "\n",
      "c:\\Users\\decas\\Documents\\ml-pdf-miner\\venv\\Lib\\site-packages\\sklearn\\manifold\\_spectral_embedding.py:329: UserWarning:\n",
      "\n",
      "Graph is not fully connected, spectral embedding may not work as expected.\n",
      "\n",
      "c:\\Users\\decas\\Documents\\ml-pdf-miner\\venv\\Lib\\site-packages\\sklearn\\manifold\\_spectral_embedding.py:329: UserWarning:\n",
      "\n",
      "Graph is not fully connected, spectral embedding may not work as expected.\n",
      "\n",
      "c:\\Users\\decas\\Documents\\ml-pdf-miner\\venv\\Lib\\site-packages\\sklearn\\manifold\\_spectral_embedding.py:329: UserWarning:\n",
      "\n",
      "Graph is not fully connected, spectral embedding may not work as expected.\n",
      "\n",
      "c:\\Users\\decas\\Documents\\ml-pdf-miner\\venv\\Lib\\site-packages\\sklearn\\manifold\\_spectral_embedding.py:329: UserWarning:\n",
      "\n",
      "Graph is not fully connected, spectral embedding may not work as expected.\n",
      "\n",
      "c:\\Users\\decas\\Documents\\ml-pdf-miner\\venv\\Lib\\site-packages\\sklearn\\manifold\\_spectral_embedding.py:329: UserWarning:\n",
      "\n",
      "Graph is not fully connected, spectral embedding may not work as expected.\n",
      "\n",
      "c:\\Users\\decas\\Documents\\ml-pdf-miner\\venv\\Lib\\site-packages\\sklearn\\manifold\\_spectral_embedding.py:329: UserWarning:\n",
      "\n",
      "Graph is not fully connected, spectral embedding may not work as expected.\n",
      "\n",
      "c:\\Users\\decas\\Documents\\ml-pdf-miner\\venv\\Lib\\site-packages\\sklearn\\manifold\\_spectral_embedding.py:329: UserWarning:\n",
      "\n",
      "Graph is not fully connected, spectral embedding may not work as expected.\n",
      "\n",
      "c:\\Users\\decas\\Documents\\ml-pdf-miner\\venv\\Lib\\site-packages\\sklearn\\manifold\\_spectral_embedding.py:329: UserWarning:\n",
      "\n",
      "Graph is not fully connected, spectral embedding may not work as expected.\n",
      "\n",
      "c:\\Users\\decas\\Documents\\ml-pdf-miner\\venv\\Lib\\site-packages\\sklearn\\manifold\\_spectral_embedding.py:329: UserWarning:\n",
      "\n",
      "Graph is not fully connected, spectral embedding may not work as expected.\n",
      "\n",
      "c:\\Users\\decas\\Documents\\ml-pdf-miner\\venv\\Lib\\site-packages\\sklearn\\manifold\\_spectral_embedding.py:329: UserWarning:\n",
      "\n",
      "Graph is not fully connected, spectral embedding may not work as expected.\n",
      "\n",
      "c:\\Users\\decas\\Documents\\ml-pdf-miner\\venv\\Lib\\site-packages\\sklearn\\manifold\\_spectral_embedding.py:329: UserWarning:\n",
      "\n",
      "Graph is not fully connected, spectral embedding may not work as expected.\n",
      "\n",
      "c:\\Users\\decas\\Documents\\ml-pdf-miner\\venv\\Lib\\site-packages\\sklearn\\manifold\\_spectral_embedding.py:329: UserWarning:\n",
      "\n",
      "Graph is not fully connected, spectral embedding may not work as expected.\n",
      "\n",
      "c:\\Users\\decas\\Documents\\ml-pdf-miner\\venv\\Lib\\site-packages\\sklearn\\manifold\\_spectral_embedding.py:329: UserWarning:\n",
      "\n",
      "Graph is not fully connected, spectral embedding may not work as expected.\n",
      "\n",
      "c:\\Users\\decas\\Documents\\ml-pdf-miner\\venv\\Lib\\site-packages\\sklearn\\manifold\\_spectral_embedding.py:329: UserWarning:\n",
      "\n",
      "Graph is not fully connected, spectral embedding may not work as expected.\n",
      "\n",
      "c:\\Users\\decas\\Documents\\ml-pdf-miner\\venv\\Lib\\site-packages\\sklearn\\manifold\\_spectral_embedding.py:329: UserWarning:\n",
      "\n",
      "Graph is not fully connected, spectral embedding may not work as expected.\n",
      "\n",
      "c:\\Users\\decas\\Documents\\ml-pdf-miner\\venv\\Lib\\site-packages\\sklearn\\manifold\\_spectral_embedding.py:329: UserWarning:\n",
      "\n",
      "Graph is not fully connected, spectral embedding may not work as expected.\n",
      "\n",
      "c:\\Users\\decas\\Documents\\ml-pdf-miner\\venv\\Lib\\site-packages\\sklearn\\manifold\\_spectral_embedding.py:329: UserWarning:\n",
      "\n",
      "Graph is not fully connected, spectral embedding may not work as expected.\n",
      "\n",
      "c:\\Users\\decas\\Documents\\ml-pdf-miner\\venv\\Lib\\site-packages\\sklearn\\manifold\\_spectral_embedding.py:329: UserWarning:\n",
      "\n",
      "Graph is not fully connected, spectral embedding may not work as expected.\n",
      "\n",
      "c:\\Users\\decas\\Documents\\ml-pdf-miner\\venv\\Lib\\site-packages\\sklearn\\manifold\\_spectral_embedding.py:329: UserWarning:\n",
      "\n",
      "Graph is not fully connected, spectral embedding may not work as expected.\n",
      "\n",
      "c:\\Users\\decas\\Documents\\ml-pdf-miner\\venv\\Lib\\site-packages\\sklearn\\manifold\\_spectral_embedding.py:329: UserWarning:\n",
      "\n",
      "Graph is not fully connected, spectral embedding may not work as expected.\n",
      "\n",
      "c:\\Users\\decas\\Documents\\ml-pdf-miner\\venv\\Lib\\site-packages\\sklearn\\manifold\\_spectral_embedding.py:329: UserWarning:\n",
      "\n",
      "Graph is not fully connected, spectral embedding may not work as expected.\n",
      "\n",
      "c:\\Users\\decas\\Documents\\ml-pdf-miner\\venv\\Lib\\site-packages\\sklearn\\manifold\\_spectral_embedding.py:329: UserWarning:\n",
      "\n",
      "Graph is not fully connected, spectral embedding may not work as expected.\n",
      "\n",
      "c:\\Users\\decas\\Documents\\ml-pdf-miner\\venv\\Lib\\site-packages\\sklearn\\manifold\\_spectral_embedding.py:329: UserWarning:\n",
      "\n",
      "Graph is not fully connected, spectral embedding may not work as expected.\n",
      "\n",
      "c:\\Users\\decas\\Documents\\ml-pdf-miner\\venv\\Lib\\site-packages\\sklearn\\manifold\\_spectral_embedding.py:329: UserWarning:\n",
      "\n",
      "Graph is not fully connected, spectral embedding may not work as expected.\n",
      "\n",
      "c:\\Users\\decas\\Documents\\ml-pdf-miner\\venv\\Lib\\site-packages\\sklearn\\manifold\\_spectral_embedding.py:329: UserWarning:\n",
      "\n",
      "Graph is not fully connected, spectral embedding may not work as expected.\n",
      "\n",
      "c:\\Users\\decas\\Documents\\ml-pdf-miner\\venv\\Lib\\site-packages\\sklearn\\manifold\\_spectral_embedding.py:329: UserWarning:\n",
      "\n",
      "Graph is not fully connected, spectral embedding may not work as expected.\n",
      "\n",
      "c:\\Users\\decas\\Documents\\ml-pdf-miner\\venv\\Lib\\site-packages\\sklearn\\manifold\\_spectral_embedding.py:329: UserWarning:\n",
      "\n",
      "Graph is not fully connected, spectral embedding may not work as expected.\n",
      "\n",
      "c:\\Users\\decas\\Documents\\ml-pdf-miner\\venv\\Lib\\site-packages\\sklearn\\manifold\\_spectral_embedding.py:329: UserWarning:\n",
      "\n",
      "Graph is not fully connected, spectral embedding may not work as expected.\n",
      "\n",
      "c:\\Users\\decas\\Documents\\ml-pdf-miner\\venv\\Lib\\site-packages\\sklearn\\manifold\\_spectral_embedding.py:329: UserWarning:\n",
      "\n",
      "Graph is not fully connected, spectral embedding may not work as expected.\n",
      "\n",
      "c:\\Users\\decas\\Documents\\ml-pdf-miner\\venv\\Lib\\site-packages\\sklearn\\manifold\\_spectral_embedding.py:329: UserWarning:\n",
      "\n",
      "Graph is not fully connected, spectral embedding may not work as expected.\n",
      "\n"
     ]
    },
    {
     "data": {
      "application/vnd.plotly.v1+json": {
       "config": {
        "plotlyServerURL": "https://plot.ly"
       },
       "data": [
        {
         "name": "Base original",
         "type": "scatter",
         "x": [
          2,
          3,
          4,
          5,
          6,
          7,
          8,
          9,
          10,
          11,
          12,
          13,
          14,
          15,
          16,
          17,
          18,
          19,
          20
         ],
         "xaxis": "x",
         "y": [
          0.5078749722414769,
          0.2528647266090228,
          0.7042621047388876,
          1.167704017185637,
          1.0252689284093186,
          1.1786519997390374,
          1.055567062591258,
          0.6972706207386596,
          0.6429372889030314,
          0.7660992806641058,
          0.7416692207048389,
          0.7296975484657965,
          0.7273035905350776,
          0.7188707113286805,
          0.6181343472364248,
          0.6094037624213776,
          0.5781327238443176,
          0.6286998337149969,
          1.2748639162974353
         ],
         "yaxis": "y"
        },
        {
         "name": "Correlação",
         "type": "scatter",
         "x": [
          2,
          3,
          4,
          5,
          6,
          7,
          8,
          9,
          10,
          11,
          12,
          13,
          14,
          15,
          16,
          17,
          18,
          19,
          20
         ],
         "xaxis": "x",
         "y": [
          0.1846630631256569,
          0.7174327582900454,
          4.4374239555320285,
          4.813564507150099,
          1.7329124992149747,
          1.3038318853731006,
          1.058277184384923,
          1.1977396255681354,
          0.5816197877740975,
          0.6455505598825216,
          0.5799754465263592,
          0.581079386019845,
          0.6253255776323116,
          1.0043693545957935,
          0.6141359785872288,
          0.6269722725478644,
          3.193095111755939,
          1.6273274114685377,
          1.539899008764769
         ],
         "yaxis": "y"
        },
        {
         "name": "PCA",
         "type": "scatter",
         "x": [
          2,
          3,
          4,
          5,
          6,
          7,
          8,
          9,
          10,
          11,
          12,
          13,
          14,
          15,
          16,
          17,
          18,
          19,
          20
         ],
         "xaxis": "x",
         "y": [
          0.49770180910512174,
          0.2357807067994838,
          0.652030234464225,
          0.9919930382011873,
          0.49691386576556756,
          0.6404617690721924,
          0.4666074765131984,
          0.2344300452594848,
          0.24664877344932168,
          0.20749608085265017,
          0.2268847436138757,
          0.3447666239650078,
          0.4114184927858714,
          0.3911282144482707,
          0.3284795110461888,
          0.28003343822856763,
          0.3054882656689448,
          0.7544237231662235,
          1.1764130132721644
         ],
         "yaxis": "y"
        },
        {
         "name": "Base original",
         "type": "scatter",
         "x": [
          2,
          3,
          4,
          5,
          6,
          7,
          8,
          9,
          10,
          11,
          12,
          13,
          14,
          15,
          16,
          17,
          18,
          19,
          20
         ],
         "xaxis": "x2",
         "y": [
          0.7238926673103409,
          0.8267389575479351,
          0.6536465706799455,
          0.3559771788346412,
          0.45489719103934,
          0.3046456376651443,
          0.3384389281407911,
          0.5788318764499194,
          0.5940375060627462,
          0.5741978926914986,
          0.5733977982850544,
          0.5858292091248144,
          0.576174443005579,
          0.5887666776427998,
          0.5970868181723452,
          0.5850994052450397,
          0.587284920763026,
          0.42893877642334827,
          0.4292634218915156
         ],
         "yaxis": "y2"
        },
        {
         "name": "Correlação",
         "type": "scatter",
         "x": [
          2,
          3,
          4,
          5,
          6,
          7,
          8,
          9,
          10,
          11,
          12,
          13,
          14,
          15,
          16,
          17,
          18,
          19,
          20
         ],
         "xaxis": "x2",
         "y": [
          0.9145328995049551,
          0.8009871243339051,
          0.3324484202675147,
          0.27689756451983405,
          0.36915059979160764,
          0.08144226819198022,
          0.09746668444988948,
          0.09816301275819109,
          0.47491703503310734,
          0.40535130728643193,
          0.41129002912004015,
          0.39935295289318296,
          0.37476973364519606,
          0.37149751351753835,
          0.39420663583621957,
          0.3760350061824747,
          0.29199182926546147,
          0.2739378073167071,
          0.2306916058994605
         ],
         "yaxis": "y2"
        },
        {
         "name": "PCA",
         "type": "scatter",
         "x": [
          2,
          3,
          4,
          5,
          6,
          7,
          8,
          9,
          10,
          11,
          12,
          13,
          14,
          15,
          16,
          17,
          18,
          19,
          20
         ],
         "xaxis": "x2",
         "y": [
          0.7480564865514782,
          0.8628311282562606,
          0.7027204532312186,
          0.5107491800584282,
          0.69184703257772,
          0.5718927156486026,
          0.8447568725506346,
          0.8928301287582738,
          0.8939841239174312,
          0.9007346440698795,
          0.8442280569889657,
          0.764782545264469,
          0.6946703835725954,
          0.698146345800508,
          0.7099002242632282,
          0.7707029380006494,
          0.7490834829111597,
          0.6050785113677339,
          0.5208959067227997
         ],
         "yaxis": "y2"
        },
        {
         "name": "Base original",
         "type": "scatter",
         "x": [
          2,
          3,
          4,
          5,
          6,
          7,
          8,
          9,
          10,
          11,
          12,
          13,
          14,
          15,
          16,
          17,
          18,
          19,
          20
         ],
         "xaxis": "x3",
         "y": [
          0.002603601244336508,
          -0.02508453931117638,
          -0.014396474142335709,
          -0.0073544716847554065,
          -0.014053208089789307,
          -0.013265352188062199,
          -0.014240591411126439,
          -0.01326065522612252,
          -0.013604037530169387,
          0.00014790618722687642,
          0.00034490445347432893,
          0.005763331963389703,
          0.00932201853822193,
          0.00893015167338047,
          0.009532315607412608,
          0.011044050758516485,
          0.01054453989118045,
          0.009628723856718433,
          0.004956639988713267
         ],
         "yaxis": "y3"
        },
        {
         "name": "Correlação",
         "type": "scatter",
         "x": [
          2,
          3,
          4,
          5,
          6,
          7,
          8,
          9,
          10,
          11,
          12,
          13,
          14,
          15,
          16,
          17,
          18,
          19,
          20
         ],
         "xaxis": "x3",
         "y": [
          0.03133685967382861,
          0.037256750903892986,
          0.031153530035555235,
          0.03322399218502094,
          0.0774229265576381,
          0.07320014119093458,
          0.07501878819532301,
          0.05918976874008165,
          0.08440981303295457,
          0.06663640821271093,
          0.06687792641782295,
          0.06953587645586193,
          0.05179586759063892,
          0.04756606041970009,
          0.04788421127875155,
          0.05058472455899376,
          0.04151859183845992,
          0.039535783841397214,
          0.03930494525627068
         ],
         "yaxis": "y3"
        },
        {
         "name": "PCA",
         "type": "scatter",
         "x": [
          2,
          3,
          4,
          5,
          6,
          7,
          8,
          9,
          10,
          11,
          12,
          13,
          14,
          15,
          16,
          17,
          18,
          19,
          20
         ],
         "xaxis": "x3",
         "y": [
          0.002603601244336508,
          -0.02508453931117638,
          -0.014570720815094888,
          -0.014926456944656318,
          -0.016634481402850114,
          -0.01627318960891586,
          -0.0153585128411484,
          -0.014925606525429016,
          -0.014720539916810204,
          -0.015222884590263337,
          -0.014077523313603905,
          -0.014718028436205574,
          0.00005107150681836302,
          -0.00018498371943384805,
          0.00034286808493097303,
          0.002020249116774178,
          0.0031283043173490673,
          0.00606792882399159,
          0.009771892618268208
         ],
         "yaxis": "y3"
        }
       ],
       "layout": {
        "annotations": [
         {
          "font": {
           "size": 16
          },
          "showarrow": false,
          "text": "Índice - Davies-Bouldin",
          "x": 0.14444444444444446,
          "xanchor": "center",
          "xref": "paper",
          "y": 1,
          "yanchor": "bottom",
          "yref": "paper"
         },
         {
          "font": {
           "size": 16
          },
          "showarrow": false,
          "text": "Índice - Silhouette",
          "x": 0.5,
          "xanchor": "center",
          "xref": "paper",
          "y": 1,
          "yanchor": "bottom",
          "yref": "paper"
         },
         {
          "font": {
           "size": 16
          },
          "showarrow": false,
          "text": "Índice - Adjusted Rand Score",
          "x": 0.8555555555555556,
          "xanchor": "center",
          "xref": "paper",
          "y": 1,
          "yanchor": "bottom",
          "yref": "paper"
         }
        ],
        "boxmode": "group",
        "showlegend": true,
        "template": {
         "data": {
          "bar": [
           {
            "error_x": {
             "color": "#2a3f5f"
            },
            "error_y": {
             "color": "#2a3f5f"
            },
            "marker": {
             "line": {
              "color": "#E5ECF6",
              "width": 0.5
             },
             "pattern": {
              "fillmode": "overlay",
              "size": 10,
              "solidity": 0.2
             }
            },
            "type": "bar"
           }
          ],
          "barpolar": [
           {
            "marker": {
             "line": {
              "color": "#E5ECF6",
              "width": 0.5
             },
             "pattern": {
              "fillmode": "overlay",
              "size": 10,
              "solidity": 0.2
             }
            },
            "type": "barpolar"
           }
          ],
          "carpet": [
           {
            "aaxis": {
             "endlinecolor": "#2a3f5f",
             "gridcolor": "white",
             "linecolor": "white",
             "minorgridcolor": "white",
             "startlinecolor": "#2a3f5f"
            },
            "baxis": {
             "endlinecolor": "#2a3f5f",
             "gridcolor": "white",
             "linecolor": "white",
             "minorgridcolor": "white",
             "startlinecolor": "#2a3f5f"
            },
            "type": "carpet"
           }
          ],
          "choropleth": [
           {
            "colorbar": {
             "outlinewidth": 0,
             "ticks": ""
            },
            "type": "choropleth"
           }
          ],
          "contour": [
           {
            "colorbar": {
             "outlinewidth": 0,
             "ticks": ""
            },
            "colorscale": [
             [
              0,
              "#0d0887"
             ],
             [
              0.1111111111111111,
              "#46039f"
             ],
             [
              0.2222222222222222,
              "#7201a8"
             ],
             [
              0.3333333333333333,
              "#9c179e"
             ],
             [
              0.4444444444444444,
              "#bd3786"
             ],
             [
              0.5555555555555556,
              "#d8576b"
             ],
             [
              0.6666666666666666,
              "#ed7953"
             ],
             [
              0.7777777777777778,
              "#fb9f3a"
             ],
             [
              0.8888888888888888,
              "#fdca26"
             ],
             [
              1,
              "#f0f921"
             ]
            ],
            "type": "contour"
           }
          ],
          "contourcarpet": [
           {
            "colorbar": {
             "outlinewidth": 0,
             "ticks": ""
            },
            "type": "contourcarpet"
           }
          ],
          "heatmap": [
           {
            "colorbar": {
             "outlinewidth": 0,
             "ticks": ""
            },
            "colorscale": [
             [
              0,
              "#0d0887"
             ],
             [
              0.1111111111111111,
              "#46039f"
             ],
             [
              0.2222222222222222,
              "#7201a8"
             ],
             [
              0.3333333333333333,
              "#9c179e"
             ],
             [
              0.4444444444444444,
              "#bd3786"
             ],
             [
              0.5555555555555556,
              "#d8576b"
             ],
             [
              0.6666666666666666,
              "#ed7953"
             ],
             [
              0.7777777777777778,
              "#fb9f3a"
             ],
             [
              0.8888888888888888,
              "#fdca26"
             ],
             [
              1,
              "#f0f921"
             ]
            ],
            "type": "heatmap"
           }
          ],
          "heatmapgl": [
           {
            "colorbar": {
             "outlinewidth": 0,
             "ticks": ""
            },
            "colorscale": [
             [
              0,
              "#0d0887"
             ],
             [
              0.1111111111111111,
              "#46039f"
             ],
             [
              0.2222222222222222,
              "#7201a8"
             ],
             [
              0.3333333333333333,
              "#9c179e"
             ],
             [
              0.4444444444444444,
              "#bd3786"
             ],
             [
              0.5555555555555556,
              "#d8576b"
             ],
             [
              0.6666666666666666,
              "#ed7953"
             ],
             [
              0.7777777777777778,
              "#fb9f3a"
             ],
             [
              0.8888888888888888,
              "#fdca26"
             ],
             [
              1,
              "#f0f921"
             ]
            ],
            "type": "heatmapgl"
           }
          ],
          "histogram": [
           {
            "marker": {
             "pattern": {
              "fillmode": "overlay",
              "size": 10,
              "solidity": 0.2
             }
            },
            "type": "histogram"
           }
          ],
          "histogram2d": [
           {
            "colorbar": {
             "outlinewidth": 0,
             "ticks": ""
            },
            "colorscale": [
             [
              0,
              "#0d0887"
             ],
             [
              0.1111111111111111,
              "#46039f"
             ],
             [
              0.2222222222222222,
              "#7201a8"
             ],
             [
              0.3333333333333333,
              "#9c179e"
             ],
             [
              0.4444444444444444,
              "#bd3786"
             ],
             [
              0.5555555555555556,
              "#d8576b"
             ],
             [
              0.6666666666666666,
              "#ed7953"
             ],
             [
              0.7777777777777778,
              "#fb9f3a"
             ],
             [
              0.8888888888888888,
              "#fdca26"
             ],
             [
              1,
              "#f0f921"
             ]
            ],
            "type": "histogram2d"
           }
          ],
          "histogram2dcontour": [
           {
            "colorbar": {
             "outlinewidth": 0,
             "ticks": ""
            },
            "colorscale": [
             [
              0,
              "#0d0887"
             ],
             [
              0.1111111111111111,
              "#46039f"
             ],
             [
              0.2222222222222222,
              "#7201a8"
             ],
             [
              0.3333333333333333,
              "#9c179e"
             ],
             [
              0.4444444444444444,
              "#bd3786"
             ],
             [
              0.5555555555555556,
              "#d8576b"
             ],
             [
              0.6666666666666666,
              "#ed7953"
             ],
             [
              0.7777777777777778,
              "#fb9f3a"
             ],
             [
              0.8888888888888888,
              "#fdca26"
             ],
             [
              1,
              "#f0f921"
             ]
            ],
            "type": "histogram2dcontour"
           }
          ],
          "mesh3d": [
           {
            "colorbar": {
             "outlinewidth": 0,
             "ticks": ""
            },
            "type": "mesh3d"
           }
          ],
          "parcoords": [
           {
            "line": {
             "colorbar": {
              "outlinewidth": 0,
              "ticks": ""
             }
            },
            "type": "parcoords"
           }
          ],
          "pie": [
           {
            "automargin": true,
            "type": "pie"
           }
          ],
          "scatter": [
           {
            "fillpattern": {
             "fillmode": "overlay",
             "size": 10,
             "solidity": 0.2
            },
            "type": "scatter"
           }
          ],
          "scatter3d": [
           {
            "line": {
             "colorbar": {
              "outlinewidth": 0,
              "ticks": ""
             }
            },
            "marker": {
             "colorbar": {
              "outlinewidth": 0,
              "ticks": ""
             }
            },
            "type": "scatter3d"
           }
          ],
          "scattercarpet": [
           {
            "marker": {
             "colorbar": {
              "outlinewidth": 0,
              "ticks": ""
             }
            },
            "type": "scattercarpet"
           }
          ],
          "scattergeo": [
           {
            "marker": {
             "colorbar": {
              "outlinewidth": 0,
              "ticks": ""
             }
            },
            "type": "scattergeo"
           }
          ],
          "scattergl": [
           {
            "marker": {
             "colorbar": {
              "outlinewidth": 0,
              "ticks": ""
             }
            },
            "type": "scattergl"
           }
          ],
          "scattermapbox": [
           {
            "marker": {
             "colorbar": {
              "outlinewidth": 0,
              "ticks": ""
             }
            },
            "type": "scattermapbox"
           }
          ],
          "scatterpolar": [
           {
            "marker": {
             "colorbar": {
              "outlinewidth": 0,
              "ticks": ""
             }
            },
            "type": "scatterpolar"
           }
          ],
          "scatterpolargl": [
           {
            "marker": {
             "colorbar": {
              "outlinewidth": 0,
              "ticks": ""
             }
            },
            "type": "scatterpolargl"
           }
          ],
          "scatterternary": [
           {
            "marker": {
             "colorbar": {
              "outlinewidth": 0,
              "ticks": ""
             }
            },
            "type": "scatterternary"
           }
          ],
          "surface": [
           {
            "colorbar": {
             "outlinewidth": 0,
             "ticks": ""
            },
            "colorscale": [
             [
              0,
              "#0d0887"
             ],
             [
              0.1111111111111111,
              "#46039f"
             ],
             [
              0.2222222222222222,
              "#7201a8"
             ],
             [
              0.3333333333333333,
              "#9c179e"
             ],
             [
              0.4444444444444444,
              "#bd3786"
             ],
             [
              0.5555555555555556,
              "#d8576b"
             ],
             [
              0.6666666666666666,
              "#ed7953"
             ],
             [
              0.7777777777777778,
              "#fb9f3a"
             ],
             [
              0.8888888888888888,
              "#fdca26"
             ],
             [
              1,
              "#f0f921"
             ]
            ],
            "type": "surface"
           }
          ],
          "table": [
           {
            "cells": {
             "fill": {
              "color": "#EBF0F8"
             },
             "line": {
              "color": "white"
             }
            },
            "header": {
             "fill": {
              "color": "#C8D4E3"
             },
             "line": {
              "color": "white"
             }
            },
            "type": "table"
           }
          ]
         },
         "layout": {
          "annotationdefaults": {
           "arrowcolor": "#2a3f5f",
           "arrowhead": 0,
           "arrowwidth": 1
          },
          "autotypenumbers": "strict",
          "coloraxis": {
           "colorbar": {
            "outlinewidth": 0,
            "ticks": ""
           }
          },
          "colorscale": {
           "diverging": [
            [
             0,
             "#8e0152"
            ],
            [
             0.1,
             "#c51b7d"
            ],
            [
             0.2,
             "#de77ae"
            ],
            [
             0.3,
             "#f1b6da"
            ],
            [
             0.4,
             "#fde0ef"
            ],
            [
             0.5,
             "#f7f7f7"
            ],
            [
             0.6,
             "#e6f5d0"
            ],
            [
             0.7,
             "#b8e186"
            ],
            [
             0.8,
             "#7fbc41"
            ],
            [
             0.9,
             "#4d9221"
            ],
            [
             1,
             "#276419"
            ]
           ],
           "sequential": [
            [
             0,
             "#0d0887"
            ],
            [
             0.1111111111111111,
             "#46039f"
            ],
            [
             0.2222222222222222,
             "#7201a8"
            ],
            [
             0.3333333333333333,
             "#9c179e"
            ],
            [
             0.4444444444444444,
             "#bd3786"
            ],
            [
             0.5555555555555556,
             "#d8576b"
            ],
            [
             0.6666666666666666,
             "#ed7953"
            ],
            [
             0.7777777777777778,
             "#fb9f3a"
            ],
            [
             0.8888888888888888,
             "#fdca26"
            ],
            [
             1,
             "#f0f921"
            ]
           ],
           "sequentialminus": [
            [
             0,
             "#0d0887"
            ],
            [
             0.1111111111111111,
             "#46039f"
            ],
            [
             0.2222222222222222,
             "#7201a8"
            ],
            [
             0.3333333333333333,
             "#9c179e"
            ],
            [
             0.4444444444444444,
             "#bd3786"
            ],
            [
             0.5555555555555556,
             "#d8576b"
            ],
            [
             0.6666666666666666,
             "#ed7953"
            ],
            [
             0.7777777777777778,
             "#fb9f3a"
            ],
            [
             0.8888888888888888,
             "#fdca26"
            ],
            [
             1,
             "#f0f921"
            ]
           ]
          },
          "colorway": [
           "#636efa",
           "#EF553B",
           "#00cc96",
           "#ab63fa",
           "#FFA15A",
           "#19d3f3",
           "#FF6692",
           "#B6E880",
           "#FF97FF",
           "#FECB52"
          ],
          "font": {
           "color": "#2a3f5f"
          },
          "geo": {
           "bgcolor": "white",
           "lakecolor": "white",
           "landcolor": "#E5ECF6",
           "showlakes": true,
           "showland": true,
           "subunitcolor": "white"
          },
          "hoverlabel": {
           "align": "left"
          },
          "hovermode": "closest",
          "mapbox": {
           "style": "light"
          },
          "paper_bgcolor": "white",
          "plot_bgcolor": "#E5ECF6",
          "polar": {
           "angularaxis": {
            "gridcolor": "white",
            "linecolor": "white",
            "ticks": ""
           },
           "bgcolor": "#E5ECF6",
           "radialaxis": {
            "gridcolor": "white",
            "linecolor": "white",
            "ticks": ""
           }
          },
          "scene": {
           "xaxis": {
            "backgroundcolor": "#E5ECF6",
            "gridcolor": "white",
            "gridwidth": 2,
            "linecolor": "white",
            "showbackground": true,
            "ticks": "",
            "zerolinecolor": "white"
           },
           "yaxis": {
            "backgroundcolor": "#E5ECF6",
            "gridcolor": "white",
            "gridwidth": 2,
            "linecolor": "white",
            "showbackground": true,
            "ticks": "",
            "zerolinecolor": "white"
           },
           "zaxis": {
            "backgroundcolor": "#E5ECF6",
            "gridcolor": "white",
            "gridwidth": 2,
            "linecolor": "white",
            "showbackground": true,
            "ticks": "",
            "zerolinecolor": "white"
           }
          },
          "shapedefaults": {
           "line": {
            "color": "#2a3f5f"
           }
          },
          "ternary": {
           "aaxis": {
            "gridcolor": "white",
            "linecolor": "white",
            "ticks": ""
           },
           "baxis": {
            "gridcolor": "white",
            "linecolor": "white",
            "ticks": ""
           },
           "bgcolor": "#E5ECF6",
           "caxis": {
            "gridcolor": "white",
            "linecolor": "white",
            "ticks": ""
           }
          },
          "title": {
           "x": 0.05
          },
          "xaxis": {
           "automargin": true,
           "gridcolor": "white",
           "linecolor": "white",
           "ticks": "",
           "title": {
            "standoff": 15
           },
           "zerolinecolor": "white",
           "zerolinewidth": 2
          },
          "yaxis": {
           "automargin": true,
           "gridcolor": "white",
           "linecolor": "white",
           "ticks": "",
           "title": {
            "standoff": 15
           },
           "zerolinecolor": "white",
           "zerolinewidth": 2
          }
         }
        },
        "title": {
         "text": "Gráfico de comitê de agrupamento com HIERARQUICO"
        },
        "xaxis": {
         "anchor": "y",
         "domain": [
          0,
          0.2888888888888889
         ]
        },
        "xaxis2": {
         "anchor": "y2",
         "domain": [
          0.35555555555555557,
          0.6444444444444445
         ]
        },
        "xaxis3": {
         "anchor": "y3",
         "domain": [
          0.7111111111111111,
          1
         ]
        },
        "yaxis": {
         "anchor": "x",
         "domain": [
          0,
          1
         ]
        },
        "yaxis2": {
         "anchor": "x2",
         "domain": [
          0,
          1
         ]
        },
        "yaxis3": {
         "anchor": "x3",
         "domain": [
          0,
          1
         ]
        }
       }
      }
     },
     "metadata": {},
     "output_type": "display_data"
    }
   ],
   "source": [
    "plot_ensemble_indices(data_tfidf, selected_df_corr, selected_df_pca, labels, 'hierarquico')"
   ]
  },
  {
   "cell_type": "code",
   "execution_count": 234,
   "metadata": {},
   "outputs": [
    {
     "name": "stderr",
     "output_type": "stream",
     "text": [
      "c:\\Users\\decas\\Documents\\ml-pdf-miner\\venv\\Lib\\site-packages\\sklearn\\manifold\\_spectral_embedding.py:329: UserWarning:\n",
      "\n",
      "Graph is not fully connected, spectral embedding may not work as expected.\n",
      "\n",
      "c:\\Users\\decas\\Documents\\ml-pdf-miner\\venv\\Lib\\site-packages\\sklearn\\manifold\\_spectral_embedding.py:329: UserWarning:\n",
      "\n",
      "Graph is not fully connected, spectral embedding may not work as expected.\n",
      "\n",
      "c:\\Users\\decas\\Documents\\ml-pdf-miner\\venv\\Lib\\site-packages\\sklearn\\manifold\\_spectral_embedding.py:329: UserWarning:\n",
      "\n",
      "Graph is not fully connected, spectral embedding may not work as expected.\n",
      "\n",
      "c:\\Users\\decas\\Documents\\ml-pdf-miner\\venv\\Lib\\site-packages\\sklearn\\manifold\\_spectral_embedding.py:329: UserWarning:\n",
      "\n",
      "Graph is not fully connected, spectral embedding may not work as expected.\n",
      "\n",
      "c:\\Users\\decas\\Documents\\ml-pdf-miner\\venv\\Lib\\site-packages\\sklearn\\manifold\\_spectral_embedding.py:329: UserWarning:\n",
      "\n",
      "Graph is not fully connected, spectral embedding may not work as expected.\n",
      "\n",
      "c:\\Users\\decas\\Documents\\ml-pdf-miner\\venv\\Lib\\site-packages\\sklearn\\manifold\\_spectral_embedding.py:329: UserWarning:\n",
      "\n",
      "Graph is not fully connected, spectral embedding may not work as expected.\n",
      "\n",
      "c:\\Users\\decas\\Documents\\ml-pdf-miner\\venv\\Lib\\site-packages\\sklearn\\manifold\\_spectral_embedding.py:329: UserWarning:\n",
      "\n",
      "Graph is not fully connected, spectral embedding may not work as expected.\n",
      "\n",
      "c:\\Users\\decas\\Documents\\ml-pdf-miner\\venv\\Lib\\site-packages\\sklearn\\manifold\\_spectral_embedding.py:329: UserWarning:\n",
      "\n",
      "Graph is not fully connected, spectral embedding may not work as expected.\n",
      "\n",
      "c:\\Users\\decas\\Documents\\ml-pdf-miner\\venv\\Lib\\site-packages\\sklearn\\manifold\\_spectral_embedding.py:329: UserWarning:\n",
      "\n",
      "Graph is not fully connected, spectral embedding may not work as expected.\n",
      "\n",
      "c:\\Users\\decas\\Documents\\ml-pdf-miner\\venv\\Lib\\site-packages\\sklearn\\manifold\\_spectral_embedding.py:329: UserWarning:\n",
      "\n",
      "Graph is not fully connected, spectral embedding may not work as expected.\n",
      "\n",
      "c:\\Users\\decas\\Documents\\ml-pdf-miner\\venv\\Lib\\site-packages\\sklearn\\manifold\\_spectral_embedding.py:329: UserWarning:\n",
      "\n",
      "Graph is not fully connected, spectral embedding may not work as expected.\n",
      "\n",
      "c:\\Users\\decas\\Documents\\ml-pdf-miner\\venv\\Lib\\site-packages\\sklearn\\manifold\\_spectral_embedding.py:329: UserWarning:\n",
      "\n",
      "Graph is not fully connected, spectral embedding may not work as expected.\n",
      "\n",
      "c:\\Users\\decas\\Documents\\ml-pdf-miner\\venv\\Lib\\site-packages\\sklearn\\manifold\\_spectral_embedding.py:329: UserWarning:\n",
      "\n",
      "Graph is not fully connected, spectral embedding may not work as expected.\n",
      "\n",
      "c:\\Users\\decas\\Documents\\ml-pdf-miner\\venv\\Lib\\site-packages\\sklearn\\manifold\\_spectral_embedding.py:329: UserWarning:\n",
      "\n",
      "Graph is not fully connected, spectral embedding may not work as expected.\n",
      "\n",
      "c:\\Users\\decas\\Documents\\ml-pdf-miner\\venv\\Lib\\site-packages\\sklearn\\manifold\\_spectral_embedding.py:329: UserWarning:\n",
      "\n",
      "Graph is not fully connected, spectral embedding may not work as expected.\n",
      "\n",
      "c:\\Users\\decas\\Documents\\ml-pdf-miner\\venv\\Lib\\site-packages\\sklearn\\manifold\\_spectral_embedding.py:329: UserWarning:\n",
      "\n",
      "Graph is not fully connected, spectral embedding may not work as expected.\n",
      "\n",
      "c:\\Users\\decas\\Documents\\ml-pdf-miner\\venv\\Lib\\site-packages\\sklearn\\manifold\\_spectral_embedding.py:329: UserWarning:\n",
      "\n",
      "Graph is not fully connected, spectral embedding may not work as expected.\n",
      "\n",
      "c:\\Users\\decas\\Documents\\ml-pdf-miner\\venv\\Lib\\site-packages\\sklearn\\manifold\\_spectral_embedding.py:329: UserWarning:\n",
      "\n",
      "Graph is not fully connected, spectral embedding may not work as expected.\n",
      "\n",
      "c:\\Users\\decas\\Documents\\ml-pdf-miner\\venv\\Lib\\site-packages\\sklearn\\manifold\\_spectral_embedding.py:329: UserWarning:\n",
      "\n",
      "Graph is not fully connected, spectral embedding may not work as expected.\n",
      "\n",
      "c:\\Users\\decas\\Documents\\ml-pdf-miner\\venv\\Lib\\site-packages\\sklearn\\manifold\\_spectral_embedding.py:329: UserWarning:\n",
      "\n",
      "Graph is not fully connected, spectral embedding may not work as expected.\n",
      "\n",
      "c:\\Users\\decas\\Documents\\ml-pdf-miner\\venv\\Lib\\site-packages\\sklearn\\manifold\\_spectral_embedding.py:329: UserWarning:\n",
      "\n",
      "Graph is not fully connected, spectral embedding may not work as expected.\n",
      "\n",
      "c:\\Users\\decas\\Documents\\ml-pdf-miner\\venv\\Lib\\site-packages\\sklearn\\manifold\\_spectral_embedding.py:329: UserWarning:\n",
      "\n",
      "Graph is not fully connected, spectral embedding may not work as expected.\n",
      "\n",
      "c:\\Users\\decas\\Documents\\ml-pdf-miner\\venv\\Lib\\site-packages\\sklearn\\manifold\\_spectral_embedding.py:329: UserWarning:\n",
      "\n",
      "Graph is not fully connected, spectral embedding may not work as expected.\n",
      "\n",
      "c:\\Users\\decas\\Documents\\ml-pdf-miner\\venv\\Lib\\site-packages\\sklearn\\manifold\\_spectral_embedding.py:329: UserWarning:\n",
      "\n",
      "Graph is not fully connected, spectral embedding may not work as expected.\n",
      "\n",
      "c:\\Users\\decas\\Documents\\ml-pdf-miner\\venv\\Lib\\site-packages\\sklearn\\manifold\\_spectral_embedding.py:329: UserWarning:\n",
      "\n",
      "Graph is not fully connected, spectral embedding may not work as expected.\n",
      "\n",
      "c:\\Users\\decas\\Documents\\ml-pdf-miner\\venv\\Lib\\site-packages\\sklearn\\manifold\\_spectral_embedding.py:329: UserWarning:\n",
      "\n",
      "Graph is not fully connected, spectral embedding may not work as expected.\n",
      "\n",
      "c:\\Users\\decas\\Documents\\ml-pdf-miner\\venv\\Lib\\site-packages\\sklearn\\manifold\\_spectral_embedding.py:329: UserWarning:\n",
      "\n",
      "Graph is not fully connected, spectral embedding may not work as expected.\n",
      "\n",
      "c:\\Users\\decas\\Documents\\ml-pdf-miner\\venv\\Lib\\site-packages\\sklearn\\manifold\\_spectral_embedding.py:329: UserWarning:\n",
      "\n",
      "Graph is not fully connected, spectral embedding may not work as expected.\n",
      "\n",
      "c:\\Users\\decas\\Documents\\ml-pdf-miner\\venv\\Lib\\site-packages\\sklearn\\manifold\\_spectral_embedding.py:329: UserWarning:\n",
      "\n",
      "Graph is not fully connected, spectral embedding may not work as expected.\n",
      "\n",
      "c:\\Users\\decas\\Documents\\ml-pdf-miner\\venv\\Lib\\site-packages\\sklearn\\manifold\\_spectral_embedding.py:329: UserWarning:\n",
      "\n",
      "Graph is not fully connected, spectral embedding may not work as expected.\n",
      "\n",
      "c:\\Users\\decas\\Documents\\ml-pdf-miner\\venv\\Lib\\site-packages\\sklearn\\manifold\\_spectral_embedding.py:329: UserWarning:\n",
      "\n",
      "Graph is not fully connected, spectral embedding may not work as expected.\n",
      "\n",
      "c:\\Users\\decas\\Documents\\ml-pdf-miner\\venv\\Lib\\site-packages\\sklearn\\manifold\\_spectral_embedding.py:329: UserWarning:\n",
      "\n",
      "Graph is not fully connected, spectral embedding may not work as expected.\n",
      "\n",
      "c:\\Users\\decas\\Documents\\ml-pdf-miner\\venv\\Lib\\site-packages\\sklearn\\manifold\\_spectral_embedding.py:329: UserWarning:\n",
      "\n",
      "Graph is not fully connected, spectral embedding may not work as expected.\n",
      "\n",
      "c:\\Users\\decas\\Documents\\ml-pdf-miner\\venv\\Lib\\site-packages\\sklearn\\manifold\\_spectral_embedding.py:329: UserWarning:\n",
      "\n",
      "Graph is not fully connected, spectral embedding may not work as expected.\n",
      "\n",
      "c:\\Users\\decas\\Documents\\ml-pdf-miner\\venv\\Lib\\site-packages\\sklearn\\manifold\\_spectral_embedding.py:329: UserWarning:\n",
      "\n",
      "Graph is not fully connected, spectral embedding may not work as expected.\n",
      "\n",
      "c:\\Users\\decas\\Documents\\ml-pdf-miner\\venv\\Lib\\site-packages\\sklearn\\manifold\\_spectral_embedding.py:455: UserWarning:\n",
      "\n",
      "Failed at iteration 2 with accuracies [6.51670894e-13 1.99981034e-05 1.61025719e-05 1.76771417e-04\n",
      " 8.10462337e-04 2.80940050e-03 9.91381290e-15 5.30824692e-15\n",
      " 6.52047184e-15 1.28973491e-15 5.25408682e-15 1.94365869e-15\n",
      " 6.70630571e-15 2.83193383e-15]\n",
      " not reaching the requested tolerance 3.978610038757324e-06.\n",
      "\n",
      "c:\\Users\\decas\\Documents\\ml-pdf-miner\\venv\\Lib\\site-packages\\sklearn\\manifold\\_spectral_embedding.py:455: UserWarning:\n",
      "\n",
      "Exited at iteration 2 with accuracies \n",
      "[6.51670894e-13 1.99981034e-05 1.61025719e-05 1.76771417e-04\n",
      " 8.10462337e-04 2.80940050e-03 9.91381290e-15 5.30824692e-15\n",
      " 6.52047184e-15 1.28973491e-15 5.25408682e-15 1.94365869e-15\n",
      " 6.70630571e-15 2.83193383e-15]\n",
      "not reaching the requested tolerance 3.978610038757324e-06.\n",
      "Use iteration 2 instead with accuracy \n",
      "0.0002737667807722862.\n",
      "\n",
      "\n",
      "c:\\Users\\decas\\Documents\\ml-pdf-miner\\venv\\Lib\\site-packages\\sklearn\\manifold\\_spectral_embedding.py:455: UserWarning:\n",
      "\n",
      "Exited postprocessing with accuracies \n",
      "[1.28686323e-12 1.99981034e-05 1.61025719e-05 1.76771417e-04\n",
      " 8.10462337e-04 2.80940050e-03 5.04534862e-15 7.35677774e-15\n",
      " 2.15161576e-15 6.83201572e-15 9.66339215e-15 1.47423962e-15\n",
      " 3.95957867e-15 1.73963015e-15]\n",
      "not reaching the requested tolerance 3.978610038757324e-06.\n",
      "\n",
      "c:\\Users\\decas\\Documents\\ml-pdf-miner\\venv\\Lib\\site-packages\\sklearn\\manifold\\_spectral_embedding.py:329: UserWarning:\n",
      "\n",
      "Graph is not fully connected, spectral embedding may not work as expected.\n",
      "\n",
      "c:\\Users\\decas\\Documents\\ml-pdf-miner\\venv\\Lib\\site-packages\\sklearn\\manifold\\_spectral_embedding.py:329: UserWarning:\n",
      "\n",
      "Graph is not fully connected, spectral embedding may not work as expected.\n",
      "\n",
      "c:\\Users\\decas\\Documents\\ml-pdf-miner\\venv\\Lib\\site-packages\\sklearn\\manifold\\_spectral_embedding.py:329: UserWarning:\n",
      "\n",
      "Graph is not fully connected, spectral embedding may not work as expected.\n",
      "\n",
      "c:\\Users\\decas\\Documents\\ml-pdf-miner\\venv\\Lib\\site-packages\\sklearn\\manifold\\_spectral_embedding.py:329: UserWarning:\n",
      "\n",
      "Graph is not fully connected, spectral embedding may not work as expected.\n",
      "\n",
      "c:\\Users\\decas\\Documents\\ml-pdf-miner\\venv\\Lib\\site-packages\\sklearn\\manifold\\_spectral_embedding.py:329: UserWarning:\n",
      "\n",
      "Graph is not fully connected, spectral embedding may not work as expected.\n",
      "\n",
      "c:\\Users\\decas\\Documents\\ml-pdf-miner\\venv\\Lib\\site-packages\\sklearn\\manifold\\_spectral_embedding.py:329: UserWarning:\n",
      "\n",
      "Graph is not fully connected, spectral embedding may not work as expected.\n",
      "\n",
      "c:\\Users\\decas\\Documents\\ml-pdf-miner\\venv\\Lib\\site-packages\\sklearn\\manifold\\_spectral_embedding.py:329: UserWarning:\n",
      "\n",
      "Graph is not fully connected, spectral embedding may not work as expected.\n",
      "\n",
      "c:\\Users\\decas\\Documents\\ml-pdf-miner\\venv\\Lib\\site-packages\\sklearn\\manifold\\_spectral_embedding.py:329: UserWarning:\n",
      "\n",
      "Graph is not fully connected, spectral embedding may not work as expected.\n",
      "\n",
      "c:\\Users\\decas\\Documents\\ml-pdf-miner\\venv\\Lib\\site-packages\\sklearn\\manifold\\_spectral_embedding.py:329: UserWarning:\n",
      "\n",
      "Graph is not fully connected, spectral embedding may not work as expected.\n",
      "\n",
      "c:\\Users\\decas\\Documents\\ml-pdf-miner\\venv\\Lib\\site-packages\\sklearn\\manifold\\_spectral_embedding.py:329: UserWarning:\n",
      "\n",
      "Graph is not fully connected, spectral embedding may not work as expected.\n",
      "\n",
      "c:\\Users\\decas\\Documents\\ml-pdf-miner\\venv\\Lib\\site-packages\\sklearn\\manifold\\_spectral_embedding.py:329: UserWarning:\n",
      "\n",
      "Graph is not fully connected, spectral embedding may not work as expected.\n",
      "\n",
      "c:\\Users\\decas\\Documents\\ml-pdf-miner\\venv\\Lib\\site-packages\\sklearn\\manifold\\_spectral_embedding.py:329: UserWarning:\n",
      "\n",
      "Graph is not fully connected, spectral embedding may not work as expected.\n",
      "\n",
      "c:\\Users\\decas\\Documents\\ml-pdf-miner\\venv\\Lib\\site-packages\\sklearn\\manifold\\_spectral_embedding.py:329: UserWarning:\n",
      "\n",
      "Graph is not fully connected, spectral embedding may not work as expected.\n",
      "\n",
      "c:\\Users\\decas\\Documents\\ml-pdf-miner\\venv\\Lib\\site-packages\\sklearn\\manifold\\_spectral_embedding.py:329: UserWarning:\n",
      "\n",
      "Graph is not fully connected, spectral embedding may not work as expected.\n",
      "\n",
      "c:\\Users\\decas\\Documents\\ml-pdf-miner\\venv\\Lib\\site-packages\\sklearn\\manifold\\_spectral_embedding.py:329: UserWarning:\n",
      "\n",
      "Graph is not fully connected, spectral embedding may not work as expected.\n",
      "\n",
      "c:\\Users\\decas\\Documents\\ml-pdf-miner\\venv\\Lib\\site-packages\\sklearn\\manifold\\_spectral_embedding.py:329: UserWarning:\n",
      "\n",
      "Graph is not fully connected, spectral embedding may not work as expected.\n",
      "\n",
      "c:\\Users\\decas\\Documents\\ml-pdf-miner\\venv\\Lib\\site-packages\\sklearn\\manifold\\_spectral_embedding.py:329: UserWarning:\n",
      "\n",
      "Graph is not fully connected, spectral embedding may not work as expected.\n",
      "\n",
      "c:\\Users\\decas\\Documents\\ml-pdf-miner\\venv\\Lib\\site-packages\\sklearn\\manifold\\_spectral_embedding.py:329: UserWarning:\n",
      "\n",
      "Graph is not fully connected, spectral embedding may not work as expected.\n",
      "\n",
      "c:\\Users\\decas\\Documents\\ml-pdf-miner\\venv\\Lib\\site-packages\\sklearn\\manifold\\_spectral_embedding.py:329: UserWarning:\n",
      "\n",
      "Graph is not fully connected, spectral embedding may not work as expected.\n",
      "\n",
      "c:\\Users\\decas\\Documents\\ml-pdf-miner\\venv\\Lib\\site-packages\\sklearn\\manifold\\_spectral_embedding.py:329: UserWarning:\n",
      "\n",
      "Graph is not fully connected, spectral embedding may not work as expected.\n",
      "\n",
      "c:\\Users\\decas\\Documents\\ml-pdf-miner\\venv\\Lib\\site-packages\\sklearn\\manifold\\_spectral_embedding.py:329: UserWarning:\n",
      "\n",
      "Graph is not fully connected, spectral embedding may not work as expected.\n",
      "\n",
      "c:\\Users\\decas\\Documents\\ml-pdf-miner\\venv\\Lib\\site-packages\\sklearn\\manifold\\_spectral_embedding.py:329: UserWarning:\n",
      "\n",
      "Graph is not fully connected, spectral embedding may not work as expected.\n",
      "\n"
     ]
    },
    {
     "data": {
      "application/vnd.plotly.v1+json": {
       "config": {
        "plotlyServerURL": "https://plot.ly"
       },
       "data": [
        {
         "name": "Base original",
         "type": "scatter",
         "x": [
          2,
          3,
          4,
          5,
          6,
          7,
          8,
          9,
          10,
          11,
          12,
          13,
          14,
          15,
          16,
          17,
          18,
          19,
          20
         ],
         "xaxis": "x",
         "y": [
          0.5078749722414769,
          0.25286472660902287,
          0.21714031593432886,
          0.3970657265858642,
          0.8594789115769577,
          0.688973694325707,
          1.3518137759503805,
          0.6308339233555667,
          0.6150443871353002,
          0.6300087021532547,
          0.8066481427595354,
          0.8431845962849643,
          0.7864782157097328,
          0.7786165050331623,
          0.6158133847126266,
          0.6529293197453113,
          0.6262402275728063,
          0.6115621392519643,
          1.5949444485425852
         ],
         "yaxis": "y"
        },
        {
         "name": "Correlação",
         "type": "scatter",
         "x": [
          2,
          3,
          4,
          5,
          6,
          7,
          8,
          9,
          10,
          11,
          12,
          13,
          14,
          15,
          16,
          17,
          18,
          19,
          20
         ],
         "xaxis": "x",
         "y": [
          0.1846630631256569,
          0.28560451242944257,
          0.3671836907079321,
          0.2670455522927172,
          0.30154621894438477,
          0.5078074103320491,
          3.1330722788621257,
          4.678302440368784,
          4.26611455527813,
          4.461690045142664,
          3.1585783694144958,
          13.1814871814967,
          4.653996507888941,
          5.157848715991592,
          5.08215418144317,
          21.84657080186871,
          5.498512493810635,
          8.942445430588467,
          7.255206560011516
         ],
         "yaxis": "y"
        },
        {
         "name": "PCA",
         "type": "scatter",
         "x": [
          2,
          3,
          4,
          5,
          6,
          7,
          8,
          9,
          10,
          11,
          12,
          13,
          14,
          15,
          16,
          17,
          18,
          19,
          20
         ],
         "xaxis": "x",
         "y": [
          0.49770180910512174,
          0.2357807067994838,
          0.18962379165243443,
          0.3546001528341392,
          0.7105919320768659,
          0.6404617690721924,
          0.19361410693109143,
          0.23443004525948474,
          0.24664877344932173,
          0.20749608085265017,
          0.13926715411617593,
          0.15697297448766095,
          0.15204312347677443,
          1.168794425812282,
          0.9939265386168803,
          3.2175436000550106,
          2.600865243878423,
          1.736831077807328,
          2.140933062588827
         ],
         "yaxis": "y"
        },
        {
         "name": "Base original",
         "type": "scatter",
         "x": [
          2,
          3,
          4,
          5,
          6,
          7,
          8,
          9,
          10,
          11,
          12,
          13,
          14,
          15,
          16,
          17,
          18,
          19,
          20
         ],
         "xaxis": "x2",
         "y": [
          0.7238926673103409,
          0.8267389575479351,
          0.8312684156166741,
          0.7471884655867788,
          0.550613755702812,
          0.5812782752595765,
          0.5182728603026073,
          0.586511195698827,
          0.5857111012923829,
          0.5905230575634628,
          0.584645765460526,
          0.5667037816544116,
          0.568889297172398,
          0.5392437019998682,
          0.5528638120261629,
          0.5347038768695354,
          0.5564202091637044,
          0.5515360013942415,
          0.4249811589566961
         ],
         "yaxis": "y2"
        },
        {
         "name": "Correlação",
         "type": "scatter",
         "x": [
          2,
          3,
          4,
          5,
          6,
          7,
          8,
          9,
          10,
          11,
          12,
          13,
          14,
          15,
          16,
          17,
          18,
          19,
          20
         ],
         "xaxis": "x2",
         "y": [
          0.9145328995049551,
          0.922397769787499,
          0.8267049238993808,
          0.8334442705470412,
          0.8256963394397729,
          0.12599389464626584,
          0.10381732089849348,
          0.05800488576642046,
          0.012907734538193497,
          -0.175230121890361,
          -0.2308423545816966,
          0.03798805608591718,
          -0.25451661111303525,
          -0.268564942990307,
          -0.32469575389651595,
          -0.2850579756439944,
          -0.3247532185120044,
          -0.3481838922666283,
          -0.3052413360076874
         ],
         "yaxis": "y2"
        },
        {
         "name": "PCA",
         "type": "scatter",
         "x": [
          2,
          3,
          4,
          5,
          6,
          7,
          8,
          9,
          10,
          11,
          12,
          13,
          14,
          15,
          16,
          17,
          18,
          19,
          20
         ],
         "xaxis": "x2",
         "y": [
          0.7480564865514782,
          0.8628311282562606,
          0.8769832612625064,
          0.8118583918227118,
          0.5969182693083468,
          0.5718927156486026,
          0.8976580612125072,
          0.8928301287582738,
          0.8939841239174312,
          0.9007346440698795,
          0.9124885225325997,
          0.9008329383473366,
          0.9024949810863163,
          0.6349215746379687,
          0.5426212238147338,
          0.5911278360924902,
          0.4977687487896431,
          0.4858071372320225,
          0.48003607332466447
         ],
         "yaxis": "y2"
        },
        {
         "name": "Base original",
         "type": "scatter",
         "x": [
          2,
          3,
          4,
          5,
          6,
          7,
          8,
          9,
          10,
          11,
          12,
          13,
          14,
          15,
          16,
          17,
          18,
          19,
          20
         ],
         "xaxis": "x3",
         "y": [
          0.002603601244336508,
          -0.02508453931117638,
          -0.03651294833056117,
          -0.034196631835269976,
          -0.023850228707067617,
          -0.023331179693605708,
          -0.014352813045664752,
          -0.013723692628580015,
          -0.013520470256795078,
          -0.002233733374021261,
          0.0013383376844299587,
          0.0015663752287021257,
          0.0010665306976800125,
          0.009173587210360346,
          0.00982587715751811,
          0.01583205910752841,
          0.01667149459736545,
          0.01695695527919775,
          0.013804311834826393
         ],
         "yaxis": "y3"
        },
        {
         "name": "Correlação",
         "type": "scatter",
         "x": [
          2,
          3,
          4,
          5,
          6,
          7,
          8,
          9,
          10,
          11,
          12,
          13,
          14,
          15,
          16,
          17,
          18,
          19,
          20
         ],
         "xaxis": "x3",
         "y": [
          0.03133685967382861,
          0.03514781626295505,
          0.036982050937431385,
          0.03728131591683664,
          0.03637762331001303,
          0.029487319482711608,
          0.010108269617848137,
          0.00405580499147566,
          0.009670181767811557,
          0.01101121567676334,
          0.00788420635426622,
          -0.0018677385487448034,
          -0.00482631761890904,
          0.016077251336507774,
          0.005119336571031423,
          0.005100592124498919,
          -0.0043786616970747485,
          -0.019463449509045973,
          -0.01199317171704756
         ],
         "yaxis": "y3"
        },
        {
         "name": "PCA",
         "type": "scatter",
         "x": [
          2,
          3,
          4,
          5,
          6,
          7,
          8,
          9,
          10,
          11,
          12,
          13,
          14,
          15,
          16,
          17,
          18,
          19,
          20
         ],
         "xaxis": "x3",
         "y": [
          0.002603601244336508,
          -0.02508453931117638,
          -0.03651294833056117,
          -0.034196631835269976,
          -0.025069418113306246,
          -0.01627318960891586,
          -0.015175647766316644,
          -0.014925606525429016,
          -0.014720539916810204,
          -0.015222884590263337,
          -0.014681624887561116,
          -0.014118538355591573,
          -0.014350320041218514,
          -0.0017282544747988027,
          -0.012852217818431263,
          -0.007533619052616414,
          -0.007253687183758699,
          -0.0064275058958975445,
          -0.007784891231045589
         ],
         "yaxis": "y3"
        }
       ],
       "layout": {
        "annotations": [
         {
          "font": {
           "size": 16
          },
          "showarrow": false,
          "text": "Índice - Davies-Bouldin",
          "x": 0.14444444444444446,
          "xanchor": "center",
          "xref": "paper",
          "y": 1,
          "yanchor": "bottom",
          "yref": "paper"
         },
         {
          "font": {
           "size": 16
          },
          "showarrow": false,
          "text": "Índice - Silhouette",
          "x": 0.5,
          "xanchor": "center",
          "xref": "paper",
          "y": 1,
          "yanchor": "bottom",
          "yref": "paper"
         },
         {
          "font": {
           "size": 16
          },
          "showarrow": false,
          "text": "Índice - Adjusted Rand Score",
          "x": 0.8555555555555556,
          "xanchor": "center",
          "xref": "paper",
          "y": 1,
          "yanchor": "bottom",
          "yref": "paper"
         }
        ],
        "boxmode": "group",
        "showlegend": true,
        "template": {
         "data": {
          "bar": [
           {
            "error_x": {
             "color": "#2a3f5f"
            },
            "error_y": {
             "color": "#2a3f5f"
            },
            "marker": {
             "line": {
              "color": "#E5ECF6",
              "width": 0.5
             },
             "pattern": {
              "fillmode": "overlay",
              "size": 10,
              "solidity": 0.2
             }
            },
            "type": "bar"
           }
          ],
          "barpolar": [
           {
            "marker": {
             "line": {
              "color": "#E5ECF6",
              "width": 0.5
             },
             "pattern": {
              "fillmode": "overlay",
              "size": 10,
              "solidity": 0.2
             }
            },
            "type": "barpolar"
           }
          ],
          "carpet": [
           {
            "aaxis": {
             "endlinecolor": "#2a3f5f",
             "gridcolor": "white",
             "linecolor": "white",
             "minorgridcolor": "white",
             "startlinecolor": "#2a3f5f"
            },
            "baxis": {
             "endlinecolor": "#2a3f5f",
             "gridcolor": "white",
             "linecolor": "white",
             "minorgridcolor": "white",
             "startlinecolor": "#2a3f5f"
            },
            "type": "carpet"
           }
          ],
          "choropleth": [
           {
            "colorbar": {
             "outlinewidth": 0,
             "ticks": ""
            },
            "type": "choropleth"
           }
          ],
          "contour": [
           {
            "colorbar": {
             "outlinewidth": 0,
             "ticks": ""
            },
            "colorscale": [
             [
              0,
              "#0d0887"
             ],
             [
              0.1111111111111111,
              "#46039f"
             ],
             [
              0.2222222222222222,
              "#7201a8"
             ],
             [
              0.3333333333333333,
              "#9c179e"
             ],
             [
              0.4444444444444444,
              "#bd3786"
             ],
             [
              0.5555555555555556,
              "#d8576b"
             ],
             [
              0.6666666666666666,
              "#ed7953"
             ],
             [
              0.7777777777777778,
              "#fb9f3a"
             ],
             [
              0.8888888888888888,
              "#fdca26"
             ],
             [
              1,
              "#f0f921"
             ]
            ],
            "type": "contour"
           }
          ],
          "contourcarpet": [
           {
            "colorbar": {
             "outlinewidth": 0,
             "ticks": ""
            },
            "type": "contourcarpet"
           }
          ],
          "heatmap": [
           {
            "colorbar": {
             "outlinewidth": 0,
             "ticks": ""
            },
            "colorscale": [
             [
              0,
              "#0d0887"
             ],
             [
              0.1111111111111111,
              "#46039f"
             ],
             [
              0.2222222222222222,
              "#7201a8"
             ],
             [
              0.3333333333333333,
              "#9c179e"
             ],
             [
              0.4444444444444444,
              "#bd3786"
             ],
             [
              0.5555555555555556,
              "#d8576b"
             ],
             [
              0.6666666666666666,
              "#ed7953"
             ],
             [
              0.7777777777777778,
              "#fb9f3a"
             ],
             [
              0.8888888888888888,
              "#fdca26"
             ],
             [
              1,
              "#f0f921"
             ]
            ],
            "type": "heatmap"
           }
          ],
          "heatmapgl": [
           {
            "colorbar": {
             "outlinewidth": 0,
             "ticks": ""
            },
            "colorscale": [
             [
              0,
              "#0d0887"
             ],
             [
              0.1111111111111111,
              "#46039f"
             ],
             [
              0.2222222222222222,
              "#7201a8"
             ],
             [
              0.3333333333333333,
              "#9c179e"
             ],
             [
              0.4444444444444444,
              "#bd3786"
             ],
             [
              0.5555555555555556,
              "#d8576b"
             ],
             [
              0.6666666666666666,
              "#ed7953"
             ],
             [
              0.7777777777777778,
              "#fb9f3a"
             ],
             [
              0.8888888888888888,
              "#fdca26"
             ],
             [
              1,
              "#f0f921"
             ]
            ],
            "type": "heatmapgl"
           }
          ],
          "histogram": [
           {
            "marker": {
             "pattern": {
              "fillmode": "overlay",
              "size": 10,
              "solidity": 0.2
             }
            },
            "type": "histogram"
           }
          ],
          "histogram2d": [
           {
            "colorbar": {
             "outlinewidth": 0,
             "ticks": ""
            },
            "colorscale": [
             [
              0,
              "#0d0887"
             ],
             [
              0.1111111111111111,
              "#46039f"
             ],
             [
              0.2222222222222222,
              "#7201a8"
             ],
             [
              0.3333333333333333,
              "#9c179e"
             ],
             [
              0.4444444444444444,
              "#bd3786"
             ],
             [
              0.5555555555555556,
              "#d8576b"
             ],
             [
              0.6666666666666666,
              "#ed7953"
             ],
             [
              0.7777777777777778,
              "#fb9f3a"
             ],
             [
              0.8888888888888888,
              "#fdca26"
             ],
             [
              1,
              "#f0f921"
             ]
            ],
            "type": "histogram2d"
           }
          ],
          "histogram2dcontour": [
           {
            "colorbar": {
             "outlinewidth": 0,
             "ticks": ""
            },
            "colorscale": [
             [
              0,
              "#0d0887"
             ],
             [
              0.1111111111111111,
              "#46039f"
             ],
             [
              0.2222222222222222,
              "#7201a8"
             ],
             [
              0.3333333333333333,
              "#9c179e"
             ],
             [
              0.4444444444444444,
              "#bd3786"
             ],
             [
              0.5555555555555556,
              "#d8576b"
             ],
             [
              0.6666666666666666,
              "#ed7953"
             ],
             [
              0.7777777777777778,
              "#fb9f3a"
             ],
             [
              0.8888888888888888,
              "#fdca26"
             ],
             [
              1,
              "#f0f921"
             ]
            ],
            "type": "histogram2dcontour"
           }
          ],
          "mesh3d": [
           {
            "colorbar": {
             "outlinewidth": 0,
             "ticks": ""
            },
            "type": "mesh3d"
           }
          ],
          "parcoords": [
           {
            "line": {
             "colorbar": {
              "outlinewidth": 0,
              "ticks": ""
             }
            },
            "type": "parcoords"
           }
          ],
          "pie": [
           {
            "automargin": true,
            "type": "pie"
           }
          ],
          "scatter": [
           {
            "fillpattern": {
             "fillmode": "overlay",
             "size": 10,
             "solidity": 0.2
            },
            "type": "scatter"
           }
          ],
          "scatter3d": [
           {
            "line": {
             "colorbar": {
              "outlinewidth": 0,
              "ticks": ""
             }
            },
            "marker": {
             "colorbar": {
              "outlinewidth": 0,
              "ticks": ""
             }
            },
            "type": "scatter3d"
           }
          ],
          "scattercarpet": [
           {
            "marker": {
             "colorbar": {
              "outlinewidth": 0,
              "ticks": ""
             }
            },
            "type": "scattercarpet"
           }
          ],
          "scattergeo": [
           {
            "marker": {
             "colorbar": {
              "outlinewidth": 0,
              "ticks": ""
             }
            },
            "type": "scattergeo"
           }
          ],
          "scattergl": [
           {
            "marker": {
             "colorbar": {
              "outlinewidth": 0,
              "ticks": ""
             }
            },
            "type": "scattergl"
           }
          ],
          "scattermapbox": [
           {
            "marker": {
             "colorbar": {
              "outlinewidth": 0,
              "ticks": ""
             }
            },
            "type": "scattermapbox"
           }
          ],
          "scatterpolar": [
           {
            "marker": {
             "colorbar": {
              "outlinewidth": 0,
              "ticks": ""
             }
            },
            "type": "scatterpolar"
           }
          ],
          "scatterpolargl": [
           {
            "marker": {
             "colorbar": {
              "outlinewidth": 0,
              "ticks": ""
             }
            },
            "type": "scatterpolargl"
           }
          ],
          "scatterternary": [
           {
            "marker": {
             "colorbar": {
              "outlinewidth": 0,
              "ticks": ""
             }
            },
            "type": "scatterternary"
           }
          ],
          "surface": [
           {
            "colorbar": {
             "outlinewidth": 0,
             "ticks": ""
            },
            "colorscale": [
             [
              0,
              "#0d0887"
             ],
             [
              0.1111111111111111,
              "#46039f"
             ],
             [
              0.2222222222222222,
              "#7201a8"
             ],
             [
              0.3333333333333333,
              "#9c179e"
             ],
             [
              0.4444444444444444,
              "#bd3786"
             ],
             [
              0.5555555555555556,
              "#d8576b"
             ],
             [
              0.6666666666666666,
              "#ed7953"
             ],
             [
              0.7777777777777778,
              "#fb9f3a"
             ],
             [
              0.8888888888888888,
              "#fdca26"
             ],
             [
              1,
              "#f0f921"
             ]
            ],
            "type": "surface"
           }
          ],
          "table": [
           {
            "cells": {
             "fill": {
              "color": "#EBF0F8"
             },
             "line": {
              "color": "white"
             }
            },
            "header": {
             "fill": {
              "color": "#C8D4E3"
             },
             "line": {
              "color": "white"
             }
            },
            "type": "table"
           }
          ]
         },
         "layout": {
          "annotationdefaults": {
           "arrowcolor": "#2a3f5f",
           "arrowhead": 0,
           "arrowwidth": 1
          },
          "autotypenumbers": "strict",
          "coloraxis": {
           "colorbar": {
            "outlinewidth": 0,
            "ticks": ""
           }
          },
          "colorscale": {
           "diverging": [
            [
             0,
             "#8e0152"
            ],
            [
             0.1,
             "#c51b7d"
            ],
            [
             0.2,
             "#de77ae"
            ],
            [
             0.3,
             "#f1b6da"
            ],
            [
             0.4,
             "#fde0ef"
            ],
            [
             0.5,
             "#f7f7f7"
            ],
            [
             0.6,
             "#e6f5d0"
            ],
            [
             0.7,
             "#b8e186"
            ],
            [
             0.8,
             "#7fbc41"
            ],
            [
             0.9,
             "#4d9221"
            ],
            [
             1,
             "#276419"
            ]
           ],
           "sequential": [
            [
             0,
             "#0d0887"
            ],
            [
             0.1111111111111111,
             "#46039f"
            ],
            [
             0.2222222222222222,
             "#7201a8"
            ],
            [
             0.3333333333333333,
             "#9c179e"
            ],
            [
             0.4444444444444444,
             "#bd3786"
            ],
            [
             0.5555555555555556,
             "#d8576b"
            ],
            [
             0.6666666666666666,
             "#ed7953"
            ],
            [
             0.7777777777777778,
             "#fb9f3a"
            ],
            [
             0.8888888888888888,
             "#fdca26"
            ],
            [
             1,
             "#f0f921"
            ]
           ],
           "sequentialminus": [
            [
             0,
             "#0d0887"
            ],
            [
             0.1111111111111111,
             "#46039f"
            ],
            [
             0.2222222222222222,
             "#7201a8"
            ],
            [
             0.3333333333333333,
             "#9c179e"
            ],
            [
             0.4444444444444444,
             "#bd3786"
            ],
            [
             0.5555555555555556,
             "#d8576b"
            ],
            [
             0.6666666666666666,
             "#ed7953"
            ],
            [
             0.7777777777777778,
             "#fb9f3a"
            ],
            [
             0.8888888888888888,
             "#fdca26"
            ],
            [
             1,
             "#f0f921"
            ]
           ]
          },
          "colorway": [
           "#636efa",
           "#EF553B",
           "#00cc96",
           "#ab63fa",
           "#FFA15A",
           "#19d3f3",
           "#FF6692",
           "#B6E880",
           "#FF97FF",
           "#FECB52"
          ],
          "font": {
           "color": "#2a3f5f"
          },
          "geo": {
           "bgcolor": "white",
           "lakecolor": "white",
           "landcolor": "#E5ECF6",
           "showlakes": true,
           "showland": true,
           "subunitcolor": "white"
          },
          "hoverlabel": {
           "align": "left"
          },
          "hovermode": "closest",
          "mapbox": {
           "style": "light"
          },
          "paper_bgcolor": "white",
          "plot_bgcolor": "#E5ECF6",
          "polar": {
           "angularaxis": {
            "gridcolor": "white",
            "linecolor": "white",
            "ticks": ""
           },
           "bgcolor": "#E5ECF6",
           "radialaxis": {
            "gridcolor": "white",
            "linecolor": "white",
            "ticks": ""
           }
          },
          "scene": {
           "xaxis": {
            "backgroundcolor": "#E5ECF6",
            "gridcolor": "white",
            "gridwidth": 2,
            "linecolor": "white",
            "showbackground": true,
            "ticks": "",
            "zerolinecolor": "white"
           },
           "yaxis": {
            "backgroundcolor": "#E5ECF6",
            "gridcolor": "white",
            "gridwidth": 2,
            "linecolor": "white",
            "showbackground": true,
            "ticks": "",
            "zerolinecolor": "white"
           },
           "zaxis": {
            "backgroundcolor": "#E5ECF6",
            "gridcolor": "white",
            "gridwidth": 2,
            "linecolor": "white",
            "showbackground": true,
            "ticks": "",
            "zerolinecolor": "white"
           }
          },
          "shapedefaults": {
           "line": {
            "color": "#2a3f5f"
           }
          },
          "ternary": {
           "aaxis": {
            "gridcolor": "white",
            "linecolor": "white",
            "ticks": ""
           },
           "baxis": {
            "gridcolor": "white",
            "linecolor": "white",
            "ticks": ""
           },
           "bgcolor": "#E5ECF6",
           "caxis": {
            "gridcolor": "white",
            "linecolor": "white",
            "ticks": ""
           }
          },
          "title": {
           "x": 0.05
          },
          "xaxis": {
           "automargin": true,
           "gridcolor": "white",
           "linecolor": "white",
           "ticks": "",
           "title": {
            "standoff": 15
           },
           "zerolinecolor": "white",
           "zerolinewidth": 2
          },
          "yaxis": {
           "automargin": true,
           "gridcolor": "white",
           "linecolor": "white",
           "ticks": "",
           "title": {
            "standoff": 15
           },
           "zerolinecolor": "white",
           "zerolinewidth": 2
          }
         }
        },
        "title": {
         "text": "Gráfico de comitê de agrupamento com EM"
        },
        "xaxis": {
         "anchor": "y",
         "domain": [
          0,
          0.2888888888888889
         ]
        },
        "xaxis2": {
         "anchor": "y2",
         "domain": [
          0.35555555555555557,
          0.6444444444444445
         ]
        },
        "xaxis3": {
         "anchor": "y3",
         "domain": [
          0.7111111111111111,
          1
         ]
        },
        "yaxis": {
         "anchor": "x",
         "domain": [
          0,
          1
         ]
        },
        "yaxis2": {
         "anchor": "x2",
         "domain": [
          0,
          1
         ]
        },
        "yaxis3": {
         "anchor": "x3",
         "domain": [
          0,
          1
         ]
        }
       }
      }
     },
     "metadata": {},
     "output_type": "display_data"
    }
   ],
   "source": [
    "plot_ensemble_indices(data_tfidf, selected_df_corr, selected_df_pca, labels, 'em')"
   ]
  },
  {
   "cell_type": "code",
   "execution_count": 237,
   "metadata": {},
   "outputs": [
    {
     "data": {
      "application/vnd.plotly.v1+json": {
       "config": {
        "plotlyServerURL": "https://plot.ly"
       },
       "data": [
        {
         "name": "Base original",
         "type": "scatter",
         "x": [
          2,
          3,
          4,
          5,
          6,
          7,
          8,
          9,
          10,
          11,
          12,
          13,
          14,
          15,
          16,
          17,
          18,
          19,
          20
         ],
         "xaxis": "x",
         "y": [
          0.5078749722414769,
          1.614253473393848,
          22.63948491814183,
          28.783864165401905,
          9.722263683122987,
          8.016638065314224,
          5.467622243265335,
          10.803618964043283,
          10.66454934059713,
          5.4925511794992445,
          10.071990125067815,
          7.4502189267241965,
          9.626008110316105,
          5.741145078700854,
          7.830079842756887,
          8.073887083227095,
          15.111798574895115,
          8.448982197369428,
          6.985310733998365
         ],
         "yaxis": "y"
        },
        {
         "name": "Correlação",
         "type": "scatter",
         "x": [
          2,
          3,
          4,
          5,
          6,
          7,
          8,
          9,
          10,
          11,
          12,
          13,
          14,
          15,
          16,
          17,
          18,
          19,
          20
         ],
         "xaxis": "x",
         "y": [
          8.900874292564,
          9.94598744414543,
          16.46227787341504,
          18.177564350559333,
          12.077098989012717,
          10.632357597547879,
          13.382496968596298,
          16.35540687667088,
          18.986528278603238,
          38.89146224178498,
          31.70052102475135,
          7.39094505048238,
          21.642588372326475,
          4.1016860284873005,
          9.988349231535192,
          86.34295060834333,
          10.654075044049732,
          23.81386254829381,
          13.793172472760304
         ],
         "yaxis": "y"
        },
        {
         "name": "PCA",
         "type": "scatter",
         "x": [
          2,
          3,
          4,
          5,
          6,
          7,
          8,
          9,
          10,
          11,
          12,
          13,
          14,
          15,
          16,
          17,
          18,
          19,
          20
         ],
         "xaxis": "x",
         "y": [
          0.49770180910512174,
          1.5942211472342713,
          6.656387902548213,
          2.4267102016493167,
          11.825673901076073,
          8.06682396024791,
          5.507450752763434,
          13.489039872663094,
          90.65406511976207,
          5.883378158957686,
          18.48534847695866,
          8.50127846538904,
          10.052108406070431,
          6.07542405294618,
          9.0429935502671,
          11.430674764724673,
          25.507448552206064,
          88.59727962117819,
          32.766506842422814
         ],
         "yaxis": "y"
        },
        {
         "name": "Base original",
         "type": "scatter",
         "x": [
          2,
          3,
          4,
          5,
          6,
          7,
          8,
          9,
          10,
          11,
          12,
          13,
          14,
          15,
          16,
          17,
          18,
          19,
          20
         ],
         "xaxis": "x2",
         "y": [
          0.7238926673103409,
          0.5192548695368858,
          0.3205405866616991,
          -0.500760338264568,
          0.07656885577944351,
          -0.5689724278875954,
          -0.5974702369508896,
          -0.026335184605834207,
          -0.747305417368303,
          -0.025589623616385483,
          0.0059085759413569664,
          0.15588264530222645,
          0.04024256597289407,
          -0.8380978019461996,
          -0.0320937116766056,
          -0.03607762641438441,
          -0.8530259529886839,
          -0.851714385853576,
          0.10456292091014396
         ],
         "yaxis": "y2"
        },
        {
         "name": "Correlação",
         "type": "scatter",
         "x": [
          2,
          3,
          4,
          5,
          6,
          7,
          8,
          9,
          10,
          11,
          12,
          13,
          14,
          15,
          16,
          17,
          18,
          19,
          20
         ],
         "xaxis": "x2",
         "y": [
          -0.14067122840990973,
          -0.27553019333606643,
          -0.3168365619480644,
          -0.19806834459907008,
          -0.8643103057744611,
          -0.6150355049448145,
          -0.8489557939821906,
          -0.7201598197719103,
          -0.865496493449449,
          -0.6963327041968341,
          -0.8364550416531916,
          -0.8738730975169376,
          -0.8690074492867669,
          -0.8724543044783046,
          -0.8638296259400097,
          -0.8404426991437812,
          -0.8785620188482992,
          -0.8839193184419258,
          -0.8856492497047542
         ],
         "yaxis": "y2"
        },
        {
         "name": "PCA",
         "type": "scatter",
         "x": [
          2,
          3,
          4,
          5,
          6,
          7,
          8,
          9,
          10,
          11,
          12,
          13,
          14,
          15,
          16,
          17,
          18,
          19,
          20
         ],
         "xaxis": "x2",
         "y": [
          0.7480564865514782,
          0.5484401185028595,
          -0.2904100932018089,
          -0.05333823119005791,
          -0.5482147310731272,
          -0.6090940934597292,
          -0.6424751085466471,
          -0.08581807282331255,
          0.16554287580582766,
          -0.022302749170965797,
          -0.7874137918643771,
          -0.004463391031496668,
          -0.6428666101025027,
          -0.885711454051354,
          -0.8485650582959193,
          -0.1016068752834743,
          -0.9001274801943294,
          -0.08766887634244565,
          0.12960212152866715
         ],
         "yaxis": "y2"
        },
        {
         "name": "Base original",
         "type": "scatter",
         "x": [
          2,
          3,
          4,
          5,
          6,
          7,
          8,
          9,
          10,
          11,
          12,
          13,
          14,
          15,
          16,
          17,
          18,
          19,
          20
         ],
         "xaxis": "x3",
         "y": [
          0.002603601244336508,
          -0.01875037813040055,
          -0.020693715115759286,
          0.008604533681989292,
          0.007991063369216518,
          0.0034611659022757762,
          0.016109501915071368,
          -0.009549811420557476,
          0.00994374800037777,
          -0.018351034654141413,
          -0.020757709179629463,
          -0.0038320500243078717,
          -0.013556636964213553,
          0.00018246722827135832,
          -0.011011758082613052,
          -0.013760644974856642,
          -0.013388632475100713,
          -0.009012994589059546,
          0.0002128390029218932
         ],
         "yaxis": "y3"
        },
        {
         "name": "Correlação",
         "type": "scatter",
         "x": [
          2,
          3,
          4,
          5,
          6,
          7,
          8,
          9,
          10,
          11,
          12,
          13,
          14,
          15,
          16,
          17,
          18,
          19,
          20
         ],
         "xaxis": "x3",
         "y": [
          0.0152375534472471,
          -0.010450730482412034,
          -0.01798013806501278,
          0.043174724986912785,
          -0.02245057478132562,
          0.0034611659022757762,
          0.016109501915071368,
          0.020875302111487977,
          0.00994374800037777,
          -0.009638671188306518,
          -0.019230353404125305,
          -0.01835231121298913,
          0.01300458873065349,
          0.00018246722827135832,
          -0.010909146566797413,
          0.028393010254260713,
          -0.013388632475100713,
          -0.009012994589059546,
          0.003973026611727654
         ],
         "yaxis": "y3"
        },
        {
         "name": "PCA",
         "type": "scatter",
         "x": [
          2,
          3,
          4,
          5,
          6,
          7,
          8,
          9,
          10,
          11,
          12,
          13,
          14,
          15,
          16,
          17,
          18,
          19,
          20
         ],
         "xaxis": "x3",
         "y": [
          0.002603601244336508,
          -0.01875037813040055,
          -0.01798013806501278,
          0.0012953499202503348,
          -0.02245057478132562,
          0.0034611659022757762,
          0.016109501915071368,
          -0.009549811420557476,
          -0.020229762640264437,
          -0.009390773509460248,
          -0.019230353404125305,
          -0.013372998402874207,
          0.01300458873065349,
          0.00018246722827135832,
          -0.010909146566797413,
          -0.013760644974856642,
          -0.013388632475100713,
          -0.023054651619950708,
          -0.003559955304700664
         ],
         "yaxis": "y3"
        }
       ],
       "layout": {
        "annotations": [
         {
          "font": {
           "size": 16
          },
          "showarrow": false,
          "text": "Índice - Davies-Bouldin",
          "x": 0.14444444444444446,
          "xanchor": "center",
          "xref": "paper",
          "y": 1,
          "yanchor": "bottom",
          "yref": "paper"
         },
         {
          "font": {
           "size": 16
          },
          "showarrow": false,
          "text": "Índice - Silhouette",
          "x": 0.5,
          "xanchor": "center",
          "xref": "paper",
          "y": 1,
          "yanchor": "bottom",
          "yref": "paper"
         },
         {
          "font": {
           "size": 16
          },
          "showarrow": false,
          "text": "Índice - Adjusted Rand Score",
          "x": 0.8555555555555556,
          "xanchor": "center",
          "xref": "paper",
          "y": 1,
          "yanchor": "bottom",
          "yref": "paper"
         }
        ],
        "boxmode": "group",
        "showlegend": true,
        "template": {
         "data": {
          "bar": [
           {
            "error_x": {
             "color": "#2a3f5f"
            },
            "error_y": {
             "color": "#2a3f5f"
            },
            "marker": {
             "line": {
              "color": "#E5ECF6",
              "width": 0.5
             },
             "pattern": {
              "fillmode": "overlay",
              "size": 10,
              "solidity": 0.2
             }
            },
            "type": "bar"
           }
          ],
          "barpolar": [
           {
            "marker": {
             "line": {
              "color": "#E5ECF6",
              "width": 0.5
             },
             "pattern": {
              "fillmode": "overlay",
              "size": 10,
              "solidity": 0.2
             }
            },
            "type": "barpolar"
           }
          ],
          "carpet": [
           {
            "aaxis": {
             "endlinecolor": "#2a3f5f",
             "gridcolor": "white",
             "linecolor": "white",
             "minorgridcolor": "white",
             "startlinecolor": "#2a3f5f"
            },
            "baxis": {
             "endlinecolor": "#2a3f5f",
             "gridcolor": "white",
             "linecolor": "white",
             "minorgridcolor": "white",
             "startlinecolor": "#2a3f5f"
            },
            "type": "carpet"
           }
          ],
          "choropleth": [
           {
            "colorbar": {
             "outlinewidth": 0,
             "ticks": ""
            },
            "type": "choropleth"
           }
          ],
          "contour": [
           {
            "colorbar": {
             "outlinewidth": 0,
             "ticks": ""
            },
            "colorscale": [
             [
              0,
              "#0d0887"
             ],
             [
              0.1111111111111111,
              "#46039f"
             ],
             [
              0.2222222222222222,
              "#7201a8"
             ],
             [
              0.3333333333333333,
              "#9c179e"
             ],
             [
              0.4444444444444444,
              "#bd3786"
             ],
             [
              0.5555555555555556,
              "#d8576b"
             ],
             [
              0.6666666666666666,
              "#ed7953"
             ],
             [
              0.7777777777777778,
              "#fb9f3a"
             ],
             [
              0.8888888888888888,
              "#fdca26"
             ],
             [
              1,
              "#f0f921"
             ]
            ],
            "type": "contour"
           }
          ],
          "contourcarpet": [
           {
            "colorbar": {
             "outlinewidth": 0,
             "ticks": ""
            },
            "type": "contourcarpet"
           }
          ],
          "heatmap": [
           {
            "colorbar": {
             "outlinewidth": 0,
             "ticks": ""
            },
            "colorscale": [
             [
              0,
              "#0d0887"
             ],
             [
              0.1111111111111111,
              "#46039f"
             ],
             [
              0.2222222222222222,
              "#7201a8"
             ],
             [
              0.3333333333333333,
              "#9c179e"
             ],
             [
              0.4444444444444444,
              "#bd3786"
             ],
             [
              0.5555555555555556,
              "#d8576b"
             ],
             [
              0.6666666666666666,
              "#ed7953"
             ],
             [
              0.7777777777777778,
              "#fb9f3a"
             ],
             [
              0.8888888888888888,
              "#fdca26"
             ],
             [
              1,
              "#f0f921"
             ]
            ],
            "type": "heatmap"
           }
          ],
          "heatmapgl": [
           {
            "colorbar": {
             "outlinewidth": 0,
             "ticks": ""
            },
            "colorscale": [
             [
              0,
              "#0d0887"
             ],
             [
              0.1111111111111111,
              "#46039f"
             ],
             [
              0.2222222222222222,
              "#7201a8"
             ],
             [
              0.3333333333333333,
              "#9c179e"
             ],
             [
              0.4444444444444444,
              "#bd3786"
             ],
             [
              0.5555555555555556,
              "#d8576b"
             ],
             [
              0.6666666666666666,
              "#ed7953"
             ],
             [
              0.7777777777777778,
              "#fb9f3a"
             ],
             [
              0.8888888888888888,
              "#fdca26"
             ],
             [
              1,
              "#f0f921"
             ]
            ],
            "type": "heatmapgl"
           }
          ],
          "histogram": [
           {
            "marker": {
             "pattern": {
              "fillmode": "overlay",
              "size": 10,
              "solidity": 0.2
             }
            },
            "type": "histogram"
           }
          ],
          "histogram2d": [
           {
            "colorbar": {
             "outlinewidth": 0,
             "ticks": ""
            },
            "colorscale": [
             [
              0,
              "#0d0887"
             ],
             [
              0.1111111111111111,
              "#46039f"
             ],
             [
              0.2222222222222222,
              "#7201a8"
             ],
             [
              0.3333333333333333,
              "#9c179e"
             ],
             [
              0.4444444444444444,
              "#bd3786"
             ],
             [
              0.5555555555555556,
              "#d8576b"
             ],
             [
              0.6666666666666666,
              "#ed7953"
             ],
             [
              0.7777777777777778,
              "#fb9f3a"
             ],
             [
              0.8888888888888888,
              "#fdca26"
             ],
             [
              1,
              "#f0f921"
             ]
            ],
            "type": "histogram2d"
           }
          ],
          "histogram2dcontour": [
           {
            "colorbar": {
             "outlinewidth": 0,
             "ticks": ""
            },
            "colorscale": [
             [
              0,
              "#0d0887"
             ],
             [
              0.1111111111111111,
              "#46039f"
             ],
             [
              0.2222222222222222,
              "#7201a8"
             ],
             [
              0.3333333333333333,
              "#9c179e"
             ],
             [
              0.4444444444444444,
              "#bd3786"
             ],
             [
              0.5555555555555556,
              "#d8576b"
             ],
             [
              0.6666666666666666,
              "#ed7953"
             ],
             [
              0.7777777777777778,
              "#fb9f3a"
             ],
             [
              0.8888888888888888,
              "#fdca26"
             ],
             [
              1,
              "#f0f921"
             ]
            ],
            "type": "histogram2dcontour"
           }
          ],
          "mesh3d": [
           {
            "colorbar": {
             "outlinewidth": 0,
             "ticks": ""
            },
            "type": "mesh3d"
           }
          ],
          "parcoords": [
           {
            "line": {
             "colorbar": {
              "outlinewidth": 0,
              "ticks": ""
             }
            },
            "type": "parcoords"
           }
          ],
          "pie": [
           {
            "automargin": true,
            "type": "pie"
           }
          ],
          "scatter": [
           {
            "fillpattern": {
             "fillmode": "overlay",
             "size": 10,
             "solidity": 0.2
            },
            "type": "scatter"
           }
          ],
          "scatter3d": [
           {
            "line": {
             "colorbar": {
              "outlinewidth": 0,
              "ticks": ""
             }
            },
            "marker": {
             "colorbar": {
              "outlinewidth": 0,
              "ticks": ""
             }
            },
            "type": "scatter3d"
           }
          ],
          "scattercarpet": [
           {
            "marker": {
             "colorbar": {
              "outlinewidth": 0,
              "ticks": ""
             }
            },
            "type": "scattercarpet"
           }
          ],
          "scattergeo": [
           {
            "marker": {
             "colorbar": {
              "outlinewidth": 0,
              "ticks": ""
             }
            },
            "type": "scattergeo"
           }
          ],
          "scattergl": [
           {
            "marker": {
             "colorbar": {
              "outlinewidth": 0,
              "ticks": ""
             }
            },
            "type": "scattergl"
           }
          ],
          "scattermapbox": [
           {
            "marker": {
             "colorbar": {
              "outlinewidth": 0,
              "ticks": ""
             }
            },
            "type": "scattermapbox"
           }
          ],
          "scatterpolar": [
           {
            "marker": {
             "colorbar": {
              "outlinewidth": 0,
              "ticks": ""
             }
            },
            "type": "scatterpolar"
           }
          ],
          "scatterpolargl": [
           {
            "marker": {
             "colorbar": {
              "outlinewidth": 0,
              "ticks": ""
             }
            },
            "type": "scatterpolargl"
           }
          ],
          "scatterternary": [
           {
            "marker": {
             "colorbar": {
              "outlinewidth": 0,
              "ticks": ""
             }
            },
            "type": "scatterternary"
           }
          ],
          "surface": [
           {
            "colorbar": {
             "outlinewidth": 0,
             "ticks": ""
            },
            "colorscale": [
             [
              0,
              "#0d0887"
             ],
             [
              0.1111111111111111,
              "#46039f"
             ],
             [
              0.2222222222222222,
              "#7201a8"
             ],
             [
              0.3333333333333333,
              "#9c179e"
             ],
             [
              0.4444444444444444,
              "#bd3786"
             ],
             [
              0.5555555555555556,
              "#d8576b"
             ],
             [
              0.6666666666666666,
              "#ed7953"
             ],
             [
              0.7777777777777778,
              "#fb9f3a"
             ],
             [
              0.8888888888888888,
              "#fdca26"
             ],
             [
              1,
              "#f0f921"
             ]
            ],
            "type": "surface"
           }
          ],
          "table": [
           {
            "cells": {
             "fill": {
              "color": "#EBF0F8"
             },
             "line": {
              "color": "white"
             }
            },
            "header": {
             "fill": {
              "color": "#C8D4E3"
             },
             "line": {
              "color": "white"
             }
            },
            "type": "table"
           }
          ]
         },
         "layout": {
          "annotationdefaults": {
           "arrowcolor": "#2a3f5f",
           "arrowhead": 0,
           "arrowwidth": 1
          },
          "autotypenumbers": "strict",
          "coloraxis": {
           "colorbar": {
            "outlinewidth": 0,
            "ticks": ""
           }
          },
          "colorscale": {
           "diverging": [
            [
             0,
             "#8e0152"
            ],
            [
             0.1,
             "#c51b7d"
            ],
            [
             0.2,
             "#de77ae"
            ],
            [
             0.3,
             "#f1b6da"
            ],
            [
             0.4,
             "#fde0ef"
            ],
            [
             0.5,
             "#f7f7f7"
            ],
            [
             0.6,
             "#e6f5d0"
            ],
            [
             0.7,
             "#b8e186"
            ],
            [
             0.8,
             "#7fbc41"
            ],
            [
             0.9,
             "#4d9221"
            ],
            [
             1,
             "#276419"
            ]
           ],
           "sequential": [
            [
             0,
             "#0d0887"
            ],
            [
             0.1111111111111111,
             "#46039f"
            ],
            [
             0.2222222222222222,
             "#7201a8"
            ],
            [
             0.3333333333333333,
             "#9c179e"
            ],
            [
             0.4444444444444444,
             "#bd3786"
            ],
            [
             0.5555555555555556,
             "#d8576b"
            ],
            [
             0.6666666666666666,
             "#ed7953"
            ],
            [
             0.7777777777777778,
             "#fb9f3a"
            ],
            [
             0.8888888888888888,
             "#fdca26"
            ],
            [
             1,
             "#f0f921"
            ]
           ],
           "sequentialminus": [
            [
             0,
             "#0d0887"
            ],
            [
             0.1111111111111111,
             "#46039f"
            ],
            [
             0.2222222222222222,
             "#7201a8"
            ],
            [
             0.3333333333333333,
             "#9c179e"
            ],
            [
             0.4444444444444444,
             "#bd3786"
            ],
            [
             0.5555555555555556,
             "#d8576b"
            ],
            [
             0.6666666666666666,
             "#ed7953"
            ],
            [
             0.7777777777777778,
             "#fb9f3a"
            ],
            [
             0.8888888888888888,
             "#fdca26"
            ],
            [
             1,
             "#f0f921"
            ]
           ]
          },
          "colorway": [
           "#636efa",
           "#EF553B",
           "#00cc96",
           "#ab63fa",
           "#FFA15A",
           "#19d3f3",
           "#FF6692",
           "#B6E880",
           "#FF97FF",
           "#FECB52"
          ],
          "font": {
           "color": "#2a3f5f"
          },
          "geo": {
           "bgcolor": "white",
           "lakecolor": "white",
           "landcolor": "#E5ECF6",
           "showlakes": true,
           "showland": true,
           "subunitcolor": "white"
          },
          "hoverlabel": {
           "align": "left"
          },
          "hovermode": "closest",
          "mapbox": {
           "style": "light"
          },
          "paper_bgcolor": "white",
          "plot_bgcolor": "#E5ECF6",
          "polar": {
           "angularaxis": {
            "gridcolor": "white",
            "linecolor": "white",
            "ticks": ""
           },
           "bgcolor": "#E5ECF6",
           "radialaxis": {
            "gridcolor": "white",
            "linecolor": "white",
            "ticks": ""
           }
          },
          "scene": {
           "xaxis": {
            "backgroundcolor": "#E5ECF6",
            "gridcolor": "white",
            "gridwidth": 2,
            "linecolor": "white",
            "showbackground": true,
            "ticks": "",
            "zerolinecolor": "white"
           },
           "yaxis": {
            "backgroundcolor": "#E5ECF6",
            "gridcolor": "white",
            "gridwidth": 2,
            "linecolor": "white",
            "showbackground": true,
            "ticks": "",
            "zerolinecolor": "white"
           },
           "zaxis": {
            "backgroundcolor": "#E5ECF6",
            "gridcolor": "white",
            "gridwidth": 2,
            "linecolor": "white",
            "showbackground": true,
            "ticks": "",
            "zerolinecolor": "white"
           }
          },
          "shapedefaults": {
           "line": {
            "color": "#2a3f5f"
           }
          },
          "ternary": {
           "aaxis": {
            "gridcolor": "white",
            "linecolor": "white",
            "ticks": ""
           },
           "baxis": {
            "gridcolor": "white",
            "linecolor": "white",
            "ticks": ""
           },
           "bgcolor": "#E5ECF6",
           "caxis": {
            "gridcolor": "white",
            "linecolor": "white",
            "ticks": ""
           }
          },
          "title": {
           "x": 0.05
          },
          "xaxis": {
           "automargin": true,
           "gridcolor": "white",
           "linecolor": "white",
           "ticks": "",
           "title": {
            "standoff": 15
           },
           "zerolinecolor": "white",
           "zerolinewidth": 2
          },
          "yaxis": {
           "automargin": true,
           "gridcolor": "white",
           "linecolor": "white",
           "ticks": "",
           "title": {
            "standoff": 15
           },
           "zerolinecolor": "white",
           "zerolinewidth": 2
          }
         }
        },
        "title": {
         "text": "Gráfico de comitê de agrupamento com DBSCAN"
        },
        "xaxis": {
         "anchor": "y",
         "domain": [
          0,
          0.2888888888888889
         ]
        },
        "xaxis2": {
         "anchor": "y2",
         "domain": [
          0.35555555555555557,
          0.6444444444444445
         ]
        },
        "xaxis3": {
         "anchor": "y3",
         "domain": [
          0.7111111111111111,
          1
         ]
        },
        "yaxis": {
         "anchor": "x",
         "domain": [
          0,
          1
         ]
        },
        "yaxis2": {
         "anchor": "x2",
         "domain": [
          0,
          1
         ]
        },
        "yaxis3": {
         "anchor": "x3",
         "domain": [
          0,
          1
         ]
        }
       }
      }
     },
     "metadata": {},
     "output_type": "display_data"
    }
   ],
   "source": [
    "plot_ensemble_indices(data_tfidf, selected_df_corr, selected_df_pca, labels, 'dbscan')"
   ]
  },
  {
   "cell_type": "markdown",
   "metadata": {},
   "source": [
    "#### Teste Estatístico"
   ]
  },
  {
   "cell_type": "markdown",
   "metadata": {},
   "source": [
    "##### Funções"
   ]
  },
  {
   "cell_type": "code",
   "execution_count": 246,
   "metadata": {},
   "outputs": [],
   "source": [
    "def get_kmeans_cr(df, labels, num_clusters):\n",
    "    from sklearn.cluster import KMeans\n",
    "    from sklearn.metrics import adjusted_rand_score\n",
    "\n",
    "    km = KMeans(n_clusters=num_clusters, init='k-means++', max_iter=300, n_init=10, random_state=42)\n",
    "\n",
    "    km.fit(df)\n",
    "    km_labels = km.fit_predict(df)\n",
    "\n",
    "    return adjusted_rand_score(labels, km_labels)"
   ]
  },
  {
   "cell_type": "markdown",
   "metadata": {},
   "source": [
    "##### Execução"
   ]
  },
  {
   "cell_type": "code",
   "execution_count": 247,
   "metadata": {},
   "outputs": [
    {
     "name": "stdout",
     "output_type": "stream",
     "text": [
      "['INDEFERIDO' 'DEFERIDO' 'NÃO DEFINIDO']\n"
     ]
    }
   ],
   "source": [
    "unique_values = df['resultado'].unique()\n",
    "\n",
    "print(unique_values)"
   ]
  },
  {
   "cell_type": "code",
   "execution_count": 250,
   "metadata": {},
   "outputs": [
    {
     "name": "stdout",
     "output_type": "stream",
     "text": [
      "0     0.002604\n",
      "1    -0.025085\n",
      "2    -0.023189\n",
      "3    -0.021149\n",
      "4    -0.032180\n",
      "5    -0.023879\n",
      "6    -0.020346\n",
      "7    -0.013724\n",
      "8    -0.013520\n",
      "9    -0.014043\n",
      "10   -0.012021\n",
      "11   -0.012185\n",
      "12   -0.001406\n",
      "13    0.003445\n",
      "14    0.007269\n",
      "15    0.012632\n",
      "16    0.009838\n",
      "17    0.009292\n",
      "18    0.018719\n",
      "Name: kmeans, dtype: float64\n"
     ]
    }
   ],
   "source": [
    "cr_data = pd.DataFrame({\n",
    "    'kmeans': []\n",
    "})\n",
    "\n",
    "cr_data_ensemble = pd.DataFrame({\n",
    "    'kmeans': []\n",
    "})\n",
    "\n",
    "for num_cluster in range(2, 21):\n",
    "    cr_data.loc[len(cr_data)] = get_kmeans_cr(data_tfidf, labels, num_cluster)\n",
    "\n",
    "print(cr_data['kmeans'])"
   ]
  },
  {
   "cell_type": "code",
   "execution_count": 249,
   "metadata": {},
   "outputs": [
    {
     "name": "stdout",
     "output_type": "stream",
     "text": [
      "Collecting scikit-posthocs\n",
      "  Downloading scikit_posthocs-0.9.0-py3-none-any.whl.metadata (5.8 kB)\n",
      "Requirement already satisfied: numpy in c:\\users\\decas\\documents\\ml-pdf-miner\\venv\\lib\\site-packages (from scikit-posthocs) (1.26.4)\n",
      "Requirement already satisfied: scipy>=1.9.0 in c:\\users\\decas\\documents\\ml-pdf-miner\\venv\\lib\\site-packages (from scikit-posthocs) (1.14.1)\n",
      "Collecting statsmodels (from scikit-posthocs)\n",
      "  Downloading statsmodels-0.14.2-cp311-cp311-win_amd64.whl.metadata (9.5 kB)\n",
      "Requirement already satisfied: pandas>=0.20.0 in c:\\users\\decas\\documents\\ml-pdf-miner\\venv\\lib\\site-packages (from scikit-posthocs) (2.2.2)\n",
      "Requirement already satisfied: seaborn in c:\\users\\decas\\documents\\ml-pdf-miner\\venv\\lib\\site-packages (from scikit-posthocs) (0.13.2)\n",
      "Requirement already satisfied: matplotlib in c:\\users\\decas\\documents\\ml-pdf-miner\\venv\\lib\\site-packages (from scikit-posthocs) (3.9.2)\n",
      "Requirement already satisfied: python-dateutil>=2.8.2 in c:\\users\\decas\\documents\\ml-pdf-miner\\venv\\lib\\site-packages (from pandas>=0.20.0->scikit-posthocs) (2.9.0.post0)\n",
      "Requirement already satisfied: pytz>=2020.1 in c:\\users\\decas\\documents\\ml-pdf-miner\\venv\\lib\\site-packages (from pandas>=0.20.0->scikit-posthocs) (2024.1)\n",
      "Requirement already satisfied: tzdata>=2022.7 in c:\\users\\decas\\documents\\ml-pdf-miner\\venv\\lib\\site-packages (from pandas>=0.20.0->scikit-posthocs) (2024.1)\n",
      "Requirement already satisfied: contourpy>=1.0.1 in c:\\users\\decas\\documents\\ml-pdf-miner\\venv\\lib\\site-packages (from matplotlib->scikit-posthocs) (1.3.0)\n",
      "Requirement already satisfied: cycler>=0.10 in c:\\users\\decas\\documents\\ml-pdf-miner\\venv\\lib\\site-packages (from matplotlib->scikit-posthocs) (0.12.1)\n",
      "Requirement already satisfied: fonttools>=4.22.0 in c:\\users\\decas\\documents\\ml-pdf-miner\\venv\\lib\\site-packages (from matplotlib->scikit-posthocs) (4.53.1)\n",
      "Requirement already satisfied: kiwisolver>=1.3.1 in c:\\users\\decas\\documents\\ml-pdf-miner\\venv\\lib\\site-packages (from matplotlib->scikit-posthocs) (1.4.7)\n",
      "Requirement already satisfied: packaging>=20.0 in c:\\users\\decas\\documents\\ml-pdf-miner\\venv\\lib\\site-packages (from matplotlib->scikit-posthocs) (24.1)\n",
      "Requirement already satisfied: pillow>=8 in c:\\users\\decas\\documents\\ml-pdf-miner\\venv\\lib\\site-packages (from matplotlib->scikit-posthocs) (10.4.0)\n",
      "Requirement already satisfied: pyparsing>=2.3.1 in c:\\users\\decas\\documents\\ml-pdf-miner\\venv\\lib\\site-packages (from matplotlib->scikit-posthocs) (3.1.4)\n",
      "Collecting patsy>=0.5.6 (from statsmodels->scikit-posthocs)\n",
      "  Downloading patsy-0.5.6-py2.py3-none-any.whl.metadata (3.5 kB)\n",
      "Requirement already satisfied: six in c:\\users\\decas\\documents\\ml-pdf-miner\\venv\\lib\\site-packages (from patsy>=0.5.6->statsmodels->scikit-posthocs) (1.16.0)\n",
      "Downloading scikit_posthocs-0.9.0-py3-none-any.whl (32 kB)\n",
      "Downloading statsmodels-0.14.2-cp311-cp311-win_amd64.whl (9.9 MB)\n",
      "   ---------------------------------------- 0.0/9.9 MB ? eta -:--:--\n",
      "   ---------------------------------------- 0.0/9.9 MB ? eta -:--:--\n",
      "   -- ------------------------------------- 0.5/9.9 MB 2.8 MB/s eta 0:00:04\n",
      "   ---- ----------------------------------- 1.0/9.9 MB 3.4 MB/s eta 0:00:03\n",
      "   ------- -------------------------------- 1.8/9.9 MB 3.2 MB/s eta 0:00:03\n",
      "   ---------- ----------------------------- 2.6/9.9 MB 3.6 MB/s eta 0:00:03\n",
      "   ------------- -------------------------- 3.4/9.9 MB 3.8 MB/s eta 0:00:02\n",
      "   ----------------- ---------------------- 4.2/9.9 MB 3.5 MB/s eta 0:00:02\n",
      "   --------------------- ------------------ 5.2/9.9 MB 3.8 MB/s eta 0:00:02\n",
      "   ------------------------ --------------- 6.0/9.9 MB 3.7 MB/s eta 0:00:02\n",
      "   ---------------------------- ----------- 7.1/9.9 MB 3.9 MB/s eta 0:00:01\n",
      "   ------------------------------- -------- 7.9/9.9 MB 4.0 MB/s eta 0:00:01\n",
      "   ----------------------------------- ---- 8.7/9.9 MB 3.9 MB/s eta 0:00:01\n",
      "   -------------------------------------- - 9.4/9.9 MB 3.9 MB/s eta 0:00:01\n",
      "   ---------------------------------------- 9.9/9.9 MB 3.9 MB/s eta 0:00:00\n",
      "Downloading patsy-0.5.6-py2.py3-none-any.whl (233 kB)\n",
      "Installing collected packages: patsy, statsmodels, scikit-posthocs\n",
      "Successfully installed patsy-0.5.6 scikit-posthocs-0.9.0 statsmodels-0.14.2\n",
      "Note: you may need to restart the kernel to use updated packages.\n"
     ]
    }
   ],
   "source": [
    "%pip install scikit-posthocs"
   ]
  }
 ],
 "metadata": {
  "colab": {
   "provenance": []
  },
  "kernelspec": {
   "display_name": "Python 3",
   "name": "python3"
  },
  "language_info": {
   "codemirror_mode": {
    "name": "ipython",
    "version": 3
   },
   "file_extension": ".py",
   "mimetype": "text/x-python",
   "name": "python",
   "nbconvert_exporter": "python",
   "pygments_lexer": "ipython3",
   "version": "3.11.9"
  }
 },
 "nbformat": 4,
 "nbformat_minor": 0
}
