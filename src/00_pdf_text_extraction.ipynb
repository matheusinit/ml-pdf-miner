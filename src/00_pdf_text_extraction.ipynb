{
 "cells": [
  {
   "cell_type": "markdown",
   "metadata": {
    "id": "ajxqeWPm-QWE"
   },
   "source": [
    "# Instalar dependências necessárias"
   ]
  },
  {
   "cell_type": "code",
   "execution_count": null,
   "metadata": {
    "id": "mKWsHLsz-O_k"
   },
   "outputs": [],
   "source": [
    "import pdfplumber\n",
    "import pandas as pd\n",
    "import os\n",
    "import pdfplumber\n",
    "\n",
    "pdf_folder = '../data'\n",
    "\n",
    "pdf_files = []\n",
    "for root, dirs, files in os.walk(pdf_folder):\n",
    "  for file in files:\n",
    "    if file.endswith('.pdf'):\n",
    "      pdf_files.append(os.path.join(root, file))\n",
    "\n",
    "raw_texts = []\n",
    "\n",
    "for pdf_file in pdf_files:\n",
    "  whole_text = ''\n",
    "\n",
    "  with pdfplumber.open(pdf_file) as pdf:\n",
    "    for page in pdf.pages:\n",
    "      text = page.extract_text()\n",
    "      whole_text += f\"{text}\\n\"\n",
    "\n",
    "  raw_texts.append(whole_text)"
   ]
  },
  {
   "cell_type": "markdown",
   "metadata": {},
   "source": [
    "## Extrair o texto não estruturado do PDF"
   ]
  },
  {
   "cell_type": "code",
   "execution_count": null,
   "metadata": {
    "id": "lYhpBB4oDlA_"
   },
   "outputs": [],
   "source": [
    "dataframe = pd.DataFrame(data={'raw': raw_texts})\n",
    "\n",
    "row_count = dataframe.count()\n",
    "columns = dataframe.columns\n",
    "print(f\"Row count: {row_count}\")\n",
    "print(f\"Columns: {columns}\")"
   ]
  },
  {
   "cell_type": "markdown",
   "metadata": {},
   "source": [
    "## Functions"
   ]
  },
  {
   "cell_type": "code",
   "execution_count": null,
   "metadata": {},
   "outputs": [],
   "source": [
    "def extract_text_based_on_appearance_in_text(text_to_extract: str, text: str, type: str = 'after'):\n",
    "  \"\"\"\n",
    "  Extracts the text after the appearance of a specific text in a given string.\n",
    "\n",
    "  Parameters:\n",
    "    text_to_extract (str): The text to extract.\n",
    "    text (str): The input string.\n",
    "    type (str): The type of extraction. It can be either \"before\" or \"after\".\n",
    "\n",
    "  Returns:\n",
    "    str: The extracted text.\n",
    "\n",
    "  Raises:\n",
    "    ValueError: If the type is neither \"before\" nor \"after\".\n",
    "  \"\"\"\n",
    "\n",
    "  import re\n",
    "\n",
    "  if type == 'before':\n",
    "    search = re.search(rf'.*(?={text_to_extract})', text)\n",
    "  elif type == 'after':\n",
    "    search = re.search(rf'(?<={text_to_extract}).*', text)\n",
    "  else:\n",
    "    raise ValueError('type must be either \"before\" or \"after\"')\n",
    "\n",
    "  extracted_text = search.group().strip() if search else None\n",
    "\n",
    "  return extracted_text\n"
   ]
  },
  {
   "cell_type": "markdown",
   "metadata": {},
   "source": [
    "## Extract all essential data from raw data"
   ]
  },
  {
   "cell_type": "code",
   "execution_count": null,
   "metadata": {},
   "outputs": [],
   "source": [
    "import re\n",
    "import re\n",
    "\n",
    "example = dataframe['raw'][0]\n",
    "\n",
    "# Remove redundant texts that are not useful for the analysis\n",
    "example = re.sub(r'\\bTribunal Regional Eleitoral do Rio Grande do Norte\\n\\b', '', example, count=1)\n",
    "example = re.sub(r'\\bPJe - Processo Judicial Eletrônico\\n\\b', '', example, count=1)\n",
    "example = re.sub(r'\\bN úmero: \\b', '', example, count=1)\n",
    "\n",
    "# Extracting the date of process\n",
    "date_pattern = r'\\d{2}/\\d{2}/\\d{4}'\n",
    "date_match = re.search(date_pattern, example)\n",
    "date = date_match.group() if date_match else None \n",
    "print(date)\n",
    "\n",
    "example = re.sub(date_pattern, '\\n', example, count=1)\n",
    "\n",
    "# Extracting the legal action number\n",
    "legal_action_number_pattern = r'\\b\\d{7}-\\d{2}.\\d{4}.\\d{1}.\\d{2}.\\d{4}\\b' \n",
    "legal_action_number_match = re.search(legal_action_number_pattern, example)\n",
    "legal_action_number = legal_action_number_match.group() if legal_action_number_match else None\n",
    "example = re.sub(legal_action_number_pattern, '\\n', example, count=1)\n",
    "print(legal_action_number)\n",
    "\n",
    "\n",
    "# Extracting the data of raw text\n",
    "search = 'Classe:'\n",
    "legal_class = extract_text_based_on_appearance_in_text(search, example)\n",
    "print(legal_class)\n",
    "\n",
    "example = re.sub(rf'\\b{search} {legal_class}\\n\\b', '', example, count=1)\n",
    "\n",
    "search = 'Órgão julgador:'\n",
    "tribunal = extract_text_based_on_appearance_in_text(search, example)\n",
    "print(tribunal)\n",
    "\n",
    "example = re.sub(rf'\\b{search} {tribunal}\\n\\b', '', example, count=1)\n",
    "\n",
    "search = 'Última distribuição :'\n",
    "last_distribution = extract_text_based_on_appearance_in_text('Última distribuição :', example)\n",
    "print(last_distribution)\n",
    "\n",
    "example = re.sub(rf'\\b{search} {last_distribution}\\n\\b', '', example, count=1)\n",
    "\n",
    "search = 'Processo referência:'\n",
    "reference_legal_action = extract_text_based_on_appearance_in_text('Processo referência:', example)\n",
    "print(reference_legal_action)\n",
    "\n",
    "example = re.sub(rf'\\b{search} {reference_legal_action}\\n\\b', '', example, count=1)\n",
    "\n",
    "search = 'Assuntos:'\n",
    "matters = extract_text_based_on_appearance_in_text('Assuntos:', example)\n",
    "print(matters)\n",
    "\n",
    "example = re.sub(rf'\\b{search} {matters}\\n\\b', '', example, count=1)\n",
    "\n",
    "search = 'Cargo -'\n",
    "position = extract_text_based_on_appearance_in_text('Cargo -', example)\n",
    "print(position)\n",
    "\n",
    "example = re.sub(rf'\\b{search} {position}\\n\\b', '', example, count=1)\n",
    "\n",
    "legal_action_goal_string = 'Objeto do processo: '\n",
    "judicial_secrecy = 'Segredo de Justiça?'\n",
    "extracted_text = re.search(f'{legal_action_goal_string}(.*?){judicial_secrecy}', example, re.DOTALL)\n",
    "legal_action_goal = extracted_text.group(1).strip() if extracted_text else None\n",
    "print(legal_action_goal)\n",
    "\n",
    "example = re.sub(rf'\\b{legal_action_goal_string}{legal_action_goal}\\n\\b', '', example, count=1)\n",
    "\n",
    "search = 'Segredo de Justiça\\?'\n",
    "judicial_secrecy = extract_text_based_on_appearance_in_text('Segredo de Justiça\\?', example)\n",
    "print(judicial_secrecy)\n",
    "\n",
    "example = re.sub(rf'\\b{search} {judicial_secrecy}\\n\\b', '', example, count=1)\n",
    "\n",
    "search = 'Justiça gratuita\\?'\n",
    "free_judicial = extract_text_based_on_appearance_in_text('Justiça gratuita\\?', example)\n",
    "print(free_judicial)\n",
    "\n",
    "example = re.sub(rf'\\b{search} {free_judicial}\\n\\b', '', example, count=1)\n",
    "\n",
    "search = 'Pedido de liminar ou antecipação de tutela\\?'\n",
    "formal_request = extract_text_based_on_appearance_in_text('Pedido de liminar ou antecipação de tutela\\?', example)\n",
    "print(formal_request)\n",
    "\n",
    "example = re.sub(rf'\\b{search} {formal_request}\\n\\b', '', example, count=1)\n",
    "\n",
    "example = re.sub(r'\\bPartes Advogados\\n\\b', '', example, count=1)\n",
    "\n",
    "requerente = extract_text_based_on_appearance_in_text('REQUERENTE', example.replace('\\n', ' '), type='before')\n",
    "print(requerente)\n",
    "\n",
    "example = re.sub(r'\\n+', '\\n', example)"
   ]
  },
  {
   "cell_type": "code",
   "execution_count": null,
   "metadata": {},
   "outputs": [],
   "source": [
    "print(example)"
   ]
  }
 ],
 "metadata": {
  "colab": {
   "provenance": []
  },
  "kernelspec": {
   "display_name": "Python 3",
   "name": "python3"
  },
  "language_info": {
   "codemirror_mode": {
    "name": "ipython",
    "version": 3
   },
   "file_extension": ".py",
   "mimetype": "text/x-python",
   "name": "python",
   "nbconvert_exporter": "python",
   "pygments_lexer": "ipython3",
   "version": "3.12.4"
  }
 },
 "nbformat": 4,
 "nbformat_minor": 0
}
