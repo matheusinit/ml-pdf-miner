{
 "cells": [
  {
   "cell_type": "markdown",
   "metadata": {
    "id": "ajxqeWPm-QWE"
   },
   "source": [
    "# Install necessary dependencies"
   ]
  },
  {
   "cell_type": "code",
   "execution_count": 1,
   "metadata": {
    "id": "mKWsHLsz-O_k"
   },
   "outputs": [],
   "source": [
    "import pdfplumber\n",
    "import pandas as pd\n",
    "import os\n",
    "\n",
    "pdf_folder = '../data'\n",
    "\n",
    "pdf_files_path = []\n",
    "for root, dirs, files in os.walk(pdf_folder):\n",
    "  for file in files:\n",
    "    if file.endswith('.pdf'):\n",
    "      pdf_files_path.append(os.path.join(root, file))\n",
    "\n",
    "raw_texts = []\n",
    "\n",
    "for pdf_file_path in pdf_files_path:\n",
    "  whole_text = ''\n",
    "\n",
    "  with pdfplumber.open(pdf_file_path) as pdf:\n",
    "    for index, page in enumerate(pdf.pages):\n",
    "      text = page.extract_text()\n",
    "      if index > 0:\n",
    "        whole_text += f\"page: {index} {text}\\n\"\n",
    "      else:\n",
    "        whole_text += f\"{text}\\n\"\n",
    "\n",
    "  raw_texts.append(whole_text)"
   ]
  },
  {
   "cell_type": "markdown",
   "metadata": {},
   "source": [
    "## Extract unstructured text from the PDF"
   ]
  },
  {
   "cell_type": "code",
   "execution_count": null,
   "metadata": {
    "id": "lYhpBB4oDlA_"
   },
   "outputs": [],
   "source": [
    "dataframe = pd.DataFrame(data={'raw': raw_texts})\n",
    "\n",
    "row_count = dataframe.count()\n",
    "columns = dataframe.columns\n",
    "print(f\"Row count: {row_count}\")\n",
    "print(f\"Columns: {columns}\")\n",
    "print(dataframe.head())"
   ]
  },
  {
   "cell_type": "markdown",
   "metadata": {},
   "source": [
    "## Functions"
   ]
  },
  {
   "cell_type": "code",
   "execution_count": 3,
   "metadata": {},
   "outputs": [],
   "source": [
    "def extract_text_based_on_appearance_in_text(text_to_extract: str, text: str, type: str = 'after'):\n",
    "  \"\"\"\n",
    "  Extracts the text after the appearance of a specific text in a given string.\n",
    "\n",
    "  Parameters:\n",
    "    text_to_extract (str): The text to extract.\n",
    "    text (str): The input string.\n",
    "    type (str): The type of extraction. It can be either \"before\" or \"after\".\n",
    "\n",
    "  Returns:\n",
    "    str: The extracted text.\n",
    "\n",
    "  Raises:\n",
    "    ValueError: If the type is neither \"before\" nor \"after\".\n",
    "  \"\"\"\n",
    "\n",
    "  import re\n",
    "\n",
    "  if type == 'before':\n",
    "    search = re.search(rf'.*(?<={text_to_extract})', text, re.DOTALL)\n",
    "  elif type == 'after':\n",
    "    search = re.search(rf'(?<={text_to_extract}).*', text)\n",
    "  else:\n",
    "    raise ValueError('type must be either \"before\" or \"after\"')\n",
    "\n",
    "  extracted_text = search.group().strip() if search else None\n",
    "\n",
    "  return extracted_text\n"
   ]
  },
  {
   "cell_type": "markdown",
   "metadata": {},
   "source": [
    "## Extract all essential data from raw data"
   ]
  },
  {
   "cell_type": "code",
   "execution_count": 4,
   "metadata": {},
   "outputs": [],
   "source": [
    "import re\n",
    "import datetime\n",
    "\n",
    "def extract_needed_information_from_pdf_text(text: str):\n",
    "  \"\"\"\n",
    "  Extracts the needed information from a given PDF text.\n",
    "\n",
    "  Parameters:\n",
    "    text (str): The input text.\n",
    "\n",
    "  Returns:\n",
    "    dict: The extracted information.\n",
    "  \"\"\"\n",
    "\n",
    "  # Remove redundant texts that are not useful for the analysis\n",
    "  text = re.sub(r'\\bTribunal Regional Eleitoral do Rio Grande do Norte\\n\\b', '', text, count=1)\n",
    "  text = re.sub(r'\\bPJe - Processo Judicial Eletrônico\\n\\b', '', text, count=1)\n",
    "  text = re.sub(r'\\bN úmero: \\b', '', text, count=1)\n",
    "  # Extracting the date of process\n",
    "  date_pattern = r'\\d{2}/\\d{2}/\\d{4}'\n",
    "  date_match = re.search(date_pattern, text)\n",
    "  date = date_match.group() if date_match else None \n",
    "  print(date)\n",
    "\n",
    "  text = re.sub(date_pattern, '\\n', text, count=1)\n",
    "\n",
    "  # Extracting the legal action number\n",
    "  legal_action_number_pattern = r'\\b\\d{7}-\\d{2}.\\d{4}.\\d{1}.\\d{2}.\\d{4}\\b' \n",
    "  legal_action_number_match = re.search(legal_action_number_pattern, text)\n",
    "  legal_action_number = legal_action_number_match.group() if legal_action_number_match else None\n",
    "  text = re.sub(legal_action_number_pattern, '\\n', text, count=1)\n",
    "  print(legal_action_number)\n",
    "\n",
    "\n",
    "  # Extracting the data of raw text\n",
    "  search = 'Classe:'\n",
    "  legal_class = extract_text_based_on_appearance_in_text(search, text)\n",
    "  print(legal_class)\n",
    "\n",
    "  text = re.sub(rf'\\b{search} {legal_class}\\n\\b', '', text, count=1)\n",
    "\n",
    "  search = 'Órgão julgador:'\n",
    "  tribunal = extract_text_based_on_appearance_in_text(search, text)\n",
    "  print(tribunal)\n",
    "\n",
    "  text = re.sub(rf'\\b{search} {tribunal}\\n\\b', '', text, count=1)\n",
    "\n",
    "  search = 'Última distribuição :'\n",
    "  last_distribution = extract_text_based_on_appearance_in_text('Última distribuição :', text)\n",
    "  print(last_distribution)\n",
    "\n",
    "  text = re.sub(rf'\\b{search} {last_distribution}\\n\\b', '', text, count=1)\n",
    "\n",
    "  search = 'Valor da causa:'\n",
    "  cause_cost = extract_text_based_on_appearance_in_text('Valor da causa:', text)\n",
    "  print(f'cause cost: {cause_cost}')\n",
    "\n",
    "  text = re.sub(rf'\\b{search} {cause_cost}\\n\\b', '', text, count=1)\n",
    "  text = re.sub(r'R\\$', '', text, count=1)\n",
    "\n",
    "  search = 'Processo referência:'\n",
    "  reference_legal_action = extract_text_based_on_appearance_in_text('Processo referência:', text)\n",
    "  print(reference_legal_action)\n",
    "\n",
    "  text = re.sub(rf'\\b{search} {reference_legal_action}\\n\\b', '', text, count=1)\n",
    "\n",
    "  search = 'Assuntos:'\n",
    "  matters = extract_text_based_on_appearance_in_text('Assuntos:', text)\n",
    "  print(matters)\n",
    "\n",
    "  text = re.sub(rf'\\b{search} {matters}\\n\\b', '', text, count=1)\n",
    "\n",
    "  search = 'Cargo -'\n",
    "  position = extract_text_based_on_appearance_in_text('Cargo -', text)\n",
    "  print(position)\n",
    "\n",
    "  text = re.sub(rf'\\b{search} {position}\\n\\b', '', text, count=1)\n",
    "\n",
    "  legal_action_goal_string = 'Objeto do processo: '\n",
    "  judicial_secrecy = 'Segredo de Justiça?'\n",
    "  extracted_text = re.search(f'{legal_action_goal_string}(.*?){judicial_secrecy}', text, re.DOTALL)\n",
    "  legal_action_goal = extracted_text.group(1).strip() if extracted_text else None\n",
    "  print(legal_action_goal)\n",
    "\n",
    "  text = re.sub(rf'\\b{legal_action_goal_string}\\b', '', text.strip(), count=1)\n",
    "  legal_action_goal = legal_action_goal.replace('\\n', ' ').strip()\n",
    "\n",
    "  legal_action_goal_splitted = legal_action_goal.split(' ')\n",
    "\n",
    "  for word in legal_action_goal_splitted:\n",
    "    word = word.replace('(', r'\\(').replace(')', r'\\)')\n",
    "    text = re.sub(rf'{word}\\n?', '', text, count=1)\n",
    "\n",
    "  text = text.strip()\n",
    "\n",
    "  search = 'Segredo de Justiça\\?'\n",
    "  judicial_secrecy = extract_text_based_on_appearance_in_text('Segredo de Justiça\\?', text)\n",
    "  print(judicial_secrecy)\n",
    "\n",
    "  text = re.sub(rf'\\b{search} {judicial_secrecy}\\b', '', text, count=1)\n",
    "\n",
    "  search = 'Justiça gratuita\\?'\n",
    "  free_judicial = extract_text_based_on_appearance_in_text('Justiça gratuita\\?', text)\n",
    "  print(free_judicial)\n",
    "\n",
    "  text = re.sub(rf'\\b{search} {free_judicial}\\b', '', text, count=1)\n",
    "\n",
    "  search = 'Pedido de liminar ou antecipação de tutela\\?'\n",
    "  formal_request = extract_text_based_on_appearance_in_text('Pedido de liminar ou antecipação de tutela\\?', text)\n",
    "  print(formal_request)\n",
    "\n",
    "  text = re.sub(rf'\\b{search} {formal_request}\\b', '', text, count=1)\n",
    "\n",
    "  text = re.sub(r'\\bPartes Advogados\\n\\b', '', text, count=1)\n",
    "\n",
    "  search = r'\\(REQUERENTE\\)'\n",
    "  match = re.search(rf'(.+?)\\s+{search}', text.replace('\\n', ' '))\n",
    "  requerente = match.group(1).strip() if match else None\n",
    "  print(requerente)\n",
    "\n",
    "  text = re.sub(r'\\b(REQUERENTE)\\b', '', text, count=1)\n",
    "  requerente_splitted = requerente.split(' ') if requerente != None else []\n",
    "  for word in requerente_splitted:\n",
    "    word = word.replace('(', r'\\(').replace(')', r'\\)')\n",
    "    text = re.sub(rf'{word}\\n?', '', text, count=1)\n",
    "  text = re.sub(r'\\(\\)', '', text, count=1)\n",
    "\n",
    "  search = r'\\(IMPUGNANTE\\)'\n",
    "  match = re.search(rf'(.+?)\\s+{search}', text.replace('\\n', ' ').strip())\n",
    "  impugnante = match.group(1).strip() if match else None\n",
    "  print(f'impugnante: {impugnante}')\n",
    "\n",
    "  text = re.sub(r'\\b(IMPUGNANTE)\\b', '', text, count=1)\n",
    "  text = text.strip()\n",
    "  impugnante_splitted = impugnante.split(' ') if impugnante != None else []\n",
    "  for word in impugnante_splitted:\n",
    "    word = word.replace('(', r'\\(').replace(')', r'\\)')\n",
    "    text = re.sub(rf'{word}\\n?', '', text, count=1)\n",
    "  text = re.sub(r'\\(\\)', '', text, count=1)\n",
    "\n",
    "  search = r'\\(IMPUGNANTE\\)'\n",
    "  match = re.search(rf'(.+?)\\s+{search}', text.replace('\\n', ' ').strip())\n",
    "  impugnante_2 = match.group(1).strip() if match else None\n",
    "  print(f'impugnante: {impugnante_2}')\n",
    "\n",
    "  text = re.sub(r'\\b(IMPUGNANTE)\\b', '', text, count=1)\n",
    "  text = text.strip()\n",
    "  impugnante_splitted_2 = impugnante_2.split(' ') if impugnante_2 != None else []\n",
    "  for word in impugnante_splitted_2:\n",
    "    word = word.replace('(', r'\\(').replace(')', r'\\)')\n",
    "    text = re.sub(rf'{word}\\n?', '', text, count=1)\n",
    "  # print(text)\n",
    "  text = re.sub(r'\\(\\)', '', text, count=1)\n",
    "\n",
    "  search = r'\\(IMPUGNADO\\)'\n",
    "  match = re.search(rf'(.+?)\\s+{search}', text.replace('\\n', ' ').strip())\n",
    "  impugnado = match.group(1).strip() if match else None\n",
    "  print(f\"impugnado: {impugnado}\")\n",
    "\n",
    "  text = re.sub(r'\\b(IMPUGNADO)\\b', '', text, count=1)\n",
    "  text = re.sub(rf'\\b{impugnado}\\b', '', text, count=1)\n",
    "  text = re.sub(r'\\(\\)', '', text, count=1)\n",
    "\n",
    "  search = r'\\(ADVOGADO\\)'\n",
    "  match = re.search(rf'(.+?)\\s+{search}', text.replace('\\n', ' '))\n",
    "  advogado = match.group(1).strip() if match else None\n",
    "  print(advogado)\n",
    "\n",
    "  advogado_splitted = advogado.split(' ') if advogado != None else []\n",
    "  for word in advogado_splitted:\n",
    "    word = word.replace('(', r'\\(').replace(')', r'\\)')\n",
    "    text = re.sub(rf'{word}\\n?', '', text, count=1)\n",
    "  text = re.sub(r'\\b(ADVOGADO)\\b', '', text, count=1)\n",
    "  text = re.sub(rf'\\b{advogado}\\b', '', text, count=1)\n",
    "  text = re.sub(r'\\(\\)', '', text, count=1)\n",
    "\n",
    "  search = r'\\(IMPUGNADO\\)'\n",
    "  match = re.search(rf'(.+?)\\s+{search}', text.replace('\\n', ' ').strip())\n",
    "  impugnado_2 = match.group(1).strip() if match else None\n",
    "  print(f\"impugnado 2: {impugnado_2}\")\n",
    "\n",
    "  text = re.sub(r'\\b(IMPUGNADO)\\b', '', text, count=1)\n",
    "  text = text.strip()\n",
    "  impugnado_splitted_2 = impugnado_2.split(' ') if impugnado_2 != None else []\n",
    "  for word in impugnado_splitted_2:\n",
    "    word = word.replace('(', r'\\(').replace(')', r'\\)')\n",
    "    text = re.sub(rf'{word}\\n?', '', text, count=1)\n",
    "  text = re.sub(r'\\(\\)', '', text, count=1)\n",
    "\n",
    "  search = r'\\(REQUERENTE\\)'\n",
    "  match = re.search(rf'(.+?)\\s+{search}', text.replace('\\n', ' ').strip())\n",
    "  requerente_2 = match.group(1).strip() if match else None\n",
    "  print(requerente_2)\n",
    "  \n",
    "  requerente2_splitted = requerente_2.split(' ') if requerente_2 != None else []\n",
    "  for word in requerente2_splitted:\n",
    "    word = word.replace('(', r'\\(').replace(')', r'\\)')\n",
    "    text = re.sub(rf'{word}\\n?', '', text, count=1)\n",
    "  text = re.sub(r'\\b(REQUERENTE)\\b', '', text, count=1)\n",
    "  text = re.sub(rf'\\b{requerente_2}\\b', '', text, count=1)\n",
    "  text = re.sub(r'\\(\\)', '', text, count=1)\n",
    "\n",
    "  search = r'\\(ADVOGADO\\)'\n",
    "  match = re.search(rf'(.+?)\\s+{search}', text.replace('\\n', ' '))\n",
    "  advogado_2 = match.group(1).strip() if match else None\n",
    "  print(f\"advogado 2: {advogado_2}\")\n",
    "\n",
    "  text = re.sub(r'\\b(ADVOGADO)\\b', '', text, count=1)\n",
    "  text = re.sub(rf'\\b{advogado_2}\\b', '', text, count=1)\n",
    "  text = re.sub(r'\\(\\)', '', text, count=1)\n",
    "\n",
    "  search = r'\\(REQUERENTE\\)'\n",
    "  match = re.search(rf'(.+?)\\s+{search}', text.replace('\\n', ' ').strip())\n",
    "  requerente_3 = match.group(1).strip() if match else None\n",
    "  print(requerente_3)\n",
    "\n",
    "  requerente3_splitted = requerente_3.split(' ') if requerente_3 != None else []\n",
    "  for word in requerente3_splitted:\n",
    "    word = word.replace('(', r'\\(').replace(')', r'\\)')\n",
    "    text = re.sub(rf'{word}\\n?', '', text, count=1)\n",
    "  text = re.sub(r'\\b(REQUERENTE)\\b', '', text, count=1)\n",
    "  text = re.sub(rf'\\b{requerente_3}\\b', '', text, count=1)\n",
    "  text = re.sub(r'\\(\\)', '', text, count=1)\n",
    "\n",
    "  search = r'\\(REQUERENTE\\)'\n",
    "  match = re.search(rf'(.+?)\\s+{search}', text.replace('\\n', ' ').strip())\n",
    "  requerente_4 = match.group(1).strip() if match else None\n",
    "  print(requerente_4)\n",
    "\n",
    "  requerente4_splitted = requerente_4.split(' ') if requerente_4 != None else []\n",
    "  for word in requerente4_splitted:\n",
    "    word = word.replace('(', r'\\(').replace(')', r'\\)')\n",
    "    text = re.sub(rf'{word}\\n?', '', text, count=1)\n",
    "  text = re.sub(r'\\b(REQUERENTE)\\b', '', text, count=1)\n",
    "  text = re.sub(rf'\\b{requerente_4}\\b', '', text, count=1)\n",
    "  text = re.sub(r'\\(\\)', '', text, count=1)\n",
    "\n",
    "  search = r'\\(REQUERENTE\\)'\n",
    "  match = re.search(rf'(.+?)\\s+{search}', text.replace('\\n', ' ').strip())\n",
    "  requerente_5 = match.group(1).strip() if match else None\n",
    "  print(requerente_5)\n",
    "\n",
    "  requerente5_splitted = requerente_5.split(' ') if requerente_5 != None else []\n",
    "  for word in requerente5_splitted:\n",
    "    word = word.replace('(', r'\\(').replace(')', r'\\)')\n",
    "    text = re.sub(rf'{word}\\n?', '', text, count=1)\n",
    "  text = re.sub(r'\\b(REQUERENTE)\\b', '', text, count=1)\n",
    "  text = re.sub(rf'\\b{requerente_5}\\b', '', text, count=1)\n",
    "  text = re.sub(r'\\(\\)', '', text, count=1)\n",
    "\n",
    "  search = r'\\(REQUERENTE\\)'\n",
    "  match = re.search(rf'(.+?)\\s+{search}', text.replace('\\n', ' ').strip())\n",
    "  requerente_6 = match.group(1).strip() if match else None\n",
    "  print(requerente_6)\n",
    "\n",
    "  requerente6_splitted = requerente_6.split(' ') if requerente_6 != None else []\n",
    "  for word in requerente6_splitted:\n",
    "    word = word.replace('(', r'\\(').replace(')', r'\\)')\n",
    "    text = re.sub(rf'{word}\\n?', '', text, count=1)\n",
    "  text = re.sub(r'\\b(REQUERENTE)\\b', '', text, count=1)\n",
    "  text = re.sub(rf'\\b{requerente_6}\\b', '', text, count=1)\n",
    "  text = re.sub(r'\\(\\)', '', text, count=1)\n",
    "\n",
    "  search = r'\\(REQUERENTE\\)'\n",
    "  match = re.search(rf'(.+?)\\s+{search}', text.replace('\\n', ' ').strip())\n",
    "  requerente_7 = match.group(1).strip() if match else None\n",
    "  print(requerente_7)\n",
    "\n",
    "  requerente7_splitted = requerente_7.split(' ') if requerente_7 != None else []\n",
    "  for word in requerente7_splitted:\n",
    "    word = word.replace('(', r'\\(').replace(')', r'\\)')\n",
    "    text = re.sub(rf'{word}\\n?', '', text, count=1)\n",
    "  text = re.sub(r'\\b(REQUERENTE)\\b', '', text, count=1)\n",
    "  text = re.sub(rf'\\b{requerente_7}\\b', '', text, count=1)\n",
    "  text = re.sub(r'\\(\\)', '', text, count=1)\n",
    "\n",
    "  search = r'\\(REQUERENTE\\)'\n",
    "  match = re.search(rf'(.+?)\\s+{search}', text.replace('\\n', ' ').strip())\n",
    "  requerente_8 = match.group(1).strip() if match else None\n",
    "  print(requerente_8)\n",
    "\n",
    "  requerente8_splitted = requerente_8.split(' ') if requerente_8 != None else []\n",
    "  for word in requerente8_splitted:\n",
    "    word = word.replace('(', r'\\(').replace(')', r'\\)')\n",
    "    text = re.sub(rf'{word}\\n?', '', text, count=1)\n",
    "  text = re.sub(r'\\b(REQUERENTE)\\b', '', text, count=1)\n",
    "  text = re.sub(rf'\\b{requerente_8}\\b', '', text, count=1)\n",
    "  text = re.sub(r'\\(\\)', '', text, count=1)\n",
    "\n",
    "  outros_participantes_search = 'Outros participantes'\n",
    "  fiscal_de_lei_search = r'\\(FISCAL DA LEI\\)'\n",
    "  extracted_text = re.search(f'{outros_participantes_search}(.*?){fiscal_de_lei_search}', text, re.DOTALL)\n",
    "  fiscal_de_lei_nome = extracted_text.group(1).strip().replace('\\n', ' ') if extracted_text else None\n",
    "  print(fiscal_de_lei_nome)\n",
    "\n",
    "  text = re.sub(rf'\\b{outros_participantes_search}\\n\\b', '', text, count=1)\n",
    "  text = re.sub(rf'\\bFISCAL DA LEI\\b', '', text, count=1)\n",
    "  text = re.sub(r'\\(\\)', '', text, count=1)\n",
    "  text = re.sub(r'\\bPROMOTOR ELEITORAL DO ESTADO DO RIO GRANDE DO\\nNORTE\\b', '', text, count=1)\n",
    "\n",
    "  text = re.sub(r'\\bDocumentos\\b', '', text, count=1)\n",
    "\n",
    "  text_treated_for_index = text.strip().replace('\\n', ' ').split(' ')\n",
    "\n",
    "  print(text_treated_for_index)\n",
    "\n",
    "  text_treated_for_index.remove('Id.')\n",
    "  text_treated_for_index.remove('Data')\n",
    "  text_treated_for_index.remove('da')\n",
    "  text_treated_for_index.remove('Documento')\n",
    "  text_treated_for_index.remove('Tipo')\n",
    "  text_treated_for_index.remove('Assinatura')\n",
    "\n",
    "  print(text_treated_for_index)\n",
    "\n",
    "  id = text_treated_for_index[0]\n",
    "  print(f\"id: {id}\")\n",
    "  \n",
    "  text_treated_for_index.pop(0)\n",
    "\n",
    "  data_da_assinatura = text_treated_for_index[0]\n",
    "  print(f\"data: {data_da_assinatura}\")\n",
    "  text_treated_for_index.pop(0)\n",
    "\n",
    "  initial_index = 0\n",
    "\n",
    "  for index, word in enumerate(text_treated_for_index, start=initial_index):\n",
    "    pattern = r'\\d{2}:\\d{2}'\n",
    "    match = re.match(pattern, word)\n",
    "\n",
    "    if match:\n",
    "      hora_da_assinatura = word\n",
    "      break\n",
    "\n",
    "  text_treated_for_index.remove(hora_da_assinatura)\n",
    "  \n",
    "\n",
    "  data_hora_da_assinatura = f'{data_da_assinatura} {hora_da_assinatura}'\n",
    "  data_hora_da_assinatura_timestamp = datetime.datetime.strptime(data_hora_da_assinatura, '%d/%m/%Y %H:%M').isoformat()\n",
    "  print(data_hora_da_assinatura_timestamp)\n",
    "\n",
    "  tipo = ''\n",
    "\n",
    "  for index, word in enumerate(text_treated_for_index):\n",
    "    if word == 'Sentença' or word == 'Petição':\n",
    "      tipo = word\n",
    "      break\n",
    "    elif word == 'Outros' and text_treated_for_index[index + 1] == 'documentos':\n",
    "      tipo = f'{word} {text_treated_for_index[index + 1]}'\n",
    "      break\n",
    "    elif word == 'Parecer' and text_treated_for_index[index + 1] == 'da' and text_treated_for_index[index + 1] == 'Procuradoria':\n",
    "      tipo = f'{word} {text_treated_for_index[index + 1]} {text_treated_for_index[index + 2]}'\n",
    "      break\n",
    "    elif word == 'Cota' and text_treated_for_index[index + 1] == 'ministerial':\n",
    "      tipo = f'{word} {text_treated_for_index[index + 1]}'\n",
    "      break\n",
    "\n",
    "  print(tipo)\n",
    "  if tipo == 'Sentença' or tipo == 'Petição':\n",
    "    text_treated_for_index.remove(tipo)\n",
    "  elif tipo == 'Outros documentos':\n",
    "    text_treated_for_index.remove('Outros')\n",
    "    text_treated_for_index.remove('documentos')\n",
    "  elif tipo == 'Parecer da Procuradoria':\n",
    "    text_treated_for_index.remove('Parecer')\n",
    "    text_treated_for_index.remove('da')\n",
    "    text_treated_for_index.remove('Procuradoria')\n",
    "  elif tipo == 'Cota ministerial':\n",
    "    text_treated_for_index.remove('Cota')\n",
    "    text_treated_for_index.remove('ministerial')\n",
    "\n",
    "  index = text_treated_for_index.index('page:')\n",
    "  \n",
    "  documento = ' '.join(text_treated_for_index[:index])\n",
    "  print(documento)\n",
    "\n",
    "  resultado = 'NÃO DEFINIDO'\n",
    "\n",
    "  detalhamento = ' '.join(text_treated_for_index[index+2:])\n",
    "  print(detalhamento)\n",
    "  \n",
    "  indeferimento_word_appearance = detalhamento.lower().find('indefiro')\n",
    "\n",
    "  if detalhamento.lower().find('defiro') != -1:\n",
    "    resultado = 'DEFERIDO'\n",
    "  elif detalhamento.lower().find('deferimento') != -1:\n",
    "    resultado = 'DEFERIDO'\n",
    "  elif detalhamento.lower().find('manifesta-se pelo deferimento') != -1:\n",
    "    resultado = 'DEFERIDO'\n",
    "  elif detalhamento.lower().find('homologo') != -1:\n",
    "    resultado = 'DEFERIDO'\n",
    "\n",
    "\n",
    "  if indeferimento_word_appearance != -1:\n",
    "    resultado = 'INDEFERIDO'\n",
    "  elif detalhamento.lower().find('indeferindo-se') != -1:\n",
    "    resultado = 'INDEFERIDO'\n",
    "  elif detalhamento.lower().find('indeferimento') != -1:\n",
    "    resultado = 'INDEFERIDO'\n",
    "  elif detalhamento.lower().find('litispendência') != -1:\n",
    "    resultado = 'INDEFERIDO'\n",
    "  elif detalhamento.lower().find('não foram preenchidas') != -1:\n",
    "    resultado = 'INDEFERIDO'\n",
    "  elif detalhamento.lower().find('extinguo') != -1:\n",
    "    resultado = 'INDEFERIDO'\n",
    "  elif detalhamento.lower().find('ausência de documentos exigidos') != -1:\n",
    "    resultado = 'INDEFERIDO'\n",
    "\n",
    "  \n",
    "  print(resultado)\n",
    "\n",
    "  data = {\n",
    "    'advogado': advogado,\n",
    "    'advogado_2': advogado_2,\n",
    "    'data_hora_da_assinatura_timestamp': data_hora_da_assinatura_timestamp,\n",
    "    'documento': documento,\n",
    "    'detalhamento': detalhamento,\n",
    "    'fiscal_de_lei_nome': fiscal_de_lei_nome,\n",
    "    'formal_request': formal_request,\n",
    "    'free_judicial': free_judicial,\n",
    "    'id': id,\n",
    "    'judicial_secrecy': judicial_secrecy,\n",
    "    'last_distribution': last_distribution,\n",
    "    'legal_action_goal': legal_action_goal,\n",
    "    'legal_action_number': legal_action_number,\n",
    "    'legal_class': legal_class,\n",
    "    'matters': matters,\n",
    "    'position': position,\n",
    "    'reference_legal_action': reference_legal_action,\n",
    "    'requerente': requerente,\n",
    "    'requerente_2': requerente_2,\n",
    "    'requerente_3': requerente_3,\n",
    "    'requerente_4': requerente_4,\n",
    "    'requerente_5': requerente_5,\n",
    "    'requerente_6': requerente_6,\n",
    "    'requerente_7': requerente_7,\n",
    "    'requerente_8': requerente_8,\n",
    "    'impugnante': impugnante,\n",
    "    'impugnante_2': impugnante_2,\n",
    "    'impugnado': impugnado,\n",
    "    'impugnado_2': impugnado_2,\n",
    "    'resultado': resultado,\n",
    "  }\n",
    "\n",
    "  return data\n",
    "\n"
   ]
  },
  {
   "cell_type": "code",
   "execution_count": null,
   "metadata": {},
   "outputs": [],
   "source": [
    "import pandas as pd\n",
    "\n",
    "df = pd.DataFrame()\n",
    "\n",
    "pdf_files_path_with_error = []\n",
    "\n",
    "for index, raw_text in enumerate(dataframe['raw']):\n",
    "  try:\n",
    "    data = extract_needed_information_from_pdf_text(raw_text)\n",
    "    data['pdf_file_path'] = pdf_files_path[index]\n",
    "    new_row = pd.DataFrame([data])\n",
    "    df = pd.concat([df, new_row], ignore_index=True)\n",
    "  except ValueError:\n",
    "    pdf_files_path_with_error.append(pdf_files_path[index])\n",
    "    continue\n",
    "\n"
   ]
  },
  {
   "cell_type": "code",
   "execution_count": null,
   "metadata": {},
   "outputs": [],
   "source": [
    "df.head(3)"
   ]
  },
  {
   "cell_type": "code",
   "execution_count": null,
   "metadata": {},
   "outputs": [],
   "source": [
    "df.count()"
   ]
  },
  {
   "cell_type": "code",
   "execution_count": null,
   "metadata": {},
   "outputs": [],
   "source": [
    "print(pdf_files_path_with_error)"
   ]
  },
  {
   "cell_type": "code",
   "execution_count": null,
   "metadata": {},
   "outputs": [],
   "source": [
    "not_defined = df[df.resultado == 'NÃO DEFINIDO']\n",
    "not_defined"
   ]
  },
  {
   "cell_type": "markdown",
   "metadata": {},
   "source": [
    "### Vetorizar documento"
   ]
  },
  {
   "cell_type": "code",
   "execution_count": 10,
   "metadata": {},
   "outputs": [],
   "source": [
    "import nltk\n",
    "from nltk.corpus import stopwords \n",
    "from nltk.stem import PorterStemmer\n",
    "from nltk.tokenize import word_tokenize"
   ]
  },
  {
   "cell_type": "code",
   "execution_count": null,
   "metadata": {},
   "outputs": [],
   "source": [
    "# Download necessário para a NLTK\n",
    "nltk.download('stopwords')  # Baixa a lista de stop words (palavras comuns) para uso no processamento de texto\n",
    "nltk.download('punkt')  # Baixa o tokenizer Punkt, necessário para a tokenização de frases\n",
    "\n",
    "# Carregar o modelo de português para o spaCy\n",
    "!python -m spacy download pt_core_news_sm"
   ]
  },
  {
   "cell_type": "code",
   "execution_count": 12,
   "metadata": {},
   "outputs": [],
   "source": [
    "def remove_noise(text):\n",
    "\n",
    "    text = re.sub(r'http\\S+', '', text)\n",
    "\n",
    "    # Converte para minúsculas\n",
    "    text = text.lower()\n",
    "\n",
    "    # Remove pontuação\n",
    "    # []: colchetes são usados para definir uma classe de caracteres.\n",
    "    # ^: quando usado no início de uma classe de caracteres, o ^ nega a classe, ou seja, seleciona tudo que não está na classe.\n",
    "    # \\w: corresponde a qualquer caractere alfanumérico (letras e números, incluindo o caractere de sublinhado _)\n",
    "    # \\s: corresponde a qualquer espaço em branco (espaços, tabulações, quebras de linha).\n",
    "    text = re.sub(r'[^\\w\\s]', '', text)\n",
    "\n",
    "    # Remove underlines\n",
    "    text = re.sub(r'_+', '', text)\n",
    "\n",
    "    # Remove números\n",
    "    # \\d: corresponde a qualquer dígito (de 0 a 9).\n",
    "    # +: significa “um ou mais” do elemento precedente. Portanto, \\d+ corresponde a uma sequência de um ou mais dígitos consecutivos.\n",
    "    text = re.sub(r'\\d+', '', text)\n",
    "\n",
    "    return text"
   ]
  },
  {
   "cell_type": "code",
   "execution_count": 13,
   "metadata": {},
   "outputs": [],
   "source": [
    "def remove_stopwords(text):\n",
    "  # Obtém a lista de stopwords em português usando o NLTK e as converte para um conjunto para melhorar a eficiência da busca\n",
    "  stop_words = set(stopwords.words('portuguese'))\n",
    "\n",
    "  # Divide o texto em palavras, remove as stopwords e então junta as palavras restantes de volta em uma string\n",
    "  text = ' '.join([word for word in text.split() if word not in stop_words])\n",
    "\n",
    "  return text"
   ]
  },
  {
   "cell_type": "code",
   "execution_count": null,
   "metadata": {},
   "outputs": [],
   "source": [
    "data = df[df.resultado != 'NÃO DEFINIDO']\n",
    "data"
   ]
  },
  {
   "cell_type": "code",
   "execution_count": null,
   "metadata": {},
   "outputs": [],
   "source": [
    "data['detalhamento'] = data['detalhamento'].apply(remove_noise)\n",
    "data.head()"
   ]
  },
  {
   "cell_type": "code",
   "execution_count": null,
   "metadata": {},
   "outputs": [],
   "source": [
    "data.iloc[1]['detalhamento']"
   ]
  },
  {
   "cell_type": "code",
   "execution_count": null,
   "metadata": {},
   "outputs": [],
   "source": [
    "data['detalhamento'] = data['detalhamento'].apply(remove_stopwords)\n",
    "data.head()"
   ]
  },
  {
   "cell_type": "code",
   "execution_count": null,
   "metadata": {},
   "outputs": [],
   "source": [
    "text = data['detalhamento'][267]\n",
    "text"
   ]
  },
  {
   "cell_type": "markdown",
   "metadata": {},
   "source": [
    "Why Logistic Regression?\n",
    "\n",
    "Simplicity and Interpretability: Logistic Regression is a straightforward and interpretable model. It provides probabilities that can be easily understood and translated into decision-making. The coefficients of the model indicate the influence of each feature on the outcome, making it easier to interpret and understand the relationship between the variables.\n",
    "\n",
    "Linear Decision Boundary: Logistic Regression assumes a linear relationship between the features and the outcome. This can be beneficial when the true relationship is approximately linear, allowing for efficient and effective modeling. It provides a clear decision boundary that separates classes based on a linear combination of the input features.\n"
   ]
  },
  {
   "cell_type": "code",
   "execution_count": null,
   "metadata": {},
   "outputs": [],
   "source": [
    "# Usando o modelo em português do spaCy para tokenização\n",
    "import spacy\n",
    "nlp = spacy.load('pt_core_news_sm')\n",
    "\n",
    "# # Passa o texto para o pipeline de processamento do spaCy. O resultado é um objeto doc, que contém as palavras e sentenças tokenizadas, além de outras informações linguísticas.\n",
    "# doc = nlp(text)\n",
    "\n",
    "# # Extrair sentenças como tokens\n",
    "# sentence_tokens = [sent.text for sent in doc.sents]\n",
    "\n",
    "# print(\"Tokens:\", sentence_tokens)"
   ]
  },
  {
   "cell_type": "code",
   "execution_count": null,
   "metadata": {},
   "outputs": [],
   "source": [
    "# tokens = [token.text for token in doc]\n",
    "# print('Tokens:', tokens)"
   ]
  },
  {
   "cell_type": "code",
   "execution_count": null,
   "metadata": {},
   "outputs": [],
   "source": [
    "def tokenize_text(text):\n",
    "    doc = nlp(text)\n",
    "    tokens = [token.text for token in doc]\n",
    "    return tokens\n",
    "\n",
    "data['tokens'] = data['detalhamento'].apply(tokenize_text)"
   ]
  },
  {
   "cell_type": "code",
   "execution_count": null,
   "metadata": {},
   "outputs": [],
   "source": [
    "data['tokens'][267]"
   ]
  },
  {
   "cell_type": "markdown",
   "metadata": {},
   "source": [
    "## Stemming e Lemmatização"
   ]
  },
  {
   "cell_type": "code",
   "execution_count": null,
   "metadata": {},
   "outputs": [],
   "source": [
    "nltk.download('punkt')\n",
    "nltk.download('punkt_tab')"
   ]
  },
  {
   "cell_type": "code",
   "execution_count": null,
   "metadata": {},
   "outputs": [],
   "source": [
    "from nltk.stem import PorterStemmer"
   ]
  },
  {
   "cell_type": "code",
   "execution_count": null,
   "metadata": {},
   "outputs": [],
   "source": [
    "def apply_stemming(tokens):\n",
    "    stemmer = PorterStemmer()\n",
    "    stemmed_tokens = [stemmer.stem(token) for token in tokens]\n",
    "    return stemmed_tokens"
   ]
  },
  {
   "cell_type": "code",
   "execution_count": null,
   "metadata": {},
   "outputs": [],
   "source": [
    "data['stemming'] = data['tokens'].apply(apply_stemming)\n",
    "data['stemming'][267]"
   ]
  },
  {
   "cell_type": "code",
   "execution_count": null,
   "metadata": {},
   "outputs": [],
   "source": [
    "stemmer = PorterStemmer()\n",
    "\n",
    "# Tokeniza a frase em palavras\n",
    "palavras = word_tokenize(data['detalhamento'][267])\n",
    "\n",
    "# Aplica o stemming a cada palavra\n",
    "stemmed_words = [stemmer.stem(word) for word in palavras]\n",
    "\n",
    "print(\"Frase original:\", data['detalhamento'][267])\n",
    "print(\"Palavras após Stemming:\", stemmed_words)\n",
    "print()"
   ]
  },
  {
   "cell_type": "code",
   "execution_count": 28,
   "metadata": {},
   "outputs": [],
   "source": [
    "def apply_lemming(doc):\n",
    "  doc = ' '.join(doc)\n",
    "\n",
    "  nlp = spacy.load(\"pt_core_news_sm\")\n",
    "\n",
    "  doc = nlp(doc)\n",
    "\n",
    "  lemmatized_words = [token.lemma_ for token in doc]\n",
    "  \n",
    "  return lemmatized_words"
   ]
  },
  {
   "cell_type": "code",
   "execution_count": null,
   "metadata": {},
   "outputs": [],
   "source": [
    "data['lemming'] = data['tokens'].apply(apply_lemming)"
   ]
  },
  {
   "cell_type": "code",
   "execution_count": null,
   "metadata": {},
   "outputs": [],
   "source": [
    "data['detalhamento'][267]"
   ]
  },
  {
   "cell_type": "code",
   "execution_count": null,
   "metadata": {},
   "outputs": [],
   "source": [
    "data['pdf_file_path'][267]"
   ]
  },
  {
   "cell_type": "code",
   "execution_count": null,
   "metadata": {},
   "outputs": [],
   "source": [
    "data['lemming'][267]"
   ]
  },
  {
   "cell_type": "code",
   "execution_count": null,
   "metadata": {},
   "outputs": [],
   "source": [
    "data['lemming'][2]\n"
   ]
  },
  {
   "cell_type": "code",
   "execution_count": null,
   "metadata": {},
   "outputs": [],
   "source": [
    "data.iloc[2]"
   ]
  },
  {
   "cell_type": "code",
   "execution_count": null,
   "metadata": {},
   "outputs": [],
   "source": [
    "data"
   ]
  },
  {
   "cell_type": "code",
   "execution_count": null,
   "metadata": {},
   "outputs": [],
   "source": [
    "%pip install scikit-learn"
   ]
  },
  {
   "cell_type": "code",
   "execution_count": null,
   "metadata": {},
   "outputs": [],
   "source": [
    "from sklearn.feature_extraction.text import CountVectorizer, TfidfVectorizer\n",
    "\n",
    "vectorizer_tfidf = TfidfVectorizer()\n",
    "# Ajustar e transformar os documentos em uma matriz TF-IDF\n",
    "X_tfidf = vectorizer_tfidf.fit_transform(data['lemming'].apply(lambda x: ' '.join(x)))\n",
    "vocab = vectorizer_tfidf.get_feature_names_out()\n",
    "print(\"Representação TF-IDF:\\n\", X_tfidf.toarray())\n",
    "print(\"Vocabulário TF-IDF:\\n\", vocab)\n",
    "\n",
    "print(\"Vocabulário TF-IDF:\", vocab)\n",
    "# Imprime a matriz TF-IDF com rótulos de linha e coluna\n",
    "print(\"Matriz TF-IDF:\")\n",
    "print(\"Documento \", end=\"\")\n",
    "for i, doc in enumerate(X_tfidf.toarray()):\n",
    "    print(f\"Documento {i+1}:\", end=\"   \")\n",
    "    for word, tfidf in zip(vocab, X_tfidf[i].toarray()[0]):\n",
    "        if tfidf == 0:\n",
    "            continue\n",
    "        print(f\"{word}: {tfidf:.4f}\")\n",
    "    print()"
   ]
  },
  {
   "cell_type": "code",
   "execution_count": null,
   "metadata": {},
   "outputs": [],
   "source": [
    "data.count()"
   ]
  },
  {
   "cell_type": "markdown",
   "metadata": {},
   "source": [
    "## Vetorizar dataframe using TFiDF"
   ]
  },
  {
   "cell_type": "code",
   "execution_count": null,
   "metadata": {},
   "outputs": [],
   "source": [
    "data.fillna('', inplace=True)"
   ]
  },
  {
   "cell_type": "code",
   "execution_count": null,
   "metadata": {},
   "outputs": [],
   "source": [
    "data['detalhamento'] = data['lemming'].apply(lambda x: ' '.join(x))"
   ]
  },
  {
   "cell_type": "code",
   "execution_count": null,
   "metadata": {},
   "outputs": [],
   "source": [
    "data_tfidf = data.drop(columns=['requerente_8', 'lemming', 'stemming', 'tokens', 'pdf_file_path', 'resultado'])\n",
    "columns = data_tfidf.columns\n",
    "\n",
    "for column in columns:\n",
    "  print(f'== {column} ==')\n",
    "  if data_tfidf[column].str.strip().any():\n",
    "    tfidf_matrix = vectorizer_tfidf.fit_transform(data_tfidf[column])\n",
    "\n",
    "    data_tfidf[column] = tfidf_matrix.toarray().mean(axis=1)\n",
    "  else:\n",
    "    data_tfidf[column] = df[column].replace('', 0)\n",
    "\n",
    "data_tfidf"
   ]
  },
  {
   "cell_type": "code",
   "execution_count": null,
   "metadata": {},
   "outputs": [],
   "source": [
    "data_tfidf[100:110]"
   ]
  },
  {
   "cell_type": "markdown",
   "metadata": {},
   "source": [
    "## Dividir treinamento e teste"
   ]
  },
  {
   "cell_type": "code",
   "execution_count": 44,
   "metadata": {},
   "outputs": [],
   "source": [
    "from sklearn.model_selection import train_test_split\n",
    "\n",
    "labels = data['resultado']"
   ]
  },
  {
   "cell_type": "code",
   "execution_count": null,
   "metadata": {},
   "outputs": [],
   "source": [
    "labels = labels.replace('DEFERIDO', 1)\n",
    "labels = labels.replace('INDEFERIDO', 0)"
   ]
  },
  {
   "cell_type": "code",
   "execution_count": 46,
   "metadata": {},
   "outputs": [],
   "source": [
    "# X_train, X_test, y_train, y_test = train_test_split(data_tfidf, labels, test_size=0.4, random_state=42)"
   ]
  },
  {
   "cell_type": "code",
   "execution_count": 47,
   "metadata": {},
   "outputs": [],
   "source": [
    "# X_train.shape"
   ]
  },
  {
   "cell_type": "code",
   "execution_count": 48,
   "metadata": {},
   "outputs": [],
   "source": [
    "# X_test.shape"
   ]
  },
  {
   "cell_type": "markdown",
   "metadata": {},
   "source": [
    "### Aprendizado não supervisionado"
   ]
  },
  {
   "cell_type": "markdown",
   "metadata": {},
   "source": [
    "#### Funções"
   ]
  },
  {
   "cell_type": "markdown",
   "metadata": {},
   "source": [
    "##### De Pré-Processamento"
   ]
  },
  {
   "cell_type": "code",
   "execution_count": 49,
   "metadata": {},
   "outputs": [],
   "source": [
    "def get_correlation_df(df, num_features):\n",
    "  import pandas as pd\n",
    "\n",
    "  correlation_matrix = df.corr(method=\"pearson\")\n",
    "\n",
    "  column_sums = correlation_matrix.sum()\n",
    "\n",
    "  sorted_columns = column_sums.sort_values(ascending=False)\n",
    "\n",
    "  top_num_columns = sorted_columns.head(num_features)\n",
    "\n",
    "  top_num_column_names = top_num_columns.index.tolist()\n",
    "\n",
    "  return df[top_num_column_names]\n",
    "\n",
    "\n",
    "  # correlation_matrix = df.corr()\n",
    "\n",
    "  # average_correlation = correlation_matrix.abs().mean().sort_values()\n",
    "\n",
    "  # smallest_average_correlations = average_correlation.head(num_features).index.tolist()\n",
    "\n",
    "  # return df[smallest_average_correlations]\n"
   ]
  },
  {
   "cell_type": "code",
   "execution_count": 50,
   "metadata": {},
   "outputs": [],
   "source": [
    "def get_pca_df(df, num_components):\n",
    "    from sklearn.decomposition import PCA\n",
    "    pca = PCA(n_components=num_components)\n",
    "    return pd.DataFrame(pca.fit_transform(df))"
   ]
  },
  {
   "cell_type": "code",
   "execution_count": 51,
   "metadata": {},
   "outputs": [],
   "source": [
    "def get_k_nn_accuracy(df, labels):\n",
    "  from sklearn.neighbors import KNeighborsClassifier\n",
    "  from sklearn.metrics import accuracy_score\n",
    "\n",
    "  X_train, X_test, y_train, y_test = train_test_split(df, labels, test_size=0.3, random_state=42)\n",
    "  knn = KNeighborsClassifier(n_neighbors=1, metric='euclidean')\n",
    "  knn.fit(X_train, y_train)\n",
    "\n",
    "  y_pred = knn.predict(X_test)\n",
    "\n",
    "  accuracy = accuracy_score(y_test, y_pred)\n",
    "  return accuracy"
   ]
  },
  {
   "cell_type": "code",
   "execution_count": 52,
   "metadata": {},
   "outputs": [],
   "source": [
    "def get_best_representation(df1, df2, labels):\n",
    "  accuracy1 = get_k_nn_accuracy(df1, labels)\n",
    "  accuracy2 = get_k_nn_accuracy(df2, labels)\n",
    "\n",
    "  print(f'1: {accuracy1} x 2: {accuracy2}')\n",
    "\n",
    "  return df1 if accuracy1 > accuracy2 else df2"
   ]
  },
  {
   "cell_type": "markdown",
   "metadata": {},
   "source": [
    "##### De Algoritmos de Agrupamento"
   ]
  },
  {
   "cell_type": "code",
   "execution_count": 53,
   "metadata": {},
   "outputs": [],
   "source": [
    "def get_kmean_indices(df, labels, num_clusters):\n",
    "    from sklearn.cluster import KMeans\n",
    "    from sklearn.metrics import davies_bouldin_score, silhouette_score, adjusted_rand_score\n",
    "\n",
    "    km = KMeans(n_clusters=num_clusters, init='k-means++', max_iter=300, n_init=10, random_state=42)\n",
    "    \n",
    "    km.fit(df)\n",
    "    km_labels = km.fit_predict(df)\n",
    "\n",
    "    indice_db = davies_bouldin_score(df, km_labels)\n",
    "    indice_sil = silhouette_score(df, km_labels, metric='euclidean')\n",
    "    indice_cr = adjusted_rand_score(labels, km_labels)\n",
    "\n",
    "    return indice_db, indice_sil, indice_cr"
   ]
  },
  {
   "cell_type": "code",
   "execution_count": 54,
   "metadata": {},
   "outputs": [],
   "source": [
    "def get_hierarquico_indices(df, labels, num_clusters, linkage):\n",
    "    from sklearn.cluster import AgglomerativeClustering\n",
    "    from sklearn.metrics import davies_bouldin_score, silhouette_score, adjusted_rand_score\n",
    "\n",
    "    hiera_aglo = AgglomerativeClustering(n_clusters=num_clusters, metric='euclidean', linkage=linkage)\n",
    "    \n",
    "    hiera_aglo.fit(df)\n",
    "    ha_labels = hiera_aglo.fit_predict(df)\n",
    "\n",
    "    indice_db = davies_bouldin_score(df, ha_labels)\n",
    "    indice_sil = silhouette_score(df, ha_labels, metric='euclidean')\n",
    "    indice_cr = adjusted_rand_score(labels, ha_labels)\n",
    "\n",
    "    return indice_db, indice_sil, indice_cr"
   ]
  },
  {
   "cell_type": "code",
   "execution_count": 55,
   "metadata": {},
   "outputs": [],
   "source": [
    "def get_em_indices(df, labels, num_components, cov_type):\n",
    "    from sklearn.mixture import GaussianMixture\n",
    "    from sklearn.metrics import davies_bouldin_score, silhouette_score, adjusted_rand_score\n",
    "\n",
    "    gmm = GaussianMixture(n_components=num_components, covariance_type=cov_type)\n",
    "\n",
    "    gmm.fit(df)\n",
    "    gmm_labels = gmm.fit_predict(df)\n",
    "\n",
    "    indice_db = davies_bouldin_score(df, gmm_labels)\n",
    "    indice_sil = silhouette_score(df, gmm_labels, metric='euclidean')\n",
    "    indice_cr = adjusted_rand_score(labels, gmm_labels)\n",
    "\n",
    "    return indice_db, indice_sil, indice_cr"
   ]
  },
  {
   "cell_type": "code",
   "execution_count": 56,
   "metadata": {},
   "outputs": [],
   "source": [
    "def get_dbscan_indices(df, labels, minimum_samples, eps_value):\n",
    "    from sklearn.cluster import DBSCAN\n",
    "    from sklearn.metrics import davies_bouldin_score, silhouette_score, adjusted_rand_score\n",
    "\n",
    "    dbscan = DBSCAN(eps=eps_value, min_samples=minimum_samples)\n",
    "    \n",
    "    dbscan_labels = dbscan.fit_predict(df)\n",
    "\n",
    "    indice_db = davies_bouldin_score(df, dbscan_labels)\n",
    "    indice_sil = silhouette_score(df, dbscan_labels, metric='euclidean')\n",
    "    indice_cr = adjusted_rand_score(labels, dbscan_labels)\n",
    " \n",
    "\n",
    "    return indice_db, indice_sil, indice_cr"
   ]
  },
  {
   "cell_type": "markdown",
   "metadata": {},
   "source": [
    "##### De Execução"
   ]
  },
  {
   "cell_type": "code",
   "execution_count": 57,
   "metadata": {},
   "outputs": [],
   "source": [
    "def plot_cluster_indices(df_original, df_corr, df_pca, labels, cluster_alg, **kwargs):\n",
    "    import pandas as pd\n",
    "    import plotly.graph_objects as go\n",
    "    from plotly.subplots import make_subplots\n",
    "\n",
    "    db_list, sil_list, cr_list = [], [], []\n",
    "\n",
    "    for index in range(2, 21):\n",
    "        db_orig, sil_orig, cr_orig = {}, {}, {}\n",
    "        db_corr, sil_corr, cr_corr = {}, {}, {}\n",
    "        db_pca, sil_pca, cr_pca = {}, {}, {}\n",
    "        \n",
    "        match cluster_alg:\n",
    "            case 'kmeans':\n",
    "                db_orig, sil_orig, cr_orig = get_kmean_indices(df_original, labels, index)\n",
    "                db_corr, sil_corr, cr_corr = get_kmean_indices(df_corr, labels, index)\n",
    "                db_pca, sil_pca, cr_pca = get_kmean_indices(df_pca, labels, index)\n",
    "            case 'hierarquico':\n",
    "                db_orig, sil_orig, cr_orig = get_hierarquico_indices(df_original, labels, index, linkage=kwargs.get('linkage'))\n",
    "                db_corr, sil_corr, cr_corr = get_hierarquico_indices(df_corr, labels, index, linkage=kwargs.get('linkage'))\n",
    "                db_pca, sil_pca, cr_pca = get_hierarquico_indices(df_pca, labels, index, linkage=kwargs.get('linkage'))\n",
    "            case 'em':\n",
    "                db_orig, sil_orig, cr_orig = get_em_indices(df_original, labels, index, cov_type=kwargs.get('cov_type'))\n",
    "                db_corr, sil_corr, cr_corr = get_em_indices(df_corr, labels, index, cov_type=kwargs.get('cov_type'))\n",
    "                db_pca, sil_pca, cr_pca = get_em_indices(df_pca, labels, index, cov_type=kwargs.get('cov_type'))\n",
    "            case 'dbscan':\n",
    "                db_orig, sil_orig, cr_orig = get_dbscan_indices(df_original, labels, index, eps_value=kwargs.get('eps_value'))\n",
    "                # db_corr, sil_corr, cr_corr = get_dbscan_indices(df_corr, labels, index, eps_value=kwargs.get('eps_value'))\n",
    "                db_pca, sil_pca, cr_pca = get_dbscan_indices(df_pca, labels, index, eps_value=kwargs.get('eps_value'))\n",
    "\n",
    "        db_value = {'Grupos': index, 'Base original': db_orig, 'Correlação': db_corr, 'PCA': db_pca}\n",
    "        sil_value = {'Grupos': index, 'Base original': sil_orig, 'Correlação': sil_corr, 'PCA': sil_pca}\n",
    "        cr_value = {'Grupos': index, 'Base original': cr_orig, 'Correlação': cr_corr, 'PCA': cr_pca}\n",
    "        db_list.append(db_value)\n",
    "        sil_list.append(sil_value)\n",
    "        cr_list.append(cr_value)\n",
    "\n",
    "    df_db = pd.DataFrame(db_list)\n",
    "    df_sil = pd.DataFrame(sil_list)\n",
    "    df_cr = pd.DataFrame(cr_list)\n",
    "\n",
    "    df_indice_list = [df_db, df_sil, df_cr]\n",
    "    fig = make_subplots(rows=1, cols=3, subplot_titles=('Índice - Davies-Bouldin', 'Índice - Silhouette', 'Índice - Adjusted Rand Score'))\n",
    "    \n",
    "    for index, df in enumerate(df_indice_list, 1):\n",
    "      fig.add_trace(go.Scatter(x=df['Grupos'], y=df['Base original'], name='Base original'), row=1, col=index)\n",
    "      fig.add_trace(go.Scatter(x=df['Grupos'], y=df['Correlação'], name='Correlação'), row=1, col=index)\n",
    "      fig.add_trace(go.Scatter(x=df['Grupos'], y=df['PCA'], name='PCA'), row=1, col=index)\n",
    "\n",
    "    fig.update_layout(title=f'Gráfico de {cluster_alg.upper()}', showlegend=True, boxmode='group')\n",
    "    fig.show()"
   ]
  },
  {
   "cell_type": "markdown",
   "metadata": {},
   "source": [
    "#### Aplicação dos modelos"
   ]
  },
  {
   "cell_type": "code",
   "execution_count": null,
   "metadata": {},
   "outputs": [],
   "source": [
    "labels.value_counts()"
   ]
  },
  {
   "cell_type": "code",
   "execution_count": 59,
   "metadata": {},
   "outputs": [],
   "source": [
    "data_tfidf = data_tfidf.drop(['advogado_2', 'requerente_3', 'requerente_4', \n",
    "                            'requerente_5', 'requerente_6', 'requerente_7', \n",
    "                            'impugnado_2', 'impugnado', 'fiscal_de_lei_nome',\n",
    "                            'formal_request','free_judicial', 'judicial_secrecy', 'id'] , axis='columns')"
   ]
  },
  {
   "cell_type": "markdown",
   "metadata": {},
   "source": [
    "##### Selecionando de atributos pela correlação"
   ]
  },
  {
   "cell_type": "code",
   "execution_count": null,
   "metadata": {},
   "outputs": [],
   "source": [
    "reduced_dataset_corr_3 = get_correlation_df(data_tfidf, 3)\n",
    "reduced_dataset_corr_3.head()"
   ]
  },
  {
   "cell_type": "code",
   "execution_count": null,
   "metadata": {},
   "outputs": [],
   "source": [
    "reduced_dataset_corr_9 = get_correlation_df(data_tfidf, 9)\n",
    "reduced_dataset_corr_9.head()"
   ]
  },
  {
   "cell_type": "code",
   "execution_count": null,
   "metadata": {},
   "outputs": [],
   "source": [
    "selected_df_corr = get_best_representation(reduced_dataset_corr_3, reduced_dataset_corr_9, labels)\n",
    "selected_df_corr.head()"
   ]
  },
  {
   "cell_type": "code",
   "execution_count": null,
   "metadata": {},
   "outputs": [],
   "source": [
    "data_tfidf\n",
    "# See the NA values"
   ]
  },
  {
   "cell_type": "code",
   "execution_count": 64,
   "metadata": {},
   "outputs": [],
   "source": [
    "# for column in data_tfidf.columns:\n",
    "#     print(data_tfidf[column].value_counts())"
   ]
  },
  {
   "cell_type": "markdown",
   "metadata": {},
   "source": [
    "##### Redução de dimensionalidade pelo PCA"
   ]
  },
  {
   "cell_type": "code",
   "execution_count": null,
   "metadata": {},
   "outputs": [],
   "source": [
    "dataset_pca_90_cov = get_pca_df(data_tfidf, 0.9)\n",
    "\n",
    "dataset_pca_3_cps = get_pca_df(data_tfidf, 3)\n",
    "dataset_pca_3_cps.head()"
   ]
  },
  {
   "cell_type": "code",
   "execution_count": null,
   "metadata": {},
   "outputs": [],
   "source": [
    "selected_df_pca = get_best_representation(dataset_pca_90_cov, dataset_pca_3_cps, labels)\n",
    "selected_df_pca.head()"
   ]
  },
  {
   "cell_type": "markdown",
   "metadata": {},
   "source": [
    "##### Geração de gráficos"
   ]
  },
  {
   "cell_type": "code",
   "execution_count": null,
   "metadata": {},
   "outputs": [],
   "source": [
    "%pip install --upgrade jupyter notebook jupyterlab plotly"
   ]
  },
  {
   "cell_type": "code",
   "execution_count": null,
   "metadata": {},
   "outputs": [],
   "source": [
    "import nbformat\n",
    "print(nbformat.__version__)"
   ]
  },
  {
   "cell_type": "code",
   "execution_count": null,
   "metadata": {},
   "outputs": [],
   "source": [
    "plot_cluster_indices(data_tfidf, selected_df_corr, selected_df_pca, labels, 'kmeans')"
   ]
  },
  {
   "cell_type": "code",
   "execution_count": null,
   "metadata": {},
   "outputs": [],
   "source": [
    "plot_cluster_indices(data_tfidf, selected_df_corr, selected_df_pca, labels, 'hierarquico', linkage='ward')"
   ]
  },
  {
   "cell_type": "code",
   "execution_count": null,
   "metadata": {},
   "outputs": [],
   "source": [
    "plot_cluster_indices(data_tfidf, selected_df_corr, selected_df_pca, labels, 'em', cov_type='full')"
   ]
  },
  {
   "cell_type": "code",
   "execution_count": null,
   "metadata": {},
   "outputs": [],
   "source": [
    "# Giving error 'Number of labels is 1. Valid values are 2 to n_samples - 1 (inclusive)' how to solve?\n",
    "plot_cluster_indices(data_tfidf, selected_df_corr, selected_df_pca, labels, 'dbscan', eps_value=.1)"
   ]
  },
  {
   "cell_type": "code",
   "execution_count": null,
   "metadata": {},
   "outputs": [],
   "source": [
    "# from sklearn.cluster import DBSCAN\n",
    "\n",
    "# for i in [.1, .2, .3, .4, .5, .6, .7, .8]:\n",
    "#     for index in range(2, 21):\n",
    "#         dbscan = DBSCAN(eps=i, min_samples=index)\n",
    "#         dbscan_labels = dbscan.fit_predict(data_tfidf)\n",
    "        \n",
    "#         n_noise = list(dbscan_labels).count(-1)\n",
    "#         n_clusters = len(set(dbscan_labels)) - (1 if -1 in dbscan_labels else 0)\n",
    "#         print(f'EPS: {i}, MIN_SAMPLES: {index}: {n_clusters} clusters, {n_noise} noise points')\n"
   ]
  },
  {
   "cell_type": "markdown",
   "metadata": {},
   "source": [
    "#### Comitê de Agrupamento"
   ]
  },
  {
   "cell_type": "markdown",
   "metadata": {},
   "source": [
    "##### Funções"
   ]
  },
  {
   "cell_type": "code",
   "execution_count": 74,
   "metadata": {},
   "outputs": [],
   "source": [
    "from sklearn.cluster import KMeans, DBSCAN, AgglomerativeClustering\n",
    "import numpy as np\n",
    "import pandas as pd\n",
    "\n",
    "def build_binary_matrix(clabels):\n",
    "    from scipy import sparse\n",
    "\n",
    "    data_len = len(clabels) \n",
    "\n",
    "    matrix = np.zeros((data_len, data_len))\n",
    "    \n",
    "    for index in range(data_len):\n",
    "        matrix[index,:] = clabels == clabels[index]\n",
    "\n",
    "    return matrix                                         "
   ]
  },
  {
   "cell_type": "code",
   "execution_count": 75,
   "metadata": {},
   "outputs": [],
   "source": [
    "def build_similarity_matrix(models_labels):\n",
    "    n_runs, n_data = models_labels.shape[0], models_labels.shape[1]\n",
    "\n",
    "    sim_matrix = np.zeros( (n_data, n_data) )\n",
    "\n",
    "    for index in range(n_runs):\n",
    "        sim_matrix += build_binary_matrix( models_labels[index,:] )\n",
    "\n",
    "    sim_matrix = sim_matrix / n_clusters\n",
    "\n",
    "    return sim_matrix"
   ]
  },
  {
   "cell_type": "code",
   "execution_count": 76,
   "metadata": {},
   "outputs": [],
   "source": [
    "def get_kmeans_models(df, model_sizes):\n",
    "    from sklearn.cluster import KMeans\n",
    "    from sklearn.metrics import davies_bouldin_score, silhouette_score, adjusted_rand_score\n",
    "\n",
    "    clt_models = [KMeans(n_clusters=i, n_init=4, random_state=214)\n",
    "              for i in model_sizes]\n",
    "\n",
    "    for i, model in enumerate(clt_models):\n",
    "        model.fit(data_tfidf)\n",
    "\n",
    "    return clt_models"
   ]
  },
  {
   "cell_type": "code",
   "execution_count": 77,
   "metadata": {},
   "outputs": [],
   "source": [
    "def get_hierarquico_models(df, model_sizes):\n",
    "    from sklearn.cluster import AgglomerativeClustering\n",
    "\n",
    "    agglo_models = [AgglomerativeClustering(n_clusters=i)\n",
    "                  for i in model_sizes]\n",
    "\n",
    "    for i, model in enumerate(agglo_models):\n",
    "        model.fit(df)\n",
    "\n",
    "    return agglo_models\n",
    "    "
   ]
  },
  {
   "cell_type": "code",
   "execution_count": 96,
   "metadata": {},
   "outputs": [],
   "source": [
    "def get_em_models(df: pd.DataFrame, model_sizes):\n",
    "    from sklearn.mixture import GaussianMixture\n",
    "    \n",
    "    gmm_models = [GaussianMixture(n_components=i, random_state=214) for i in model_sizes]\n",
    "    models_labels = []\n",
    "\n",
    "    for i, model in enumerate(gmm_models):\n",
    "        model.fit(df)\n",
    "        labels = model.predict(df)\n",
    "        models_labels.append(labels)\n",
    "\n",
    "    return models_labels\n"
   ]
  },
  {
   "cell_type": "code",
   "execution_count": 116,
   "metadata": {},
   "outputs": [],
   "source": [
    "def get_dbscan_models(df, NUM_MODELS):\n",
    "    from sklearn.cluster import DBSCAN\n",
    "\n",
    "    eps_values = np.random.uniform(.1, 1.0, size=NUM_MODELS[3])\n",
    "    min_samples_values = np.random.randint(2, 20, size=NUM_MODELS[3])\n",
    "\n",
    "    dbscan_models = [DBSCAN(eps=eps, min_samples=ms) for eps, ms in zip(eps_values, min_samples_values)]\n",
    "\n",
    "    for i, model in enumerate(dbscan_models):\n",
    "        model.fit(df)\n",
    "     \n",
    "    return dbscan_models"
   ]
  },
  {
   "cell_type": "code",
   "execution_count": 117,
   "metadata": {},
   "outputs": [],
   "source": [
    "def get_similarity_matrix(clt_models):\n",
    "    models_labels = np.array([model.labels_ for model in clt_models])\n",
    "    sim_matrix = build_similarity_matrix(models_labels)\n",
    "\n",
    "    return sim_matrix"
   ]
  },
  {
   "cell_type": "code",
   "execution_count": null,
   "metadata": {},
   "outputs": [],
   "source": [
    "def get_similarity_matrix_em(clt_labels):\n",
    "    sim_matrix = build_similarity_matrix(clt_labels)\n",
    "\n",
    "    return sim_matrix"
   ]
  },
  {
   "cell_type": "code",
   "execution_count": 118,
   "metadata": {},
   "outputs": [],
   "source": [
    "def get_final_labels(sim_matrix, num_clusters):\n",
    "    from sklearn.cluster import SpectralClustering\n",
    "\n",
    "    spec_clt = SpectralClustering(n_clusters=num_clusters, affinity='precomputed',\n",
    "                                n_init=5, random_state=214)\n",
    "\n",
    "    final_labels = spec_clt.fit_predict(sim_matrix)\n",
    "\n",
    "    return final_labels"
   ]
  },
  {
   "cell_type": "code",
   "execution_count": 119,
   "metadata": {},
   "outputs": [],
   "source": [
    "def get_ensemble_indices(df, final_labels, labels):\n",
    "    from sklearn.metrics import davies_bouldin_score, silhouette_score, adjusted_rand_score\n",
    "\n",
    "    indice_db = davies_bouldin_score(df, final_labels)\n",
    "    indice_sil = silhouette_score(df, final_labels, metric='euclidean')\n",
    "    indice_cr = adjusted_rand_score(labels, final_labels)\n",
    " \n",
    "    return indice_db, indice_sil, indice_cr"
   ]
  },
  {
   "cell_type": "code",
   "execution_count": 120,
   "metadata": {},
   "outputs": [],
   "source": [
    "def plot_ensemble_indices(df_original, df_corr, df_pca, labels, cluster_type, **kwargs):\n",
    "    import pandas as pd\n",
    "    import plotly.graph_objects as go\n",
    "    from plotly.subplots import make_subplots\n",
    "\n",
    "    NUM_MODELS = [5, 10, 15, 25]\n",
    "    MIN_NUM_CLUSTERS = 2\n",
    "    MAX_NUM_CLUSTERS = 20\n",
    "\n",
    "    model_sizes = np.random.randint(MIN_NUM_CLUSTERS, MAX_NUM_CLUSTERS+1, size=NUM_MODELS[3])\n",
    "\n",
    "    db_list, sil_list, cr_list = [], [], []\n",
    "\n",
    "    for index in range(2, 21):\n",
    "        orig_models, corr_models, pca_models = [], [], []\n",
    "        db_orig, sil_orig, cr_orig = {}, {}, {}\n",
    "        db_corr, sil_corr, cr_corr = {}, {}, {}\n",
    "        db_pca, sil_pca, cr_pca = {}, {}, {}\n",
    "\n",
    "        labels_orig, labels_corr, labels_pca = [], [], []\n",
    "        \n",
    "        match cluster_type:\n",
    "            case 'kmeans':\n",
    "                orig_models = get_kmeans_models(df_original, model_sizes)\n",
    "                corr_models = get_kmeans_models(df_corr, model_sizes)\n",
    "                pca_models = get_kmeans_models(df_pca, model_sizes)\n",
    "            case 'hierarquico':\n",
    "                orig_models = get_hierarquico_models(df_original, model_sizes)\n",
    "                corr_models = get_hierarquico_models(df_corr, model_sizes)\n",
    "                pca_models = get_hierarquico_models(df_pca, model_sizes)\n",
    "            case 'em':\n",
    "                orig_models = get_em_models(df_original, model_sizes)\n",
    "                corr_models = get_em_models(df_corr, model_sizes)\n",
    "                pca_models = get_em_models(df_pca, model_sizes)\n",
    "            case 'dbscan':\n",
    "                orig_models = get_dbscan_models(df_original, NUM_MODELS)\n",
    "                corr_models = get_dbscan_models(df_corr, NUM_MODELS)\n",
    "                pca_models = get_dbscan_models(df_pca, NUM_MODELS)\n",
    "\n",
    "\n",
    "        orig_sim_matrix = get_similarity_matrix(orig_models)\n",
    "        corr_sim_matrix = get_similarity_matrix(corr_models)\n",
    "        pca_sim_matrix = get_similarity_matrix(pca_models)\n",
    "\n",
    "        orig_final_labels = get_final_labels(orig_sim_matrix, index)\n",
    "        corr_final_labels = get_final_labels(corr_sim_matrix, index)\n",
    "        pca_final_labels = get_final_labels(pca_sim_matrix, index)\n",
    "\n",
    "        db_orig, sil_orig, cr_orig = get_ensemble_indices(df_original, orig_final_labels, labels)\n",
    "        db_corr, sil_corr, cr_corr = get_ensemble_indices(df_corr, corr_final_labels, labels)\n",
    "        db_pca, sil_pca, cr_pca = get_ensemble_indices(df_pca, pca_final_labels, labels)\n",
    "\n",
    "        db_value = {'Grupos': index, 'Base original': db_orig, 'Correlação': db_corr, 'PCA': db_pca}\n",
    "        sil_value = {'Grupos': index, 'Base original': sil_orig, 'Correlação': sil_corr, 'PCA': sil_pca}\n",
    "        cr_value = {'Grupos': index, 'Base original': cr_orig, 'Correlação': cr_corr, 'PCA': cr_pca}\n",
    "        db_list.append(db_value)\n",
    "        sil_list.append(sil_value)\n",
    "        cr_list.append(cr_value)\n",
    "\n",
    "    df_db = pd.DataFrame(db_list)\n",
    "    df_sil = pd.DataFrame(sil_list)\n",
    "    df_cr = pd.DataFrame(cr_list)\n",
    "\n",
    "    df_indice_list = [df_db, df_sil, df_cr]\n",
    "    fig = make_subplots(rows=1, cols=3, subplot_titles=('Índice - Davies-Bouldin', 'Índice - Silhouette', 'Índice - Adjusted Rand Score'))\n",
    "    \n",
    "    for index, df in enumerate(df_indice_list, 1):\n",
    "      fig.add_trace(go.Scatter(x=df['Grupos'], y=df['Base original'], name='Base original'), row=1, col=index)\n",
    "      fig.add_trace(go.Scatter(x=df['Grupos'], y=df['Correlação'], name='Correlação'), row=1, col=index)\n",
    "      fig.add_trace(go.Scatter(x=df['Grupos'], y=df['PCA'], name='PCA'), row=1, col=index)\n",
    "\n",
    "    fig.update_layout(title=f'Gráfico de comitê de agrupamento com {cluster_type.upper()}', showlegend=True, boxmode='group')\n",
    "    fig.show()"
   ]
  },
  {
   "cell_type": "markdown",
   "metadata": {},
   "source": [
    "##### Execução"
   ]
  },
  {
   "cell_type": "code",
   "execution_count": 121,
   "metadata": {},
   "outputs": [
    {
     "name": "stderr",
     "output_type": "stream",
     "text": [
      "c:\\Users\\decas\\Documents\\ml-pdf-miner\\venv\\Lib\\site-packages\\sklearn\\manifold\\_spectral_embedding.py:329: UserWarning:\n",
      "\n",
      "Graph is not fully connected, spectral embedding may not work as expected.\n",
      "\n",
      "c:\\Users\\decas\\Documents\\ml-pdf-miner\\venv\\Lib\\site-packages\\sklearn\\manifold\\_spectral_embedding.py:329: UserWarning:\n",
      "\n",
      "Graph is not fully connected, spectral embedding may not work as expected.\n",
      "\n",
      "c:\\Users\\decas\\Documents\\ml-pdf-miner\\venv\\Lib\\site-packages\\sklearn\\manifold\\_spectral_embedding.py:329: UserWarning:\n",
      "\n",
      "Graph is not fully connected, spectral embedding may not work as expected.\n",
      "\n",
      "c:\\Users\\decas\\Documents\\ml-pdf-miner\\venv\\Lib\\site-packages\\sklearn\\manifold\\_spectral_embedding.py:329: UserWarning:\n",
      "\n",
      "Graph is not fully connected, spectral embedding may not work as expected.\n",
      "\n",
      "c:\\Users\\decas\\Documents\\ml-pdf-miner\\venv\\Lib\\site-packages\\sklearn\\manifold\\_spectral_embedding.py:329: UserWarning:\n",
      "\n",
      "Graph is not fully connected, spectral embedding may not work as expected.\n",
      "\n",
      "c:\\Users\\decas\\Documents\\ml-pdf-miner\\venv\\Lib\\site-packages\\sklearn\\manifold\\_spectral_embedding.py:329: UserWarning:\n",
      "\n",
      "Graph is not fully connected, spectral embedding may not work as expected.\n",
      "\n",
      "c:\\Users\\decas\\Documents\\ml-pdf-miner\\venv\\Lib\\site-packages\\sklearn\\manifold\\_spectral_embedding.py:329: UserWarning:\n",
      "\n",
      "Graph is not fully connected, spectral embedding may not work as expected.\n",
      "\n",
      "c:\\Users\\decas\\Documents\\ml-pdf-miner\\venv\\Lib\\site-packages\\sklearn\\manifold\\_spectral_embedding.py:329: UserWarning:\n",
      "\n",
      "Graph is not fully connected, spectral embedding may not work as expected.\n",
      "\n",
      "c:\\Users\\decas\\Documents\\ml-pdf-miner\\venv\\Lib\\site-packages\\sklearn\\manifold\\_spectral_embedding.py:329: UserWarning:\n",
      "\n",
      "Graph is not fully connected, spectral embedding may not work as expected.\n",
      "\n",
      "c:\\Users\\decas\\Documents\\ml-pdf-miner\\venv\\Lib\\site-packages\\sklearn\\manifold\\_spectral_embedding.py:329: UserWarning:\n",
      "\n",
      "Graph is not fully connected, spectral embedding may not work as expected.\n",
      "\n",
      "c:\\Users\\decas\\Documents\\ml-pdf-miner\\venv\\Lib\\site-packages\\sklearn\\manifold\\_spectral_embedding.py:329: UserWarning:\n",
      "\n",
      "Graph is not fully connected, spectral embedding may not work as expected.\n",
      "\n",
      "c:\\Users\\decas\\Documents\\ml-pdf-miner\\venv\\Lib\\site-packages\\sklearn\\manifold\\_spectral_embedding.py:329: UserWarning:\n",
      "\n",
      "Graph is not fully connected, spectral embedding may not work as expected.\n",
      "\n",
      "c:\\Users\\decas\\Documents\\ml-pdf-miner\\venv\\Lib\\site-packages\\sklearn\\manifold\\_spectral_embedding.py:329: UserWarning:\n",
      "\n",
      "Graph is not fully connected, spectral embedding may not work as expected.\n",
      "\n",
      "c:\\Users\\decas\\Documents\\ml-pdf-miner\\venv\\Lib\\site-packages\\sklearn\\manifold\\_spectral_embedding.py:329: UserWarning:\n",
      "\n",
      "Graph is not fully connected, spectral embedding may not work as expected.\n",
      "\n",
      "c:\\Users\\decas\\Documents\\ml-pdf-miner\\venv\\Lib\\site-packages\\sklearn\\manifold\\_spectral_embedding.py:329: UserWarning:\n",
      "\n",
      "Graph is not fully connected, spectral embedding may not work as expected.\n",
      "\n",
      "c:\\Users\\decas\\Documents\\ml-pdf-miner\\venv\\Lib\\site-packages\\sklearn\\manifold\\_spectral_embedding.py:329: UserWarning:\n",
      "\n",
      "Graph is not fully connected, spectral embedding may not work as expected.\n",
      "\n",
      "c:\\Users\\decas\\Documents\\ml-pdf-miner\\venv\\Lib\\site-packages\\sklearn\\manifold\\_spectral_embedding.py:329: UserWarning:\n",
      "\n",
      "Graph is not fully connected, spectral embedding may not work as expected.\n",
      "\n",
      "c:\\Users\\decas\\Documents\\ml-pdf-miner\\venv\\Lib\\site-packages\\sklearn\\manifold\\_spectral_embedding.py:329: UserWarning:\n",
      "\n",
      "Graph is not fully connected, spectral embedding may not work as expected.\n",
      "\n",
      "c:\\Users\\decas\\Documents\\ml-pdf-miner\\venv\\Lib\\site-packages\\sklearn\\manifold\\_spectral_embedding.py:329: UserWarning:\n",
      "\n",
      "Graph is not fully connected, spectral embedding may not work as expected.\n",
      "\n",
      "c:\\Users\\decas\\Documents\\ml-pdf-miner\\venv\\Lib\\site-packages\\sklearn\\manifold\\_spectral_embedding.py:329: UserWarning:\n",
      "\n",
      "Graph is not fully connected, spectral embedding may not work as expected.\n",
      "\n",
      "c:\\Users\\decas\\Documents\\ml-pdf-miner\\venv\\Lib\\site-packages\\sklearn\\manifold\\_spectral_embedding.py:329: UserWarning:\n",
      "\n",
      "Graph is not fully connected, spectral embedding may not work as expected.\n",
      "\n",
      "c:\\Users\\decas\\Documents\\ml-pdf-miner\\venv\\Lib\\site-packages\\sklearn\\manifold\\_spectral_embedding.py:329: UserWarning:\n",
      "\n",
      "Graph is not fully connected, spectral embedding may not work as expected.\n",
      "\n",
      "c:\\Users\\decas\\Documents\\ml-pdf-miner\\venv\\Lib\\site-packages\\sklearn\\manifold\\_spectral_embedding.py:329: UserWarning:\n",
      "\n",
      "Graph is not fully connected, spectral embedding may not work as expected.\n",
      "\n",
      "c:\\Users\\decas\\Documents\\ml-pdf-miner\\venv\\Lib\\site-packages\\sklearn\\manifold\\_spectral_embedding.py:329: UserWarning:\n",
      "\n",
      "Graph is not fully connected, spectral embedding may not work as expected.\n",
      "\n",
      "c:\\Users\\decas\\Documents\\ml-pdf-miner\\venv\\Lib\\site-packages\\sklearn\\manifold\\_spectral_embedding.py:329: UserWarning:\n",
      "\n",
      "Graph is not fully connected, spectral embedding may not work as expected.\n",
      "\n",
      "c:\\Users\\decas\\Documents\\ml-pdf-miner\\venv\\Lib\\site-packages\\sklearn\\manifold\\_spectral_embedding.py:329: UserWarning:\n",
      "\n",
      "Graph is not fully connected, spectral embedding may not work as expected.\n",
      "\n",
      "c:\\Users\\decas\\Documents\\ml-pdf-miner\\venv\\Lib\\site-packages\\sklearn\\manifold\\_spectral_embedding.py:329: UserWarning:\n",
      "\n",
      "Graph is not fully connected, spectral embedding may not work as expected.\n",
      "\n",
      "c:\\Users\\decas\\Documents\\ml-pdf-miner\\venv\\Lib\\site-packages\\sklearn\\manifold\\_spectral_embedding.py:329: UserWarning:\n",
      "\n",
      "Graph is not fully connected, spectral embedding may not work as expected.\n",
      "\n",
      "c:\\Users\\decas\\Documents\\ml-pdf-miner\\venv\\Lib\\site-packages\\sklearn\\manifold\\_spectral_embedding.py:329: UserWarning:\n",
      "\n",
      "Graph is not fully connected, spectral embedding may not work as expected.\n",
      "\n",
      "c:\\Users\\decas\\Documents\\ml-pdf-miner\\venv\\Lib\\site-packages\\sklearn\\manifold\\_spectral_embedding.py:329: UserWarning:\n",
      "\n",
      "Graph is not fully connected, spectral embedding may not work as expected.\n",
      "\n",
      "c:\\Users\\decas\\Documents\\ml-pdf-miner\\venv\\Lib\\site-packages\\sklearn\\manifold\\_spectral_embedding.py:329: UserWarning:\n",
      "\n",
      "Graph is not fully connected, spectral embedding may not work as expected.\n",
      "\n",
      "c:\\Users\\decas\\Documents\\ml-pdf-miner\\venv\\Lib\\site-packages\\sklearn\\manifold\\_spectral_embedding.py:329: UserWarning:\n",
      "\n",
      "Graph is not fully connected, spectral embedding may not work as expected.\n",
      "\n",
      "c:\\Users\\decas\\Documents\\ml-pdf-miner\\venv\\Lib\\site-packages\\sklearn\\manifold\\_spectral_embedding.py:329: UserWarning:\n",
      "\n",
      "Graph is not fully connected, spectral embedding may not work as expected.\n",
      "\n",
      "c:\\Users\\decas\\Documents\\ml-pdf-miner\\venv\\Lib\\site-packages\\sklearn\\manifold\\_spectral_embedding.py:329: UserWarning:\n",
      "\n",
      "Graph is not fully connected, spectral embedding may not work as expected.\n",
      "\n",
      "c:\\Users\\decas\\Documents\\ml-pdf-miner\\venv\\Lib\\site-packages\\sklearn\\manifold\\_spectral_embedding.py:329: UserWarning:\n",
      "\n",
      "Graph is not fully connected, spectral embedding may not work as expected.\n",
      "\n",
      "c:\\Users\\decas\\Documents\\ml-pdf-miner\\venv\\Lib\\site-packages\\sklearn\\manifold\\_spectral_embedding.py:329: UserWarning:\n",
      "\n",
      "Graph is not fully connected, spectral embedding may not work as expected.\n",
      "\n",
      "c:\\Users\\decas\\Documents\\ml-pdf-miner\\venv\\Lib\\site-packages\\sklearn\\manifold\\_spectral_embedding.py:329: UserWarning:\n",
      "\n",
      "Graph is not fully connected, spectral embedding may not work as expected.\n",
      "\n",
      "c:\\Users\\decas\\Documents\\ml-pdf-miner\\venv\\Lib\\site-packages\\sklearn\\manifold\\_spectral_embedding.py:329: UserWarning:\n",
      "\n",
      "Graph is not fully connected, spectral embedding may not work as expected.\n",
      "\n",
      "c:\\Users\\decas\\Documents\\ml-pdf-miner\\venv\\Lib\\site-packages\\sklearn\\manifold\\_spectral_embedding.py:329: UserWarning:\n",
      "\n",
      "Graph is not fully connected, spectral embedding may not work as expected.\n",
      "\n",
      "c:\\Users\\decas\\Documents\\ml-pdf-miner\\venv\\Lib\\site-packages\\sklearn\\manifold\\_spectral_embedding.py:329: UserWarning:\n",
      "\n",
      "Graph is not fully connected, spectral embedding may not work as expected.\n",
      "\n",
      "c:\\Users\\decas\\Documents\\ml-pdf-miner\\venv\\Lib\\site-packages\\sklearn\\manifold\\_spectral_embedding.py:329: UserWarning:\n",
      "\n",
      "Graph is not fully connected, spectral embedding may not work as expected.\n",
      "\n",
      "c:\\Users\\decas\\Documents\\ml-pdf-miner\\venv\\Lib\\site-packages\\sklearn\\manifold\\_spectral_embedding.py:329: UserWarning:\n",
      "\n",
      "Graph is not fully connected, spectral embedding may not work as expected.\n",
      "\n",
      "c:\\Users\\decas\\Documents\\ml-pdf-miner\\venv\\Lib\\site-packages\\sklearn\\manifold\\_spectral_embedding.py:329: UserWarning:\n",
      "\n",
      "Graph is not fully connected, spectral embedding may not work as expected.\n",
      "\n",
      "c:\\Users\\decas\\Documents\\ml-pdf-miner\\venv\\Lib\\site-packages\\sklearn\\manifold\\_spectral_embedding.py:329: UserWarning:\n",
      "\n",
      "Graph is not fully connected, spectral embedding may not work as expected.\n",
      "\n",
      "c:\\Users\\decas\\Documents\\ml-pdf-miner\\venv\\Lib\\site-packages\\sklearn\\manifold\\_spectral_embedding.py:329: UserWarning:\n",
      "\n",
      "Graph is not fully connected, spectral embedding may not work as expected.\n",
      "\n",
      "c:\\Users\\decas\\Documents\\ml-pdf-miner\\venv\\Lib\\site-packages\\sklearn\\manifold\\_spectral_embedding.py:329: UserWarning:\n",
      "\n",
      "Graph is not fully connected, spectral embedding may not work as expected.\n",
      "\n",
      "c:\\Users\\decas\\Documents\\ml-pdf-miner\\venv\\Lib\\site-packages\\sklearn\\manifold\\_spectral_embedding.py:329: UserWarning:\n",
      "\n",
      "Graph is not fully connected, spectral embedding may not work as expected.\n",
      "\n",
      "c:\\Users\\decas\\Documents\\ml-pdf-miner\\venv\\Lib\\site-packages\\sklearn\\manifold\\_spectral_embedding.py:329: UserWarning:\n",
      "\n",
      "Graph is not fully connected, spectral embedding may not work as expected.\n",
      "\n",
      "c:\\Users\\decas\\Documents\\ml-pdf-miner\\venv\\Lib\\site-packages\\sklearn\\manifold\\_spectral_embedding.py:329: UserWarning:\n",
      "\n",
      "Graph is not fully connected, spectral embedding may not work as expected.\n",
      "\n",
      "c:\\Users\\decas\\Documents\\ml-pdf-miner\\venv\\Lib\\site-packages\\sklearn\\manifold\\_spectral_embedding.py:329: UserWarning:\n",
      "\n",
      "Graph is not fully connected, spectral embedding may not work as expected.\n",
      "\n",
      "c:\\Users\\decas\\Documents\\ml-pdf-miner\\venv\\Lib\\site-packages\\sklearn\\manifold\\_spectral_embedding.py:329: UserWarning:\n",
      "\n",
      "Graph is not fully connected, spectral embedding may not work as expected.\n",
      "\n",
      "c:\\Users\\decas\\Documents\\ml-pdf-miner\\venv\\Lib\\site-packages\\sklearn\\manifold\\_spectral_embedding.py:329: UserWarning:\n",
      "\n",
      "Graph is not fully connected, spectral embedding may not work as expected.\n",
      "\n",
      "c:\\Users\\decas\\Documents\\ml-pdf-miner\\venv\\Lib\\site-packages\\sklearn\\manifold\\_spectral_embedding.py:329: UserWarning:\n",
      "\n",
      "Graph is not fully connected, spectral embedding may not work as expected.\n",
      "\n",
      "c:\\Users\\decas\\Documents\\ml-pdf-miner\\venv\\Lib\\site-packages\\sklearn\\manifold\\_spectral_embedding.py:329: UserWarning:\n",
      "\n",
      "Graph is not fully connected, spectral embedding may not work as expected.\n",
      "\n",
      "c:\\Users\\decas\\Documents\\ml-pdf-miner\\venv\\Lib\\site-packages\\sklearn\\manifold\\_spectral_embedding.py:329: UserWarning:\n",
      "\n",
      "Graph is not fully connected, spectral embedding may not work as expected.\n",
      "\n",
      "c:\\Users\\decas\\Documents\\ml-pdf-miner\\venv\\Lib\\site-packages\\sklearn\\manifold\\_spectral_embedding.py:329: UserWarning:\n",
      "\n",
      "Graph is not fully connected, spectral embedding may not work as expected.\n",
      "\n",
      "c:\\Users\\decas\\Documents\\ml-pdf-miner\\venv\\Lib\\site-packages\\sklearn\\manifold\\_spectral_embedding.py:329: UserWarning:\n",
      "\n",
      "Graph is not fully connected, spectral embedding may not work as expected.\n",
      "\n"
     ]
    },
    {
     "data": {
      "application/vnd.plotly.v1+json": {
       "config": {
        "plotlyServerURL": "https://plot.ly"
       },
       "data": [
        {
         "name": "Base original",
         "type": "scatter",
         "x": [
          2,
          3,
          4,
          5,
          6,
          7,
          8,
          9,
          10,
          11,
          12,
          13,
          14,
          15,
          16,
          17,
          18,
          19,
          20
         ],
         "xaxis": "x",
         "y": [
          0.5078749722414769,
          0.25286472660902287,
          0.21714031593432886,
          0.3470745300476615,
          0.8137821713956613,
          1.5904377179388334,
          0.7514453649227372,
          0.6308339233555667,
          0.6113453332075265,
          0.7078800642193422,
          0.7523425328871921,
          0.7457705221632492,
          0.7272736237446171,
          0.7607047816228959,
          0.7184866401454284,
          0.7196284332267956,
          0.655332627357568,
          0.6387435591451626,
          0.6279919544322905
         ],
         "yaxis": "y"
        },
        {
         "name": "Correlação",
         "type": "scatter",
         "x": [
          2,
          3,
          4,
          5,
          6,
          7,
          8,
          9,
          10,
          11,
          12,
          13,
          14,
          15,
          16,
          17,
          18,
          19,
          20
         ],
         "xaxis": "x",
         "y": [
          1.6143297781761117,
          1.7567248518046625,
          1.564855389107545,
          1.9033437536448061,
          2.600203061065127,
          6.917261353789917,
          5.522735472380418,
          8.45976924974808,
          5.718917185998529,
          7.78889642660017,
          7.645811718393001,
          9.14398841157844,
          8.966163399816539,
          11.140382195666884,
          11.334668893104016,
          10.259746122391576,
          8.06913299659998,
          8.56269604910583,
          8.181881957952026
         ],
         "yaxis": "y"
        },
        {
         "name": "PCA",
         "type": "scatter",
         "x": [
          2,
          3,
          4,
          5,
          6,
          7,
          8,
          9,
          10,
          11,
          12,
          13,
          14,
          15,
          16,
          17,
          18,
          19,
          20
         ],
         "xaxis": "x",
         "y": [
          0.49770180910512174,
          0.2357807067994838,
          0.18962379165243443,
          0.32728124291048044,
          0.4221662510383179,
          1.215072269222343,
          0.27805157841593137,
          0.4475359913404788,
          1.2635158608681731,
          1.5492019314553132,
          1.4668482331579231,
          1.7114508864806735,
          1.614677060814758,
          2.3737048372546563,
          2.256101290321011,
          1.8538442766672942,
          1.9419414251924445,
          1.9079281719207253,
          1.790075384901544
         ],
         "yaxis": "y"
        },
        {
         "name": "Base original",
         "type": "scatter",
         "x": [
          2,
          3,
          4,
          5,
          6,
          7,
          8,
          9,
          10,
          11,
          12,
          13,
          14,
          15,
          16,
          17,
          18,
          19,
          20
         ],
         "xaxis": "x2",
         "y": [
          0.7238926673103409,
          0.8267389575479351,
          0.8312684156166741,
          0.8306389852557023,
          0.6340642753717356,
          0.4876083407458428,
          0.5558466761420626,
          0.586511195698827,
          0.5998894218360526,
          0.556772368237937,
          0.5387387913036557,
          0.541574161370013,
          0.5408198161210807,
          0.5259257188820861,
          0.5481871023569223,
          0.5628528423388319,
          0.572599964951426,
          0.5667666219359057,
          0.5748166782531239
         ],
         "yaxis": "y2"
        },
        {
         "name": "Correlação",
         "type": "scatter",
         "x": [
          2,
          3,
          4,
          5,
          6,
          7,
          8,
          9,
          10,
          11,
          12,
          13,
          14,
          15,
          16,
          17,
          18,
          19,
          20
         ],
         "xaxis": "x2",
         "y": [
          0.18963569157798596,
          0.17396627617256996,
          0.07959670678886845,
          -0.15290789897538976,
          -0.13694548008443563,
          -0.19428700915698663,
          -0.20593471229514893,
          -0.21092178030270248,
          -0.11295916743493745,
          -0.10445768825494117,
          -0.217032163342761,
          -0.24550572574211435,
          -0.26148336483786416,
          -0.25577103052909056,
          -0.25681352042532835,
          -0.265453958211436,
          -0.28535209594234795,
          -0.31849395918208884,
          -0.30583017883372965
         ],
         "yaxis": "y2"
        },
        {
         "name": "PCA",
         "type": "scatter",
         "x": [
          2,
          3,
          4,
          5,
          6,
          7,
          8,
          9,
          10,
          11,
          12,
          13,
          14,
          15,
          16,
          17,
          18,
          19,
          20
         ],
         "xaxis": "x2",
         "y": [
          0.7480564865514782,
          0.8628311282562606,
          0.8769832612625064,
          0.8878343913684802,
          0.7893624276666521,
          0.6537921495934882,
          0.8242116511704233,
          0.8331003984987132,
          0.7616568290029772,
          0.6140964967215474,
          0.6092685642673141,
          0.5430248131842145,
          0.5441788083433716,
          0.4844479074710055,
          0.5019964025998299,
          0.5032364671348536,
          0.5029511515088685,
          0.5025643454167167,
          0.55673357414223
         ],
         "yaxis": "y2"
        },
        {
         "name": "Base original",
         "type": "scatter",
         "x": [
          2,
          3,
          4,
          5,
          6,
          7,
          8,
          9,
          10,
          11,
          12,
          13,
          14,
          15,
          16,
          17,
          18,
          19,
          20
         ],
         "xaxis": "x3",
         "y": [
          0.002603601244336508,
          -0.02508453931117638,
          -0.03651294833056117,
          -0.03211445618089752,
          -0.021917906885121043,
          -0.014825257841342176,
          -0.014192766002106385,
          -0.013723692628580015,
          -0.013836233084653126,
          -0.005446735441436352,
          -0.005212769128419855,
          0.005443806334266347,
          0.005638898698232626,
          0.01595665024392992,
          0.01908360272175469,
          0.018657072267738908,
          0.018447211831595364,
          0.018615559212414118,
          0.0188529297436444
         ],
         "yaxis": "y3"
        },
        {
         "name": "Correlação",
         "type": "scatter",
         "x": [
          2,
          3,
          4,
          5,
          6,
          7,
          8,
          9,
          10,
          11,
          12,
          13,
          14,
          15,
          16,
          17,
          18,
          19,
          20
         ],
         "xaxis": "x3",
         "y": [
          0.002603601244336508,
          -0.02508453931117638,
          -0.03651294833056117,
          -0.03211445618089752,
          -0.021917906885121043,
          -0.014825257841342176,
          -0.014192766002106385,
          -0.013723692628580015,
          -0.013836233084653126,
          -0.005446735441436352,
          -0.005212769128419855,
          0.005443806334266347,
          0.005638898698232626,
          0.01595665024392992,
          0.01908360272175469,
          0.018657072267738908,
          0.018447211831595364,
          0.018615559212414118,
          0.0188529297436444
         ],
         "yaxis": "y3"
        },
        {
         "name": "PCA",
         "type": "scatter",
         "x": [
          2,
          3,
          4,
          5,
          6,
          7,
          8,
          9,
          10,
          11,
          12,
          13,
          14,
          15,
          16,
          17,
          18,
          19,
          20
         ],
         "xaxis": "x3",
         "y": [
          0.002603601244336508,
          -0.02508453931117638,
          -0.03651294833056117,
          -0.03211445618089752,
          -0.021917906885121043,
          -0.014825257841342176,
          -0.014192766002106385,
          -0.013723692628580015,
          -0.013836233084653126,
          -0.005446735441436352,
          -0.005212769128419855,
          0.005443806334266347,
          0.005638898698232626,
          0.01595665024392992,
          0.01908360272175469,
          0.018657072267738908,
          0.018447211831595364,
          0.018615559212414118,
          0.0188529297436444
         ],
         "yaxis": "y3"
        }
       ],
       "layout": {
        "annotations": [
         {
          "font": {
           "size": 16
          },
          "showarrow": false,
          "text": "Índice - Davies-Bouldin",
          "x": 0.14444444444444446,
          "xanchor": "center",
          "xref": "paper",
          "y": 1,
          "yanchor": "bottom",
          "yref": "paper"
         },
         {
          "font": {
           "size": 16
          },
          "showarrow": false,
          "text": "Índice - Silhouette",
          "x": 0.5,
          "xanchor": "center",
          "xref": "paper",
          "y": 1,
          "yanchor": "bottom",
          "yref": "paper"
         },
         {
          "font": {
           "size": 16
          },
          "showarrow": false,
          "text": "Índice - Adjusted Rand Score",
          "x": 0.8555555555555556,
          "xanchor": "center",
          "xref": "paper",
          "y": 1,
          "yanchor": "bottom",
          "yref": "paper"
         }
        ],
        "boxmode": "group",
        "showlegend": true,
        "template": {
         "data": {
          "bar": [
           {
            "error_x": {
             "color": "#2a3f5f"
            },
            "error_y": {
             "color": "#2a3f5f"
            },
            "marker": {
             "line": {
              "color": "#E5ECF6",
              "width": 0.5
             },
             "pattern": {
              "fillmode": "overlay",
              "size": 10,
              "solidity": 0.2
             }
            },
            "type": "bar"
           }
          ],
          "barpolar": [
           {
            "marker": {
             "line": {
              "color": "#E5ECF6",
              "width": 0.5
             },
             "pattern": {
              "fillmode": "overlay",
              "size": 10,
              "solidity": 0.2
             }
            },
            "type": "barpolar"
           }
          ],
          "carpet": [
           {
            "aaxis": {
             "endlinecolor": "#2a3f5f",
             "gridcolor": "white",
             "linecolor": "white",
             "minorgridcolor": "white",
             "startlinecolor": "#2a3f5f"
            },
            "baxis": {
             "endlinecolor": "#2a3f5f",
             "gridcolor": "white",
             "linecolor": "white",
             "minorgridcolor": "white",
             "startlinecolor": "#2a3f5f"
            },
            "type": "carpet"
           }
          ],
          "choropleth": [
           {
            "colorbar": {
             "outlinewidth": 0,
             "ticks": ""
            },
            "type": "choropleth"
           }
          ],
          "contour": [
           {
            "colorbar": {
             "outlinewidth": 0,
             "ticks": ""
            },
            "colorscale": [
             [
              0,
              "#0d0887"
             ],
             [
              0.1111111111111111,
              "#46039f"
             ],
             [
              0.2222222222222222,
              "#7201a8"
             ],
             [
              0.3333333333333333,
              "#9c179e"
             ],
             [
              0.4444444444444444,
              "#bd3786"
             ],
             [
              0.5555555555555556,
              "#d8576b"
             ],
             [
              0.6666666666666666,
              "#ed7953"
             ],
             [
              0.7777777777777778,
              "#fb9f3a"
             ],
             [
              0.8888888888888888,
              "#fdca26"
             ],
             [
              1,
              "#f0f921"
             ]
            ],
            "type": "contour"
           }
          ],
          "contourcarpet": [
           {
            "colorbar": {
             "outlinewidth": 0,
             "ticks": ""
            },
            "type": "contourcarpet"
           }
          ],
          "heatmap": [
           {
            "colorbar": {
             "outlinewidth": 0,
             "ticks": ""
            },
            "colorscale": [
             [
              0,
              "#0d0887"
             ],
             [
              0.1111111111111111,
              "#46039f"
             ],
             [
              0.2222222222222222,
              "#7201a8"
             ],
             [
              0.3333333333333333,
              "#9c179e"
             ],
             [
              0.4444444444444444,
              "#bd3786"
             ],
             [
              0.5555555555555556,
              "#d8576b"
             ],
             [
              0.6666666666666666,
              "#ed7953"
             ],
             [
              0.7777777777777778,
              "#fb9f3a"
             ],
             [
              0.8888888888888888,
              "#fdca26"
             ],
             [
              1,
              "#f0f921"
             ]
            ],
            "type": "heatmap"
           }
          ],
          "heatmapgl": [
           {
            "colorbar": {
             "outlinewidth": 0,
             "ticks": ""
            },
            "colorscale": [
             [
              0,
              "#0d0887"
             ],
             [
              0.1111111111111111,
              "#46039f"
             ],
             [
              0.2222222222222222,
              "#7201a8"
             ],
             [
              0.3333333333333333,
              "#9c179e"
             ],
             [
              0.4444444444444444,
              "#bd3786"
             ],
             [
              0.5555555555555556,
              "#d8576b"
             ],
             [
              0.6666666666666666,
              "#ed7953"
             ],
             [
              0.7777777777777778,
              "#fb9f3a"
             ],
             [
              0.8888888888888888,
              "#fdca26"
             ],
             [
              1,
              "#f0f921"
             ]
            ],
            "type": "heatmapgl"
           }
          ],
          "histogram": [
           {
            "marker": {
             "pattern": {
              "fillmode": "overlay",
              "size": 10,
              "solidity": 0.2
             }
            },
            "type": "histogram"
           }
          ],
          "histogram2d": [
           {
            "colorbar": {
             "outlinewidth": 0,
             "ticks": ""
            },
            "colorscale": [
             [
              0,
              "#0d0887"
             ],
             [
              0.1111111111111111,
              "#46039f"
             ],
             [
              0.2222222222222222,
              "#7201a8"
             ],
             [
              0.3333333333333333,
              "#9c179e"
             ],
             [
              0.4444444444444444,
              "#bd3786"
             ],
             [
              0.5555555555555556,
              "#d8576b"
             ],
             [
              0.6666666666666666,
              "#ed7953"
             ],
             [
              0.7777777777777778,
              "#fb9f3a"
             ],
             [
              0.8888888888888888,
              "#fdca26"
             ],
             [
              1,
              "#f0f921"
             ]
            ],
            "type": "histogram2d"
           }
          ],
          "histogram2dcontour": [
           {
            "colorbar": {
             "outlinewidth": 0,
             "ticks": ""
            },
            "colorscale": [
             [
              0,
              "#0d0887"
             ],
             [
              0.1111111111111111,
              "#46039f"
             ],
             [
              0.2222222222222222,
              "#7201a8"
             ],
             [
              0.3333333333333333,
              "#9c179e"
             ],
             [
              0.4444444444444444,
              "#bd3786"
             ],
             [
              0.5555555555555556,
              "#d8576b"
             ],
             [
              0.6666666666666666,
              "#ed7953"
             ],
             [
              0.7777777777777778,
              "#fb9f3a"
             ],
             [
              0.8888888888888888,
              "#fdca26"
             ],
             [
              1,
              "#f0f921"
             ]
            ],
            "type": "histogram2dcontour"
           }
          ],
          "mesh3d": [
           {
            "colorbar": {
             "outlinewidth": 0,
             "ticks": ""
            },
            "type": "mesh3d"
           }
          ],
          "parcoords": [
           {
            "line": {
             "colorbar": {
              "outlinewidth": 0,
              "ticks": ""
             }
            },
            "type": "parcoords"
           }
          ],
          "pie": [
           {
            "automargin": true,
            "type": "pie"
           }
          ],
          "scatter": [
           {
            "fillpattern": {
             "fillmode": "overlay",
             "size": 10,
             "solidity": 0.2
            },
            "type": "scatter"
           }
          ],
          "scatter3d": [
           {
            "line": {
             "colorbar": {
              "outlinewidth": 0,
              "ticks": ""
             }
            },
            "marker": {
             "colorbar": {
              "outlinewidth": 0,
              "ticks": ""
             }
            },
            "type": "scatter3d"
           }
          ],
          "scattercarpet": [
           {
            "marker": {
             "colorbar": {
              "outlinewidth": 0,
              "ticks": ""
             }
            },
            "type": "scattercarpet"
           }
          ],
          "scattergeo": [
           {
            "marker": {
             "colorbar": {
              "outlinewidth": 0,
              "ticks": ""
             }
            },
            "type": "scattergeo"
           }
          ],
          "scattergl": [
           {
            "marker": {
             "colorbar": {
              "outlinewidth": 0,
              "ticks": ""
             }
            },
            "type": "scattergl"
           }
          ],
          "scattermapbox": [
           {
            "marker": {
             "colorbar": {
              "outlinewidth": 0,
              "ticks": ""
             }
            },
            "type": "scattermapbox"
           }
          ],
          "scatterpolar": [
           {
            "marker": {
             "colorbar": {
              "outlinewidth": 0,
              "ticks": ""
             }
            },
            "type": "scatterpolar"
           }
          ],
          "scatterpolargl": [
           {
            "marker": {
             "colorbar": {
              "outlinewidth": 0,
              "ticks": ""
             }
            },
            "type": "scatterpolargl"
           }
          ],
          "scatterternary": [
           {
            "marker": {
             "colorbar": {
              "outlinewidth": 0,
              "ticks": ""
             }
            },
            "type": "scatterternary"
           }
          ],
          "surface": [
           {
            "colorbar": {
             "outlinewidth": 0,
             "ticks": ""
            },
            "colorscale": [
             [
              0,
              "#0d0887"
             ],
             [
              0.1111111111111111,
              "#46039f"
             ],
             [
              0.2222222222222222,
              "#7201a8"
             ],
             [
              0.3333333333333333,
              "#9c179e"
             ],
             [
              0.4444444444444444,
              "#bd3786"
             ],
             [
              0.5555555555555556,
              "#d8576b"
             ],
             [
              0.6666666666666666,
              "#ed7953"
             ],
             [
              0.7777777777777778,
              "#fb9f3a"
             ],
             [
              0.8888888888888888,
              "#fdca26"
             ],
             [
              1,
              "#f0f921"
             ]
            ],
            "type": "surface"
           }
          ],
          "table": [
           {
            "cells": {
             "fill": {
              "color": "#EBF0F8"
             },
             "line": {
              "color": "white"
             }
            },
            "header": {
             "fill": {
              "color": "#C8D4E3"
             },
             "line": {
              "color": "white"
             }
            },
            "type": "table"
           }
          ]
         },
         "layout": {
          "annotationdefaults": {
           "arrowcolor": "#2a3f5f",
           "arrowhead": 0,
           "arrowwidth": 1
          },
          "autotypenumbers": "strict",
          "coloraxis": {
           "colorbar": {
            "outlinewidth": 0,
            "ticks": ""
           }
          },
          "colorscale": {
           "diverging": [
            [
             0,
             "#8e0152"
            ],
            [
             0.1,
             "#c51b7d"
            ],
            [
             0.2,
             "#de77ae"
            ],
            [
             0.3,
             "#f1b6da"
            ],
            [
             0.4,
             "#fde0ef"
            ],
            [
             0.5,
             "#f7f7f7"
            ],
            [
             0.6,
             "#e6f5d0"
            ],
            [
             0.7,
             "#b8e186"
            ],
            [
             0.8,
             "#7fbc41"
            ],
            [
             0.9,
             "#4d9221"
            ],
            [
             1,
             "#276419"
            ]
           ],
           "sequential": [
            [
             0,
             "#0d0887"
            ],
            [
             0.1111111111111111,
             "#46039f"
            ],
            [
             0.2222222222222222,
             "#7201a8"
            ],
            [
             0.3333333333333333,
             "#9c179e"
            ],
            [
             0.4444444444444444,
             "#bd3786"
            ],
            [
             0.5555555555555556,
             "#d8576b"
            ],
            [
             0.6666666666666666,
             "#ed7953"
            ],
            [
             0.7777777777777778,
             "#fb9f3a"
            ],
            [
             0.8888888888888888,
             "#fdca26"
            ],
            [
             1,
             "#f0f921"
            ]
           ],
           "sequentialminus": [
            [
             0,
             "#0d0887"
            ],
            [
             0.1111111111111111,
             "#46039f"
            ],
            [
             0.2222222222222222,
             "#7201a8"
            ],
            [
             0.3333333333333333,
             "#9c179e"
            ],
            [
             0.4444444444444444,
             "#bd3786"
            ],
            [
             0.5555555555555556,
             "#d8576b"
            ],
            [
             0.6666666666666666,
             "#ed7953"
            ],
            [
             0.7777777777777778,
             "#fb9f3a"
            ],
            [
             0.8888888888888888,
             "#fdca26"
            ],
            [
             1,
             "#f0f921"
            ]
           ]
          },
          "colorway": [
           "#636efa",
           "#EF553B",
           "#00cc96",
           "#ab63fa",
           "#FFA15A",
           "#19d3f3",
           "#FF6692",
           "#B6E880",
           "#FF97FF",
           "#FECB52"
          ],
          "font": {
           "color": "#2a3f5f"
          },
          "geo": {
           "bgcolor": "white",
           "lakecolor": "white",
           "landcolor": "#E5ECF6",
           "showlakes": true,
           "showland": true,
           "subunitcolor": "white"
          },
          "hoverlabel": {
           "align": "left"
          },
          "hovermode": "closest",
          "mapbox": {
           "style": "light"
          },
          "paper_bgcolor": "white",
          "plot_bgcolor": "#E5ECF6",
          "polar": {
           "angularaxis": {
            "gridcolor": "white",
            "linecolor": "white",
            "ticks": ""
           },
           "bgcolor": "#E5ECF6",
           "radialaxis": {
            "gridcolor": "white",
            "linecolor": "white",
            "ticks": ""
           }
          },
          "scene": {
           "xaxis": {
            "backgroundcolor": "#E5ECF6",
            "gridcolor": "white",
            "gridwidth": 2,
            "linecolor": "white",
            "showbackground": true,
            "ticks": "",
            "zerolinecolor": "white"
           },
           "yaxis": {
            "backgroundcolor": "#E5ECF6",
            "gridcolor": "white",
            "gridwidth": 2,
            "linecolor": "white",
            "showbackground": true,
            "ticks": "",
            "zerolinecolor": "white"
           },
           "zaxis": {
            "backgroundcolor": "#E5ECF6",
            "gridcolor": "white",
            "gridwidth": 2,
            "linecolor": "white",
            "showbackground": true,
            "ticks": "",
            "zerolinecolor": "white"
           }
          },
          "shapedefaults": {
           "line": {
            "color": "#2a3f5f"
           }
          },
          "ternary": {
           "aaxis": {
            "gridcolor": "white",
            "linecolor": "white",
            "ticks": ""
           },
           "baxis": {
            "gridcolor": "white",
            "linecolor": "white",
            "ticks": ""
           },
           "bgcolor": "#E5ECF6",
           "caxis": {
            "gridcolor": "white",
            "linecolor": "white",
            "ticks": ""
           }
          },
          "title": {
           "x": 0.05
          },
          "xaxis": {
           "automargin": true,
           "gridcolor": "white",
           "linecolor": "white",
           "ticks": "",
           "title": {
            "standoff": 15
           },
           "zerolinecolor": "white",
           "zerolinewidth": 2
          },
          "yaxis": {
           "automargin": true,
           "gridcolor": "white",
           "linecolor": "white",
           "ticks": "",
           "title": {
            "standoff": 15
           },
           "zerolinecolor": "white",
           "zerolinewidth": 2
          }
         }
        },
        "title": {
         "text": "Gráfico de comitê de agrupamento com KMEANS"
        },
        "xaxis": {
         "anchor": "y",
         "domain": [
          0,
          0.2888888888888889
         ]
        },
        "xaxis2": {
         "anchor": "y2",
         "domain": [
          0.35555555555555557,
          0.6444444444444445
         ]
        },
        "xaxis3": {
         "anchor": "y3",
         "domain": [
          0.7111111111111111,
          1
         ]
        },
        "yaxis": {
         "anchor": "x",
         "domain": [
          0,
          1
         ]
        },
        "yaxis2": {
         "anchor": "x2",
         "domain": [
          0,
          1
         ]
        },
        "yaxis3": {
         "anchor": "x3",
         "domain": [
          0,
          1
         ]
        }
       }
      }
     },
     "metadata": {},
     "output_type": "display_data"
    }
   ],
   "source": [
    "plot_ensemble_indices(data_tfidf, selected_df_corr, selected_df_pca, labels, 'kmeans')"
   ]
  },
  {
   "cell_type": "code",
   "execution_count": 122,
   "metadata": {},
   "outputs": [
    {
     "name": "stderr",
     "output_type": "stream",
     "text": [
      "c:\\Users\\decas\\Documents\\ml-pdf-miner\\venv\\Lib\\site-packages\\sklearn\\manifold\\_spectral_embedding.py:329: UserWarning:\n",
      "\n",
      "Graph is not fully connected, spectral embedding may not work as expected.\n",
      "\n",
      "c:\\Users\\decas\\Documents\\ml-pdf-miner\\venv\\Lib\\site-packages\\sklearn\\manifold\\_spectral_embedding.py:329: UserWarning:\n",
      "\n",
      "Graph is not fully connected, spectral embedding may not work as expected.\n",
      "\n",
      "c:\\Users\\decas\\Documents\\ml-pdf-miner\\venv\\Lib\\site-packages\\sklearn\\manifold\\_spectral_embedding.py:329: UserWarning:\n",
      "\n",
      "Graph is not fully connected, spectral embedding may not work as expected.\n",
      "\n",
      "c:\\Users\\decas\\Documents\\ml-pdf-miner\\venv\\Lib\\site-packages\\sklearn\\manifold\\_spectral_embedding.py:329: UserWarning:\n",
      "\n",
      "Graph is not fully connected, spectral embedding may not work as expected.\n",
      "\n",
      "c:\\Users\\decas\\Documents\\ml-pdf-miner\\venv\\Lib\\site-packages\\sklearn\\manifold\\_spectral_embedding.py:329: UserWarning:\n",
      "\n",
      "Graph is not fully connected, spectral embedding may not work as expected.\n",
      "\n",
      "c:\\Users\\decas\\Documents\\ml-pdf-miner\\venv\\Lib\\site-packages\\sklearn\\manifold\\_spectral_embedding.py:329: UserWarning:\n",
      "\n",
      "Graph is not fully connected, spectral embedding may not work as expected.\n",
      "\n",
      "c:\\Users\\decas\\Documents\\ml-pdf-miner\\venv\\Lib\\site-packages\\sklearn\\manifold\\_spectral_embedding.py:329: UserWarning:\n",
      "\n",
      "Graph is not fully connected, spectral embedding may not work as expected.\n",
      "\n",
      "c:\\Users\\decas\\Documents\\ml-pdf-miner\\venv\\Lib\\site-packages\\sklearn\\manifold\\_spectral_embedding.py:329: UserWarning:\n",
      "\n",
      "Graph is not fully connected, spectral embedding may not work as expected.\n",
      "\n",
      "c:\\Users\\decas\\Documents\\ml-pdf-miner\\venv\\Lib\\site-packages\\sklearn\\manifold\\_spectral_embedding.py:329: UserWarning:\n",
      "\n",
      "Graph is not fully connected, spectral embedding may not work as expected.\n",
      "\n",
      "c:\\Users\\decas\\Documents\\ml-pdf-miner\\venv\\Lib\\site-packages\\sklearn\\manifold\\_spectral_embedding.py:329: UserWarning:\n",
      "\n",
      "Graph is not fully connected, spectral embedding may not work as expected.\n",
      "\n",
      "c:\\Users\\decas\\Documents\\ml-pdf-miner\\venv\\Lib\\site-packages\\sklearn\\manifold\\_spectral_embedding.py:329: UserWarning:\n",
      "\n",
      "Graph is not fully connected, spectral embedding may not work as expected.\n",
      "\n",
      "c:\\Users\\decas\\Documents\\ml-pdf-miner\\venv\\Lib\\site-packages\\sklearn\\manifold\\_spectral_embedding.py:329: UserWarning:\n",
      "\n",
      "Graph is not fully connected, spectral embedding may not work as expected.\n",
      "\n",
      "c:\\Users\\decas\\Documents\\ml-pdf-miner\\venv\\Lib\\site-packages\\sklearn\\manifold\\_spectral_embedding.py:329: UserWarning:\n",
      "\n",
      "Graph is not fully connected, spectral embedding may not work as expected.\n",
      "\n",
      "c:\\Users\\decas\\Documents\\ml-pdf-miner\\venv\\Lib\\site-packages\\sklearn\\manifold\\_spectral_embedding.py:329: UserWarning:\n",
      "\n",
      "Graph is not fully connected, spectral embedding may not work as expected.\n",
      "\n",
      "c:\\Users\\decas\\Documents\\ml-pdf-miner\\venv\\Lib\\site-packages\\sklearn\\manifold\\_spectral_embedding.py:329: UserWarning:\n",
      "\n",
      "Graph is not fully connected, spectral embedding may not work as expected.\n",
      "\n",
      "c:\\Users\\decas\\Documents\\ml-pdf-miner\\venv\\Lib\\site-packages\\sklearn\\manifold\\_spectral_embedding.py:329: UserWarning:\n",
      "\n",
      "Graph is not fully connected, spectral embedding may not work as expected.\n",
      "\n",
      "c:\\Users\\decas\\Documents\\ml-pdf-miner\\venv\\Lib\\site-packages\\sklearn\\manifold\\_spectral_embedding.py:329: UserWarning:\n",
      "\n",
      "Graph is not fully connected, spectral embedding may not work as expected.\n",
      "\n",
      "c:\\Users\\decas\\Documents\\ml-pdf-miner\\venv\\Lib\\site-packages\\sklearn\\manifold\\_spectral_embedding.py:329: UserWarning:\n",
      "\n",
      "Graph is not fully connected, spectral embedding may not work as expected.\n",
      "\n",
      "c:\\Users\\decas\\Documents\\ml-pdf-miner\\venv\\Lib\\site-packages\\sklearn\\manifold\\_spectral_embedding.py:329: UserWarning:\n",
      "\n",
      "Graph is not fully connected, spectral embedding may not work as expected.\n",
      "\n",
      "c:\\Users\\decas\\Documents\\ml-pdf-miner\\venv\\Lib\\site-packages\\sklearn\\manifold\\_spectral_embedding.py:329: UserWarning:\n",
      "\n",
      "Graph is not fully connected, spectral embedding may not work as expected.\n",
      "\n",
      "c:\\Users\\decas\\Documents\\ml-pdf-miner\\venv\\Lib\\site-packages\\sklearn\\manifold\\_spectral_embedding.py:329: UserWarning:\n",
      "\n",
      "Graph is not fully connected, spectral embedding may not work as expected.\n",
      "\n",
      "c:\\Users\\decas\\Documents\\ml-pdf-miner\\venv\\Lib\\site-packages\\sklearn\\manifold\\_spectral_embedding.py:329: UserWarning:\n",
      "\n",
      "Graph is not fully connected, spectral embedding may not work as expected.\n",
      "\n",
      "c:\\Users\\decas\\Documents\\ml-pdf-miner\\venv\\Lib\\site-packages\\sklearn\\manifold\\_spectral_embedding.py:329: UserWarning:\n",
      "\n",
      "Graph is not fully connected, spectral embedding may not work as expected.\n",
      "\n",
      "c:\\Users\\decas\\Documents\\ml-pdf-miner\\venv\\Lib\\site-packages\\sklearn\\manifold\\_spectral_embedding.py:329: UserWarning:\n",
      "\n",
      "Graph is not fully connected, spectral embedding may not work as expected.\n",
      "\n",
      "c:\\Users\\decas\\Documents\\ml-pdf-miner\\venv\\Lib\\site-packages\\sklearn\\manifold\\_spectral_embedding.py:329: UserWarning:\n",
      "\n",
      "Graph is not fully connected, spectral embedding may not work as expected.\n",
      "\n",
      "c:\\Users\\decas\\Documents\\ml-pdf-miner\\venv\\Lib\\site-packages\\sklearn\\manifold\\_spectral_embedding.py:329: UserWarning:\n",
      "\n",
      "Graph is not fully connected, spectral embedding may not work as expected.\n",
      "\n",
      "c:\\Users\\decas\\Documents\\ml-pdf-miner\\venv\\Lib\\site-packages\\sklearn\\manifold\\_spectral_embedding.py:329: UserWarning:\n",
      "\n",
      "Graph is not fully connected, spectral embedding may not work as expected.\n",
      "\n",
      "c:\\Users\\decas\\Documents\\ml-pdf-miner\\venv\\Lib\\site-packages\\sklearn\\manifold\\_spectral_embedding.py:329: UserWarning:\n",
      "\n",
      "Graph is not fully connected, spectral embedding may not work as expected.\n",
      "\n",
      "c:\\Users\\decas\\Documents\\ml-pdf-miner\\venv\\Lib\\site-packages\\sklearn\\manifold\\_spectral_embedding.py:329: UserWarning:\n",
      "\n",
      "Graph is not fully connected, spectral embedding may not work as expected.\n",
      "\n",
      "c:\\Users\\decas\\Documents\\ml-pdf-miner\\venv\\Lib\\site-packages\\sklearn\\manifold\\_spectral_embedding.py:329: UserWarning:\n",
      "\n",
      "Graph is not fully connected, spectral embedding may not work as expected.\n",
      "\n",
      "c:\\Users\\decas\\Documents\\ml-pdf-miner\\venv\\Lib\\site-packages\\sklearn\\manifold\\_spectral_embedding.py:329: UserWarning:\n",
      "\n",
      "Graph is not fully connected, spectral embedding may not work as expected.\n",
      "\n",
      "c:\\Users\\decas\\Documents\\ml-pdf-miner\\venv\\Lib\\site-packages\\sklearn\\manifold\\_spectral_embedding.py:329: UserWarning:\n",
      "\n",
      "Graph is not fully connected, spectral embedding may not work as expected.\n",
      "\n",
      "c:\\Users\\decas\\Documents\\ml-pdf-miner\\venv\\Lib\\site-packages\\sklearn\\manifold\\_spectral_embedding.py:329: UserWarning:\n",
      "\n",
      "Graph is not fully connected, spectral embedding may not work as expected.\n",
      "\n",
      "c:\\Users\\decas\\Documents\\ml-pdf-miner\\venv\\Lib\\site-packages\\sklearn\\manifold\\_spectral_embedding.py:329: UserWarning:\n",
      "\n",
      "Graph is not fully connected, spectral embedding may not work as expected.\n",
      "\n",
      "c:\\Users\\decas\\Documents\\ml-pdf-miner\\venv\\Lib\\site-packages\\sklearn\\manifold\\_spectral_embedding.py:329: UserWarning:\n",
      "\n",
      "Graph is not fully connected, spectral embedding may not work as expected.\n",
      "\n",
      "c:\\Users\\decas\\Documents\\ml-pdf-miner\\venv\\Lib\\site-packages\\sklearn\\manifold\\_spectral_embedding.py:329: UserWarning:\n",
      "\n",
      "Graph is not fully connected, spectral embedding may not work as expected.\n",
      "\n",
      "c:\\Users\\decas\\Documents\\ml-pdf-miner\\venv\\Lib\\site-packages\\sklearn\\manifold\\_spectral_embedding.py:329: UserWarning:\n",
      "\n",
      "Graph is not fully connected, spectral embedding may not work as expected.\n",
      "\n",
      "c:\\Users\\decas\\Documents\\ml-pdf-miner\\venv\\Lib\\site-packages\\sklearn\\manifold\\_spectral_embedding.py:329: UserWarning:\n",
      "\n",
      "Graph is not fully connected, spectral embedding may not work as expected.\n",
      "\n",
      "c:\\Users\\decas\\Documents\\ml-pdf-miner\\venv\\Lib\\site-packages\\sklearn\\manifold\\_spectral_embedding.py:329: UserWarning:\n",
      "\n",
      "Graph is not fully connected, spectral embedding may not work as expected.\n",
      "\n",
      "c:\\Users\\decas\\Documents\\ml-pdf-miner\\venv\\Lib\\site-packages\\sklearn\\manifold\\_spectral_embedding.py:329: UserWarning:\n",
      "\n",
      "Graph is not fully connected, spectral embedding may not work as expected.\n",
      "\n",
      "c:\\Users\\decas\\Documents\\ml-pdf-miner\\venv\\Lib\\site-packages\\sklearn\\manifold\\_spectral_embedding.py:329: UserWarning:\n",
      "\n",
      "Graph is not fully connected, spectral embedding may not work as expected.\n",
      "\n",
      "c:\\Users\\decas\\Documents\\ml-pdf-miner\\venv\\Lib\\site-packages\\sklearn\\manifold\\_spectral_embedding.py:329: UserWarning:\n",
      "\n",
      "Graph is not fully connected, spectral embedding may not work as expected.\n",
      "\n",
      "c:\\Users\\decas\\Documents\\ml-pdf-miner\\venv\\Lib\\site-packages\\sklearn\\manifold\\_spectral_embedding.py:329: UserWarning:\n",
      "\n",
      "Graph is not fully connected, spectral embedding may not work as expected.\n",
      "\n",
      "c:\\Users\\decas\\Documents\\ml-pdf-miner\\venv\\Lib\\site-packages\\sklearn\\manifold\\_spectral_embedding.py:329: UserWarning:\n",
      "\n",
      "Graph is not fully connected, spectral embedding may not work as expected.\n",
      "\n",
      "c:\\Users\\decas\\Documents\\ml-pdf-miner\\venv\\Lib\\site-packages\\sklearn\\manifold\\_spectral_embedding.py:329: UserWarning:\n",
      "\n",
      "Graph is not fully connected, spectral embedding may not work as expected.\n",
      "\n",
      "c:\\Users\\decas\\Documents\\ml-pdf-miner\\venv\\Lib\\site-packages\\sklearn\\manifold\\_spectral_embedding.py:329: UserWarning:\n",
      "\n",
      "Graph is not fully connected, spectral embedding may not work as expected.\n",
      "\n",
      "c:\\Users\\decas\\Documents\\ml-pdf-miner\\venv\\Lib\\site-packages\\sklearn\\manifold\\_spectral_embedding.py:329: UserWarning:\n",
      "\n",
      "Graph is not fully connected, spectral embedding may not work as expected.\n",
      "\n",
      "c:\\Users\\decas\\Documents\\ml-pdf-miner\\venv\\Lib\\site-packages\\sklearn\\manifold\\_spectral_embedding.py:329: UserWarning:\n",
      "\n",
      "Graph is not fully connected, spectral embedding may not work as expected.\n",
      "\n",
      "c:\\Users\\decas\\Documents\\ml-pdf-miner\\venv\\Lib\\site-packages\\sklearn\\manifold\\_spectral_embedding.py:329: UserWarning:\n",
      "\n",
      "Graph is not fully connected, spectral embedding may not work as expected.\n",
      "\n",
      "c:\\Users\\decas\\Documents\\ml-pdf-miner\\venv\\Lib\\site-packages\\sklearn\\manifold\\_spectral_embedding.py:329: UserWarning:\n",
      "\n",
      "Graph is not fully connected, spectral embedding may not work as expected.\n",
      "\n",
      "c:\\Users\\decas\\Documents\\ml-pdf-miner\\venv\\Lib\\site-packages\\sklearn\\manifold\\_spectral_embedding.py:329: UserWarning:\n",
      "\n",
      "Graph is not fully connected, spectral embedding may not work as expected.\n",
      "\n",
      "c:\\Users\\decas\\Documents\\ml-pdf-miner\\venv\\Lib\\site-packages\\sklearn\\manifold\\_spectral_embedding.py:329: UserWarning:\n",
      "\n",
      "Graph is not fully connected, spectral embedding may not work as expected.\n",
      "\n",
      "c:\\Users\\decas\\Documents\\ml-pdf-miner\\venv\\Lib\\site-packages\\sklearn\\manifold\\_spectral_embedding.py:329: UserWarning:\n",
      "\n",
      "Graph is not fully connected, spectral embedding may not work as expected.\n",
      "\n",
      "c:\\Users\\decas\\Documents\\ml-pdf-miner\\venv\\Lib\\site-packages\\sklearn\\manifold\\_spectral_embedding.py:329: UserWarning:\n",
      "\n",
      "Graph is not fully connected, spectral embedding may not work as expected.\n",
      "\n",
      "c:\\Users\\decas\\Documents\\ml-pdf-miner\\venv\\Lib\\site-packages\\sklearn\\manifold\\_spectral_embedding.py:329: UserWarning:\n",
      "\n",
      "Graph is not fully connected, spectral embedding may not work as expected.\n",
      "\n",
      "c:\\Users\\decas\\Documents\\ml-pdf-miner\\venv\\Lib\\site-packages\\sklearn\\manifold\\_spectral_embedding.py:329: UserWarning:\n",
      "\n",
      "Graph is not fully connected, spectral embedding may not work as expected.\n",
      "\n",
      "c:\\Users\\decas\\Documents\\ml-pdf-miner\\venv\\Lib\\site-packages\\sklearn\\manifold\\_spectral_embedding.py:329: UserWarning:\n",
      "\n",
      "Graph is not fully connected, spectral embedding may not work as expected.\n",
      "\n"
     ]
    },
    {
     "data": {
      "application/vnd.plotly.v1+json": {
       "config": {
        "plotlyServerURL": "https://plot.ly"
       },
       "data": [
        {
         "name": "Base original",
         "type": "scatter",
         "x": [
          2,
          3,
          4,
          5,
          6,
          7,
          8,
          9,
          10,
          11,
          12,
          13,
          14,
          15,
          16,
          17,
          18,
          19,
          20
         ],
         "xaxis": "x",
         "y": [
          0.644375620117391,
          0.25286472660902287,
          0.40659216554241134,
          0.3470745300476615,
          0.2294788947029575,
          0.3922579543923447,
          0.761833524468075,
          0.6972706207386595,
          0.6429372889030313,
          0.6267882039859881,
          0.7416692207048389,
          0.6187261980976249,
          0.6173213810554354,
          0.6226955410095982,
          0.6131342200327874,
          0.6094037624213775,
          1.700555594767418,
          1.8469639435195269,
          1.5839809568365735
         ],
         "yaxis": "y"
        },
        {
         "name": "Correlação",
         "type": "scatter",
         "x": [
          2,
          3,
          4,
          5,
          6,
          7,
          8,
          9,
          10,
          11,
          12,
          13,
          14,
          15,
          16,
          17,
          18,
          19,
          20
         ],
         "xaxis": "x",
         "y": [
          0.5285264659818363,
          0.29599549097606265,
          0.5424690766817982,
          0.42765603707292676,
          16.014663035647445,
          0.5749958955560136,
          0.6997968231242531,
          0.792947344541542,
          0.8065949964780106,
          0.6713523288212441,
          0.690441276508281,
          0.6370028353648449,
          0.6573269013623217,
          0.6216274376657714,
          0.6173810945049276,
          0.6156943115868526,
          0.6264037800936006,
          0.7705241259604098,
          1.2870726184396548
         ],
         "yaxis": "y"
        },
        {
         "name": "PCA",
         "type": "scatter",
         "x": [
          2,
          3,
          4,
          5,
          6,
          7,
          8,
          9,
          10,
          11,
          12,
          13,
          14,
          15,
          16,
          17,
          18,
          19,
          20
         ],
         "xaxis": "x",
         "y": [
          0.6408600406593717,
          0.2357807067994838,
          0.38200434873154376,
          0.32728124291048044,
          0.18970528434781972,
          0.17521820892711618,
          0.19361410693109143,
          0.19836507240447845,
          0.24664877344932168,
          0.20749608085265017,
          0.2966958064030209,
          0.30773151621720063,
          0.2420899050598976,
          0.2330881992373618,
          0.2924922152222676,
          0.4610071741285797,
          7.048695416519095,
          2.43088604515139,
          1.5405982356084003
         ],
         "yaxis": "y"
        },
        {
         "name": "Base original",
         "type": "scatter",
         "x": [
          2,
          3,
          4,
          5,
          6,
          7,
          8,
          9,
          10,
          11,
          12,
          13,
          14,
          15,
          16,
          17,
          18,
          19,
          20
         ],
         "xaxis": "x2",
         "y": [
          0.4906204739090915,
          0.8267389575479351,
          0.8261095271869635,
          0.8306389852557023,
          0.8468006079450127,
          0.7483174236836173,
          0.5450385859742727,
          0.5788318764499194,
          0.5940375060627462,
          0.5932374116563022,
          0.5733977982850544,
          0.5784056514946915,
          0.5878784826354067,
          0.5813431200126769,
          0.5693049494427044,
          0.5850994052450397,
          0.44678089124576814,
          0.4413039500769576,
          0.43032438857179645
         ],
         "yaxis": "y2"
        },
        {
         "name": "Correlação",
         "type": "scatter",
         "x": [
          2,
          3,
          4,
          5,
          6,
          7,
          8,
          9,
          10,
          11,
          12,
          13,
          14,
          15,
          16,
          17,
          18,
          19,
          20
         ],
         "xaxis": "x2",
         "y": [
          0.5956441989446011,
          0.7931539027830391,
          0.6132781162456038,
          0.6304079546707811,
          0.4028022170563081,
          0.4954887360025442,
          0.4898018917977234,
          0.5023900342026336,
          0.48531830432198125,
          0.5302685996817499,
          0.5264840249698971,
          0.5366796514200242,
          0.4695962122347618,
          0.4704921463768377,
          0.4838324649486142,
          0.47736600677316327,
          0.47558236351697253,
          0.44537092622279323,
          0.4187103490141385
         ],
         "yaxis": "y2"
        },
        {
         "name": "PCA",
         "type": "scatter",
         "x": [
          2,
          3,
          4,
          5,
          6,
          7,
          8,
          9,
          10,
          11,
          12,
          13,
          14,
          15,
          16,
          17,
          18,
          19,
          20
         ],
         "xaxis": "x2",
         "y": [
          0.5069162489758269,
          0.8628311282562606,
          0.8736822583622347,
          0.8878343913684802,
          0.9148395025963335,
          0.9226836148722516,
          0.8976580612125072,
          0.8987689138321926,
          0.8939841239174312,
          0.9007346440698795,
          0.8306224823780057,
          0.7741158952970921,
          0.7858697737598123,
          0.7893457359877251,
          0.7618781646304051,
          0.7295139768840782,
          0.5533030694720308,
          0.5315646261644563,
          0.42350212048793173
         ],
         "yaxis": "y2"
        },
        {
         "name": "Base original",
         "type": "scatter",
         "x": [
          2,
          3,
          4,
          5,
          6,
          7,
          8,
          9,
          10,
          11,
          12,
          13,
          14,
          15,
          16,
          17,
          18,
          19,
          20
         ],
         "xaxis": "x3",
         "y": [
          -0.08956987662870333,
          -0.02508453931117638,
          -0.021062398961195727,
          -0.03211445618089752,
          -0.032179839130166754,
          -0.02335828072285723,
          -0.012288849513171078,
          -0.01326065522612252,
          -0.013604037530169387,
          -0.013401917968004584,
          0.00034490445347432893,
          0.0009561458558173953,
          0.0005667425084991132,
          0.00415509053563433,
          0.005671759595761416,
          0.011044050758516485,
          0.006604412582545874,
          0.006003079490281151,
          0.005382591657495171
         ],
         "yaxis": "y3"
        },
        {
         "name": "Correlação",
         "type": "scatter",
         "x": [
          2,
          3,
          4,
          5,
          6,
          7,
          8,
          9,
          10,
          11,
          12,
          13,
          14,
          15,
          16,
          17,
          18,
          19,
          20
         ],
         "xaxis": "x3",
         "y": [
          -0.05345490288028407,
          -0.07497129599304563,
          -0.05846720730052624,
          -0.06015321860879258,
          -0.008229432011287674,
          -0.005502364829002442,
          -0.008787761659121714,
          0.012282775064431298,
          0.01134691192716275,
          0.011251932458490488,
          0.011699280770876857,
          0.011796719927929765,
          -0.00017297438801054503,
          0.0022058033886791155,
          0.003178028358896019,
          0.00651044015146857,
          0.008734223155116703,
          0.01031498826174004,
          0.011318055768014895
         ],
         "yaxis": "y3"
        },
        {
         "name": "PCA",
         "type": "scatter",
         "x": [
          2,
          3,
          4,
          5,
          6,
          7,
          8,
          9,
          10,
          11,
          12,
          13,
          14,
          15,
          16,
          17,
          18,
          19,
          20
         ],
         "xaxis": "x3",
         "y": [
          -0.08956987662870333,
          -0.02508453931117638,
          -0.021062398961195727,
          -0.03211445618089752,
          -0.032179839130166754,
          -0.02387874498346601,
          -0.015175647766316644,
          -0.014970323206609371,
          -0.014720539916810204,
          -0.015222884590263337,
          -0.00031738361995562353,
          0.000689648528614257,
          0.0012178863579529774,
          0.0009810602479901254,
          0.0017492898183444623,
          0.0028581260097912406,
          0.01363009776787717,
          0.008292312958087973,
          0.0052722628716853764
         ],
         "yaxis": "y3"
        }
       ],
       "layout": {
        "annotations": [
         {
          "font": {
           "size": 16
          },
          "showarrow": false,
          "text": "Índice - Davies-Bouldin",
          "x": 0.14444444444444446,
          "xanchor": "center",
          "xref": "paper",
          "y": 1,
          "yanchor": "bottom",
          "yref": "paper"
         },
         {
          "font": {
           "size": 16
          },
          "showarrow": false,
          "text": "Índice - Silhouette",
          "x": 0.5,
          "xanchor": "center",
          "xref": "paper",
          "y": 1,
          "yanchor": "bottom",
          "yref": "paper"
         },
         {
          "font": {
           "size": 16
          },
          "showarrow": false,
          "text": "Índice - Adjusted Rand Score",
          "x": 0.8555555555555556,
          "xanchor": "center",
          "xref": "paper",
          "y": 1,
          "yanchor": "bottom",
          "yref": "paper"
         }
        ],
        "boxmode": "group",
        "showlegend": true,
        "template": {
         "data": {
          "bar": [
           {
            "error_x": {
             "color": "#2a3f5f"
            },
            "error_y": {
             "color": "#2a3f5f"
            },
            "marker": {
             "line": {
              "color": "#E5ECF6",
              "width": 0.5
             },
             "pattern": {
              "fillmode": "overlay",
              "size": 10,
              "solidity": 0.2
             }
            },
            "type": "bar"
           }
          ],
          "barpolar": [
           {
            "marker": {
             "line": {
              "color": "#E5ECF6",
              "width": 0.5
             },
             "pattern": {
              "fillmode": "overlay",
              "size": 10,
              "solidity": 0.2
             }
            },
            "type": "barpolar"
           }
          ],
          "carpet": [
           {
            "aaxis": {
             "endlinecolor": "#2a3f5f",
             "gridcolor": "white",
             "linecolor": "white",
             "minorgridcolor": "white",
             "startlinecolor": "#2a3f5f"
            },
            "baxis": {
             "endlinecolor": "#2a3f5f",
             "gridcolor": "white",
             "linecolor": "white",
             "minorgridcolor": "white",
             "startlinecolor": "#2a3f5f"
            },
            "type": "carpet"
           }
          ],
          "choropleth": [
           {
            "colorbar": {
             "outlinewidth": 0,
             "ticks": ""
            },
            "type": "choropleth"
           }
          ],
          "contour": [
           {
            "colorbar": {
             "outlinewidth": 0,
             "ticks": ""
            },
            "colorscale": [
             [
              0,
              "#0d0887"
             ],
             [
              0.1111111111111111,
              "#46039f"
             ],
             [
              0.2222222222222222,
              "#7201a8"
             ],
             [
              0.3333333333333333,
              "#9c179e"
             ],
             [
              0.4444444444444444,
              "#bd3786"
             ],
             [
              0.5555555555555556,
              "#d8576b"
             ],
             [
              0.6666666666666666,
              "#ed7953"
             ],
             [
              0.7777777777777778,
              "#fb9f3a"
             ],
             [
              0.8888888888888888,
              "#fdca26"
             ],
             [
              1,
              "#f0f921"
             ]
            ],
            "type": "contour"
           }
          ],
          "contourcarpet": [
           {
            "colorbar": {
             "outlinewidth": 0,
             "ticks": ""
            },
            "type": "contourcarpet"
           }
          ],
          "heatmap": [
           {
            "colorbar": {
             "outlinewidth": 0,
             "ticks": ""
            },
            "colorscale": [
             [
              0,
              "#0d0887"
             ],
             [
              0.1111111111111111,
              "#46039f"
             ],
             [
              0.2222222222222222,
              "#7201a8"
             ],
             [
              0.3333333333333333,
              "#9c179e"
             ],
             [
              0.4444444444444444,
              "#bd3786"
             ],
             [
              0.5555555555555556,
              "#d8576b"
             ],
             [
              0.6666666666666666,
              "#ed7953"
             ],
             [
              0.7777777777777778,
              "#fb9f3a"
             ],
             [
              0.8888888888888888,
              "#fdca26"
             ],
             [
              1,
              "#f0f921"
             ]
            ],
            "type": "heatmap"
           }
          ],
          "heatmapgl": [
           {
            "colorbar": {
             "outlinewidth": 0,
             "ticks": ""
            },
            "colorscale": [
             [
              0,
              "#0d0887"
             ],
             [
              0.1111111111111111,
              "#46039f"
             ],
             [
              0.2222222222222222,
              "#7201a8"
             ],
             [
              0.3333333333333333,
              "#9c179e"
             ],
             [
              0.4444444444444444,
              "#bd3786"
             ],
             [
              0.5555555555555556,
              "#d8576b"
             ],
             [
              0.6666666666666666,
              "#ed7953"
             ],
             [
              0.7777777777777778,
              "#fb9f3a"
             ],
             [
              0.8888888888888888,
              "#fdca26"
             ],
             [
              1,
              "#f0f921"
             ]
            ],
            "type": "heatmapgl"
           }
          ],
          "histogram": [
           {
            "marker": {
             "pattern": {
              "fillmode": "overlay",
              "size": 10,
              "solidity": 0.2
             }
            },
            "type": "histogram"
           }
          ],
          "histogram2d": [
           {
            "colorbar": {
             "outlinewidth": 0,
             "ticks": ""
            },
            "colorscale": [
             [
              0,
              "#0d0887"
             ],
             [
              0.1111111111111111,
              "#46039f"
             ],
             [
              0.2222222222222222,
              "#7201a8"
             ],
             [
              0.3333333333333333,
              "#9c179e"
             ],
             [
              0.4444444444444444,
              "#bd3786"
             ],
             [
              0.5555555555555556,
              "#d8576b"
             ],
             [
              0.6666666666666666,
              "#ed7953"
             ],
             [
              0.7777777777777778,
              "#fb9f3a"
             ],
             [
              0.8888888888888888,
              "#fdca26"
             ],
             [
              1,
              "#f0f921"
             ]
            ],
            "type": "histogram2d"
           }
          ],
          "histogram2dcontour": [
           {
            "colorbar": {
             "outlinewidth": 0,
             "ticks": ""
            },
            "colorscale": [
             [
              0,
              "#0d0887"
             ],
             [
              0.1111111111111111,
              "#46039f"
             ],
             [
              0.2222222222222222,
              "#7201a8"
             ],
             [
              0.3333333333333333,
              "#9c179e"
             ],
             [
              0.4444444444444444,
              "#bd3786"
             ],
             [
              0.5555555555555556,
              "#d8576b"
             ],
             [
              0.6666666666666666,
              "#ed7953"
             ],
             [
              0.7777777777777778,
              "#fb9f3a"
             ],
             [
              0.8888888888888888,
              "#fdca26"
             ],
             [
              1,
              "#f0f921"
             ]
            ],
            "type": "histogram2dcontour"
           }
          ],
          "mesh3d": [
           {
            "colorbar": {
             "outlinewidth": 0,
             "ticks": ""
            },
            "type": "mesh3d"
           }
          ],
          "parcoords": [
           {
            "line": {
             "colorbar": {
              "outlinewidth": 0,
              "ticks": ""
             }
            },
            "type": "parcoords"
           }
          ],
          "pie": [
           {
            "automargin": true,
            "type": "pie"
           }
          ],
          "scatter": [
           {
            "fillpattern": {
             "fillmode": "overlay",
             "size": 10,
             "solidity": 0.2
            },
            "type": "scatter"
           }
          ],
          "scatter3d": [
           {
            "line": {
             "colorbar": {
              "outlinewidth": 0,
              "ticks": ""
             }
            },
            "marker": {
             "colorbar": {
              "outlinewidth": 0,
              "ticks": ""
             }
            },
            "type": "scatter3d"
           }
          ],
          "scattercarpet": [
           {
            "marker": {
             "colorbar": {
              "outlinewidth": 0,
              "ticks": ""
             }
            },
            "type": "scattercarpet"
           }
          ],
          "scattergeo": [
           {
            "marker": {
             "colorbar": {
              "outlinewidth": 0,
              "ticks": ""
             }
            },
            "type": "scattergeo"
           }
          ],
          "scattergl": [
           {
            "marker": {
             "colorbar": {
              "outlinewidth": 0,
              "ticks": ""
             }
            },
            "type": "scattergl"
           }
          ],
          "scattermapbox": [
           {
            "marker": {
             "colorbar": {
              "outlinewidth": 0,
              "ticks": ""
             }
            },
            "type": "scattermapbox"
           }
          ],
          "scatterpolar": [
           {
            "marker": {
             "colorbar": {
              "outlinewidth": 0,
              "ticks": ""
             }
            },
            "type": "scatterpolar"
           }
          ],
          "scatterpolargl": [
           {
            "marker": {
             "colorbar": {
              "outlinewidth": 0,
              "ticks": ""
             }
            },
            "type": "scatterpolargl"
           }
          ],
          "scatterternary": [
           {
            "marker": {
             "colorbar": {
              "outlinewidth": 0,
              "ticks": ""
             }
            },
            "type": "scatterternary"
           }
          ],
          "surface": [
           {
            "colorbar": {
             "outlinewidth": 0,
             "ticks": ""
            },
            "colorscale": [
             [
              0,
              "#0d0887"
             ],
             [
              0.1111111111111111,
              "#46039f"
             ],
             [
              0.2222222222222222,
              "#7201a8"
             ],
             [
              0.3333333333333333,
              "#9c179e"
             ],
             [
              0.4444444444444444,
              "#bd3786"
             ],
             [
              0.5555555555555556,
              "#d8576b"
             ],
             [
              0.6666666666666666,
              "#ed7953"
             ],
             [
              0.7777777777777778,
              "#fb9f3a"
             ],
             [
              0.8888888888888888,
              "#fdca26"
             ],
             [
              1,
              "#f0f921"
             ]
            ],
            "type": "surface"
           }
          ],
          "table": [
           {
            "cells": {
             "fill": {
              "color": "#EBF0F8"
             },
             "line": {
              "color": "white"
             }
            },
            "header": {
             "fill": {
              "color": "#C8D4E3"
             },
             "line": {
              "color": "white"
             }
            },
            "type": "table"
           }
          ]
         },
         "layout": {
          "annotationdefaults": {
           "arrowcolor": "#2a3f5f",
           "arrowhead": 0,
           "arrowwidth": 1
          },
          "autotypenumbers": "strict",
          "coloraxis": {
           "colorbar": {
            "outlinewidth": 0,
            "ticks": ""
           }
          },
          "colorscale": {
           "diverging": [
            [
             0,
             "#8e0152"
            ],
            [
             0.1,
             "#c51b7d"
            ],
            [
             0.2,
             "#de77ae"
            ],
            [
             0.3,
             "#f1b6da"
            ],
            [
             0.4,
             "#fde0ef"
            ],
            [
             0.5,
             "#f7f7f7"
            ],
            [
             0.6,
             "#e6f5d0"
            ],
            [
             0.7,
             "#b8e186"
            ],
            [
             0.8,
             "#7fbc41"
            ],
            [
             0.9,
             "#4d9221"
            ],
            [
             1,
             "#276419"
            ]
           ],
           "sequential": [
            [
             0,
             "#0d0887"
            ],
            [
             0.1111111111111111,
             "#46039f"
            ],
            [
             0.2222222222222222,
             "#7201a8"
            ],
            [
             0.3333333333333333,
             "#9c179e"
            ],
            [
             0.4444444444444444,
             "#bd3786"
            ],
            [
             0.5555555555555556,
             "#d8576b"
            ],
            [
             0.6666666666666666,
             "#ed7953"
            ],
            [
             0.7777777777777778,
             "#fb9f3a"
            ],
            [
             0.8888888888888888,
             "#fdca26"
            ],
            [
             1,
             "#f0f921"
            ]
           ],
           "sequentialminus": [
            [
             0,
             "#0d0887"
            ],
            [
             0.1111111111111111,
             "#46039f"
            ],
            [
             0.2222222222222222,
             "#7201a8"
            ],
            [
             0.3333333333333333,
             "#9c179e"
            ],
            [
             0.4444444444444444,
             "#bd3786"
            ],
            [
             0.5555555555555556,
             "#d8576b"
            ],
            [
             0.6666666666666666,
             "#ed7953"
            ],
            [
             0.7777777777777778,
             "#fb9f3a"
            ],
            [
             0.8888888888888888,
             "#fdca26"
            ],
            [
             1,
             "#f0f921"
            ]
           ]
          },
          "colorway": [
           "#636efa",
           "#EF553B",
           "#00cc96",
           "#ab63fa",
           "#FFA15A",
           "#19d3f3",
           "#FF6692",
           "#B6E880",
           "#FF97FF",
           "#FECB52"
          ],
          "font": {
           "color": "#2a3f5f"
          },
          "geo": {
           "bgcolor": "white",
           "lakecolor": "white",
           "landcolor": "#E5ECF6",
           "showlakes": true,
           "showland": true,
           "subunitcolor": "white"
          },
          "hoverlabel": {
           "align": "left"
          },
          "hovermode": "closest",
          "mapbox": {
           "style": "light"
          },
          "paper_bgcolor": "white",
          "plot_bgcolor": "#E5ECF6",
          "polar": {
           "angularaxis": {
            "gridcolor": "white",
            "linecolor": "white",
            "ticks": ""
           },
           "bgcolor": "#E5ECF6",
           "radialaxis": {
            "gridcolor": "white",
            "linecolor": "white",
            "ticks": ""
           }
          },
          "scene": {
           "xaxis": {
            "backgroundcolor": "#E5ECF6",
            "gridcolor": "white",
            "gridwidth": 2,
            "linecolor": "white",
            "showbackground": true,
            "ticks": "",
            "zerolinecolor": "white"
           },
           "yaxis": {
            "backgroundcolor": "#E5ECF6",
            "gridcolor": "white",
            "gridwidth": 2,
            "linecolor": "white",
            "showbackground": true,
            "ticks": "",
            "zerolinecolor": "white"
           },
           "zaxis": {
            "backgroundcolor": "#E5ECF6",
            "gridcolor": "white",
            "gridwidth": 2,
            "linecolor": "white",
            "showbackground": true,
            "ticks": "",
            "zerolinecolor": "white"
           }
          },
          "shapedefaults": {
           "line": {
            "color": "#2a3f5f"
           }
          },
          "ternary": {
           "aaxis": {
            "gridcolor": "white",
            "linecolor": "white",
            "ticks": ""
           },
           "baxis": {
            "gridcolor": "white",
            "linecolor": "white",
            "ticks": ""
           },
           "bgcolor": "#E5ECF6",
           "caxis": {
            "gridcolor": "white",
            "linecolor": "white",
            "ticks": ""
           }
          },
          "title": {
           "x": 0.05
          },
          "xaxis": {
           "automargin": true,
           "gridcolor": "white",
           "linecolor": "white",
           "ticks": "",
           "title": {
            "standoff": 15
           },
           "zerolinecolor": "white",
           "zerolinewidth": 2
          },
          "yaxis": {
           "automargin": true,
           "gridcolor": "white",
           "linecolor": "white",
           "ticks": "",
           "title": {
            "standoff": 15
           },
           "zerolinecolor": "white",
           "zerolinewidth": 2
          }
         }
        },
        "title": {
         "text": "Gráfico de comitê de agrupamento com HIERARQUICO"
        },
        "xaxis": {
         "anchor": "y",
         "domain": [
          0,
          0.2888888888888889
         ]
        },
        "xaxis2": {
         "anchor": "y2",
         "domain": [
          0.35555555555555557,
          0.6444444444444445
         ]
        },
        "xaxis3": {
         "anchor": "y3",
         "domain": [
          0.7111111111111111,
          1
         ]
        },
        "yaxis": {
         "anchor": "x",
         "domain": [
          0,
          1
         ]
        },
        "yaxis2": {
         "anchor": "x2",
         "domain": [
          0,
          1
         ]
        },
        "yaxis3": {
         "anchor": "x3",
         "domain": [
          0,
          1
         ]
        }
       }
      }
     },
     "metadata": {},
     "output_type": "display_data"
    }
   ],
   "source": [
    "plot_ensemble_indices(data_tfidf, selected_df_corr, selected_df_pca, labels, 'hierarquico')"
   ]
  },
  {
   "cell_type": "code",
   "execution_count": 123,
   "metadata": {},
   "outputs": [],
   "source": [
    "# plot_ensemble_indices(data_tfidf, selected_df_corr, selected_df_pca, labels, 'em')"
   ]
  },
  {
   "cell_type": "code",
   "execution_count": 124,
   "metadata": {},
   "outputs": [
    {
     "data": {
      "application/vnd.plotly.v1+json": {
       "config": {
        "plotlyServerURL": "https://plot.ly"
       },
       "data": [
        {
         "name": "Base original",
         "type": "scatter",
         "x": [
          2,
          3,
          4,
          5,
          6,
          7,
          8,
          9,
          10,
          11,
          12,
          13,
          14,
          15,
          16,
          17,
          18,
          19,
          20
         ],
         "xaxis": "x",
         "y": [
          0.5078749722414769,
          15.079971102427786,
          1.979630238617508,
          8.362920797791286,
          4.543352636719985,
          12.326199286800676,
          7.501630213451195,
          15.963303868616016,
          21.057514498483265,
          8.157205206155698,
          7.230528681704423,
          11.231564761088347,
          11.584124006226592,
          5.055443525911522,
          11.143406228448573,
          8.563512536129359,
          10.671998676894077,
          15.477938773049441,
          9.385813533000189
         ],
         "yaxis": "y"
        },
        {
         "name": "Correlação",
         "type": "scatter",
         "x": [
          2,
          3,
          4,
          5,
          6,
          7,
          8,
          9,
          10,
          11,
          12,
          13,
          14,
          15,
          16,
          17,
          18,
          19,
          20
         ],
         "xaxis": "x",
         "y": [
          16.76176916729002,
          10.221987727654765,
          7.537363440359084,
          6.335332521405397,
          5.5091631955480445,
          15.823031437770359,
          8.641885001139595,
          11.510075788850653,
          6.086508560721313,
          12.524350206297838,
          6.876327530066522,
          9.736023207773867,
          7.246812949302526,
          8.855078690025465,
          7.309762138913684,
          10.70158225656021,
          9.14129200757963,
          6.542492279351776,
          9.592086264000438
         ],
         "yaxis": "y"
        },
        {
         "name": "PCA",
         "type": "scatter",
         "x": [
          2,
          3,
          4,
          5,
          6,
          7,
          8,
          9,
          10,
          11,
          12,
          13,
          14,
          15,
          16,
          17,
          18,
          19,
          20
         ],
         "xaxis": "x",
         "y": [
          0.49770180910512174,
          14.500919924279168,
          11.368278381569008,
          44.79490983805546,
          4.112469203304977,
          13.01705975948623,
          10.104105837770549,
          6.804873865860474,
          28.914243275232423,
          30.65041937233245,
          3.3942133670585846,
          9.695719214992653,
          4.116358196008854,
          19.73388985588061,
          38.92003778507731,
          10.000940591425842,
          17.173154259314984,
          5.0927537396877,
          7.748032389589936
         ],
         "yaxis": "y"
        },
        {
         "name": "Base original",
         "type": "scatter",
         "x": [
          2,
          3,
          4,
          5,
          6,
          7,
          8,
          9,
          10,
          11,
          12,
          13,
          14,
          15,
          16,
          17,
          18,
          19,
          20
         ],
         "xaxis": "x2",
         "y": [
          0.7238926673103409,
          0.3652670037076549,
          0.1402099815196169,
          0.46981405801532905,
          0.19445115429521306,
          -0.7360622449114126,
          0.22114003360725676,
          0.009334319274157465,
          0.010013747019266531,
          0.15273004921599215,
          -0.6009287840077064,
          -0.03572655796590452,
          -0.03938270693906477,
          0.027072203839105365,
          -0.02931307254180593,
          -0.029156852848247188,
          -0.8641872498782094,
          -0.8655960525905466,
          0.15191935314677615
         ],
         "yaxis": "y2"
        },
        {
         "name": "Correlação",
         "type": "scatter",
         "x": [
          2,
          3,
          4,
          5,
          6,
          7,
          8,
          9,
          10,
          11,
          12,
          13,
          14,
          15,
          16,
          17,
          18,
          19,
          20
         ],
         "xaxis": "x2",
         "y": [
          0.0888643875818475,
          0.02462308428287269,
          -0.39551440985570707,
          -0.4065017022191651,
          -0.4252066299449952,
          -0.42293253205463566,
          -0.5111084986417405,
          -0.7166138145221993,
          -0.6048235564506791,
          -0.764199109925296,
          -0.7480965924234745,
          -0.7834603519447644,
          -0.7108258169291374,
          -0.7620826776633243,
          -0.8243248238122948,
          -0.7467808677250586,
          -0.7444019735687106,
          -0.7972869199642433,
          -0.8041726111235482
         ],
         "yaxis": "y2"
        },
        {
         "name": "PCA",
         "type": "scatter",
         "x": [
          2,
          3,
          4,
          5,
          6,
          7,
          8,
          9,
          10,
          11,
          12,
          13,
          14,
          15,
          16,
          17,
          18,
          19,
          20
         ],
         "xaxis": "x2",
         "y": [
          0.7480564865514782,
          0.40611504755029587,
          0.48494716410292793,
          0.2531922406707057,
          0.20667506762128818,
          0.08448879777607697,
          0.013224342421064213,
          -0.6377397369146266,
          -0.06444095860897885,
          0.0901216277022284,
          0.1942742381986166,
          0.1798798879149546,
          -0.07987611026208172,
          -0.07583746635083836,
          -0.084929536680853,
          0.08602757139675146,
          0.0956545082774118,
          -0.09076995287974801,
          -0.08039311038257252
         ],
         "yaxis": "y2"
        },
        {
         "name": "Base original",
         "type": "scatter",
         "x": [
          2,
          3,
          4,
          5,
          6,
          7,
          8,
          9,
          10,
          11,
          12,
          13,
          14,
          15,
          16,
          17,
          18,
          19,
          20
         ],
         "xaxis": "x3",
         "y": [
          0.002603601244336508,
          -0.01463929413056308,
          0.015294401148112325,
          -0.005264435004127402,
          -0.007812737613844418,
          0.014316780398304644,
          -0.017333577477824626,
          -0.014941721831251486,
          -0.015000785404229298,
          -0.009231578058376285,
          -0.011101193249608789,
          -0.019017365201200745,
          -0.011729499571249183,
          -0.01574699770096597,
          -0.021118371121404352,
          -0.018303223844795716,
          -0.0028867944890103962,
          -0.00567433965825946,
          -0.0025088645784527093
         ],
         "yaxis": "y3"
        },
        {
         "name": "Correlação",
         "type": "scatter",
         "x": [
          2,
          3,
          4,
          5,
          6,
          7,
          8,
          9,
          10,
          11,
          12,
          13,
          14,
          15,
          16,
          17,
          18,
          19,
          20
         ],
         "xaxis": "x3",
         "y": [
          0.016360715463087837,
          -0.0278075670542644,
          0.015529441994603205,
          0.024145298564372003,
          0.031426388948919866,
          0.014316780398304644,
          0.015110009819753245,
          0.01848156319337624,
          0.0447645816220991,
          0.0004603397332117723,
          0.011675882687026596,
          0.016932101022285984,
          0.015229136530454166,
          -0.0031591328139675768,
          0.031568523217101505,
          -0.023225772699751995,
          -0.0028867944890103962,
          -0.00567433965825946,
          -0.0007620648389344764
         ],
         "yaxis": "y3"
        },
        {
         "name": "PCA",
         "type": "scatter",
         "x": [
          2,
          3,
          4,
          5,
          6,
          7,
          8,
          9,
          10,
          11,
          12,
          13,
          14,
          15,
          16,
          17,
          18,
          19,
          20
         ],
         "xaxis": "x3",
         "y": [
          0.002603601244336508,
          0.007071240303578029,
          -0.013537494257819806,
          -0.003131998275238901,
          0.00430203408367734,
          0.004073715926689111,
          -0.004581611632693495,
          0.01848156319337624,
          -0.015000785404229298,
          -0.01997508527935212,
          -0.017414541310053655,
          -0.009605097478252446,
          -0.01512408908239405,
          -0.009881827915497516,
          -0.004864616073862644,
          -0.0034840056564194484,
          -0.004957767647413189,
          -0.01510309806755,
          -0.02258720903229897
         ],
         "yaxis": "y3"
        }
       ],
       "layout": {
        "annotations": [
         {
          "font": {
           "size": 16
          },
          "showarrow": false,
          "text": "Índice - Davies-Bouldin",
          "x": 0.14444444444444446,
          "xanchor": "center",
          "xref": "paper",
          "y": 1,
          "yanchor": "bottom",
          "yref": "paper"
         },
         {
          "font": {
           "size": 16
          },
          "showarrow": false,
          "text": "Índice - Silhouette",
          "x": 0.5,
          "xanchor": "center",
          "xref": "paper",
          "y": 1,
          "yanchor": "bottom",
          "yref": "paper"
         },
         {
          "font": {
           "size": 16
          },
          "showarrow": false,
          "text": "Índice - Adjusted Rand Score",
          "x": 0.8555555555555556,
          "xanchor": "center",
          "xref": "paper",
          "y": 1,
          "yanchor": "bottom",
          "yref": "paper"
         }
        ],
        "boxmode": "group",
        "showlegend": true,
        "template": {
         "data": {
          "bar": [
           {
            "error_x": {
             "color": "#2a3f5f"
            },
            "error_y": {
             "color": "#2a3f5f"
            },
            "marker": {
             "line": {
              "color": "#E5ECF6",
              "width": 0.5
             },
             "pattern": {
              "fillmode": "overlay",
              "size": 10,
              "solidity": 0.2
             }
            },
            "type": "bar"
           }
          ],
          "barpolar": [
           {
            "marker": {
             "line": {
              "color": "#E5ECF6",
              "width": 0.5
             },
             "pattern": {
              "fillmode": "overlay",
              "size": 10,
              "solidity": 0.2
             }
            },
            "type": "barpolar"
           }
          ],
          "carpet": [
           {
            "aaxis": {
             "endlinecolor": "#2a3f5f",
             "gridcolor": "white",
             "linecolor": "white",
             "minorgridcolor": "white",
             "startlinecolor": "#2a3f5f"
            },
            "baxis": {
             "endlinecolor": "#2a3f5f",
             "gridcolor": "white",
             "linecolor": "white",
             "minorgridcolor": "white",
             "startlinecolor": "#2a3f5f"
            },
            "type": "carpet"
           }
          ],
          "choropleth": [
           {
            "colorbar": {
             "outlinewidth": 0,
             "ticks": ""
            },
            "type": "choropleth"
           }
          ],
          "contour": [
           {
            "colorbar": {
             "outlinewidth": 0,
             "ticks": ""
            },
            "colorscale": [
             [
              0,
              "#0d0887"
             ],
             [
              0.1111111111111111,
              "#46039f"
             ],
             [
              0.2222222222222222,
              "#7201a8"
             ],
             [
              0.3333333333333333,
              "#9c179e"
             ],
             [
              0.4444444444444444,
              "#bd3786"
             ],
             [
              0.5555555555555556,
              "#d8576b"
             ],
             [
              0.6666666666666666,
              "#ed7953"
             ],
             [
              0.7777777777777778,
              "#fb9f3a"
             ],
             [
              0.8888888888888888,
              "#fdca26"
             ],
             [
              1,
              "#f0f921"
             ]
            ],
            "type": "contour"
           }
          ],
          "contourcarpet": [
           {
            "colorbar": {
             "outlinewidth": 0,
             "ticks": ""
            },
            "type": "contourcarpet"
           }
          ],
          "heatmap": [
           {
            "colorbar": {
             "outlinewidth": 0,
             "ticks": ""
            },
            "colorscale": [
             [
              0,
              "#0d0887"
             ],
             [
              0.1111111111111111,
              "#46039f"
             ],
             [
              0.2222222222222222,
              "#7201a8"
             ],
             [
              0.3333333333333333,
              "#9c179e"
             ],
             [
              0.4444444444444444,
              "#bd3786"
             ],
             [
              0.5555555555555556,
              "#d8576b"
             ],
             [
              0.6666666666666666,
              "#ed7953"
             ],
             [
              0.7777777777777778,
              "#fb9f3a"
             ],
             [
              0.8888888888888888,
              "#fdca26"
             ],
             [
              1,
              "#f0f921"
             ]
            ],
            "type": "heatmap"
           }
          ],
          "heatmapgl": [
           {
            "colorbar": {
             "outlinewidth": 0,
             "ticks": ""
            },
            "colorscale": [
             [
              0,
              "#0d0887"
             ],
             [
              0.1111111111111111,
              "#46039f"
             ],
             [
              0.2222222222222222,
              "#7201a8"
             ],
             [
              0.3333333333333333,
              "#9c179e"
             ],
             [
              0.4444444444444444,
              "#bd3786"
             ],
             [
              0.5555555555555556,
              "#d8576b"
             ],
             [
              0.6666666666666666,
              "#ed7953"
             ],
             [
              0.7777777777777778,
              "#fb9f3a"
             ],
             [
              0.8888888888888888,
              "#fdca26"
             ],
             [
              1,
              "#f0f921"
             ]
            ],
            "type": "heatmapgl"
           }
          ],
          "histogram": [
           {
            "marker": {
             "pattern": {
              "fillmode": "overlay",
              "size": 10,
              "solidity": 0.2
             }
            },
            "type": "histogram"
           }
          ],
          "histogram2d": [
           {
            "colorbar": {
             "outlinewidth": 0,
             "ticks": ""
            },
            "colorscale": [
             [
              0,
              "#0d0887"
             ],
             [
              0.1111111111111111,
              "#46039f"
             ],
             [
              0.2222222222222222,
              "#7201a8"
             ],
             [
              0.3333333333333333,
              "#9c179e"
             ],
             [
              0.4444444444444444,
              "#bd3786"
             ],
             [
              0.5555555555555556,
              "#d8576b"
             ],
             [
              0.6666666666666666,
              "#ed7953"
             ],
             [
              0.7777777777777778,
              "#fb9f3a"
             ],
             [
              0.8888888888888888,
              "#fdca26"
             ],
             [
              1,
              "#f0f921"
             ]
            ],
            "type": "histogram2d"
           }
          ],
          "histogram2dcontour": [
           {
            "colorbar": {
             "outlinewidth": 0,
             "ticks": ""
            },
            "colorscale": [
             [
              0,
              "#0d0887"
             ],
             [
              0.1111111111111111,
              "#46039f"
             ],
             [
              0.2222222222222222,
              "#7201a8"
             ],
             [
              0.3333333333333333,
              "#9c179e"
             ],
             [
              0.4444444444444444,
              "#bd3786"
             ],
             [
              0.5555555555555556,
              "#d8576b"
             ],
             [
              0.6666666666666666,
              "#ed7953"
             ],
             [
              0.7777777777777778,
              "#fb9f3a"
             ],
             [
              0.8888888888888888,
              "#fdca26"
             ],
             [
              1,
              "#f0f921"
             ]
            ],
            "type": "histogram2dcontour"
           }
          ],
          "mesh3d": [
           {
            "colorbar": {
             "outlinewidth": 0,
             "ticks": ""
            },
            "type": "mesh3d"
           }
          ],
          "parcoords": [
           {
            "line": {
             "colorbar": {
              "outlinewidth": 0,
              "ticks": ""
             }
            },
            "type": "parcoords"
           }
          ],
          "pie": [
           {
            "automargin": true,
            "type": "pie"
           }
          ],
          "scatter": [
           {
            "fillpattern": {
             "fillmode": "overlay",
             "size": 10,
             "solidity": 0.2
            },
            "type": "scatter"
           }
          ],
          "scatter3d": [
           {
            "line": {
             "colorbar": {
              "outlinewidth": 0,
              "ticks": ""
             }
            },
            "marker": {
             "colorbar": {
              "outlinewidth": 0,
              "ticks": ""
             }
            },
            "type": "scatter3d"
           }
          ],
          "scattercarpet": [
           {
            "marker": {
             "colorbar": {
              "outlinewidth": 0,
              "ticks": ""
             }
            },
            "type": "scattercarpet"
           }
          ],
          "scattergeo": [
           {
            "marker": {
             "colorbar": {
              "outlinewidth": 0,
              "ticks": ""
             }
            },
            "type": "scattergeo"
           }
          ],
          "scattergl": [
           {
            "marker": {
             "colorbar": {
              "outlinewidth": 0,
              "ticks": ""
             }
            },
            "type": "scattergl"
           }
          ],
          "scattermapbox": [
           {
            "marker": {
             "colorbar": {
              "outlinewidth": 0,
              "ticks": ""
             }
            },
            "type": "scattermapbox"
           }
          ],
          "scatterpolar": [
           {
            "marker": {
             "colorbar": {
              "outlinewidth": 0,
              "ticks": ""
             }
            },
            "type": "scatterpolar"
           }
          ],
          "scatterpolargl": [
           {
            "marker": {
             "colorbar": {
              "outlinewidth": 0,
              "ticks": ""
             }
            },
            "type": "scatterpolargl"
           }
          ],
          "scatterternary": [
           {
            "marker": {
             "colorbar": {
              "outlinewidth": 0,
              "ticks": ""
             }
            },
            "type": "scatterternary"
           }
          ],
          "surface": [
           {
            "colorbar": {
             "outlinewidth": 0,
             "ticks": ""
            },
            "colorscale": [
             [
              0,
              "#0d0887"
             ],
             [
              0.1111111111111111,
              "#46039f"
             ],
             [
              0.2222222222222222,
              "#7201a8"
             ],
             [
              0.3333333333333333,
              "#9c179e"
             ],
             [
              0.4444444444444444,
              "#bd3786"
             ],
             [
              0.5555555555555556,
              "#d8576b"
             ],
             [
              0.6666666666666666,
              "#ed7953"
             ],
             [
              0.7777777777777778,
              "#fb9f3a"
             ],
             [
              0.8888888888888888,
              "#fdca26"
             ],
             [
              1,
              "#f0f921"
             ]
            ],
            "type": "surface"
           }
          ],
          "table": [
           {
            "cells": {
             "fill": {
              "color": "#EBF0F8"
             },
             "line": {
              "color": "white"
             }
            },
            "header": {
             "fill": {
              "color": "#C8D4E3"
             },
             "line": {
              "color": "white"
             }
            },
            "type": "table"
           }
          ]
         },
         "layout": {
          "annotationdefaults": {
           "arrowcolor": "#2a3f5f",
           "arrowhead": 0,
           "arrowwidth": 1
          },
          "autotypenumbers": "strict",
          "coloraxis": {
           "colorbar": {
            "outlinewidth": 0,
            "ticks": ""
           }
          },
          "colorscale": {
           "diverging": [
            [
             0,
             "#8e0152"
            ],
            [
             0.1,
             "#c51b7d"
            ],
            [
             0.2,
             "#de77ae"
            ],
            [
             0.3,
             "#f1b6da"
            ],
            [
             0.4,
             "#fde0ef"
            ],
            [
             0.5,
             "#f7f7f7"
            ],
            [
             0.6,
             "#e6f5d0"
            ],
            [
             0.7,
             "#b8e186"
            ],
            [
             0.8,
             "#7fbc41"
            ],
            [
             0.9,
             "#4d9221"
            ],
            [
             1,
             "#276419"
            ]
           ],
           "sequential": [
            [
             0,
             "#0d0887"
            ],
            [
             0.1111111111111111,
             "#46039f"
            ],
            [
             0.2222222222222222,
             "#7201a8"
            ],
            [
             0.3333333333333333,
             "#9c179e"
            ],
            [
             0.4444444444444444,
             "#bd3786"
            ],
            [
             0.5555555555555556,
             "#d8576b"
            ],
            [
             0.6666666666666666,
             "#ed7953"
            ],
            [
             0.7777777777777778,
             "#fb9f3a"
            ],
            [
             0.8888888888888888,
             "#fdca26"
            ],
            [
             1,
             "#f0f921"
            ]
           ],
           "sequentialminus": [
            [
             0,
             "#0d0887"
            ],
            [
             0.1111111111111111,
             "#46039f"
            ],
            [
             0.2222222222222222,
             "#7201a8"
            ],
            [
             0.3333333333333333,
             "#9c179e"
            ],
            [
             0.4444444444444444,
             "#bd3786"
            ],
            [
             0.5555555555555556,
             "#d8576b"
            ],
            [
             0.6666666666666666,
             "#ed7953"
            ],
            [
             0.7777777777777778,
             "#fb9f3a"
            ],
            [
             0.8888888888888888,
             "#fdca26"
            ],
            [
             1,
             "#f0f921"
            ]
           ]
          },
          "colorway": [
           "#636efa",
           "#EF553B",
           "#00cc96",
           "#ab63fa",
           "#FFA15A",
           "#19d3f3",
           "#FF6692",
           "#B6E880",
           "#FF97FF",
           "#FECB52"
          ],
          "font": {
           "color": "#2a3f5f"
          },
          "geo": {
           "bgcolor": "white",
           "lakecolor": "white",
           "landcolor": "#E5ECF6",
           "showlakes": true,
           "showland": true,
           "subunitcolor": "white"
          },
          "hoverlabel": {
           "align": "left"
          },
          "hovermode": "closest",
          "mapbox": {
           "style": "light"
          },
          "paper_bgcolor": "white",
          "plot_bgcolor": "#E5ECF6",
          "polar": {
           "angularaxis": {
            "gridcolor": "white",
            "linecolor": "white",
            "ticks": ""
           },
           "bgcolor": "#E5ECF6",
           "radialaxis": {
            "gridcolor": "white",
            "linecolor": "white",
            "ticks": ""
           }
          },
          "scene": {
           "xaxis": {
            "backgroundcolor": "#E5ECF6",
            "gridcolor": "white",
            "gridwidth": 2,
            "linecolor": "white",
            "showbackground": true,
            "ticks": "",
            "zerolinecolor": "white"
           },
           "yaxis": {
            "backgroundcolor": "#E5ECF6",
            "gridcolor": "white",
            "gridwidth": 2,
            "linecolor": "white",
            "showbackground": true,
            "ticks": "",
            "zerolinecolor": "white"
           },
           "zaxis": {
            "backgroundcolor": "#E5ECF6",
            "gridcolor": "white",
            "gridwidth": 2,
            "linecolor": "white",
            "showbackground": true,
            "ticks": "",
            "zerolinecolor": "white"
           }
          },
          "shapedefaults": {
           "line": {
            "color": "#2a3f5f"
           }
          },
          "ternary": {
           "aaxis": {
            "gridcolor": "white",
            "linecolor": "white",
            "ticks": ""
           },
           "baxis": {
            "gridcolor": "white",
            "linecolor": "white",
            "ticks": ""
           },
           "bgcolor": "#E5ECF6",
           "caxis": {
            "gridcolor": "white",
            "linecolor": "white",
            "ticks": ""
           }
          },
          "title": {
           "x": 0.05
          },
          "xaxis": {
           "automargin": true,
           "gridcolor": "white",
           "linecolor": "white",
           "ticks": "",
           "title": {
            "standoff": 15
           },
           "zerolinecolor": "white",
           "zerolinewidth": 2
          },
          "yaxis": {
           "automargin": true,
           "gridcolor": "white",
           "linecolor": "white",
           "ticks": "",
           "title": {
            "standoff": 15
           },
           "zerolinecolor": "white",
           "zerolinewidth": 2
          }
         }
        },
        "title": {
         "text": "Gráfico de comitê de agrupamento com DBSCAN"
        },
        "xaxis": {
         "anchor": "y",
         "domain": [
          0,
          0.2888888888888889
         ]
        },
        "xaxis2": {
         "anchor": "y2",
         "domain": [
          0.35555555555555557,
          0.6444444444444445
         ]
        },
        "xaxis3": {
         "anchor": "y3",
         "domain": [
          0.7111111111111111,
          1
         ]
        },
        "yaxis": {
         "anchor": "x",
         "domain": [
          0,
          1
         ]
        },
        "yaxis2": {
         "anchor": "x2",
         "domain": [
          0,
          1
         ]
        },
        "yaxis3": {
         "anchor": "x3",
         "domain": [
          0,
          1
         ]
        }
       }
      }
     },
     "metadata": {},
     "output_type": "display_data"
    }
   ],
   "source": [
    "plot_ensemble_indices(data_tfidf, selected_df_corr, selected_df_pca, labels, 'dbscan')"
   ]
  },
  {
   "cell_type": "markdown",
   "metadata": {},
   "source": [
    "#### Teste Estatístico"
   ]
  },
  {
   "cell_type": "code",
   "execution_count": null,
   "metadata": {},
   "outputs": [],
   "source": [
    "unique_values = df['resultado'].unique()\n",
    "\n",
    "print(unique_values)"
   ]
  },
  {
   "cell_type": "markdown",
   "metadata": {},
   "source": [
    "## Supervied Machine Learning Model"
   ]
  },
  {
   "cell_type": "markdown",
   "metadata": {},
   "source": [
    "This project aims to develop and evaluate machine learning models to assess performance and conduct a comparative analysis of the results. We have selected Logistic Regression and Random Forest as the primary models for this study, allowing us to draw informed conclusions based on their performance."
   ]
  },
  {
   "cell_type": "markdown",
   "metadata": {},
   "source": [
    "#### Logistic Regression"
   ]
  },
  {
   "cell_type": "markdown",
   "metadata": {},
   "source": [
    "Why Logistic Regression?\n",
    "\n",
    "Simplicity and Interpretability: Logistic Regression is a straightforward and interpretable model. It provides probabilities that can be easily understood and translated into decision-making. The coefficients of the model indicate the influence of each feature on the outcome, making it easier to interpret and understand the relationship between the variables.\n",
    "\n",
    "Linear Decision Boundary: Logistic Regression assumes a linear relationship between the features and the outcome. This can be beneficial when the true relationship is approximately linear, allowing for efficient and effective modeling. It provides a clear decision boundary that separates classes based on a linear combination of the input features.\n"
   ]
  },
  {
   "cell_type": "code",
   "execution_count": 23,
   "metadata": {},
   "outputs": [],
   "source": [
    "import pandas as pd\n",
    "from sklearn.model_selection import train_test_split\n",
    "from sklearn.linear_model import LogisticRegression\n",
    "from sklearn.metrics import accuracy_score, classification_report, confusion_matrix"
   ]
  },
  {
   "cell_type": "code",
   "execution_count": 24,
   "metadata": {},
   "outputs": [],
   "source": [
    "# Transforming categorical variables into dummies\n",
    "X = pd.get_dummies(df.drop(columns=['resultado']), drop_first=True)\n",
    "y = df['resultado']"
   ]
  },
  {
   "cell_type": "code",
   "execution_count": 25,
   "metadata": {},
   "outputs": [],
   "source": [
    "# Transforming the target variable into numerical values\n",
    "y = df['resultado'].map({'DEFERIDO': 1, 'INDEFERIDO': 0, 'NÃO DEFINIDO': 2})"
   ]
  },
  {
   "cell_type": "markdown",
   "metadata": {},
   "source": [
    "### Splitting the dataset, training and making previsions "
   ]
  },
  {
   "cell_type": "code",
   "execution_count": null,
   "metadata": {},
   "outputs": [],
   "source": [
    "# Splitting the dataset into training and testing sets\n",
    "X_train, X_test, y_train, y_test = train_test_split(X, y, test_size=0.3, random_state=42)\n",
    "\n",
    "# Training the Logistic Regression model for multiclass classification\n",
    "model = LogisticRegression(multi_class='ovr')\n",
    "model.fit(X_train, y_train)\n",
    "\n",
    "# Making predictions\n",
    "y_pred_logistic = model.predict(X_test)"
   ]
  },
  {
   "cell_type": "markdown",
   "metadata": {},
   "source": [
    "### Evaluating the model"
   ]
  },
  {
   "cell_type": "code",
   "execution_count": null,
   "metadata": {},
   "outputs": [],
   "source": [
    "# Evaluating\n",
    "accuracy = accuracy_score(y_test, y_pred_logistic)\n",
    "print(f'Acuracy: {accuracy:.2f}')\n",
    "conf_matrix = confusion_matrix(y_test, y_pred_logistic)\n",
    "print('Confusion Matrix:')\n",
    "print(conf_matrix)\n",
    "class_report = classification_report(y_test, y_pred_logistic)\n",
    "print('Classification Report:')\n",
    "print(class_report)"
   ]
  },
  {
   "cell_type": "markdown",
   "metadata": {},
   "source": [
    "#### Random Forest"
   ]
  },
  {
   "cell_type": "markdown",
   "metadata": {},
   "source": [
    "Why Random Forest?\n",
    "\n",
    "Non-Linearity: Unlike Logistic Regression, which assumes a linear relationship between the variables and the outcome, Random Forest can capture more complex interactions.\n",
    "\n",
    "Immune to Overfitting: Since it is an ensemble of multiple trees, it tends to be more resistant to overfitting.\n",
    "\n",
    "Interpretability: You can obtain the feature importance, which helps to understand which features have the most impact on the outcome."
   ]
  },
  {
   "cell_type": "code",
   "execution_count": 29,
   "metadata": {},
   "outputs": [],
   "source": [
    "from sklearn.ensemble import RandomForestClassifier\n",
    "from sklearn.model_selection import train_test_split\n",
    "from sklearn.metrics import accuracy_score, classification_report, confusion_matrix"
   ]
  },
  {
   "cell_type": "code",
   "execution_count": 30,
   "metadata": {},
   "outputs": [],
   "source": [
    "# Assuming that the categorical variables have already been transformed\n",
    "X = pd.get_dummies(df.drop(columns=['resultado']), drop_first=True)\n",
    "y = df['resultado'].map({'DEFERIDO': 1, 'INDEFERIDO': 0, 'NÃO DEFINIDO': 2})"
   ]
  },
  {
   "cell_type": "code",
   "execution_count": 31,
   "metadata": {},
   "outputs": [],
   "source": [
    "# Splitting the dataset into training and testing sets\n",
    "X_train, X_test, y_train, y_test = train_test_split(X, y, test_size=0.3, random_state=42)\n",
    "\n",
    "# Creating and training the Random Forest model\n",
    "rf_model = RandomForestClassifier(n_estimators=100, random_state=42)\n",
    "rf_model.fit(X_train, y_train)\n",
    "\n",
    "# Making predictions\n",
    "y_pred_rf = rf_model.predict(X_test)"
   ]
  },
  {
   "cell_type": "code",
   "execution_count": null,
   "metadata": {},
   "outputs": [],
   "source": [
    "# Evaluating\n",
    "accuracy = accuracy_score(y_test, y_pred_rf)\n",
    "print(f'Acuracy: {accuracy:.2f}')\n",
    "conf_matrix = confusion_matrix(y_test, y_pred_rf)\n",
    "print('Confusion Matrix:')\n",
    "print(conf_matrix)\n",
    "class_report = classification_report(y_test, y_pred_rf)\n",
    "print('Classification Report:')\n",
    "print(class_report)"
   ]
  },
  {
   "cell_type": "markdown",
   "metadata": {},
   "source": [
    "### Data analysis and comparisons"
   ]
  },
  {
   "cell_type": "code",
   "execution_count": 33,
   "metadata": {},
   "outputs": [],
   "source": [
    "from sklearn.metrics import accuracy_score, classification_report, confusion_matrix, roc_curve, auc\n",
    "import matplotlib.pyplot as plt\n",
    "import seaborn as sns"
   ]
  },
  {
   "cell_type": "code",
   "execution_count": null,
   "metadata": {},
   "outputs": [],
   "source": [
    "# Calculating the predicted probabilities\n",
    "y_prob_lr = model.predict_proba(X_test)\n",
    "y_prob_rf = rf_model.predict_proba(X_test)\n",
    "\n",
    "# ROC Curves\n",
    "fpr_lr, tpr_lr, _ = roc_curve(y_test, y_prob_lr[:, 1], pos_label=1)\n",
    "fpr_rf, tpr_rf, _ = roc_curve(y_test, y_prob_rf[:, 1], pos_label=1)\n",
    "\n",
    "# AUC (Area Under the Curve)\n",
    "roc_auc_lr = auc(fpr_lr, tpr_lr)\n",
    "roc_auc_rf = auc(fpr_rf, tpr_rf)\n",
    "\n",
    "# Plotting the ROC Curves\n",
    "plt.figure(figsize=(10, 8))\n",
    "plt.plot(fpr_lr, tpr_lr, color='blue', label=f'Logistic Regression (AUC = {roc_auc_lr:.2f})')\n",
    "plt.plot(fpr_rf, tpr_rf, color='green', label=f'Random Forest (AUC = {roc_auc_rf:.2f})')\n",
    "plt.plot([0, 1], [0, 1], color='red', linestyle='--')\n",
    "plt.xlim([0.0, 1.0])\n",
    "plt.ylim([0.0, 1.05])\n",
    "plt.xlabel('False Positive Rate')\n",
    "plt.ylabel('True Positive Rate')\n",
    "plt.title('Receiver Operating Characteristic (ROC) Curve')\n",
    "plt.legend(loc='lower right')\n",
    "plt.show()\n"
   ]
  },
  {
   "cell_type": "code",
   "execution_count": null,
   "metadata": {},
   "outputs": [],
   "source": [
    "import matplotlib.pyplot as plt\n",
    "import seaborn as sns\n",
    "from sklearn.metrics import confusion_matrix\n",
    "\n",
    "# Supondo que você já tenha os valores reais e as previsões dos modelos\n",
    "# y_true = valores reais\n",
    "# y_pred_logistic = previsões do modelo de Regressão Logística\n",
    "# y_pred_rf = previsões do modelo de Random Forest\n",
    "\n",
    "def plot_confusion_matrix(y_true, y_pred, model_name):\n",
    "    cm = confusion_matrix(y_true, y_pred)\n",
    "    plt.figure(figsize=(6,4))\n",
    "    sns.heatmap(cm, annot=True, fmt='d', cmap='Blues', cbar=False,\n",
    "                xticklabels=['INDEFERIDO', 'DEFERIDO', 'NÃO DEFINIDO'],\n",
    "                yticklabels=['INDEFERIDO', 'DEFERIDO', 'NÃO DEFINIDO'])\n",
    "    #plt.title(f'Matriz de Confusão - {model_name}', fontsize=14)\n",
    "    plt.ylabel('Valores Reais', fontsize=12)\n",
    "    plt.xlabel('Valores Previstos', fontsize=12)\n",
    "    plt.show()\n",
    "\n",
    "# Exemplo de uso com Regressão Logística\n",
    "plot_confusion_matrix(y_test, y_pred_logistic, \"Regressão Logística\")\n",
    "\n",
    "# Exemplo de uso com Random Forest\n",
    "plot_confusion_matrix(y_test, y_pred_rf, \"Random Forest\")\n",
    "\n"
   ]
  }
 ],
 "metadata": {
  "colab": {
   "provenance": []
  },
  "kernelspec": {
   "display_name": "Python 3",
   "name": "python3"
  },
  "language_info": {
   "codemirror_mode": {
    "name": "ipython",
    "version": 3
   },
   "file_extension": ".py",
   "mimetype": "text/x-python",
   "name": "python",
   "nbconvert_exporter": "python",
   "pygments_lexer": "ipython3",
   "version": "3.11.4"
  }
 },
 "nbformat": 4,
 "nbformat_minor": 0
}
