{
  "cells": [
    {
      "cell_type": "markdown",
      "metadata": {
        "id": "ajxqeWPm-QWE"
      },
      "source": [
        "# Instalar dependências necessárias"
      ]
    },
    {
      "cell_type": "code",
      "execution_count": null,
      "metadata": {
        "colab": {
          "base_uri": "https://localhost:8080/"
        },
        "id": "3fjUAZC8-Ui9",
        "outputId": "d7681317-a756-4f17-ca9a-b5c05f41c3bb"
      },
      "outputs": [],
      "source": [
        "%%time\n",
        "pip install pdfplumber"
      ]
    },
    {
      "cell_type": "code",
      "execution_count": null,
      "metadata": {
        "id": "mKWsHLsz-O_k"
      },
      "outputs": [],
      "source": [
        "import re\n",
        "\n",
        "import requests\n",
        "import pdfplumber\n",
        "import pandas as pd\n",
        "from collections import namedtuple"
      ]
    },
    {
      "cell_type": "code",
      "execution_count": null,
      "metadata": {
        "id": "ZuaDZR-0-qOk"
      },
      "outputs": [],
      "source": [
        "whole_text = ''\n",
        "with pdfplumber.open(pdf_file) as pdf:\n",
        "\n",
        "    for i in range(len(pdf.pages)):\n",
        "        page = pdf.pages[i]\n",
        "        text = page.extract_text()\n",
        "        whole_text += f\"{text}\\n\""
      ]
    },
    {
      "cell_type": "code",
      "execution_count": null,
      "metadata": {
        "id": "1P_JZ-I7-q60"
      },
      "outputs": [],
      "source": [
        "print(whole_text)"
      ]
    },
    {
      "cell_type": "code",
      "execution_count": null,
      "metadata": {
        "id": "lYhpBB4oDlA_"
      },
      "outputs": [],
      "source": [
        "dataframe = pd.DataFrame(data={\n",
        "  'text': whole_text\n",
        "}, index=[0])\n",
        "\n",
        "dataframe = pd.DataFrame()\n",
        "\n",
        "print(dataframe)"
      ]
    }
  ],
  "metadata": {
    "colab": {
      "provenance": []
    },
    "kernelspec": {
      "display_name": "Python 3",
      "name": "python3"
    },
    "language_info": {
      "name": "python"
    }
  },
  "nbformat": 4,
  "nbformat_minor": 0
}
