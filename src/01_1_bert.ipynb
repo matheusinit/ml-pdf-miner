{
 "cells": [
  {
   "cell_type": "code",
   "execution_count": null,
   "metadata": {},
   "outputs": [],
   "source": [
    "pip install transformers"
   ]
  },
  {
   "cell_type": "code",
   "execution_count": null,
   "metadata": {},
   "outputs": [],
   "source": [
    "pip install torch torchvision torchaudio"
   ]
  },
  {
   "cell_type": "code",
   "execution_count": null,
   "metadata": {},
   "outputs": [],
   "source": [
    "import pandas as pd"
   ]
  },
  {
   "cell_type": "code",
   "execution_count": null,
   "metadata": {},
   "outputs": [],
   "source": [
    "data = pd.read_csv('../data/data.csv')"
   ]
  },
  {
   "cell_type": "code",
   "execution_count": null,
   "metadata": {},
   "outputs": [],
   "source": [
    "import torch\n",
    "print(torch.__version__)"
   ]
  },
  {
   "cell_type": "code",
   "execution_count": null,
   "metadata": {},
   "outputs": [],
   "source": [
    "from transformers import BertTokenizer, BertModel\n",
    "import torch\n",
    "\n",
    "# Carregar o tokenizer e o modelo BERT\n",
    "tokenizer = BertTokenizer.from_pretrained('bert-base-multilingual-cased')\n",
    "model = BertModel.from_pretrained('bert-base-multilingual-cased')\n"
   ]
  },
  {
   "cell_type": "code",
   "execution_count": null,
   "metadata": {},
   "outputs": [],
   "source": [
    "def get_bert_embeddings(text):\n",
    "    # Tokenizar o texto e obter tensores\n",
    "    inputs = tokenizer(text, return_tensors='pt', padding=True, truncation=True, max_length=512)\n",
    "    outputs = model(**inputs)\n",
    "    \n",
    "    # Extrair o embedding da última camada\n",
    "    last_hidden_state = outputs.last_hidden_state\n",
    "    # Calcular a média dos embeddings de cada palavra para representar o texto\n",
    "    embeddings = torch.mean(last_hidden_state, dim=1).squeeze()\n",
    "    \n",
    "    return embeddings.detach().numpy()\n"
   ]
  },
  {
   "cell_type": "code",
   "execution_count": null,
   "metadata": {},
   "outputs": [],
   "source": [
    "data['bert_embeddings'] = data['detalhamento'].apply(get_bert_embeddings)"
   ]
  },
  {
   "cell_type": "markdown",
   "metadata": {},
   "source": [
    "## Testando acurácia de modelo usando BERT"
   ]
  },
  {
   "cell_type": "code",
   "execution_count": null,
   "metadata": {},
   "outputs": [],
   "source": [
    "from sklearn.model_selection import train_test_split\n",
    "from sklearn.ensemble import RandomForestClassifier\n",
    "from sklearn.metrics import accuracy_score\n",
    "\n",
    "# Dividir os dados em treino e teste\n",
    "X_train, X_test, y_train, y_test = train_test_split(\n",
    "    data['bert_embeddings'].tolist(), data['resultado'], test_size=0.2, random_state=42\n",
    ")\n",
    "\n",
    "# Treinar um classificador usando os embeddings do BERT\n",
    "clf = RandomForestClassifier()\n",
    "clf.fit(X_train, y_train)\n",
    "\n",
    "# Fazer previsões e avaliar o modelo\n",
    "y_pred = clf.predict(X_test)\n",
    "print(\"Acurácia:\", accuracy_score(y_test, y_pred))\n"
   ]
  },
  {
   "cell_type": "markdown",
   "metadata": {},
   "source": [
    "## Analisando sentimentos"
   ]
  },
  {
   "cell_type": "code",
   "execution_count": null,
   "metadata": {},
   "outputs": [],
   "source": [
    "from transformers import pipeline\n",
    "import pandas as pd\n",
    "\n",
    "# Carregar o pipeline de classificação de sentimentos com BERT\n",
    "classifier = pipeline(\"sentiment-analysis\", model=\"nlptown/bert-base-multilingual-uncased-sentiment\")\n",
    "\n",
    "# Exemplo de como carregar seu DataFrame (substitua com o caminho do seu arquivo, se necessário)\n",
    "df = pd.read_csv('../data/data.csv')\n",
    "\n",
    "# Aplicar a classificação de sentimento na coluna 'detalhamento' do DataFrame\n",
    "def classify_sentiment(text):\n",
    "    result = classifier(text[:512])[0]  # Limitar a 512 caracteres devido à limitação do BERT\n",
    "    return result['label'], result['score']\n",
    "\n",
    "# Criar novas colunas no DataFrame para armazenar o sentimento e a pontuação\n",
    "df[['sentimento', 'confiança']] = df['detalhamento'].apply(lambda x: pd.Series(classify_sentiment(x)))\n",
    "\n",
    "# Exibir o DataFrame com as novas colunas\n",
    "print(df[['detalhamento', 'sentimento', 'confiança']].head())\n"
   ]
  },
  {
   "cell_type": "code",
   "execution_count": null,
   "metadata": {},
   "outputs": [],
   "source": [
    "# Configurar o Pandas para exibir 50 linhas\n",
    "pd.set_option('display.max_rows', 50)\n",
    "\n",
    "# Exibir o DataFrame com os resultados de sentimento\n",
    "print(df[['detalhamento', 'sentimento', 'confiança']])\n"
   ]
  },
  {
   "cell_type": "code",
   "execution_count": null,
   "metadata": {},
   "outputs": [],
   "source": [
    "# Contar a quantidade de cada rótulo de sentimento\n",
    "sentiment_counts = df['sentimento'].value_counts()\n",
    "\n",
    "# Exibir os resultados\n",
    "print(\"Contagem dos sentimentos:\")\n",
    "print(sentiment_counts)\n"
   ]
  }
 ],
 "metadata": {
  "kernelspec": {
   "display_name": "trabalhotre",
   "language": "python",
   "name": "python3"
  },
  "language_info": {
   "codemirror_mode": {
    "name": "ipython",
    "version": 3
   },
   "file_extension": ".py",
   "mimetype": "text/x-python",
   "name": "python",
   "nbconvert_exporter": "python",
   "pygments_lexer": "ipython3",
   "version": "3.11.9"
  }
 },
 "nbformat": 4,
 "nbformat_minor": 2
}
